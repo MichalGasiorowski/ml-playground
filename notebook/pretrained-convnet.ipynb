{
 "cells": [
  {
   "cell_type": "code",
   "execution_count": 1,
   "metadata": {},
   "outputs": [
    {
     "name": "stdout",
     "output_type": "stream",
     "text": [
      "2.0.0\n",
      "2.2.4-tf\n"
     ]
    }
   ],
   "source": [
    "import tensorflow as tf\n",
    "import matplotlib.pyplot as plt\n",
    "from tensorflow.keras.datasets import mnist\n",
    "\n",
    "print(tf.version.VERSION)\n",
    "print(tf.keras.__version__)\n",
    "\n",
    "import os\n",
    "import sys\n",
    "\n",
    "import numpy as np"
   ]
  },
  {
   "cell_type": "code",
   "execution_count": 3,
   "metadata": {},
   "outputs": [],
   "source": [
    "module_path = os.path.abspath(os.path.join('..'))\n",
    "if module_path not in sys.path:\n",
    "    sys.path.append(module_path)\n",
    "    \n",
    "from src.PlotUtils import plot_history"
   ]
  },
  {
   "cell_type": "code",
   "execution_count": 4,
   "metadata": {},
   "outputs": [
    {
     "name": "stdout",
     "output_type": "stream",
     "text": [
      "Downloading data from https://github.com/fchollet/deep-learning-models/releases/download/v0.1/vgg16_weights_tf_dim_ordering_tf_kernels_notop.h5\n",
      "58892288/58889256 [==============================] - 4s 0us/step\n"
     ]
    }
   ],
   "source": [
    "from tensorflow.keras.applications import VGG16\n",
    "\n",
    "conv_base = VGG16(weights = 'imagenet',\n",
    "                 include_top=False,\n",
    "                 input_shape=(150, 150, 3))\n",
    "\n",
    "# weights specifies the weight checkpoint from which to initialize the model.\n",
    "\n",
    "# include_top refers to including (or not) the densely connected classifier on\n",
    "# top of the network. By default, this densely connected classifier corresponds to\n",
    "# the 1,000 classes from ImageNet.\n",
    "\n",
    "# input_shape is the shape of the image tensors that you’ll feed to the network.\n",
    "# This argument is purely optional: if you don’t pass it, the network will be able to\n",
    "# process inputs of any size."
   ]
  },
  {
   "cell_type": "code",
   "execution_count": 5,
   "metadata": {},
   "outputs": [
    {
     "name": "stdout",
     "output_type": "stream",
     "text": [
      "Model: \"vgg16\"\n",
      "_________________________________________________________________\n",
      "Layer (type)                 Output Shape              Param #   \n",
      "=================================================================\n",
      "input_1 (InputLayer)         [(None, 150, 150, 3)]     0         \n",
      "_________________________________________________________________\n",
      "block1_conv1 (Conv2D)        (None, 150, 150, 64)      1792      \n",
      "_________________________________________________________________\n",
      "block1_conv2 (Conv2D)        (None, 150, 150, 64)      36928     \n",
      "_________________________________________________________________\n",
      "block1_pool (MaxPooling2D)   (None, 75, 75, 64)        0         \n",
      "_________________________________________________________________\n",
      "block2_conv1 (Conv2D)        (None, 75, 75, 128)       73856     \n",
      "_________________________________________________________________\n",
      "block2_conv2 (Conv2D)        (None, 75, 75, 128)       147584    \n",
      "_________________________________________________________________\n",
      "block2_pool (MaxPooling2D)   (None, 37, 37, 128)       0         \n",
      "_________________________________________________________________\n",
      "block3_conv1 (Conv2D)        (None, 37, 37, 256)       295168    \n",
      "_________________________________________________________________\n",
      "block3_conv2 (Conv2D)        (None, 37, 37, 256)       590080    \n",
      "_________________________________________________________________\n",
      "block3_conv3 (Conv2D)        (None, 37, 37, 256)       590080    \n",
      "_________________________________________________________________\n",
      "block3_pool (MaxPooling2D)   (None, 18, 18, 256)       0         \n",
      "_________________________________________________________________\n",
      "block4_conv1 (Conv2D)        (None, 18, 18, 512)       1180160   \n",
      "_________________________________________________________________\n",
      "block4_conv2 (Conv2D)        (None, 18, 18, 512)       2359808   \n",
      "_________________________________________________________________\n",
      "block4_conv3 (Conv2D)        (None, 18, 18, 512)       2359808   \n",
      "_________________________________________________________________\n",
      "block4_pool (MaxPooling2D)   (None, 9, 9, 512)         0         \n",
      "_________________________________________________________________\n",
      "block5_conv1 (Conv2D)        (None, 9, 9, 512)         2359808   \n",
      "_________________________________________________________________\n",
      "block5_conv2 (Conv2D)        (None, 9, 9, 512)         2359808   \n",
      "_________________________________________________________________\n",
      "block5_conv3 (Conv2D)        (None, 9, 9, 512)         2359808   \n",
      "_________________________________________________________________\n",
      "block5_pool (MaxPooling2D)   (None, 4, 4, 512)         0         \n",
      "=================================================================\n",
      "Total params: 14,714,688\n",
      "Trainable params: 14,714,688\n",
      "Non-trainable params: 0\n",
      "_________________________________________________________________\n"
     ]
    }
   ],
   "source": [
    "conv_base.summary()"
   ]
  },
  {
   "cell_type": "markdown",
   "metadata": {},
   "source": [
    "2 ways to proceed:\n",
    "\n",
    "1) Running the convolutional base over your dataset, recording its output to a\n",
    "Numpy array on disk, and then using this data as input to a standalone, densely\n",
    "connected classifier similar to those you saw in part 1 of this book. This solution\n",
    "is fast and cheap to run, because it only requires running the convolutional\n",
    "base once for every input image, and the convolutional base is by far the most\n",
    "expensive part of the pipeline. But for the same reason, this technique won’t\n",
    "allow you to use data augmentation.\n",
    "\n",
    "2) Extending the model you have (conv_base) by adding Dense layers on top, and\n",
    "running the whole thing end to end on the input data. This will allow you to use\n",
    "data augmentation, because every input image goes through the convolutional\n",
    "base every time it’s seen by the model. But for the same reason, this technique is\n",
    "far more expensive than the first."
   ]
  },
  {
   "cell_type": "code",
   "execution_count": 7,
   "metadata": {},
   "outputs": [
    {
     "name": "stdout",
     "output_type": "stream",
     "text": [
      "Found 2000 images belonging to 2 classes.\n",
      "Found 1000 images belonging to 2 classes.\n",
      "Found 1000 images belonging to 2 classes.\n"
     ]
    }
   ],
   "source": [
    "import os\n",
    "import numpy as np\n",
    "from tensorflow.keras.preprocessing.image import ImageDataGenerator\n",
    "\n",
    "base_dir = 'c:/Users/michal/PycharmProjects/ml-playground/data/dogs-vs-cats/cats_and_dogs_small'\n",
    "\n",
    "train_dir = os.path.join(base_dir, 'train')\n",
    "validation_dir = os.path.join(base_dir, 'validation')\n",
    "test_dir = os.path.join(base_dir, 'test')\n",
    "\n",
    "datagen = ImageDataGenerator(rescale=1./255)\n",
    "batch_size=20\n",
    "\n",
    "def extract_features(directory, sample_count):\n",
    "    features = np.zeros(shape=(sample_count, 4, 4, 512))\n",
    "    labels = np.zeros(shape=(sample_count))\n",
    "    generator = datagen.flow_from_directory(\n",
    "        directory,\n",
    "        target_size=(150, 150),\n",
    "        batch_size=batch_size,\n",
    "        class_mode='binary')\n",
    "    i = 0\n",
    "    for inputs_batch, labels_batch in generator:\n",
    "        features_batch = conv_base.predict(inputs_batch)\n",
    "        features[i * batch_size : (i + 1) * batch_size] = features_batch\n",
    "        labels[i * batch_size : (i + 1) * batch_size] = labels_batch\n",
    "        i += 1\n",
    "        if i * batch_size >= sample_count:\n",
    "            break\n",
    "    return features, labels\n",
    "\n",
    "train_features, train_labels = extract_features(train_dir, 2000)\n",
    "validation_features, validation_labels = extract_features(validation_dir, 1000)\n",
    "test_features, test_labels = extract_features(test_dir, 1000)\n"
   ]
  },
  {
   "cell_type": "code",
   "execution_count": 8,
   "metadata": {},
   "outputs": [],
   "source": [
    "#The extracted features are currently of shape (samples, 4, 4, 512). You’ll feed them\n",
    "#to a densely connected classifier, so first you must flatten them to (samples, 8192):\n",
    "\n",
    "train_features = np.reshape(train_features, (2000, 4 * 4 * 512))\n",
    "validation_features = np.reshape(validation_features, (1000, 4 * 4 * 512))\n",
    "test_features = np.reshape(test_features, (1000, 4 * 4 * 512))\n"
   ]
  },
  {
   "cell_type": "code",
   "execution_count": 9,
   "metadata": {},
   "outputs": [
    {
     "name": "stdout",
     "output_type": "stream",
     "text": [
      "Train on 2000 samples, validate on 1000 samples\n",
      "Epoch 1/30\n",
      "2000/2000 [==============================] - 3s 1ms/sample - loss: 0.5828 - acc: 0.6850 - val_loss: 0.4397 - val_acc: 0.8470\n",
      "Epoch 2/30\n",
      "2000/2000 [==============================] - 2s 909us/sample - loss: 0.4124 - acc: 0.8195 - val_loss: 0.3593 - val_acc: 0.8690\n",
      "Epoch 3/30\n",
      "2000/2000 [==============================] - 2s 890us/sample - loss: 0.3532 - acc: 0.8495 - val_loss: 0.3229 - val_acc: 0.8740\n",
      "Epoch 4/30\n",
      "2000/2000 [==============================] - 2s 901us/sample - loss: 0.3122 - acc: 0.8725 - val_loss: 0.3025 - val_acc: 0.8760\n",
      "Epoch 5/30\n",
      "2000/2000 [==============================] - 2s 911us/sample - loss: 0.2858 - acc: 0.8755 - val_loss: 0.2876 - val_acc: 0.8870\n",
      "Epoch 6/30\n",
      "2000/2000 [==============================] - 2s 893us/sample - loss: 0.2603 - acc: 0.9020 - val_loss: 0.2750 - val_acc: 0.8870\n",
      "Epoch 7/30\n",
      "2000/2000 [==============================] - 2s 891us/sample - loss: 0.2385 - acc: 0.9065 - val_loss: 0.2697 - val_acc: 0.8900\n",
      "Epoch 8/30\n",
      "2000/2000 [==============================] - 2s 891us/sample - loss: 0.2239 - acc: 0.9130 - val_loss: 0.2730 - val_acc: 0.8830\n",
      "Epoch 9/30\n",
      "2000/2000 [==============================] - 2s 897us/sample - loss: 0.2132 - acc: 0.9160 - val_loss: 0.2569 - val_acc: 0.8960\n",
      "Epoch 10/30\n",
      "2000/2000 [==============================] - 2s 906us/sample - loss: 0.2088 - acc: 0.9155 - val_loss: 0.2606 - val_acc: 0.8940\n",
      "Epoch 11/30\n",
      "2000/2000 [==============================] - 2s 896us/sample - loss: 0.1925 - acc: 0.9280 - val_loss: 0.2494 - val_acc: 0.8970\n",
      "Epoch 12/30\n",
      "2000/2000 [==============================] - 2s 887us/sample - loss: 0.1810 - acc: 0.9330 - val_loss: 0.2476 - val_acc: 0.9000\n",
      "Epoch 13/30\n",
      "2000/2000 [==============================] - 2s 898us/sample - loss: 0.1772 - acc: 0.9360 - val_loss: 0.2471 - val_acc: 0.8960\n",
      "Epoch 14/30\n",
      "2000/2000 [==============================] - 2s 895us/sample - loss: 0.1668 - acc: 0.9355 - val_loss: 0.2432 - val_acc: 0.9010\n",
      "Epoch 15/30\n",
      "2000/2000 [==============================] - 2s 893us/sample - loss: 0.1605 - acc: 0.9470 - val_loss: 0.2418 - val_acc: 0.8990\n",
      "Epoch 16/30\n",
      "2000/2000 [==============================] - 2s 914us/sample - loss: 0.1494 - acc: 0.9445 - val_loss: 0.2420 - val_acc: 0.9000\n",
      "Epoch 17/30\n",
      "2000/2000 [==============================] - 2s 883us/sample - loss: 0.1442 - acc: 0.9525 - val_loss: 0.2404 - val_acc: 0.9010\n",
      "Epoch 18/30\n",
      "2000/2000 [==============================] - 2s 897us/sample - loss: 0.1406 - acc: 0.9570 - val_loss: 0.2409 - val_acc: 0.9020\n",
      "Epoch 19/30\n",
      "2000/2000 [==============================] - 2s 881us/sample - loss: 0.1339 - acc: 0.9550 - val_loss: 0.2394 - val_acc: 0.8990\n",
      "Epoch 20/30\n",
      "2000/2000 [==============================] - 2s 891us/sample - loss: 0.1282 - acc: 0.9550 - val_loss: 0.2388 - val_acc: 0.9010\n",
      "Epoch 21/30\n",
      "2000/2000 [==============================] - 2s 882us/sample - loss: 0.1210 - acc: 0.9645 - val_loss: 0.2398 - val_acc: 0.9000\n",
      "Epoch 22/30\n",
      "2000/2000 [==============================] - 2s 887us/sample - loss: 0.1143 - acc: 0.9580 - val_loss: 0.2480 - val_acc: 0.9020\n",
      "Epoch 23/30\n",
      "2000/2000 [==============================] - 2s 902us/sample - loss: 0.1161 - acc: 0.9620 - val_loss: 0.2439 - val_acc: 0.9000\n",
      "Epoch 24/30\n",
      "2000/2000 [==============================] - 2s 900us/sample - loss: 0.1107 - acc: 0.9675 - val_loss: 0.2434 - val_acc: 0.8970\n",
      "Epoch 25/30\n",
      "2000/2000 [==============================] - 2s 897us/sample - loss: 0.1053 - acc: 0.9670 - val_loss: 0.2403 - val_acc: 0.8990\n",
      "Epoch 26/30\n",
      "2000/2000 [==============================] - 2s 882us/sample - loss: 0.1020 - acc: 0.9710 - val_loss: 0.2489 - val_acc: 0.8990\n",
      "Epoch 27/30\n",
      "2000/2000 [==============================] - 2s 888us/sample - loss: 0.0971 - acc: 0.9680 - val_loss: 0.2424 - val_acc: 0.9000\n",
      "Epoch 28/30\n",
      "2000/2000 [==============================] - 2s 882us/sample - loss: 0.0927 - acc: 0.9695 - val_loss: 0.2505 - val_acc: 0.8970\n",
      "Epoch 29/30\n",
      "2000/2000 [==============================] - 2s 881us/sample - loss: 0.0898 - acc: 0.9715 - val_loss: 0.2688 - val_acc: 0.8980\n",
      "Epoch 30/30\n",
      "2000/2000 [==============================] - 2s 881us/sample - loss: 0.0905 - acc: 0.9720 - val_loss: 0.2677 - val_acc: 0.8970\n"
     ]
    }
   ],
   "source": [
    "from tensorflow.keras import models\n",
    "from tensorflow.keras import layers\n",
    "from tensorflow.keras import optimizers\n",
    "\n",
    "model = models.Sequential()\n",
    "model.add(layers.Dense(256, activation='relu', input_dim=4*4*512))\n",
    "model.add(layers.Dropout(0.5))\n",
    "model.add(layers.Dense(1, activation='sigmoid'))\n",
    "\n",
    "model.compile(optimizer=optimizers.RMSprop(lr=2e-5),\n",
    "loss='binary_crossentropy',\n",
    "metrics=['acc'])\n",
    "\n",
    "\n",
    "history = model.fit(train_features, train_labels,\n",
    "epochs=30,\n",
    "batch_size=20,\n",
    "validation_data=(validation_features, validation_labels))\n"
   ]
  },
  {
   "cell_type": "code",
   "execution_count": 10,
   "metadata": {},
   "outputs": [
    {
     "data": {
      "image/png": "[encoded data removed]",
      "text/plain": [
       "<Figure size 432x288 with 1 Axes>"
      ]
     },
     "metadata": {
      "needs_background": "light"
     },
     "output_type": "display_data"
    },
    {
     "data": {
      "image/png": "[encoded data removed]",
      "text/plain": [
       "<Figure size 432x288 with 1 Axes>"
      ]
     },
     "metadata": {
      "needs_background": "light"
     },
     "output_type": "display_data"
    }
   ],
   "source": [
    "history_dict = history.history\n",
    "#history_dict.keys()\n",
    "#acc = history.history['acc']\n",
    "#val_acc = history.history['val_acc']\n",
    "#loss = history.history['loss']\n",
    "#val_loss = history.history['val_loss']\n",
    "\n",
    "\n",
    "plot_history(history_dict, what_to_plot=[('loss', 'Training loss'),('val_loss', 'Validation loss')], \n",
    "              title='Training and validation loss', xlabel='Epochs', ylabel='Loss')\n",
    "\n",
    "plot_history(history_dict, what_to_plot=[('acc', 'Training acc'),('val_acc', 'Validation acc')], \n",
    "              title='Training and validation accuracy', xlabel='Epochs', ylabel='accuracy')"
   ]
  },
  {
   "cell_type": "markdown",
   "metadata": {},
   "source": [
    "You reach a validation accuracy of about 90%—much better than you achieved in the\n",
    "previous section with the small model trained from scratch. But the plots also indicate\n",
    "that you’re overfitting almost from the start—despite using dropout with a fairly large\n",
    "rate. That’s because this technique doesn’t use data augmentation, which is essential\n",
    "for preventing overfitting with small image datasets."
   ]
  },
  {
   "cell_type": "markdown",
   "metadata": {},
   "source": [
    "FEATURE EXTRACTION WITH DATA AUGMENTATION"
   ]
  },
  {
   "cell_type": "code",
   "execution_count": 11,
   "metadata": {},
   "outputs": [],
   "source": [
    "model = models.Sequential()\n",
    "model.add(conv_base)\n",
    "model.add(layers.Flatten())\n",
    "model.add(layers.Dense(256, activation='relu'))\n",
    "model.add(layers.Dense(1, activation='sigmoid'))"
   ]
  },
  {
   "cell_type": "code",
   "execution_count": 12,
   "metadata": {},
   "outputs": [
    {
     "name": "stdout",
     "output_type": "stream",
     "text": [
      "Model: \"sequential_1\"\n",
      "_________________________________________________________________\n",
      "Layer (type)                 Output Shape              Param #   \n",
      "=================================================================\n",
      "vgg16 (Model)                (None, 4, 4, 512)         14714688  \n",
      "_________________________________________________________________\n",
      "flatten (Flatten)            (None, 8192)              0         \n",
      "_________________________________________________________________\n",
      "dense_2 (Dense)              (None, 256)               2097408   \n",
      "_________________________________________________________________\n",
      "dense_3 (Dense)              (None, 1)                 257       \n",
      "=================================================================\n",
      "Total params: 16,812,353\n",
      "Trainable params: 16,812,353\n",
      "Non-trainable params: 0\n",
      "_________________________________________________________________\n"
     ]
    }
   ],
   "source": [
    "model.summary()"
   ]
  },
  {
   "cell_type": "code",
   "execution_count": 13,
   "metadata": {},
   "outputs": [
    {
     "name": "stdout",
     "output_type": "stream",
     "text": [
      "trainable_weights before freeze 30\n"
     ]
    }
   ],
   "source": [
    "print('trainable_weights before freeze', len(model.trainable_weights))"
   ]
  },
  {
   "cell_type": "code",
   "execution_count": 14,
   "metadata": {},
   "outputs": [
    {
     "name": "stdout",
     "output_type": "stream",
     "text": [
      "trainable_weights after freeze 4\n"
     ]
    }
   ],
   "source": [
    "conv_base.trainable = False\n",
    "print('trainable_weights after freeze', len(model.trainable_weights))"
   ]
  },
  {
   "cell_type": "code",
   "execution_count": 16,
   "metadata": {},
   "outputs": [
    {
     "name": "stdout",
     "output_type": "stream",
     "text": [
      "Found 2000 images belonging to 2 classes.\n",
      "Found 1000 images belonging to 2 classes.\n",
      "Epoch 1/30\n",
      "100/100 [==============================] - 651s 7s/step - loss: 0.6175 - acc: 0.6705 - val_loss: 0.4704 - val_acc: 0.8100\n",
      "Epoch 2/30\n",
      "100/100 [==============================] - 667s 7s/step - loss: 0.4831 - acc: 0.7880 - val_loss: 0.3800 - val_acc: 0.8470\n",
      "Epoch 3/30\n",
      "100/100 [==============================] - 647s 6s/step - loss: 0.4418 - acc: 0.8070 - val_loss: 0.3410 - val_acc: 0.8710\n",
      "Epoch 4/30\n",
      "100/100 [==============================] - 642s 6s/step - loss: 0.4099 - acc: 0.8145 - val_loss: 0.3161 - val_acc: 0.8740\n",
      "Epoch 5/30\n",
      "100/100 [==============================] - 618s 6s/step - loss: 0.3964 - acc: 0.8280 - val_loss: 0.3000 - val_acc: 0.8820\n",
      "Epoch 6/30\n",
      "100/100 [==============================] - 592s 6s/step - loss: 0.3877 - acc: 0.8285 - val_loss: 0.2955 - val_acc: 0.8740\n",
      "Epoch 7/30\n",
      "100/100 [==============================] - 664s 7s/step - loss: 0.3583 - acc: 0.8425 - val_loss: 0.2785 - val_acc: 0.8960\n",
      "Epoch 8/30\n",
      "100/100 [==============================] - 685s 7s/step - loss: 0.3522 - acc: 0.8485 - val_loss: 0.2724 - val_acc: 0.8920\n",
      "Epoch 9/30\n",
      "100/100 [==============================] - 690s 7s/step - loss: 0.3421 - acc: 0.8490 - val_loss: 0.2844 - val_acc: 0.8750\n",
      "Epoch 10/30\n",
      "100/100 [==============================] - 683s 7s/step - loss: 0.3431 - acc: 0.8435 - val_loss: 0.2721 - val_acc: 0.8830\n",
      "Epoch 11/30\n",
      "100/100 [==============================] - 686s 7s/step - loss: 0.3338 - acc: 0.8580 - val_loss: 0.2600 - val_acc: 0.8980\n",
      "Epoch 12/30\n",
      "100/100 [==============================] - 678s 7s/step - loss: 0.3219 - acc: 0.8655 - val_loss: 0.2611 - val_acc: 0.8910\n",
      "Epoch 13/30\n",
      "100/100 [==============================] - 684s 7s/step - loss: 0.3260 - acc: 0.8655 - val_loss: 0.2694 - val_acc: 0.8880\n",
      "Epoch 14/30\n",
      "100/100 [==============================] - 711s 7s/step - loss: 0.3328 - acc: 0.8590 - val_loss: 0.2538 - val_acc: 0.9010\n",
      "Epoch 15/30\n",
      "100/100 [==============================] - 686s 7s/step - loss: 0.3196 - acc: 0.8620 - val_loss: 0.2507 - val_acc: 0.9010\n",
      "Epoch 16/30\n",
      "100/100 [==============================] - 681s 7s/step - loss: 0.3220 - acc: 0.8595 - val_loss: 0.2486 - val_acc: 0.8970\n",
      "Epoch 17/30\n",
      "100/100 [==============================] - 606s 6s/step - loss: 0.3065 - acc: 0.8695 - val_loss: 0.2688 - val_acc: 0.8860\n",
      "Epoch 18/30\n",
      "100/100 [==============================] - 608s 6s/step - loss: 0.3090 - acc: 0.8695 - val_loss: 0.2462 - val_acc: 0.8910\n",
      "Epoch 19/30\n",
      "100/100 [==============================] - 653s 7s/step - loss: 0.3086 - acc: 0.8645 - val_loss: 0.2431 - val_acc: 0.9060\n",
      "Epoch 20/30\n",
      "100/100 [==============================] - 651s 7s/step - loss: 0.3030 - acc: 0.8635 - val_loss: 0.2421 - val_acc: 0.9030\n",
      "Epoch 21/30\n",
      "100/100 [==============================] - 627s 6s/step - loss: 0.2944 - acc: 0.8700 - val_loss: 0.2456 - val_acc: 0.9030\n",
      "Epoch 22/30\n",
      "100/100 [==============================] - 628s 6s/step - loss: 0.2971 - acc: 0.8680 - val_loss: 0.2427 - val_acc: 0.9060\n",
      "Epoch 23/30\n",
      "100/100 [==============================] - 648s 6s/step - loss: 0.2981 - acc: 0.8720 - val_loss: 0.2480 - val_acc: 0.8920\n",
      "Epoch 24/30\n",
      "100/100 [==============================] - 630s 6s/step - loss: 0.2951 - acc: 0.8780 - val_loss: 0.2407 - val_acc: 0.9050\n",
      "Epoch 25/30\n",
      "100/100 [==============================] - 579s 6s/step - loss: 0.2846 - acc: 0.8795 - val_loss: 0.2429 - val_acc: 0.8990\n",
      "Epoch 26/30\n",
      "100/100 [==============================] - 578s 6s/step - loss: 0.2909 - acc: 0.8740 - val_loss: 0.2431 - val_acc: 0.8960\n",
      "Epoch 27/30\n",
      "100/100 [==============================] - 577s 6s/step - loss: 0.2869 - acc: 0.8785 - val_loss: 0.2389 - val_acc: 0.9050\n",
      "Epoch 28/30\n",
      "100/100 [==============================] - 577s 6s/step - loss: 0.2817 - acc: 0.8710 - val_loss: 0.2440 - val_acc: 0.9000\n",
      "Epoch 29/30\n",
      "100/100 [==============================] - 576s 6s/step - loss: 0.2843 - acc: 0.8765 - val_loss: 0.2363 - val_acc: 0.9050\n",
      "Epoch 30/30\n",
      "100/100 [==============================] - 577s 6s/step - loss: 0.2742 - acc: 0.8835 - val_loss: 0.2369 - val_acc: 0.9040\n"
     ]
    }
   ],
   "source": [
    "from tensorflow.keras.preprocessing.image import ImageDataGenerator\n",
    "from tensorflow.keras import optimizers\n",
    "\n",
    "train_datagen = ImageDataGenerator(\n",
    "    rescale=1./255,\n",
    "    rotation_range=40,\n",
    "    width_shift_range=0.2,\n",
    "    height_shift_range=0.2,\n",
    "    shear_range=0.2,\n",
    "    zoom_range=0.2,\n",
    "    horizontal_flip=True,\n",
    "    fill_mode='nearest')\n",
    "\n",
    "test_datagen = ImageDataGenerator(rescale=1./255)\n",
    "\n",
    "train_generator = train_datagen.flow_from_directory(\n",
    "    train_dir,\n",
    "    target_size=(150, 150),\n",
    "    batch_size=20,\n",
    "    class_mode='binary')\n",
    "\n",
    "validation_generator = test_datagen.flow_from_directory(\n",
    "    validation_dir,\n",
    "    target_size=(150, 150),\n",
    "    batch_size=20,\n",
    "    class_mode='binary')\n",
    "    \n",
    "model.compile(loss='binary_crossentropy',\n",
    "    optimizer=optimizers.RMSprop(lr=2e-5),\n",
    "    metrics=['acc'])\n",
    "\n",
    "history = model.fit_generator(\n",
    "    train_generator,\n",
    "    steps_per_epoch=100,\n",
    "    epochs=30,\n",
    "    validation_data=validation_generator,\n",
    "    validation_steps=50)"
   ]
  },
  {
   "cell_type": "code",
   "execution_count": 17,
   "metadata": {},
   "outputs": [],
   "source": [
    "model.save('cats_and_dogs_small_vgg_extended.h5')"
   ]
  },
  {
   "cell_type": "code",
   "execution_count": 18,
   "metadata": {},
   "outputs": [
    {
     "data": {
      "image/png": "[encoded data removed]",
      "text/plain": [
       "<Figure size 432x288 with 1 Axes>"
      ]
     },
     "metadata": {
      "needs_background": "light"
     },
     "output_type": "display_data"
    },
    {
     "data": {
      "image/png": "[encoded data removed]",
      "text/plain": [
       "<Figure size 432x288 with 1 Axes>"
      ]
     },
     "metadata": {
      "needs_background": "light"
     },
     "output_type": "display_data"
    }
   ],
   "source": [
    "history_dict = history.history\n",
    "#history_dict.keys()\n",
    "#acc = history.history['acc']\n",
    "#val_acc = history.history['val_acc']\n",
    "#loss = history.history['loss']\n",
    "#val_loss = history.history['val_loss']\n",
    "\n",
    "\n",
    "plot_history(history_dict, what_to_plot=[('loss', 'Training loss'),('val_loss', 'Validation loss')], \n",
    "              title='Training and validation loss', xlabel='Epochs', ylabel='Loss')\n",
    "\n",
    "plot_history(history_dict, what_to_plot=[('acc', 'Training acc'),('val_acc', 'Validation acc')], \n",
    "              title='Training and validation accuracy', xlabel='Epochs', ylabel='accuracy')"
   ]
  },
  {
   "cell_type": "code",
   "execution_count": null,
   "metadata": {},
   "outputs": [],
   "source": [
    "# Fine tuning "
   ]
  },
  {
   "cell_type": "code",
   "execution_count": 19,
   "metadata": {},
   "outputs": [
    {
     "name": "stdout",
     "output_type": "stream",
     "text": [
      "Model: \"vgg16\"\n",
      "_________________________________________________________________\n",
      "Layer (type)                 Output Shape              Param #   \n",
      "=================================================================\n",
      "input_1 (InputLayer)         [(None, 150, 150, 3)]     0         \n",
      "_________________________________________________________________\n",
      "block1_conv1 (Conv2D)        (None, 150, 150, 64)      1792      \n",
      "_________________________________________________________________\n",
      "block1_conv2 (Conv2D)        (None, 150, 150, 64)      36928     \n",
      "_________________________________________________________________\n",
      "block1_pool (MaxPooling2D)   (None, 75, 75, 64)        0         \n",
      "_________________________________________________________________\n",
      "block2_conv1 (Conv2D)        (None, 75, 75, 128)       73856     \n",
      "_________________________________________________________________\n",
      "block2_conv2 (Conv2D)        (None, 75, 75, 128)       147584    \n",
      "_________________________________________________________________\n",
      "block2_pool (MaxPooling2D)   (None, 37, 37, 128)       0         \n",
      "_________________________________________________________________\n",
      "block3_conv1 (Conv2D)        (None, 37, 37, 256)       295168    \n",
      "_________________________________________________________________\n",
      "block3_conv2 (Conv2D)        (None, 37, 37, 256)       590080    \n",
      "_________________________________________________________________\n",
      "block3_conv3 (Conv2D)        (None, 37, 37, 256)       590080    \n",
      "_________________________________________________________________\n",
      "block3_pool (MaxPooling2D)   (None, 18, 18, 256)       0         \n",
      "_________________________________________________________________\n",
      "block4_conv1 (Conv2D)        (None, 18, 18, 512)       1180160   \n",
      "_________________________________________________________________\n",
      "block4_conv2 (Conv2D)        (None, 18, 18, 512)       2359808   \n",
      "_________________________________________________________________\n",
      "block4_conv3 (Conv2D)        (None, 18, 18, 512)       2359808   \n",
      "_________________________________________________________________\n",
      "block4_pool (MaxPooling2D)   (None, 9, 9, 512)         0         \n",
      "_________________________________________________________________\n",
      "block5_conv1 (Conv2D)        (None, 9, 9, 512)         2359808   \n",
      "_________________________________________________________________\n",
      "block5_conv2 (Conv2D)        (None, 9, 9, 512)         2359808   \n",
      "_________________________________________________________________\n",
      "block5_conv3 (Conv2D)        (None, 9, 9, 512)         2359808   \n",
      "_________________________________________________________________\n",
      "block5_pool (MaxPooling2D)   (None, 4, 4, 512)         0         \n",
      "=================================================================\n",
      "Total params: 14,714,688\n",
      "Trainable params: 0\n",
      "Non-trainable params: 14,714,688\n",
      "_________________________________________________________________\n"
     ]
    }
   ],
   "source": [
    "conv_base.summary()"
   ]
  },
  {
   "cell_type": "code",
   "execution_count": 20,
   "metadata": {},
   "outputs": [],
   "source": [
    "conv_base.trainable = True\n",
    "set_trainable = False\n",
    "for layer in conv_base.layers:\n",
    "    if layer.name == 'block5_conv1':\n",
    "        set_trainable = True\n",
    "    if set_trainable:\n",
    "        layer.trainable = True\n",
    "    else:\n",
    "        layer.trainable = False"
   ]
  },
  {
   "cell_type": "code",
   "execution_count": null,
   "metadata": {},
   "outputs": [
    {
     "name": "stdout",
     "output_type": "stream",
     "text": [
      "Epoch 1/100\n",
      "100/100 [==============================] - 583s 6s/step - loss: 0.3080 - acc: 0.8665 - val_loss: 0.2144 - val_acc: 0.9150\n",
      "Epoch 2/100\n",
      "100/100 [==============================] - 584s 6s/step - loss: 0.2439 - acc: 0.8925 - val_loss: 0.2066 - val_acc: 0.9170\n",
      "Epoch 3/100\n",
      "100/100 [==============================] - 584s 6s/step - loss: 0.2312 - acc: 0.9000 - val_loss: 0.2190 - val_acc: 0.9120\n",
      "Epoch 4/100\n",
      "100/100 [==============================] - 584s 6s/step - loss: 0.2243 - acc: 0.9085 - val_loss: 0.1967 - val_acc: 0.9240\n",
      "Epoch 5/100\n",
      "100/100 [==============================] - 583s 6s/step - loss: 0.2109 - acc: 0.9125 - val_loss: 0.2333 - val_acc: 0.9110\n",
      "Epoch 6/100\n",
      "100/100 [==============================] - 584s 6s/step - loss: 0.1833 - acc: 0.9190 - val_loss: 0.1979 - val_acc: 0.9190\n",
      "Epoch 7/100\n",
      "100/100 [==============================] - 584s 6s/step - loss: 0.1856 - acc: 0.9225 - val_loss: 0.1999 - val_acc: 0.9180\n",
      "Epoch 8/100\n",
      "100/100 [==============================] - 585s 6s/step - loss: 0.1827 - acc: 0.9270 - val_loss: 0.2495 - val_acc: 0.9070\n",
      "Epoch 9/100\n",
      "100/100 [==============================] - 584s 6s/step - loss: 0.1642 - acc: 0.9395 - val_loss: 0.1968 - val_acc: 0.9240\n",
      "Epoch 10/100\n",
      "100/100 [==============================] - 588s 6s/step - loss: 0.1427 - acc: 0.9420 - val_loss: 0.2176 - val_acc: 0.9170\n",
      "Epoch 11/100\n",
      " 98/100 [============================>.] - ETA: 11s - loss: 0.1545 - acc: 0.9388"
     ]
    }
   ],
   "source": [
    "model.compile(loss='binary_crossentropy',\n",
    "    optimizer=optimizers.RMSprop(lr=1e-5),\n",
    "    metrics=['acc'])\n",
    "\n",
    "history = model.fit_generator(\n",
    "    train_generator,\n",
    "    steps_per_epoch=100,\n",
    "    epochs=100,\n",
    "    validation_data=validation_generator,\n",
    "    validation_steps=50)"
   ]
  }
 ],
 "metadata": {
  "kernelspec": {
   "display_name": "Python 3",
   "language": "python",
   "name": "python3"
  },
  "language_info": {
   "codemirror_mode": {
    "name": "ipython",
    "version": 3
   },
   "file_extension": ".py",
   "mimetype": "text/x-python",
   "name": "python",
   "nbconvert_exporter": "python",
   "pygments_lexer": "ipython3",
   "version": "3.7.5"
  }
 },
 "nbformat": 4,
 "nbformat_minor": 2
}
