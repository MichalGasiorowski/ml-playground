{
 "cells": [
  {
   "cell_type": "code",
   "execution_count": 5,
   "metadata": {},
   "outputs": [
    {
     "name": "stdout",
     "output_type": "stream",
     "text": [
      "2.1.0 2.2.4-tf\n"
     ]
    }
   ],
   "source": [
    "from __future__ import print_function\n",
    "import sys\n",
    "assert sys.version_info >= (3, 5)\n",
    "\n",
    "# Scikit-Learn ≥0.20 is required\n",
    "import sklearn\n",
    "assert sklearn.__version__ >= \"0.20\"\n",
    "\n",
    "# Common imports\n",
    "import numpy as np\n",
    "import os\n",
    "\n",
    "\n",
    "\n",
    "# To plot pretty figures\n",
    "%matplotlib inline\n",
    "import matplotlib as mpl\n",
    "import matplotlib.pyplot as plt\n",
    "mpl.rc('axes', labelsize=14)\n",
    "mpl.rc('xtick', labelsize=12)\n",
    "mpl.rc('ytick', labelsize=12)\n",
    "\n",
    "# Where to save the figures\n",
    "PROJECT_ROOT_DIR = \".\"\n",
    "CHAPTER_ID = \"train_deep_neural_nets\"\n",
    "IMAGES_PATH = os.path.join(PROJECT_ROOT_DIR, \"images\", CHAPTER_ID)\n",
    "os.makedirs(IMAGES_PATH, exist_ok=True)\n",
    "\n",
    "def save_fig(fig_id, tight_layout=True, fig_extension=\"png\", resolution=300):\n",
    "    path = os.path.join(IMAGES_PATH, fig_id + \".\" + fig_extension)\n",
    "    print(\"Saving figure\", fig_id)\n",
    "    if tight_layout:\n",
    "        plt.tight_layout()\n",
    "    plt.savefig(path, format=fig_extension, dpi=resolution)\n",
    "\n",
    "    \n",
    "import graphviz\n",
    "from graphviz import Source\n",
    "from sklearn.tree import export_graphviz\n",
    "# install pydot from conda \n",
    "# !conda install -c anaconda pydot\n",
    "import pydot\n",
    "\n",
    "import tensorflow as tf\n",
    "from tensorflow import keras\n",
    "\n",
    "print(tf.__version__, keras.__version__)"
   ]
  },
  {
   "cell_type": "markdown",
   "metadata": {},
   "source": [
    "**Vanishing/Exploding Gradients Problem**"
   ]
  },
  {
   "cell_type": "code",
   "execution_count": 2,
   "metadata": {},
   "outputs": [],
   "source": [
    "def logit(z):\n",
    "    return 1 / (1 + np.exp(-z))"
   ]
  },
  {
   "cell_type": "code",
   "execution_count": 3,
   "metadata": {},
   "outputs": [
    {
     "name": "stdout",
     "output_type": "stream",
     "text": [
      "Saving figure sigmoid_saturation_plot\n"
     ]
    },
    {
     "data": {
      "image/png": "[encoded data removed]",
      "text/plain": [
       "<Figure size 432x288 with 1 Axes>"
      ]
     },
     "metadata": {
      "needs_background": "light"
     },
     "output_type": "display_data"
    }
   ],
   "source": [
    "z = np.linspace(-5, 5, 200)\n",
    "\n",
    "plt.plot([-5, 5], [0, 0], 'k-')\n",
    "plt.plot([-5, 5], [1, 1], 'k--')\n",
    "plt.plot([0, 0], [-0.2, 1.2], 'k-')\n",
    "plt.plot([-5, 5], [-3/4, 7/4], 'g--')\n",
    "plt.plot(z, logit(z), \"b-\", linewidth=2)\n",
    "props = dict(facecolor='black', shrink=0.1)\n",
    "plt.annotate('Saturating', xytext=(3.5, 0.7), xy=(5, 1), arrowprops=props, fontsize=14, ha=\"center\")\n",
    "plt.annotate('Saturating', xytext=(-3.5, 0.3), xy=(-5, 0), arrowprops=props, fontsize=14, ha=\"center\")\n",
    "plt.annotate('Linear', xytext=(2, 0.2), xy=(0, 0.5), arrowprops=props, fontsize=14, ha=\"center\")\n",
    "plt.grid(True)\n",
    "plt.title(\"Sigmoid activation function\", fontsize=14)\n",
    "plt.axis([-5, 5, -0.2, 1.2])\n",
    "\n",
    "save_fig(\"sigmoid_saturation_plot\")\n",
    "plt.show()"
   ]
  },
  {
   "cell_type": "markdown",
   "metadata": {},
   "source": [
    "**Xavier and He Initialization**"
   ]
  },
  {
   "cell_type": "code",
   "execution_count": 7,
   "metadata": {},
   "outputs": [
    {
     "data": {
      "text/plain": [
       "['Constant',\n",
       " 'GlorotNormal',\n",
       " 'GlorotUniform',\n",
       " 'Identity',\n",
       " 'Initializer',\n",
       " 'Ones',\n",
       " 'Orthogonal',\n",
       " 'RandomNormal',\n",
       " 'RandomUniform',\n",
       " 'TruncatedNormal',\n",
       " 'VarianceScaling',\n",
       " 'Zeros',\n",
       " 'constant',\n",
       " 'deserialize',\n",
       " 'get',\n",
       " 'glorot_normal',\n",
       " 'glorot_uniform',\n",
       " 'he_normal',\n",
       " 'he_uniform',\n",
       " 'identity',\n",
       " 'lecun_normal',\n",
       " 'lecun_uniform',\n",
       " 'ones',\n",
       " 'orthogonal',\n",
       " 'serialize',\n",
       " 'zeros']"
      ]
     },
     "execution_count": 7,
     "metadata": {},
     "output_type": "execute_result"
    }
   ],
   "source": [
    "[ initializer for initializer in dir(keras.initializers) if not initializer.startswith(\"_\")]"
   ]
  },
  {
   "cell_type": "markdown",
   "metadata": {},
   "source": [
    "By default keras uses glorot initialization with uniform distribution.\n",
    "It cab be changed to he initialization:"
   ]
  },
  {
   "cell_type": "code",
   "execution_count": 8,
   "metadata": {},
   "outputs": [
    {
     "data": {
      "text/plain": [
       "<tensorflow.python.keras.layers.core.Dense at 0x1d1ae59dcc8>"
      ]
     },
     "execution_count": 8,
     "metadata": {},
     "output_type": "execute_result"
    }
   ],
   "source": [
    "keras.layers.Dense(10, activation=\"relu\", kernel_initializer=\"he_normal\")"
   ]
  },
  {
   "cell_type": "markdown",
   "metadata": {},
   "source": [
    "He initialization with uniform distr vased on fan_avg:"
   ]
  },
  {
   "cell_type": "code",
   "execution_count": 9,
   "metadata": {},
   "outputs": [
    {
     "data": {
      "text/plain": [
       "<tensorflow.python.keras.layers.core.Dense at 0x1d1ae5a0dc8>"
      ]
     },
     "execution_count": 9,
     "metadata": {},
     "output_type": "execute_result"
    }
   ],
   "source": [
    "init = keras.initializers.VarianceScaling(scale=2., mode='fan_avg',\n",
    "                                          distribution='uniform')\n",
    "keras.layers.Dense(10, activation=\"relu\", kernel_initializer=init)"
   ]
  },
  {
   "cell_type": "markdown",
   "metadata": {},
   "source": [
    "**Nonsaturating Activation Functions**"
   ]
  },
  {
   "cell_type": "markdown",
   "metadata": {},
   "source": [
    "**Leaky RELU**"
   ]
  },
  {
   "cell_type": "code",
   "execution_count": 10,
   "metadata": {},
   "outputs": [],
   "source": [
    "def leaky_relu(z, alpha=0.01):\n",
    "    return np.maximum(alpha*z, z)"
   ]
  },
  {
   "cell_type": "code",
   "execution_count": 11,
   "metadata": {},
   "outputs": [
    {
     "name": "stdout",
     "output_type": "stream",
     "text": [
      "Saving figure leaky_relu_plot\n"
     ]
    },
    {
     "data": {
      "image/png": "[encoded data removed]",
      "text/plain": [
       "<Figure size 432x288 with 1 Axes>"
      ]
     },
     "metadata": {
      "needs_background": "light"
     },
     "output_type": "display_data"
    }
   ],
   "source": [
    "plt.plot(z, leaky_relu(z, 0.05), \"b-\", linewidth=2)\n",
    "plt.plot([-5, 5], [0, 0], 'k-')\n",
    "plt.plot([0, 0], [-0.5, 4.2], 'k-')\n",
    "plt.grid(True)\n",
    "props = dict(facecolor='black', shrink=0.1)\n",
    "plt.annotate('Leak', xytext=(-3.5, 0.5), xy=(-5, -0.2), arrowprops=props, fontsize=14, ha=\"center\")\n",
    "plt.title(\"Leaky ReLU activation function\", fontsize=14)\n",
    "plt.axis([-5, 5, -0.5, 4.2])\n",
    "\n",
    "save_fig(\"leaky_relu_plot\")\n",
    "plt.show()\n"
   ]
  },
  {
   "cell_type": "code",
   "execution_count": 12,
   "metadata": {},
   "outputs": [
    {
     "data": {
      "text/plain": [
       "['deserialize',\n",
       " 'elu',\n",
       " 'exponential',\n",
       " 'get',\n",
       " 'hard_sigmoid',\n",
       " 'linear',\n",
       " 'relu',\n",
       " 'selu',\n",
       " 'serialize',\n",
       " 'sigmoid',\n",
       " 'softmax',\n",
       " 'softplus',\n",
       " 'softsign',\n",
       " 'tanh']"
      ]
     },
     "execution_count": 12,
     "metadata": {},
     "output_type": "execute_result"
    }
   ],
   "source": [
    "[m for m in dir(keras.activations) if not m.startswith(\"_\")]"
   ]
  },
  {
   "cell_type": "markdown",
   "metadata": {},
   "source": [
    "Relu variants"
   ]
  },
  {
   "cell_type": "code",
   "execution_count": 13,
   "metadata": {},
   "outputs": [
    {
     "data": {
      "text/plain": [
       "['LeakyReLU', 'PReLU', 'ReLU', 'ThresholdedReLU']"
      ]
     },
     "execution_count": 13,
     "metadata": {},
     "output_type": "execute_result"
    }
   ],
   "source": [
    "[m for m in dir(keras.layers) if \"relu\" in m.lower()]"
   ]
  },
  {
   "cell_type": "code",
   "execution_count": 14,
   "metadata": {},
   "outputs": [],
   "source": [
    "(X_train_full, y_train_full), (X_test, y_test) = keras.datasets.fashion_mnist.load_data()\n",
    "X_train_full = X_train_full / 255.0\n",
    "X_test = X_test / 255.0\n",
    "X_valid, X_train = X_train_full[:5000], X_train_full[5000:]\n",
    "y_valid, y_train = y_train_full[:5000], y_train_full[5000:]"
   ]
  },
  {
   "cell_type": "markdown",
   "metadata": {},
   "source": [
    "Leaky Relu"
   ]
  },
  {
   "cell_type": "code",
   "execution_count": 17,
   "metadata": {},
   "outputs": [],
   "source": [
    "#Leaky Relu model:\n",
    "model_lrelu = keras.models.Sequential([\n",
    "    keras.layers.Flatten(input_shape=[28, 28]),\n",
    "    keras.layers.Dense(300, kernel_initializer=\"he_normal\"),\n",
    "    keras.layers.LeakyReLU(),\n",
    "    keras.layers.Dense(100, kernel_initializer=\"he_normal\"),\n",
    "    keras.layers.LeakyReLU(),\n",
    "    keras.layers.Dense(10, activation=\"softmax\")\n",
    "])"
   ]
  },
  {
   "cell_type": "code",
   "execution_count": 18,
   "metadata": {},
   "outputs": [
    {
     "name": "stdout",
     "output_type": "stream",
     "text": [
      "Train on 55000 samples, validate on 5000 samples\n",
      "Epoch 1/10\n",
      "55000/55000 [==============================] - 6s 105us/sample - loss: 1.2689 - accuracy: 0.6168 - val_loss: 0.8685 - val_accuracy: 0.7226\n",
      "Epoch 2/10\n",
      "55000/55000 [==============================] - 5s 99us/sample - loss: 0.7823 - accuracy: 0.7482 - val_loss: 0.7041 - val_accuracy: 0.7710\n",
      "Epoch 3/10\n",
      "55000/55000 [==============================] - 5s 94us/sample - loss: 0.6736 - accuracy: 0.7822 - val_loss: 0.6314 - val_accuracy: 0.7980\n",
      "Epoch 4/10\n",
      "55000/55000 [==============================] - 5s 94us/sample - loss: 0.6177 - accuracy: 0.7996 - val_loss: 0.5889 - val_accuracy: 0.8106\n",
      "Epoch 5/10\n",
      "55000/55000 [==============================] - 5s 98us/sample - loss: 0.5807 - accuracy: 0.8093 - val_loss: 0.5578 - val_accuracy: 0.8188\n",
      "Epoch 6/10\n",
      "55000/55000 [==============================] - 5s 98us/sample - loss: 0.5540 - accuracy: 0.8169 - val_loss: 0.5357 - val_accuracy: 0.8256\n",
      "Epoch 7/10\n",
      "55000/55000 [==============================] - 4s 69us/sample - loss: 0.5340 - accuracy: 0.8213 - val_loss: 0.5187 - val_accuracy: 0.8308\n",
      "Epoch 8/10\n",
      "55000/55000 [==============================] - 4s 72us/sample - loss: 0.5174 - accuracy: 0.8257 - val_loss: 0.5050 - val_accuracy: 0.8304\n",
      "Epoch 9/10\n",
      "55000/55000 [==============================] - 4s 69us/sample - loss: 0.5046 - accuracy: 0.8283 - val_loss: 0.4962 - val_accuracy: 0.8370\n",
      "Epoch 10/10\n",
      "55000/55000 [==============================] - 4s 72us/sample - loss: 0.4935 - accuracy: 0.8320 - val_loss: 0.4831 - val_accuracy: 0.8384\n"
     ]
    }
   ],
   "source": [
    "model_lrelu.compile(loss=\"sparse_categorical_crossentropy\",\n",
    "              optimizer=keras.optimizers.SGD(lr=1e-3),\n",
    "              metrics=[\"accuracy\"])\n",
    "lrelu_history = model_lrelu.fit(X_train, y_train, epochs=10,\n",
    "                    validation_data=(X_valid, y_valid))\n"
   ]
  },
  {
   "cell_type": "code",
   "execution_count": 21,
   "metadata": {},
   "outputs": [
    {
     "name": "stdout",
     "output_type": "stream",
     "text": [
      "10000/10000 - 1s - loss: 0.5183 - accuracy: 0.8206\n"
     ]
    },
    {
     "data": {
      "text/plain": [
       "[0.5183214697360993, 0.8206]"
      ]
     },
     "execution_count": 21,
     "metadata": {},
     "output_type": "execute_result"
    }
   ],
   "source": [
    "model_lrelu.evaluate(X_test, y_test, verbose=2)"
   ]
  },
  {
   "cell_type": "code",
   "execution_count": 30,
   "metadata": {},
   "outputs": [
    {
     "name": "stdout",
     "output_type": "stream",
     "text": [
      "Model: \"sequential_2\"\n",
      "_________________________________________________________________\n",
      "Layer (type)                 Output Shape              Param #   \n",
      "=================================================================\n",
      "flatten_2 (Flatten)          (None, 784)               0         \n",
      "_________________________________________________________________\n",
      "dense_8 (Dense)              (None, 300)               235500    \n",
      "_________________________________________________________________\n",
      "leaky_re_lu_4 (LeakyReLU)    (None, 300)               0         \n",
      "_________________________________________________________________\n",
      "dense_9 (Dense)              (None, 100)               30100     \n",
      "_________________________________________________________________\n",
      "leaky_re_lu_5 (LeakyReLU)    (None, 100)               0         \n",
      "_________________________________________________________________\n",
      "dense_10 (Dense)             (None, 10)                1010      \n",
      "=================================================================\n",
      "Total params: 266,610\n",
      "Trainable params: 266,610\n",
      "Non-trainable params: 0\n",
      "_________________________________________________________________\n"
     ]
    },
    {
     "data": {
      "text/plain": [
       "[<tensorflow.python.keras.layers.core.Flatten at 0x1d1ae717588>,\n",
       " <tensorflow.python.keras.layers.core.Dense at 0x1d1ae883748>,\n",
       " <tensorflow.python.keras.layers.advanced_activations.LeakyReLU at 0x1d1ae887548>,\n",
       " <tensorflow.python.keras.layers.core.Dense at 0x1d1ae887448>,\n",
       " <tensorflow.python.keras.layers.advanced_activations.LeakyReLU at 0x1d1ae88b988>,\n",
       " <tensorflow.python.keras.layers.core.Dense at 0x1d1af2d5b88>]"
      ]
     },
     "execution_count": 30,
     "metadata": {},
     "output_type": "execute_result"
    }
   ],
   "source": [
    "model_lrelu.summary()"
   ]
  },
  {
   "cell_type": "code",
   "execution_count": 29,
   "metadata": {},
   "outputs": [
    {
     "data": {
      "text/plain": [
       "[('dense_8/kernel:0', True), ('dense_8/bias:0', True)]"
      ]
     },
     "execution_count": 29,
     "metadata": {},
     "output_type": "execute_result"
    }
   ],
   "source": [
    "[(var.name, var.trainable) for var in model_lrelu.layers[1].variables]"
   ]
  },
  {
   "cell_type": "markdown",
   "metadata": {},
   "source": [
    "Parametric Leaky Relu - alpha is learned during training"
   ]
  },
  {
   "cell_type": "code",
   "execution_count": 19,
   "metadata": {},
   "outputs": [],
   "source": [
    "# prelu model\n",
    "model_prelu = keras.models.Sequential([\n",
    "    keras.layers.Flatten(input_shape=[28, 28]),\n",
    "    keras.layers.Dense(300, kernel_initializer=\"he_normal\"),\n",
    "    keras.layers.PReLU(),\n",
    "    keras.layers.Dense(100, kernel_initializer=\"he_normal\"),\n",
    "    keras.layers.PReLU(),\n",
    "    keras.layers.Dense(10, activation=\"softmax\")\n",
    "])"
   ]
  },
  {
   "cell_type": "code",
   "execution_count": 20,
   "metadata": {},
   "outputs": [
    {
     "name": "stdout",
     "output_type": "stream",
     "text": [
      "Train on 55000 samples, validate on 5000 samples\n",
      "Epoch 1/10\n",
      "55000/55000 [==============================] - 5s 87us/sample - loss: 1.4229 - accuracy: 0.5876 - val_loss: 0.9514 - val_accuracy: 0.6932\n",
      "Epoch 2/10\n",
      "55000/55000 [==============================] - 4s 77us/sample - loss: 0.8369 - accuracy: 0.7300 - val_loss: 0.7327 - val_accuracy: 0.7694\n",
      "Epoch 3/10\n",
      "55000/55000 [==============================] - 4s 75us/sample - loss: 0.6979 - accuracy: 0.7746 - val_loss: 0.6445 - val_accuracy: 0.7956\n",
      "Epoch 4/10\n",
      "55000/55000 [==============================] - 4s 71us/sample - loss: 0.6295 - accuracy: 0.7954 - val_loss: 0.5950 - val_accuracy: 0.8118\n",
      "Epoch 5/10\n",
      "55000/55000 [==============================] - 5s 84us/sample - loss: 0.5867 - accuracy: 0.8083 - val_loss: 0.5605 - val_accuracy: 0.8192\n",
      "Epoch 6/10\n",
      "55000/55000 [==============================] - 6s 106us/sample - loss: 0.5572 - accuracy: 0.8160 - val_loss: 0.5368 - val_accuracy: 0.8244\n",
      "Epoch 7/10\n",
      "55000/55000 [==============================] - 6s 108us/sample - loss: 0.5354 - accuracy: 0.8217 - val_loss: 0.5183 - val_accuracy: 0.8288\n",
      "Epoch 8/10\n",
      "55000/55000 [==============================] - 6s 111us/sample - loss: 0.5187 - accuracy: 0.8253 - val_loss: 0.5026 - val_accuracy: 0.8370\n",
      "Epoch 9/10\n",
      "55000/55000 [==============================] - 6s 107us/sample - loss: 0.5047 - accuracy: 0.8287 - val_loss: 0.4912 - val_accuracy: 0.8428\n",
      "Epoch 10/10\n",
      "55000/55000 [==============================] - 6s 107us/sample - loss: 0.4932 - accuracy: 0.8321 - val_loss: 0.4798 - val_accuracy: 0.8424\n"
     ]
    }
   ],
   "source": [
    "model_prelu.compile(loss=\"sparse_categorical_crossentropy\",\n",
    "              optimizer=keras.optimizers.SGD(lr=1e-3),\n",
    "              metrics=[\"accuracy\"])\n",
    "prelu_history = model_prelu.fit(X_train, y_train, epochs=10,\n",
    "                    validation_data=(X_valid, y_valid))"
   ]
  },
  {
   "cell_type": "code",
   "execution_count": 22,
   "metadata": {},
   "outputs": [
    {
     "name": "stdout",
     "output_type": "stream",
     "text": [
      "10000/10000 - 0s - loss: 0.5149 - accuracy: 0.8240\n"
     ]
    },
    {
     "data": {
      "text/plain": [
       "[0.5148681384086609, 0.824]"
      ]
     },
     "execution_count": 22,
     "metadata": {},
     "output_type": "execute_result"
    }
   ],
   "source": [
    "model_prelu.evaluate(X_test, y_test, verbose=2)"
   ]
  },
  {
   "cell_type": "markdown",
   "metadata": {},
   "source": [
    "ELU - Exponential Linear Unit"
   ]
  },
  {
   "cell_type": "code",
   "execution_count": 31,
   "metadata": {},
   "outputs": [],
   "source": [
    "def elu(z, alpha=1):\n",
    "    return np.where(z < 0, alpha * (np.exp(z) - 1), z)"
   ]
  },
  {
   "cell_type": "code",
   "execution_count": 32,
   "metadata": {},
   "outputs": [
    {
     "name": "stdout",
     "output_type": "stream",
     "text": [
      "Saving figure elu_plot\n"
     ]
    },
    {
     "data": {
      "image/png": "[encoded data removed]",
      "text/plain": [
       "<Figure size 432x288 with 1 Axes>"
      ]
     },
     "metadata": {
      "needs_background": "light"
     },
     "output_type": "display_data"
    }
   ],
   "source": [
    "plt.plot(z, elu(z), \"b-\", linewidth=2)\n",
    "plt.plot([-5, 5], [0, 0], 'k-')\n",
    "plt.plot([-5, 5], [-1, -1], 'k--')\n",
    "plt.plot([0, 0], [-2.2, 3.2], 'k-')\n",
    "plt.grid(True)\n",
    "plt.title(r\"ELU activation function ($\\alpha=1$)\", fontsize=14)\n",
    "plt.axis([-5, 5, -2.2, 3.2])\n",
    "\n",
    "save_fig(\"elu_plot\")\n",
    "plt.show()\n"
   ]
  },
  {
   "cell_type": "markdown",
   "metadata": {},
   "source": [
    "Implementing ELU in TensorFlow is trivial, just specify the activation function when building each layer:"
   ]
  },
  {
   "cell_type": "code",
   "execution_count": 33,
   "metadata": {},
   "outputs": [
    {
     "data": {
      "text/plain": [
       "<tensorflow.python.keras.layers.core.Dense at 0x1d2a28e3f88>"
      ]
     },
     "execution_count": 33,
     "metadata": {},
     "output_type": "execute_result"
    }
   ],
   "source": [
    "keras.layers.Dense(10, activation=\"elu\")"
   ]
  },
  {
   "cell_type": "markdown",
   "metadata": {},
   "source": [
    "This activation function was proposed in this great paper by Günter Klambauer, Thomas Unterthiner and Andreas Mayr, published in June 2017. During training, a neural network composed exclusively of a stack of dense layers using the SELU activation function and LeCun initialization will self-normalize: the output of each layer will tend to preserve the same mean and variance during training, which solves the vanishing/exploding gradients problem. As a result, this activation function outperforms the other activation functions very significantly for such neural nets, so you should really try it out. Unfortunately, the self-normalizing property of the SELU activation function is easily broken: you cannot use ℓ1 or ℓ2 regularization, regular dropout, max-norm, skip connections or other non-sequential topologies (so recurrent neural networks won't self-normalize). However, in practice it works quite well with sequential CNNs. If you break self-normalization, SELU will not necessarily outperform other activation functions."
   ]
  },
  {
   "cell_type": "code",
   "execution_count": 34,
   "metadata": {},
   "outputs": [],
   "source": [
    "from scipy.special import erfc\n",
    "\n",
    "# alpha and scale to self normalize with mean 0 and standard deviation 1\n",
    "# (see equation 14 in the paper):\n",
    "alpha_0_1 = -np.sqrt(2 / np.pi) / (erfc(1/np.sqrt(2)) * np.exp(1/2) - 1)\n",
    "scale_0_1 = (1 - erfc(1 / np.sqrt(2)) * np.sqrt(np.e)) * np.sqrt(2 * np.pi) * (2 * erfc(np.sqrt(2))*np.e**2 + np.pi*erfc(1/np.sqrt(2))**2*np.e - 2*(2+np.pi)*erfc(1/np.sqrt(2))*np.sqrt(np.e)+np.pi+2)**(-1/2)"
   ]
  },
  {
   "cell_type": "code",
   "execution_count": 35,
   "metadata": {},
   "outputs": [],
   "source": [
    "def selu(z, scale=scale_0_1, alpha=alpha_0_1):\n",
    "    return scale * elu(z, alpha)"
   ]
  },
  {
   "cell_type": "code",
   "execution_count": 36,
   "metadata": {},
   "outputs": [
    {
     "name": "stdout",
     "output_type": "stream",
     "text": [
      "Saving figure selu_plot\n"
     ]
    },
    {
     "data": {
      "image/png": "[encoded data removed]",
      "text/plain": [
       "<Figure size 432x288 with 1 Axes>"
      ]
     },
     "metadata": {
      "needs_background": "light"
     },
     "output_type": "display_data"
    }
   ],
   "source": [
    "plt.plot(z, selu(z), \"b-\", linewidth=2)\n",
    "plt.plot([-5, 5], [0, 0], 'k-')\n",
    "plt.plot([-5, 5], [-1.758, -1.758], 'k--')\n",
    "plt.plot([0, 0], [-2.2, 3.2], 'k-')\n",
    "plt.grid(True)\n",
    "plt.title(\"SELU activation function\", fontsize=14)\n",
    "plt.axis([-5, 5, -2.2, 3.2])\n",
    "\n",
    "save_fig(\"selu_plot\")\n",
    "plt.show()"
   ]
  },
  {
   "cell_type": "markdown",
   "metadata": {},
   "source": [
    "By default, the SELU hyperparameters (scale and alpha) are tuned in such a way that the mean output of each neuron remains close to 0, and the standard deviation remains close to 1 (assuming the inputs are standardized with mean 0 and standard deviation 1 too). Using this activation function, even a 1,000 layer deep neural network preserves roughly mean 0 and standard deviation 1 across all layers, avoiding the exploding/vanishing gradients problem:"
   ]
  },
  {
   "cell_type": "code",
   "execution_count": 37,
   "metadata": {},
   "outputs": [
    {
     "name": "stdout",
     "output_type": "stream",
     "text": [
      "Layer 0: mean -0.00, std deviation 1.00\n",
      "Layer 100: mean 0.02, std deviation 0.96\n",
      "Layer 200: mean 0.01, std deviation 0.90\n",
      "Layer 300: mean -0.02, std deviation 0.92\n",
      "Layer 400: mean 0.05, std deviation 0.89\n",
      "Layer 500: mean 0.01, std deviation 0.93\n",
      "Layer 600: mean 0.02, std deviation 0.92\n",
      "Layer 700: mean -0.02, std deviation 0.90\n",
      "Layer 800: mean 0.05, std deviation 0.83\n",
      "Layer 900: mean 0.02, std deviation 1.00\n"
     ]
    }
   ],
   "source": [
    "np.random.seed(42)\n",
    "Z = np.random.normal(size=(500, 100)) # standardized inputs\n",
    "for layer in range(1000):\n",
    "    W = np.random.normal(size=(100, 100), scale=np.sqrt(1 / 100)) # LeCun initialization\n",
    "    Z = selu(np.dot(Z, W))\n",
    "    means = np.mean(Z, axis=0).mean()\n",
    "    stds = np.std(Z, axis=0).mean()\n",
    "    if layer % 100 == 0:\n",
    "        print(\"Layer {}: mean {:.2f}, std deviation {:.2f}\".format(layer, means, stds))\n"
   ]
  },
  {
   "cell_type": "code",
   "execution_count": 38,
   "metadata": {},
   "outputs": [
    {
     "data": {
      "text/plain": [
       "<tensorflow.python.keras.layers.core.Dense at 0x1d1ae66c088>"
      ]
     },
     "execution_count": 38,
     "metadata": {},
     "output_type": "execute_result"
    }
   ],
   "source": [
    "# Using SELU:\n",
    "keras.layers.Dense(10, activation=\"selu\",\n",
    "                   kernel_initializer=\"lecun_normal\")"
   ]
  },
  {
   "cell_type": "code",
   "execution_count": 42,
   "metadata": {},
   "outputs": [],
   "source": [
    "selu_model = keras.models.Sequential()\n",
    "selu_model.add(keras.layers.Flatten(input_shape=[28, 28]))\n",
    "selu_model.add(keras.layers.Dense(300, activation=\"selu\",\n",
    "                             kernel_initializer=\"lecun_normal\"))\n",
    "for layer in range(99):\n",
    "    selu_model.add(keras.layers.Dense(100, activation=\"selu\",\n",
    "                                 kernel_initializer=\"lecun_normal\"))\n",
    "selu_model.add(keras.layers.Dense(10, activation=\"softmax\"))"
   ]
  },
  {
   "cell_type": "code",
   "execution_count": 43,
   "metadata": {},
   "outputs": [],
   "source": [
    "selu_model.compile(loss=\"sparse_categorical_crossentropy\",\n",
    "              optimizer=keras.optimizers.SGD(lr=1e-3),\n",
    "              metrics=[\"accuracy\"])"
   ]
  },
  {
   "cell_type": "code",
   "execution_count": 44,
   "metadata": {},
   "outputs": [],
   "source": [
    "# scale inputs with mean = 0, std=1\n",
    "pixel_means = X_train.mean(axis=0, keepdims=True)\n",
    "pixel_stds = X_train.std(axis=0, keepdims=True)\n",
    "X_train_scaled = (X_train - pixel_means) / pixel_stds\n",
    "X_valid_scaled = (X_valid - pixel_means) / pixel_stds\n",
    "X_test_scaled = (X_test - pixel_means) / pixel_stds"
   ]
  },
  {
   "cell_type": "code",
   "execution_count": 45,
   "metadata": {},
   "outputs": [
    {
     "name": "stdout",
     "output_type": "stream",
     "text": [
      "Train on 55000 samples, validate on 5000 samples\n",
      "Epoch 1/5\n",
      "55000/55000 [==============================] - 26s 471us/sample - loss: 1.3391 - accuracy: 0.4796 - val_loss: 0.9248 - val_accuracy: 0.6426\n",
      "Epoch 2/5\n",
      "55000/55000 [==============================] - 31s 564us/sample - loss: 0.8198 - accuracy: 0.6746 - val_loss: 0.7148 - val_accuracy: 0.7134\n",
      "Epoch 3/5\n",
      "55000/55000 [==============================] - 23s 414us/sample - loss: 0.7007 - accuracy: 0.7351 - val_loss: 0.7057 - val_accuracy: 0.7298\n",
      "Epoch 4/5\n",
      "55000/55000 [==============================] - 23s 420us/sample - loss: 0.6198 - accuracy: 0.7727 - val_loss: 0.6032 - val_accuracy: 0.7776\n",
      "Epoch 5/5\n",
      "55000/55000 [==============================] - 23s 414us/sample - loss: 0.5763 - accuracy: 0.7907 - val_loss: 0.5312 - val_accuracy: 0.8056\n"
     ]
    }
   ],
   "source": [
    "selu_history = selu_model.fit(X_train_scaled, y_train, epochs=5,\n",
    "                    validation_data=(X_valid_scaled, y_valid))"
   ]
  },
  {
   "cell_type": "code",
   "execution_count": 48,
   "metadata": {},
   "outputs": [],
   "source": [
    "# Using ReLu for same 100 layer model:\n",
    "relu_model_100 = keras.models.Sequential()\n",
    "relu_model_100.add(keras.layers.Flatten(input_shape=[28, 28]))\n",
    "relu_model_100.add(keras.layers.Dense(300, activation=\"relu\", kernel_initializer=\"he_normal\"))\n",
    "for layer in range(99):\n",
    "    relu_model_100.add(keras.layers.Dense(100, activation=\"relu\", kernel_initializer=\"he_normal\"))\n",
    "relu_model_100.add(keras.layers.Dense(10, activation=\"softmax\"))"
   ]
  },
  {
   "cell_type": "code",
   "execution_count": 49,
   "metadata": {},
   "outputs": [],
   "source": [
    "relu_model_100.compile(loss=\"sparse_categorical_crossentropy\",\n",
    "              optimizer=keras.optimizers.SGD(lr=1e-3),\n",
    "              metrics=[\"accuracy\"])"
   ]
  },
  {
   "cell_type": "code",
   "execution_count": 50,
   "metadata": {},
   "outputs": [
    {
     "name": "stdout",
     "output_type": "stream",
     "text": [
      "Train on 55000 samples, validate on 5000 samples\n",
      "Epoch 1/5\n",
      "55000/55000 [==============================] - 25s 457us/sample - loss: 2.0511 - accuracy: 0.2322 - val_loss: 1.8237 - val_accuracy: 0.3218\n",
      "Epoch 2/5\n",
      "55000/55000 [==============================] - 23s 413us/sample - loss: 1.7187 - accuracy: 0.3333 - val_loss: 1.6078 - val_accuracy: 0.3496\n",
      "Epoch 3/5\n",
      "55000/55000 [==============================] - 23s 417us/sample - loss: 1.2902 - accuracy: 0.4613 - val_loss: 1.6198 - val_accuracy: 0.4464\n",
      "Epoch 4/5\n",
      "55000/55000 [==============================] - 23s 412us/sample - loss: 0.9759 - accuracy: 0.6201 - val_loss: 1.0148 - val_accuracy: 0.6450\n",
      "Epoch 5/5\n",
      "55000/55000 [==============================] - 22s 406us/sample - loss: 0.9369 - accuracy: 0.6366 - val_loss: 0.8888 - val_accuracy: 0.6512\n"
     ]
    }
   ],
   "source": [
    "relu_100_history = relu_model_100.fit(X_train_scaled, y_train, epochs=5,\n",
    "                    validation_data=(X_valid_scaled, y_valid))"
   ]
  },
  {
   "cell_type": "markdown",
   "metadata": {},
   "source": [
    ":/ vanishing gradient for standard ReLu activation function"
   ]
  },
  {
   "cell_type": "markdown",
   "metadata": {},
   "source": [
    "**Batch Normalization**"
   ]
  },
  {
   "cell_type": "code",
   "execution_count": 51,
   "metadata": {},
   "outputs": [],
   "source": [
    "model = keras.models.Sequential([\n",
    "    keras.layers.Flatten(input_shape=[28, 28]),\n",
    "    keras.layers.BatchNormalization(),\n",
    "    keras.layers.Dense(300, activation=\"relu\"),\n",
    "    keras.layers.BatchNormalization(),\n",
    "    keras.layers.Dense(100, activation=\"relu\"),\n",
    "    keras.layers.BatchNormalization(),\n",
    "    keras.layers.Dense(10, activation=\"softmax\")\n",
    "])"
   ]
  },
  {
   "cell_type": "code",
   "execution_count": 52,
   "metadata": {},
   "outputs": [
    {
     "name": "stdout",
     "output_type": "stream",
     "text": [
      "Model: \"sequential_8\"\n",
      "_________________________________________________________________\n",
      "Layer (type)                 Output Shape              Param #   \n",
      "=================================================================\n",
      "flatten_8 (Flatten)          (None, 784)               0         \n",
      "_________________________________________________________________\n",
      "batch_normalization (BatchNo (None, 784)               3136      \n",
      "_________________________________________________________________\n",
      "dense_420 (Dense)            (None, 300)               235500    \n",
      "_________________________________________________________________\n",
      "batch_normalization_1 (Batch (None, 300)               1200      \n",
      "_________________________________________________________________\n",
      "dense_421 (Dense)            (None, 100)               30100     \n",
      "_________________________________________________________________\n",
      "batch_normalization_2 (Batch (None, 100)               400       \n",
      "_________________________________________________________________\n",
      "dense_422 (Dense)            (None, 10)                1010      \n",
      "=================================================================\n",
      "Total params: 271,346\n",
      "Trainable params: 268,978\n",
      "Non-trainable params: 2,368\n",
      "_________________________________________________________________\n"
     ]
    }
   ],
   "source": [
    "model.summary()"
   ]
  },
  {
   "cell_type": "code",
   "execution_count": 53,
   "metadata": {},
   "outputs": [
    {
     "data": {
      "text/plain": [
       "[('batch_normalization/gamma:0', True),\n",
       " ('batch_normalization/beta:0', True),\n",
       " ('batch_normalization/moving_mean:0', False),\n",
       " ('batch_normalization/moving_variance:0', False)]"
      ]
     },
     "execution_count": 53,
     "metadata": {},
     "output_type": "execute_result"
    }
   ],
   "source": [
    "# Parameters for bn layer, 2 are trainable, 2 are not:\n",
    "bn1 = model.layers[1]\n",
    "[(var.name, var.trainable) for var in bn1.variables]\n"
   ]
  },
  {
   "cell_type": "code",
   "execution_count": 54,
   "metadata": {},
   "outputs": [
    {
     "data": {
      "text/plain": [
       "[<tf.Operation 'cond/Identity' type=Identity>,\n",
       " <tf.Operation 'cond_1/Identity' type=Identity>]"
      ]
     },
     "execution_count": 54,
     "metadata": {},
     "output_type": "execute_result"
    }
   ],
   "source": [
    "# These 2 operations will update moving averages\n",
    "bn1.updates"
   ]
  },
  {
   "cell_type": "code",
   "execution_count": 55,
   "metadata": {},
   "outputs": [],
   "source": [
    "model.compile(loss=\"sparse_categorical_crossentropy\",\n",
    "              optimizer=keras.optimizers.SGD(lr=1e-3),\n",
    "              metrics=[\"accuracy\"])"
   ]
  },
  {
   "cell_type": "code",
   "execution_count": 56,
   "metadata": {},
   "outputs": [
    {
     "name": "stdout",
     "output_type": "stream",
     "text": [
      "Train on 55000 samples, validate on 5000 samples\n",
      "Epoch 1/10\n",
      "55000/55000 [==============================] - 9s 162us/sample - loss: 0.8532 - accuracy: 0.7167 - val_loss: 0.5590 - val_accuracy: 0.8078\n",
      "Epoch 2/10\n",
      "55000/55000 [==============================] - 8s 140us/sample - loss: 0.5777 - accuracy: 0.8013 - val_loss: 0.4806 - val_accuracy: 0.8362\n",
      "Epoch 3/10\n",
      "55000/55000 [==============================] - 8s 140us/sample - loss: 0.5155 - accuracy: 0.8210 - val_loss: 0.4443 - val_accuracy: 0.8466\n",
      "Epoch 4/10\n",
      "55000/55000 [==============================] - 8s 148us/sample - loss: 0.4827 - accuracy: 0.8302 - val_loss: 0.4230 - val_accuracy: 0.8550\n",
      "Epoch 5/10\n",
      "55000/55000 [==============================] - 8s 148us/sample - loss: 0.4564 - accuracy: 0.8405 - val_loss: 0.4054 - val_accuracy: 0.8598\n",
      "Epoch 6/10\n",
      "55000/55000 [==============================] - 7s 121us/sample - loss: 0.4431 - accuracy: 0.8442 - val_loss: 0.3918 - val_accuracy: 0.8636\n",
      "Epoch 7/10\n",
      "55000/55000 [==============================] - 6s 105us/sample - loss: 0.4252 - accuracy: 0.8504 - val_loss: 0.3842 - val_accuracy: 0.8656\n",
      "Epoch 8/10\n",
      "55000/55000 [==============================] - 6s 104us/sample - loss: 0.4139 - accuracy: 0.8534 - val_loss: 0.3771 - val_accuracy: 0.8696\n",
      "Epoch 9/10\n",
      "55000/55000 [==============================] - 6s 104us/sample - loss: 0.4018 - accuracy: 0.8594 - val_loss: 0.3691 - val_accuracy: 0.8720\n",
      "Epoch 10/10\n",
      "55000/55000 [==============================] - 6s 106us/sample - loss: 0.3925 - accuracy: 0.8605 - val_loss: 0.3635 - val_accuracy: 0.8754\n"
     ]
    }
   ],
   "source": [
    "history = model.fit(X_train, y_train, epochs=10,\n",
    "                    validation_data=(X_valid, y_valid))"
   ]
  },
  {
   "cell_type": "markdown",
   "metadata": {},
   "source": [
    "Sometimes applying BN before the activation function works better (there's a debate on this topic). Moreover, the layer before a BatchNormalization layer does not need to have bias terms, since the BatchNormalization layer some as well, it would be a waste of parameters, so you can set use_bias=False when creating those layers:"
   ]
  },
  {
   "cell_type": "code",
   "execution_count": 57,
   "metadata": {},
   "outputs": [],
   "source": [
    "model = keras.models.Sequential([\n",
    "    keras.layers.Flatten(input_shape=[28, 28]),\n",
    "    keras.layers.BatchNormalization(),\n",
    "    keras.layers.Dense(300, use_bias=False),\n",
    "    keras.layers.BatchNormalization(),\n",
    "    keras.layers.Activation(\"relu\"),\n",
    "    keras.layers.Dense(100, use_bias=False),\n",
    "    keras.layers.BatchNormalization(),\n",
    "    keras.layers.Activation(\"relu\"),\n",
    "    keras.layers.Dense(10, activation=\"softmax\")\n",
    "])"
   ]
  },
  {
   "cell_type": "code",
   "execution_count": 58,
   "metadata": {},
   "outputs": [],
   "source": [
    "model.compile(loss=\"sparse_categorical_crossentropy\",\n",
    "              optimizer=keras.optimizers.SGD(lr=1e-3),\n",
    "              metrics=[\"accuracy\"])"
   ]
  },
  {
   "cell_type": "code",
   "execution_count": 59,
   "metadata": {},
   "outputs": [
    {
     "name": "stdout",
     "output_type": "stream",
     "text": [
      "Train on 55000 samples, validate on 5000 samples\n",
      "Epoch 1/10\n",
      "55000/55000 [==============================] - 6s 116us/sample - loss: 1.0956 - accuracy: 0.6543 - val_loss: 0.6888 - val_accuracy: 0.7820\n",
      "Epoch 2/10\n",
      "55000/55000 [==============================] - 5s 98us/sample - loss: 0.6892 - accuracy: 0.7781 - val_loss: 0.5594 - val_accuracy: 0.8210\n",
      "Epoch 3/10\n",
      "55000/55000 [==============================] - 5s 100us/sample - loss: 0.5993 - accuracy: 0.8037 - val_loss: 0.5028 - val_accuracy: 0.8362\n",
      "Epoch 4/10\n",
      "55000/55000 [==============================] - 6s 100us/sample - loss: 0.5513 - accuracy: 0.8155 - val_loss: 0.4671 - val_accuracy: 0.8468\n",
      "Epoch 5/10\n",
      "55000/55000 [==============================] - 6s 102us/sample - loss: 0.5184 - accuracy: 0.8243 - val_loss: 0.4451 - val_accuracy: 0.8532\n",
      "Epoch 6/10\n",
      "55000/55000 [==============================] - 6s 101us/sample - loss: 0.4962 - accuracy: 0.8305 - val_loss: 0.4282 - val_accuracy: 0.8554\n",
      "Epoch 7/10\n",
      "55000/55000 [==============================] - 6s 101us/sample - loss: 0.4792 - accuracy: 0.8353 - val_loss: 0.4132 - val_accuracy: 0.8600\n",
      "Epoch 8/10\n",
      "55000/55000 [==============================] - 5s 96us/sample - loss: 0.4622 - accuracy: 0.8411 - val_loss: 0.4016 - val_accuracy: 0.8658\n",
      "Epoch 9/10\n",
      "55000/55000 [==============================] - 5s 95us/sample - loss: 0.4495 - accuracy: 0.8442 - val_loss: 0.3925 - val_accuracy: 0.8660\n",
      "Epoch 10/10\n",
      "55000/55000 [==============================] - 5s 95us/sample - loss: 0.4360 - accuracy: 0.8487 - val_loss: 0.3854 - val_accuracy: 0.8676\n"
     ]
    }
   ],
   "source": [
    "history = model.fit(X_train, y_train, epochs=10,\n",
    "                    validation_data=(X_valid, y_valid))"
   ]
  },
  {
   "cell_type": "markdown",
   "metadata": {},
   "source": [
    "**Gradient Clipping**"
   ]
  },
  {
   "cell_type": "code",
   "execution_count": 61,
   "metadata": {},
   "outputs": [],
   "source": [
    "optimizer = keras.optimizers.SGD(clipvalue=1.0) # can change orientation of the gradient\n",
    "optimizer_2 = keras.optimizers.SGD(clipnorm=1.0) # preserves orientation of the gradient"
   ]
  },
  {
   "cell_type": "markdown",
   "metadata": {},
   "source": [
    "**Reusing Pretrained Layers**"
   ]
  },
  {
   "cell_type": "markdown",
   "metadata": {},
   "source": [
    "Let's split the fashion MNIST training set in two:\n",
    "* `X_train_A`: all images of all items except for sandals and shirts (classes 5 and 6).\n",
    "* `X_train_B`: a much smaller training set of just the first 200 images of sandals or shirts.\n",
    "\n",
    "The validation set and the test set are also split this way, but without restricting the number of images.\n",
    "\n",
    "We will train a model on set A (classification task with 8 classes), and try to reuse it to tackle set B (binary classification). We hope to transfer a little bit of knowledge from task A to task B, since classes in set A (sneakers, ankle boots, coats, t-shirts, etc.) are somewhat similar to classes in set B (sandals and shirts). However, since we are using `Dense` layers, only patterns that occur at the same location can be reused (in contrast, convolutional layers will transfer much better, since learned patterns can be detected anywhere on the image, as we will see in the CNN chapter)."
   ]
  },
  {
   "cell_type": "markdown",
   "metadata": {},
   "source": [
    "Transfer Learning with Keras"
   ]
  },
  {
   "cell_type": "code",
   "execution_count": 62,
   "metadata": {},
   "outputs": [],
   "source": [
    "def split_dataset(X, y):\n",
    "    y_5_or_6 = (y == 5) | (y == 6) # sandals or shirts\n",
    "    y_A = y[~y_5_or_6]\n",
    "    y_A[y_A > 6] -= 2 # class indices 7, 8, 9 should be moved to 5, 6, 7\n",
    "    y_B = (y[y_5_or_6] == 6).astype(np.float32) # binary classification task: is it a shirt (class 6)?\n",
    "    return ((X[~y_5_or_6], y_A),\n",
    "            (X[y_5_or_6], y_B))\n",
    "\n",
    "(X_train_A, y_train_A), (X_train_B, y_train_B) = split_dataset(X_train, y_train)\n",
    "(X_valid_A, y_valid_A), (X_valid_B, y_valid_B) = split_dataset(X_valid, y_valid)\n",
    "(X_test_A, y_test_A), (X_test_B, y_test_B) = split_dataset(X_test, y_test)\n",
    "X_train_B = X_train_B[:200]\n",
    "y_train_B = y_train_B[:200]"
   ]
  },
  {
   "cell_type": "code",
   "execution_count": 64,
   "metadata": {},
   "outputs": [
    {
     "data": {
      "text/plain": [
       "((43986, 28, 28), (200, 28, 28))"
      ]
     },
     "execution_count": 64,
     "metadata": {},
     "output_type": "execute_result"
    }
   ],
   "source": [
    "X_train_A.shape, X_train_B.shape"
   ]
  },
  {
   "cell_type": "code",
   "execution_count": 65,
   "metadata": {},
   "outputs": [
    {
     "data": {
      "text/plain": [
       "(array([4, 0, 5, 7, 7, 7, 4, 4, 3, 4, 0, 1, 6, 3, 4, 3, 2, 6, 5, 3, 4, 5,\n",
       "        1, 3, 4, 2, 0, 6, 7, 1], dtype=uint8),\n",
       " array([1., 1., 0., 0., 0., 0., 1., 1., 1., 0., 0., 1., 1., 0., 0., 0., 0.,\n",
       "        0., 0., 1., 1., 0., 0., 1., 1., 0., 1., 1., 1., 1.], dtype=float32))"
      ]
     },
     "execution_count": 65,
     "metadata": {},
     "output_type": "execute_result"
    }
   ],
   "source": [
    "y_train_A[:30], y_train_B[:30]"
   ]
  },
  {
   "cell_type": "code",
   "execution_count": 66,
   "metadata": {},
   "outputs": [],
   "source": [
    "model_A = keras.models.Sequential()\n",
    "model_A.add(keras.layers.Flatten(input_shape=[28, 28]))\n",
    "for n_hidden in (300, 100, 50, 50, 50):\n",
    "    model_A.add(keras.layers.Dense(n_hidden, activation=\"selu\"))\n",
    "model_A.add(keras.layers.Dense(8, activation=\"softmax\"))"
   ]
  },
  {
   "cell_type": "code",
   "execution_count": 67,
   "metadata": {},
   "outputs": [],
   "source": [
    "model_A.compile(loss=\"sparse_categorical_crossentropy\",\n",
    "                optimizer=keras.optimizers.SGD(lr=1e-3),\n",
    "                metrics=[\"accuracy\"])"
   ]
  },
  {
   "cell_type": "code",
   "execution_count": 68,
   "metadata": {},
   "outputs": [
    {
     "name": "stdout",
     "output_type": "stream",
     "text": [
      "Train on 43986 samples, validate on 4014 samples\n",
      "Epoch 1/20\n",
      "43986/43986 [==============================] - 4s 90us/sample - loss: 0.5977 - accuracy: 0.8093 - val_loss: 0.4005 - val_accuracy: 0.8615\n",
      "Epoch 2/20\n",
      "43986/43986 [==============================] - 5s 103us/sample - loss: 0.3585 - accuracy: 0.8791 - val_loss: 0.3374 - val_accuracy: 0.8847\n",
      "Epoch 3/20\n",
      "43986/43986 [==============================] - 5s 107us/sample - loss: 0.3212 - accuracy: 0.8910 - val_loss: 0.3096 - val_accuracy: 0.8961\n",
      "Epoch 4/20\n",
      "43986/43986 [==============================] - 5s 113us/sample - loss: 0.3008 - accuracy: 0.8968 - val_loss: 0.2972 - val_accuracy: 0.9003\n",
      "Epoch 5/20\n",
      "43986/43986 [==============================] - 5s 107us/sample - loss: 0.2870 - accuracy: 0.9017 - val_loss: 0.2868 - val_accuracy: 0.9028\n",
      "Epoch 6/20\n",
      "43986/43986 [==============================] - 5s 104us/sample - loss: 0.2769 - accuracy: 0.9061 - val_loss: 0.2764 - val_accuracy: 0.9086\n",
      "Epoch 7/20\n",
      "43986/43986 [==============================] - 5s 105us/sample - loss: 0.2691 - accuracy: 0.9082 - val_loss: 0.2722 - val_accuracy: 0.9066\n",
      "Epoch 8/20\n",
      "43986/43986 [==============================] - 5s 110us/sample - loss: 0.2624 - accuracy: 0.9100 - val_loss: 0.2677 - val_accuracy: 0.9096\n",
      "Epoch 9/20\n",
      "43986/43986 [==============================] - 5s 107us/sample - loss: 0.2566 - accuracy: 0.9124 - val_loss: 0.2696 - val_accuracy: 0.9086\n",
      "Epoch 10/20\n",
      "43986/43986 [==============================] - 5s 105us/sample - loss: 0.2518 - accuracy: 0.9141 - val_loss: 0.2621 - val_accuracy: 0.9098\n",
      "Epoch 11/20\n",
      "43986/43986 [==============================] - 5s 103us/sample - loss: 0.2474 - accuracy: 0.9160 - val_loss: 0.2632 - val_accuracy: 0.9063\n",
      "Epoch 12/20\n",
      "43986/43986 [==============================] - 4s 81us/sample - loss: 0.2433 - accuracy: 0.9176 - val_loss: 0.2567 - val_accuracy: 0.9128\n",
      "Epoch 13/20\n",
      "43986/43986 [==============================] - 4s 82us/sample - loss: 0.2402 - accuracy: 0.9187 - val_loss: 0.2510 - val_accuracy: 0.9141\n",
      "Epoch 14/20\n",
      "43986/43986 [==============================] - 4s 82us/sample - loss: 0.2360 - accuracy: 0.9197 - val_loss: 0.2506 - val_accuracy: 0.9143\n",
      "Epoch 15/20\n",
      "43986/43986 [==============================] - 4s 89us/sample - loss: 0.2333 - accuracy: 0.9206 - val_loss: 0.2458 - val_accuracy: 0.9173\n",
      "Epoch 16/20\n",
      "43986/43986 [==============================] - 4s 83us/sample - loss: 0.2303 - accuracy: 0.9214 - val_loss: 0.2483 - val_accuracy: 0.9148\n",
      "Epoch 17/20\n",
      "43986/43986 [==============================] - 5s 109us/sample - loss: 0.2273 - accuracy: 0.9218 - val_loss: 0.2476 - val_accuracy: 0.9155\n",
      "Epoch 18/20\n",
      "43986/43986 [==============================] - 5s 112us/sample - loss: 0.2246 - accuracy: 0.9235 - val_loss: 0.2450 - val_accuracy: 0.9168\n",
      "Epoch 19/20\n",
      "43986/43986 [==============================] - 5s 105us/sample - loss: 0.2218 - accuracy: 0.9234 - val_loss: 0.2486 - val_accuracy: 0.9108\n",
      "Epoch 20/20\n",
      "43986/43986 [==============================] - 5s 105us/sample - loss: 0.2198 - accuracy: 0.9240 - val_loss: 0.2390 - val_accuracy: 0.9180\n"
     ]
    }
   ],
   "source": [
    "history = model_A.fit(X_train_A, y_train_A, epochs=20,\n",
    "                    validation_data=(X_valid_A, y_valid_A))"
   ]
  },
  {
   "cell_type": "code",
   "execution_count": 69,
   "metadata": {},
   "outputs": [],
   "source": [
    "model_A.save(\"my_model_A.h5\")"
   ]
  },
  {
   "cell_type": "code",
   "execution_count": 70,
   "metadata": {},
   "outputs": [],
   "source": [
    "model_B = keras.models.Sequential()\n",
    "model_B.add(keras.layers.Flatten(input_shape=[28, 28]))\n",
    "for n_hidden in (300, 100, 50, 50, 50):\n",
    "    model_B.add(keras.layers.Dense(n_hidden, activation=\"selu\"))\n",
    "model_B.add(keras.layers.Dense(1, activation=\"sigmoid\"))"
   ]
  },
  {
   "cell_type": "code",
   "execution_count": 71,
   "metadata": {},
   "outputs": [],
   "source": [
    "model_B.compile(loss=\"binary_crossentropy\",\n",
    "                optimizer=keras.optimizers.SGD(lr=1e-3),\n",
    "                metrics=[\"accuracy\"])"
   ]
  },
  {
   "cell_type": "code",
   "execution_count": 72,
   "metadata": {},
   "outputs": [
    {
     "name": "stdout",
     "output_type": "stream",
     "text": [
      "Train on 200 samples, validate on 986 samples\n",
      "Epoch 1/20\n",
      "200/200 [==============================] - 1s 3ms/sample - loss: 0.7436 - accuracy: 0.5250 - val_loss: 0.5966 - val_accuracy: 0.6826\n",
      "Epoch 2/20\n",
      "200/200 [==============================] - 0s 506us/sample - loss: 0.5300 - accuracy: 0.7450 - val_loss: 0.4596 - val_accuracy: 0.8377\n",
      "Epoch 3/20\n",
      "200/200 [==============================] - 0s 499us/sample - loss: 0.4094 - accuracy: 0.8550 - val_loss: 0.3748 - val_accuracy: 0.8925\n",
      "Epoch 4/20\n",
      "200/200 [==============================] - 0s 490us/sample - loss: 0.3322 - accuracy: 0.9250 - val_loss: 0.3199 - val_accuracy: 0.9199\n",
      "Epoch 5/20\n",
      "200/200 [==============================] - 0s 494us/sample - loss: 0.2798 - accuracy: 0.9550 - val_loss: 0.2809 - val_accuracy: 0.9412\n",
      "Epoch 6/20\n",
      "200/200 [==============================] - 0s 479us/sample - loss: 0.2421 - accuracy: 0.9750 - val_loss: 0.2501 - val_accuracy: 0.9523\n",
      "Epoch 7/20\n",
      "200/200 [==============================] - 0s 491us/sample - loss: 0.2140 - accuracy: 0.9750 - val_loss: 0.2268 - val_accuracy: 0.9594\n",
      "Epoch 8/20\n",
      "200/200 [==============================] - 0s 480us/sample - loss: 0.1914 - accuracy: 0.9850 - val_loss: 0.2079 - val_accuracy: 0.9625\n",
      "Epoch 9/20\n",
      "200/200 [==============================] - 0s 506us/sample - loss: 0.1736 - accuracy: 0.9900 - val_loss: 0.1916 - val_accuracy: 0.9675\n",
      "Epoch 10/20\n",
      "200/200 [==============================] - 0s 623us/sample - loss: 0.1579 - accuracy: 0.9900 - val_loss: 0.1784 - val_accuracy: 0.9686\n",
      "Epoch 11/20\n",
      "200/200 [==============================] - 0s 489us/sample - loss: 0.1454 - accuracy: 0.9900 - val_loss: 0.1673 - val_accuracy: 0.9696\n",
      "Epoch 12/20\n",
      "200/200 [==============================] - 0s 487us/sample - loss: 0.1345 - accuracy: 0.9950 - val_loss: 0.1571 - val_accuracy: 0.9716\n",
      "Epoch 13/20\n",
      "200/200 [==============================] - 0s 479us/sample - loss: 0.1244 - accuracy: 0.9950 - val_loss: 0.1487 - val_accuracy: 0.9746\n",
      "Epoch 14/20\n",
      "200/200 [==============================] - 0s 484us/sample - loss: 0.1163 - accuracy: 0.9950 - val_loss: 0.1414 - val_accuracy: 0.9757\n",
      "Epoch 15/20\n",
      "200/200 [==============================] - 0s 474us/sample - loss: 0.1093 - accuracy: 0.9950 - val_loss: 0.1356 - val_accuracy: 0.9767\n",
      "Epoch 16/20\n",
      "200/200 [==============================] - 0s 489us/sample - loss: 0.1030 - accuracy: 0.9950 - val_loss: 0.1300 - val_accuracy: 0.9767\n",
      "Epoch 17/20\n",
      "200/200 [==============================] - 0s 479us/sample - loss: 0.0976 - accuracy: 0.9950 - val_loss: 0.1246 - val_accuracy: 0.9767\n",
      "Epoch 18/20\n",
      "200/200 [==============================] - 0s 494us/sample - loss: 0.0925 - accuracy: 0.9950 - val_loss: 0.1200 - val_accuracy: 0.9797\n",
      "Epoch 19/20\n",
      "200/200 [==============================] - 0s 509us/sample - loss: 0.0880 - accuracy: 0.9950 - val_loss: 0.1159 - val_accuracy: 0.9797\n",
      "Epoch 20/20\n",
      "200/200 [==============================] - 0s 474us/sample - loss: 0.0839 - accuracy: 0.9950 - val_loss: 0.1120 - val_accuracy: 0.9817\n"
     ]
    }
   ],
   "source": [
    "history = model_B.fit(X_train_B, y_train_B, epochs=20,\n",
    "                      validation_data=(X_valid_B, y_valid_B))"
   ]
  },
  {
   "cell_type": "code",
   "execution_count": 73,
   "metadata": {},
   "outputs": [
    {
     "name": "stdout",
     "output_type": "stream",
     "text": [
      "Model: \"sequential_9\"\n",
      "_________________________________________________________________\n",
      "Layer (type)                 Output Shape              Param #   \n",
      "=================================================================\n",
      "flatten_9 (Flatten)          (None, 784)               0         \n",
      "_________________________________________________________________\n",
      "batch_normalization_3 (Batch (None, 784)               3136      \n",
      "_________________________________________________________________\n",
      "dense_423 (Dense)            (None, 300)               235200    \n",
      "_________________________________________________________________\n",
      "batch_normalization_4 (Batch (None, 300)               1200      \n",
      "_________________________________________________________________\n",
      "activation (Activation)      (None, 300)               0         \n",
      "_________________________________________________________________\n",
      "dense_424 (Dense)            (None, 100)               30000     \n",
      "_________________________________________________________________\n",
      "batch_normalization_5 (Batch (None, 100)               400       \n",
      "_________________________________________________________________\n",
      "activation_1 (Activation)    (None, 100)               0         \n",
      "_________________________________________________________________\n",
      "dense_425 (Dense)            (None, 10)                1010      \n",
      "=================================================================\n",
      "Total params: 270,946\n",
      "Trainable params: 268,578\n",
      "Non-trainable params: 2,368\n",
      "_________________________________________________________________\n"
     ]
    }
   ],
   "source": [
    "model.summary()"
   ]
  },
  {
   "cell_type": "code",
   "execution_count": 74,
   "metadata": {},
   "outputs": [],
   "source": [
    "# Load model A, get rid of to layer, add 1 layer on top of it\n",
    "model_A = keras.models.load_model(\"my_model_A.h5\")\n",
    "model_B_on_A = keras.models.Sequential(model_A.layers[:-1])\n",
    "model_B_on_A.add(keras.layers.Dense(1, activation=\"sigmoid\"))"
   ]
  },
  {
   "cell_type": "code",
   "execution_count": 76,
   "metadata": {},
   "outputs": [],
   "source": [
    "# we need to clone model_A, its layers are now shared with model_B_on_A\n",
    "model_A_clone = keras.models.clone_model(model_A)\n",
    "# copy the weights, since clone() doesn't copy them\n",
    "model_A_clone.set_weights(model_A.get_weights())"
   ]
  },
  {
   "cell_type": "code",
   "execution_count": 77,
   "metadata": {},
   "outputs": [],
   "source": [
    "for layer in model_B_on_A.layers[:-1]:\n",
    "    layer.trainable = False\n",
    "\n",
    "model_B_on_A.compile(loss=\"binary_crossentropy\",\n",
    "                     optimizer=keras.optimizers.SGD(lr=1e-3),\n",
    "                     metrics=[\"accuracy\"])"
   ]
  },
  {
   "cell_type": "code",
   "execution_count": 78,
   "metadata": {},
   "outputs": [
    {
     "name": "stdout",
     "output_type": "stream",
     "text": [
      "Train on 200 samples, validate on 986 samples\n",
      "Epoch 1/4\n",
      "200/200 [==============================] - 0s 2ms/sample - loss: 1.0941 - accuracy: 0.4600 - val_loss: 1.0529 - val_accuracy: 0.4300\n",
      "Epoch 2/4\n",
      "200/200 [==============================] - 0s 439us/sample - loss: 1.0031 - accuracy: 0.4800 - val_loss: 0.9705 - val_accuracy: 0.4635\n",
      "Epoch 3/4\n",
      "200/200 [==============================] - 0s 444us/sample - loss: 0.9206 - accuracy: 0.4950 - val_loss: 0.8931 - val_accuracy: 0.4888\n",
      "Epoch 4/4\n",
      "200/200 [==============================] - 0s 474us/sample - loss: 0.8431 - accuracy: 0.5350 - val_loss: 0.8200 - val_accuracy: 0.5172\n",
      "Train on 200 samples, validate on 986 samples\n",
      "Epoch 1/16\n",
      "200/200 [==============================] - 1s 3ms/sample - loss: 0.6227 - accuracy: 0.6250 - val_loss: 0.4706 - val_accuracy: 0.7383\n",
      "Epoch 2/16\n",
      "200/200 [==============================] - 0s 578us/sample - loss: 0.3683 - accuracy: 0.8500 - val_loss: 0.3334 - val_accuracy: 0.8702\n",
      "Epoch 3/16\n",
      "200/200 [==============================] - 0s 509us/sample - loss: 0.2589 - accuracy: 0.9300 - val_loss: 0.2606 - val_accuracy: 0.9320\n",
      "Epoch 4/16\n",
      "200/200 [==============================] - 0s 479us/sample - loss: 0.1987 - accuracy: 0.9750 - val_loss: 0.2121 - val_accuracy: 0.9594\n",
      "Epoch 5/16\n",
      "200/200 [==============================] - 0s 504us/sample - loss: 0.1576 - accuracy: 0.9900 - val_loss: 0.1778 - val_accuracy: 0.9746\n",
      "Epoch 6/16\n",
      "200/200 [==============================] - 0s 518us/sample - loss: 0.1293 - accuracy: 0.9900 - val_loss: 0.1565 - val_accuracy: 0.9807\n",
      "Epoch 7/16\n",
      "200/200 [==============================] - 0s 454us/sample - loss: 0.1112 - accuracy: 1.0000 - val_loss: 0.1392 - val_accuracy: 0.9828\n",
      "Epoch 8/16\n",
      "200/200 [==============================] - 0s 459us/sample - loss: 0.0966 - accuracy: 1.0000 - val_loss: 0.1257 - val_accuracy: 0.9848\n",
      "Epoch 9/16\n",
      "200/200 [==============================] - 0s 469us/sample - loss: 0.0852 - accuracy: 1.0000 - val_loss: 0.1156 - val_accuracy: 0.9858\n",
      "Epoch 10/16\n",
      "200/200 [==============================] - 0s 484us/sample - loss: 0.0767 - accuracy: 1.0000 - val_loss: 0.1073 - val_accuracy: 0.9868\n",
      "Epoch 11/16\n",
      "200/200 [==============================] - 0s 487us/sample - loss: 0.0696 - accuracy: 1.0000 - val_loss: 0.1000 - val_accuracy: 0.9878\n",
      "Epoch 12/16\n",
      "200/200 [==============================] - 0s 482us/sample - loss: 0.0635 - accuracy: 1.0000 - val_loss: 0.0944 - val_accuracy: 0.9888\n",
      "Epoch 13/16\n",
      "200/200 [==============================] - 0s 549us/sample - loss: 0.0587 - accuracy: 1.0000 - val_loss: 0.0892 - val_accuracy: 0.9888\n",
      "Epoch 14/16\n",
      "200/200 [==============================] - 0s 501us/sample - loss: 0.0543 - accuracy: 1.0000 - val_loss: 0.0846 - val_accuracy: 0.9888\n",
      "Epoch 15/16\n",
      "200/200 [==============================] - 0s 497us/sample - loss: 0.0504 - accuracy: 1.0000 - val_loss: 0.0807 - val_accuracy: 0.9888\n",
      "Epoch 16/16\n",
      "200/200 [==============================] - 0s 524us/sample - loss: 0.0472 - accuracy: 1.0000 - val_loss: 0.0774 - val_accuracy: 0.9888\n"
     ]
    }
   ],
   "source": [
    "history = model_B_on_A.fit(X_train_B, y_train_B, epochs=4,\n",
    "                           validation_data=(X_valid_B, y_valid_B))\n",
    "\n",
    "for layer in model_B_on_A.layers[:-1]:\n",
    "    layer.trainable = True\n",
    "\n",
    "model_B_on_A.compile(loss=\"binary_crossentropy\",\n",
    "                     optimizer=keras.optimizers.SGD(lr=1e-3),\n",
    "                     metrics=[\"accuracy\"])\n",
    "history = model_B_on_A.fit(X_train_B, y_train_B, epochs=16,\n",
    "                           validation_data=(X_valid_B, y_valid_B))"
   ]
  },
  {
   "cell_type": "code",
   "execution_count": 84,
   "metadata": {},
   "outputs": [
    {
     "name": "stdout",
     "output_type": "stream",
     "text": [
      "2000/2000 [==============================] - 0s 51us/sample - loss: 0.1098 - accuracy: 0.9790\n",
      "2000/2000 [==============================] - 0s 53us/sample - loss: 0.0708 - accuracy: 0.9920\n",
      "model_B_eval: [0.10978321135044097, 0.979], model_B_on_A_eval:[0.07078160172700881, 0.992]\n",
      "improvement: 2.6249981373586255 times\n"
     ]
    }
   ],
   "source": [
    "model_B_eval = model_B.evaluate(X_test_B, y_test_B)\n",
    "\n",
    "model_B_on_A_eval = model_B_on_A.evaluate(X_test_B, y_test_B)\n",
    "\n",
    "print(f'model_B_eval: {model_B_eval}, model_B_on_A_eval:{model_B_on_A_eval}')\n",
    "print(f'improvement: {(1-model_B_eval[1]) / (1-model_B_on_A_eval[1])} times')\n"
   ]
  },
  {
   "cell_type": "markdown",
   "metadata": {},
   "source": [
    "**Faster Optimizers**"
   ]
  },
  {
   "cell_type": "code",
   "execution_count": 85,
   "metadata": {},
   "outputs": [],
   "source": [
    "#Momentum optimization\n",
    "momentum_optimizer = keras.optimizers.SGD(lr=0.001, momentum=0.9)\n",
    "\n",
    "#Nesterov Accelerated Gradient\n",
    "nesterov_optimizer = keras.optimizers.SGD(lr=0.001, momentum=0.9, nesterov=True)\n",
    "\n",
    "#AdaGrad\n",
    "adagrad_optimizer = keras.optimizers.Adagrad(lr=0.001)\n",
    "\n",
    "#RMSProp\n",
    "rmsprop_optimizer = keras.optimizers.RMSprop(lr=0.001, rho=0.9)\n",
    "\n",
    "#Adam Optimization\n",
    "adam_optimizer = keras.optimizers.Adam(lr=0.001, beta_1=0.9, beta_2=0.999)\n",
    "\n",
    "#Adamax Optimization\n",
    "adamax_optimizer = keras.optimizers.Adamax(lr=0.001, beta_1=0.9, beta_2=0.999)\n",
    "\n",
    "#Nadam Optimization\n",
    "nadam_optimizer = keras.optimizers.Nadam(lr=0.001, beta_1=0.9, beta_2=0.999)\n"
   ]
  },
  {
   "cell_type": "markdown",
   "metadata": {},
   "source": [
    "**Learning Rate Scheduling**"
   ]
  },
  {
   "cell_type": "markdown",
   "metadata": {},
   "source": [
    "*Power Scheduling*\n",
    "\n",
    "Power Scheduling\n",
    "\n",
    "lr = lr0 / (1 + steps / s)**c\n",
    "\n",
    " Keras uses c=1 and s = 1 / decay"
   ]
  },
  {
   "cell_type": "code",
   "execution_count": 86,
   "metadata": {},
   "outputs": [],
   "source": [
    "optimizer = keras.optimizers.SGD(lr=0.01, decay=1e-4)"
   ]
  },
  {
   "cell_type": "code",
   "execution_count": 87,
   "metadata": {},
   "outputs": [
    {
     "name": "stdout",
     "output_type": "stream",
     "text": [
      "Train on 55000 samples, validate on 5000 samples\n",
      "Epoch 1/25\n",
      "55000/55000 [==============================] - 4s 72us/sample - loss: 0.4863 - accuracy: 0.8299 - val_loss: 0.4118 - val_accuracy: 0.8552\n",
      "Epoch 2/25\n",
      "55000/55000 [==============================] - 4s 68us/sample - loss: 0.3822 - accuracy: 0.8646 - val_loss: 0.3763 - val_accuracy: 0.8670\n",
      "Epoch 3/25\n",
      "55000/55000 [==============================] - 4s 68us/sample - loss: 0.3489 - accuracy: 0.8765 - val_loss: 0.3644 - val_accuracy: 0.8734\n",
      "Epoch 4/25\n",
      "55000/55000 [==============================] - 4s 68us/sample - loss: 0.3273 - accuracy: 0.8842 - val_loss: 0.3485 - val_accuracy: 0.8806\n",
      "Epoch 5/25\n",
      "55000/55000 [==============================] - 4s 71us/sample - loss: 0.3105 - accuracy: 0.8890 - val_loss: 0.3464 - val_accuracy: 0.8812\n",
      "Epoch 6/25\n",
      "55000/55000 [==============================] - 4s 74us/sample - loss: 0.2973 - accuracy: 0.8939 - val_loss: 0.3390 - val_accuracy: 0.8834\n",
      "Epoch 7/25\n",
      "55000/55000 [==============================] - 4s 77us/sample - loss: 0.2863 - accuracy: 0.8984 - val_loss: 0.3355 - val_accuracy: 0.8826\n",
      "Epoch 8/25\n",
      "55000/55000 [==============================] - 4s 67us/sample - loss: 0.2776 - accuracy: 0.9008 - val_loss: 0.3323 - val_accuracy: 0.8842\n",
      "Epoch 9/25\n",
      "55000/55000 [==============================] - 4s 65us/sample - loss: 0.2695 - accuracy: 0.9034 - val_loss: 0.3309 - val_accuracy: 0.8852\n",
      "Epoch 10/25\n",
      "55000/55000 [==============================] - 4s 69us/sample - loss: 0.2623 - accuracy: 0.9068 - val_loss: 0.3269 - val_accuracy: 0.8846\n",
      "Epoch 11/25\n",
      "55000/55000 [==============================] - 5s 98us/sample - loss: 0.2566 - accuracy: 0.9096 - val_loss: 0.3298 - val_accuracy: 0.8868\n",
      "Epoch 12/25\n",
      "55000/55000 [==============================] - 5s 97us/sample - loss: 0.2502 - accuracy: 0.9113 - val_loss: 0.3265 - val_accuracy: 0.8876\n",
      "Epoch 13/25\n",
      "55000/55000 [==============================] - 5s 98us/sample - loss: 0.2453 - accuracy: 0.9127 - val_loss: 0.3276 - val_accuracy: 0.8886\n",
      "Epoch 14/25\n",
      "55000/55000 [==============================] - 5s 95us/sample - loss: 0.2409 - accuracy: 0.9146 - val_loss: 0.3280 - val_accuracy: 0.8870\n",
      "Epoch 15/25\n",
      "55000/55000 [==============================] - 5s 95us/sample - loss: 0.2361 - accuracy: 0.9165 - val_loss: 0.3257 - val_accuracy: 0.8860\n",
      "Epoch 16/25\n",
      "55000/55000 [==============================] - 5s 96us/sample - loss: 0.2319 - accuracy: 0.9188 - val_loss: 0.3233 - val_accuracy: 0.8874\n",
      "Epoch 17/25\n",
      "55000/55000 [==============================] - 5s 96us/sample - loss: 0.2283 - accuracy: 0.9199 - val_loss: 0.3217 - val_accuracy: 0.8882\n",
      "Epoch 18/25\n",
      "55000/55000 [==============================] - 5s 96us/sample - loss: 0.2248 - accuracy: 0.9211 - val_loss: 0.3205 - val_accuracy: 0.8874\n",
      "Epoch 19/25\n",
      "55000/55000 [==============================] - 5s 97us/sample - loss: 0.2218 - accuracy: 0.9217 - val_loss: 0.3208 - val_accuracy: 0.8892\n",
      "Epoch 20/25\n",
      "55000/55000 [==============================] - 5s 95us/sample - loss: 0.2183 - accuracy: 0.9234 - val_loss: 0.3209 - val_accuracy: 0.8862\n",
      "Epoch 21/25\n",
      "55000/55000 [==============================] - 5s 94us/sample - loss: 0.2154 - accuracy: 0.9249 - val_loss: 0.3278 - val_accuracy: 0.8874\n",
      "Epoch 22/25\n",
      "55000/55000 [==============================] - 5s 94us/sample - loss: 0.2125 - accuracy: 0.9249 - val_loss: 0.3179 - val_accuracy: 0.8884\n",
      "Epoch 23/25\n",
      "55000/55000 [==============================] - 5s 94us/sample - loss: 0.2100 - accuracy: 0.9266 - val_loss: 0.3218 - val_accuracy: 0.8862\n",
      "Epoch 24/25\n",
      "55000/55000 [==============================] - 5s 94us/sample - loss: 0.2072 - accuracy: 0.9275 - val_loss: 0.3244 - val_accuracy: 0.8882\n",
      "Epoch 25/25\n",
      "55000/55000 [==============================] - 5s 95us/sample - loss: 0.2051 - accuracy: 0.9283 - val_loss: 0.3224 - val_accuracy: 0.8888\n"
     ]
    }
   ],
   "source": [
    "model = keras.models.Sequential([\n",
    "    keras.layers.Flatten(input_shape=[28, 28]),\n",
    "    keras.layers.Dense(300, activation=\"selu\", kernel_initializer=\"lecun_normal\"),\n",
    "    keras.layers.Dense(100, activation=\"selu\", kernel_initializer=\"lecun_normal\"),\n",
    "    keras.layers.Dense(10, activation=\"softmax\")\n",
    "])\n",
    "model.compile(loss=\"sparse_categorical_crossentropy\", optimizer=optimizer, metrics=[\"accuracy\"])\n",
    "\n",
    "n_epochs = 25\n",
    "history = model.fit(X_train_scaled, y_train, epochs=n_epochs,\n",
    "                    validation_data=(X_valid_scaled, y_valid))\n",
    "\n"
   ]
  },
  {
   "cell_type": "code",
   "execution_count": 88,
   "metadata": {},
   "outputs": [
    {
     "data": {
      "image/png": "[encoded data removed]",
      "text/plain": [
       "<Figure size 432x288 with 1 Axes>"
      ]
     },
     "metadata": {
      "needs_background": "light"
     },
     "output_type": "display_data"
    }
   ],
   "source": [
    "learning_rate = 0.01\n",
    "decay = 1e-4\n",
    "batch_size = 32\n",
    "n_steps_per_epoch = len(X_train) // batch_size\n",
    "epochs = np.arange(n_epochs)\n",
    "lrs = learning_rate / (1 + decay * epochs * n_steps_per_epoch)\n",
    "\n",
    "plt.plot(epochs, lrs,  \"o-\")\n",
    "plt.axis([0, n_epochs - 1, 0, 0.01])\n",
    "plt.xlabel(\"Epoch\")\n",
    "plt.ylabel(\"Learning Rate\")\n",
    "plt.title(\"Power Scheduling\", fontsize=14)\n",
    "plt.grid(True)\n",
    "plt.show()"
   ]
  },
  {
   "cell_type": "markdown",
   "metadata": {},
   "source": [
    "**Exponential Scheduling**\n",
    "\n",
    "lr = lr0 * 0.1**(epoch / s)\n"
   ]
  },
  {
   "cell_type": "code",
   "execution_count": 89,
   "metadata": {},
   "outputs": [],
   "source": [
    "def exponential_decay_fn(epoch):\n",
    "    return 0.01 * 0.1**(epoch / 20)"
   ]
  },
  {
   "cell_type": "code",
   "execution_count": 90,
   "metadata": {},
   "outputs": [],
   "source": [
    "def exponential_decay(lr0, s):\n",
    "    def exponential_decay_fn(epoch):\n",
    "        return lr0 * 0.1**(epoch / s)\n",
    "    return exponential_decay_fn\n",
    "\n",
    "exponential_decay_fn = exponential_decay(lr0=0.01, s=20)"
   ]
  },
  {
   "cell_type": "code",
   "execution_count": 91,
   "metadata": {},
   "outputs": [
    {
     "name": "stdout",
     "output_type": "stream",
     "text": [
      "Train on 55000 samples, validate on 5000 samples\n",
      "Epoch 1/25\n",
      "55000/55000 [==============================] - 6s 105us/sample - loss: 0.8307 - accuracy: 0.7631 - val_loss: 0.7617 - val_accuracy: 0.7938\n",
      "Epoch 2/25\n",
      "55000/55000 [==============================] - 5s 86us/sample - loss: 0.6875 - accuracy: 0.7984 - val_loss: 0.8966 - val_accuracy: 0.7522\n",
      "Epoch 3/25\n",
      "55000/55000 [==============================] - 5s 96us/sample - loss: 0.6397 - accuracy: 0.8169 - val_loss: 0.5160 - val_accuracy: 0.8542\n",
      "Epoch 4/25\n",
      "55000/55000 [==============================] - 5s 91us/sample - loss: 0.5277 - accuracy: 0.8407 - val_loss: 0.5446 - val_accuracy: 0.8452\n",
      "Epoch 5/25\n",
      "55000/55000 [==============================] - 5s 87us/sample - loss: 0.4968 - accuracy: 0.8515 - val_loss: 0.5168 - val_accuracy: 0.8526\n",
      "Epoch 6/25\n",
      "55000/55000 [==============================] - 5s 84us/sample - loss: 0.4602 - accuracy: 0.8616 - val_loss: 0.4739 - val_accuracy: 0.8594\n",
      "Epoch 7/25\n",
      "55000/55000 [==============================] - 5s 87us/sample - loss: 0.4191 - accuracy: 0.8724 - val_loss: 0.5700 - val_accuracy: 0.8494\n",
      "Epoch 8/25\n",
      "55000/55000 [==============================] - 5s 92us/sample - loss: 0.3840 - accuracy: 0.8792 - val_loss: 0.5116 - val_accuracy: 0.8578\n",
      "Epoch 9/25\n",
      "55000/55000 [==============================] - 5s 93us/sample - loss: 0.3566 - accuracy: 0.8857 - val_loss: 0.4687 - val_accuracy: 0.8646\n",
      "Epoch 10/25\n",
      "55000/55000 [==============================] - 5s 89us/sample - loss: 0.3310 - accuracy: 0.8913 - val_loss: 0.4579 - val_accuracy: 0.8770\n",
      "Epoch 11/25\n",
      "55000/55000 [==============================] - 5s 90us/sample - loss: 0.3107 - accuracy: 0.8993 - val_loss: 0.4626 - val_accuracy: 0.8594\n",
      "Epoch 12/25\n",
      "55000/55000 [==============================] - 5s 90us/sample - loss: 0.2886 - accuracy: 0.9050 - val_loss: 0.4580 - val_accuracy: 0.8788\n",
      "Epoch 13/25\n",
      "55000/55000 [==============================] - 5s 92us/sample - loss: 0.2635 - accuracy: 0.9099 - val_loss: 0.4701 - val_accuracy: 0.8810\n",
      "Epoch 14/25\n",
      "55000/55000 [==============================] - 5s 92us/sample - loss: 0.2472 - accuracy: 0.9167 - val_loss: 0.4797 - val_accuracy: 0.8750\n",
      "Epoch 15/25\n",
      "55000/55000 [==============================] - 5s 88us/sample - loss: 0.2334 - accuracy: 0.9214 - val_loss: 0.4764 - val_accuracy: 0.8770\n",
      "Epoch 16/25\n",
      "55000/55000 [==============================] - 5s 95us/sample - loss: 0.2104 - accuracy: 0.9276 - val_loss: 0.4436 - val_accuracy: 0.8852\n",
      "Epoch 17/25\n",
      "55000/55000 [==============================] - 5s 90us/sample - loss: 0.1939 - accuracy: 0.9327 - val_loss: 0.5326 - val_accuracy: 0.8732\n",
      "Epoch 18/25\n",
      "55000/55000 [==============================] - 5s 91us/sample - loss: 0.1829 - accuracy: 0.9354 - val_loss: 0.4989 - val_accuracy: 0.8860\n",
      "Epoch 19/25\n",
      "55000/55000 [==============================] - 5s 87us/sample - loss: 0.1687 - accuracy: 0.9405 - val_loss: 0.5438 - val_accuracy: 0.8830\n",
      "Epoch 20/25\n",
      "55000/55000 [==============================] - 5s 89us/sample - loss: 0.1567 - accuracy: 0.9461 - val_loss: 0.5310 - val_accuracy: 0.8832\n",
      "Epoch 21/25\n",
      "55000/55000 [==============================] - 5s 87us/sample - loss: 0.1473 - accuracy: 0.9481 - val_loss: 0.5237 - val_accuracy: 0.8890\n",
      "Epoch 22/25\n",
      "55000/55000 [==============================] - 5s 87us/sample - loss: 0.1341 - accuracy: 0.9521 - val_loss: 0.5726 - val_accuracy: 0.8846\n",
      "Epoch 23/25\n",
      "55000/55000 [==============================] - 5s 87us/sample - loss: 0.1263 - accuracy: 0.9554 - val_loss: 0.5884 - val_accuracy: 0.8872\n",
      "Epoch 24/25\n",
      "55000/55000 [==============================] - 5s 89us/sample - loss: 0.1172 - accuracy: 0.9587 - val_loss: 0.6408 - val_accuracy: 0.8880\n",
      "Epoch 25/25\n",
      "55000/55000 [==============================] - 5s 87us/sample - loss: 0.1104 - accuracy: 0.9609 - val_loss: 0.6467 - val_accuracy: 0.8844\n"
     ]
    }
   ],
   "source": [
    "model = keras.models.Sequential([\n",
    "    keras.layers.Flatten(input_shape=[28, 28]),\n",
    "    keras.layers.Dense(300, activation=\"selu\", kernel_initializer=\"lecun_normal\"),\n",
    "    keras.layers.Dense(100, activation=\"selu\", kernel_initializer=\"lecun_normal\"),\n",
    "    keras.layers.Dense(10, activation=\"softmax\")\n",
    "])\n",
    "model.compile(loss=\"sparse_categorical_crossentropy\", optimizer=\"nadam\", metrics=[\"accuracy\"])\n",
    "n_epochs = 25\n",
    "\n",
    "lr_scheduler = keras.callbacks.LearningRateScheduler(exponential_decay_fn)\n",
    "history = model.fit(X_train_scaled, y_train, epochs=n_epochs,\n",
    "                    validation_data=(X_valid_scaled, y_valid),\n",
    "                    callbacks=[lr_scheduler])"
   ]
  },
  {
   "cell_type": "code",
   "execution_count": 92,
   "metadata": {},
   "outputs": [
    {
     "data": {
      "image/png": "[encoded data removed]",
      "text/plain": [
       "<Figure size 432x288 with 1 Axes>"
      ]
     },
     "metadata": {
      "needs_background": "light"
     },
     "output_type": "display_data"
    }
   ],
   "source": [
    "plt.plot(history.epoch, history.history[\"lr\"], \"o-\")\n",
    "plt.axis([0, n_epochs - 1, 0, 0.011])\n",
    "plt.xlabel(\"Epoch\")\n",
    "plt.ylabel(\"Learning Rate\")\n",
    "plt.title(\"Exponential Scheduling\", fontsize=14)\n",
    "plt.grid(True)\n",
    "plt.show()"
   ]
  },
  {
   "cell_type": "markdown",
   "metadata": {},
   "source": [
    "The schedule function can take the current learning rate as a second argument:"
   ]
  },
  {
   "cell_type": "code",
   "execution_count": 93,
   "metadata": {},
   "outputs": [],
   "source": [
    "def exponential_decay_fn(epoch, lr):\n",
    "    return lr * 0.1**(1 / 20)"
   ]
  },
  {
   "cell_type": "markdown",
   "metadata": {},
   "source": [
    "If you want to update the learning rate at each iteration rather than at each epoch, you must write your own callback class:"
   ]
  },
  {
   "cell_type": "code",
   "execution_count": 94,
   "metadata": {},
   "outputs": [
    {
     "name": "stdout",
     "output_type": "stream",
     "text": [
      "Train on 55000 samples, validate on 5000 samples\n",
      "Epoch 1/25\n",
      "55000/55000 [==============================] - 7s 121us/sample - loss: 0.8027 - accuracy: 0.7652 - val_loss: 0.7002 - val_accuracy: 0.7718\n",
      "Epoch 2/25\n",
      "55000/55000 [==============================] - 6s 109us/sample - loss: 0.7078 - accuracy: 0.7894 - val_loss: 0.6757 - val_accuracy: 0.7776\n",
      "Epoch 3/25\n",
      "55000/55000 [==============================] - 6s 110us/sample - loss: 0.5755 - accuracy: 0.8219 - val_loss: 0.5889 - val_accuracy: 0.8230\n",
      "Epoch 4/25\n",
      "55000/55000 [==============================] - 6s 111us/sample - loss: 0.5218 - accuracy: 0.8377 - val_loss: 0.5057 - val_accuracy: 0.8504\n",
      "Epoch 5/25\n",
      "55000/55000 [==============================] - 6s 113us/sample - loss: 0.4840 - accuracy: 0.8462 - val_loss: 0.4457 - val_accuracy: 0.8562\n",
      "Epoch 6/25\n",
      "55000/55000 [==============================] - 6s 112us/sample - loss: 0.4423 - accuracy: 0.8580 - val_loss: 0.4896 - val_accuracy: 0.8396\n",
      "Epoch 7/25\n",
      "55000/55000 [==============================] - 6s 108us/sample - loss: 0.4037 - accuracy: 0.8693 - val_loss: 0.4776 - val_accuracy: 0.8570\n",
      "Epoch 8/25\n",
      "55000/55000 [==============================] - 6s 106us/sample - loss: 0.3698 - accuracy: 0.8801 - val_loss: 0.4621 - val_accuracy: 0.8766\n",
      "Epoch 9/25\n",
      "55000/55000 [==============================] - 6s 107us/sample - loss: 0.3498 - accuracy: 0.8852 - val_loss: 0.4995 - val_accuracy: 0.8712\n",
      "Epoch 10/25\n",
      "55000/55000 [==============================] - 6s 106us/sample - loss: 0.3179 - accuracy: 0.8943 - val_loss: 0.4437 - val_accuracy: 0.8794\n",
      "Epoch 11/25\n",
      "55000/55000 [==============================] - 6s 107us/sample - loss: 0.2973 - accuracy: 0.8999 - val_loss: 0.4626 - val_accuracy: 0.8708\n",
      "Epoch 12/25\n",
      "55000/55000 [==============================] - 6s 105us/sample - loss: 0.2768 - accuracy: 0.9073 - val_loss: 0.4123 - val_accuracy: 0.8796\n",
      "Epoch 13/25\n",
      "55000/55000 [==============================] - 6s 105us/sample - loss: 0.2574 - accuracy: 0.9135 - val_loss: 0.4381 - val_accuracy: 0.8808\n",
      "Epoch 14/25\n",
      "55000/55000 [==============================] - 6s 105us/sample - loss: 0.2391 - accuracy: 0.9190 - val_loss: 0.4415 - val_accuracy: 0.8884\n",
      "Epoch 15/25\n",
      "55000/55000 [==============================] - 6s 105us/sample - loss: 0.2224 - accuracy: 0.9235 - val_loss: 0.4400 - val_accuracy: 0.8872\n",
      "Epoch 16/25\n",
      "55000/55000 [==============================] - 6s 105us/sample - loss: 0.2050 - accuracy: 0.9288 - val_loss: 0.4653 - val_accuracy: 0.8876\n",
      "Epoch 17/25\n",
      "55000/55000 [==============================] - 6s 104us/sample - loss: 0.1905 - accuracy: 0.9352 - val_loss: 0.5130 - val_accuracy: 0.8890\n",
      "Epoch 18/25\n",
      "55000/55000 [==============================] - 6s 104us/sample - loss: 0.1819 - accuracy: 0.9384 - val_loss: 0.4904 - val_accuracy: 0.8872\n",
      "Epoch 19/25\n",
      "55000/55000 [==============================] - 6s 104us/sample - loss: 0.1688 - accuracy: 0.9430 - val_loss: 0.5482 - val_accuracy: 0.8890\n",
      "Epoch 20/25\n",
      "55000/55000 [==============================] - 6s 105us/sample - loss: 0.1595 - accuracy: 0.9467 - val_loss: 0.5524 - val_accuracy: 0.8888\n",
      "Epoch 21/25\n",
      "55000/55000 [==============================] - 6s 104us/sample - loss: 0.1468 - accuracy: 0.9504 - val_loss: 0.5263 - val_accuracy: 0.8868\n",
      "Epoch 22/25\n",
      "55000/55000 [==============================] - 6s 104us/sample - loss: 0.1366 - accuracy: 0.9547 - val_loss: 0.5996 - val_accuracy: 0.8880\n",
      "Epoch 23/25\n",
      "55000/55000 [==============================] - 6s 104us/sample - loss: 0.1262 - accuracy: 0.9585 - val_loss: 0.6111 - val_accuracy: 0.8880\n",
      "Epoch 24/25\n",
      "55000/55000 [==============================] - 6s 103us/sample - loss: 0.1215 - accuracy: 0.9605 - val_loss: 0.6419 - val_accuracy: 0.8890\n",
      "Epoch 25/25\n",
      "55000/55000 [==============================] - 6s 109us/sample - loss: 0.1141 - accuracy: 0.9632 - val_loss: 0.6957 - val_accuracy: 0.8894\n"
     ]
    }
   ],
   "source": [
    "K = keras.backend\n",
    "\n",
    "class ExponentialDecay(keras.callbacks.Callback):\n",
    "    def __init__(self, s=40000):\n",
    "        super().__init__()\n",
    "        self.s = s\n",
    "\n",
    "    def on_batch_begin(self, batch, logs=None):\n",
    "        # Note: the `batch` argument is reset at each epoch\n",
    "        lr = K.get_value(self.model.optimizer.lr)\n",
    "        K.set_value(self.model.optimizer.lr, lr * 0.1**(1 / s))\n",
    "\n",
    "    def on_epoch_end(self, epoch, logs=None):\n",
    "        logs = logs or {}\n",
    "        logs['lr'] = K.get_value(self.model.optimizer.lr)\n",
    "\n",
    "model = keras.models.Sequential([\n",
    "    keras.layers.Flatten(input_shape=[28, 28]),\n",
    "    keras.layers.Dense(300, activation=\"selu\", kernel_initializer=\"lecun_normal\"),\n",
    "    keras.layers.Dense(100, activation=\"selu\", kernel_initializer=\"lecun_normal\"),\n",
    "    keras.layers.Dense(10, activation=\"softmax\")\n",
    "])\n",
    "lr0 = 0.01\n",
    "optimizer = keras.optimizers.Nadam(lr=lr0)\n",
    "model.compile(loss=\"sparse_categorical_crossentropy\", optimizer=optimizer, metrics=[\"accuracy\"])\n",
    "n_epochs = 25\n",
    "\n",
    "s = 20 * len(X_train) // 32 # number of steps in 20 epochs (batch size = 32)\n",
    "exp_decay = ExponentialDecay(s)\n",
    "history = model.fit(X_train_scaled, y_train, epochs=n_epochs,\n",
    "                    validation_data=(X_valid_scaled, y_valid),\n",
    "                    callbacks=[exp_decay])\n",
    "\n"
   ]
  },
  {
   "cell_type": "code",
   "execution_count": 95,
   "metadata": {},
   "outputs": [],
   "source": [
    "n_steps = n_epochs * len(X_train) // 32\n",
    "steps = np.arange(n_steps)\n",
    "lrs = lr0 * 0.1**(steps / s)"
   ]
  },
  {
   "cell_type": "code",
   "execution_count": 96,
   "metadata": {},
   "outputs": [
    {
     "data": {
      "image/png": "[encoded data removed]",
      "text/plain": [
       "<Figure size 432x288 with 1 Axes>"
      ]
     },
     "metadata": {
      "needs_background": "light"
     },
     "output_type": "display_data"
    }
   ],
   "source": [
    "plt.plot(steps, lrs, \"-\", linewidth=2)\n",
    "plt.axis([0, n_steps - 1, 0, lr0 * 1.1])\n",
    "plt.xlabel(\"Batch\")\n",
    "plt.ylabel(\"Learning Rate\")\n",
    "plt.title(\"Exponential Scheduling (per batch)\", fontsize=14)\n",
    "plt.grid(True)\n",
    "plt.show()"
   ]
  },
  {
   "cell_type": "markdown",
   "metadata": {},
   "source": [
    "**Piecewise Constant Scheduling**"
   ]
  },
  {
   "cell_type": "code",
   "execution_count": 97,
   "metadata": {},
   "outputs": [],
   "source": [
    "def piecewise_constant_fn(epoch):\n",
    "    if epoch < 5:\n",
    "        return 0.01\n",
    "    elif epoch < 15:\n",
    "        return 0.005\n",
    "    else:\n",
    "        return 0.001"
   ]
  },
  {
   "cell_type": "code",
   "execution_count": 98,
   "metadata": {},
   "outputs": [],
   "source": [
    "def piecewise_constant(boundaries, values):\n",
    "    boundaries = np.array([0] + boundaries)\n",
    "    values = np.array(values)\n",
    "    def piecewise_constant_fn(epoch):\n",
    "        return values[np.argmax(boundaries > epoch) - 1]\n",
    "    return piecewise_constant_fn\n",
    "\n",
    "piecewise_constant_fn = piecewise_constant([5, 15], [0.01, 0.005, 0.001])"
   ]
  },
  {
   "cell_type": "code",
   "execution_count": 99,
   "metadata": {},
   "outputs": [
    {
     "name": "stdout",
     "output_type": "stream",
     "text": [
      "Train on 55000 samples, validate on 5000 samples\n",
      "Epoch 1/25\n",
      "55000/55000 [==============================] - 6s 103us/sample - loss: 0.9097 - accuracy: 0.7483 - val_loss: 0.9084 - val_accuracy: 0.7274\n",
      "Epoch 2/25\n",
      "55000/55000 [==============================] - 5s 89us/sample - loss: 0.7927 - accuracy: 0.7676 - val_loss: 2.2337 - val_accuracy: 0.5556\n",
      "Epoch 3/25\n",
      "55000/55000 [==============================] - 5s 90us/sample - loss: 0.8222 - accuracy: 0.7663 - val_loss: 0.7899 - val_accuracy: 0.7998\n",
      "Epoch 4/25\n",
      "55000/55000 [==============================] - 5s 86us/sample - loss: 0.8033 - accuracy: 0.7713 - val_loss: 0.8475 - val_accuracy: 0.7252\n",
      "Epoch 5/25\n",
      "55000/55000 [==============================] - 5s 88us/sample - loss: 0.8922 - accuracy: 0.7409 - val_loss: 1.1771 - val_accuracy: 0.6422\n",
      "Epoch 6/25\n",
      "55000/55000 [==============================] - 5s 90us/sample - loss: 0.5598 - accuracy: 0.8252 - val_loss: 0.5974 - val_accuracy: 0.8346\n",
      "Epoch 7/25\n",
      "55000/55000 [==============================] - 5s 86us/sample - loss: 0.4990 - accuracy: 0.8429 - val_loss: 0.6226 - val_accuracy: 0.8398\n",
      "Epoch 8/25\n",
      "55000/55000 [==============================] - 9s 159us/sample - loss: 0.4818 - accuracy: 0.8490 - val_loss: 0.5359 - val_accuracy: 0.8492\n",
      "Epoch 9/25\n",
      "55000/55000 [==============================] - 32s 580us/sample - loss: 0.4560 - accuracy: 0.8594 - val_loss: 0.5392 - val_accuracy: 0.8558\n",
      "Epoch 10/25\n",
      "55000/55000 [==============================] - 32s 587us/sample - loss: 0.4409 - accuracy: 0.8662 - val_loss: 0.7214 - val_accuracy: 0.8472\n",
      "Epoch 11/25\n",
      "55000/55000 [==============================] - 32s 573us/sample - loss: 0.4418 - accuracy: 0.8661 - val_loss: 0.5203 - val_accuracy: 0.8482\n",
      "Epoch 12/25\n",
      "55000/55000 [==============================] - 32s 575us/sample - loss: 0.4291 - accuracy: 0.8705 - val_loss: 0.4964 - val_accuracy: 0.8542\n",
      "Epoch 13/25\n",
      "55000/55000 [==============================] - 32s 577us/sample - loss: 0.4354 - accuracy: 0.8716 - val_loss: 0.6966 - val_accuracy: 0.8662\n",
      "Epoch 14/25\n",
      "55000/55000 [==============================] - 32s 576us/sample - loss: 0.4119 - accuracy: 0.8771 - val_loss: 0.5834 - val_accuracy: 0.8712\n",
      "Epoch 15/25\n",
      "55000/55000 [==============================] - 32s 575us/sample - loss: 0.4342 - accuracy: 0.8744 - val_loss: 0.5879 - val_accuracy: 0.8446\n",
      "Epoch 16/25\n",
      "55000/55000 [==============================] - 32s 574us/sample - loss: 0.2921 - accuracy: 0.9025 - val_loss: 0.4798 - val_accuracy: 0.8702\n",
      "Epoch 17/25\n",
      "55000/55000 [==============================] - 32s 578us/sample - loss: 0.2564 - accuracy: 0.9130 - val_loss: 0.4924 - val_accuracy: 0.8788\n",
      "Epoch 18/25\n",
      "55000/55000 [==============================] - 32s 577us/sample - loss: 0.2436 - accuracy: 0.9178 - val_loss: 0.5242 - val_accuracy: 0.8840\n",
      "Epoch 19/25\n",
      "55000/55000 [==============================] - 32s 574us/sample - loss: 0.2308 - accuracy: 0.9202 - val_loss: 0.5345 - val_accuracy: 0.8810\n",
      "Epoch 20/25\n",
      "55000/55000 [==============================] - 32s 575us/sample - loss: 0.2238 - accuracy: 0.9234 - val_loss: 0.5299 - val_accuracy: 0.8864\n",
      "Epoch 21/25\n",
      "55000/55000 [==============================] - 31s 573us/sample - loss: 0.2180 - accuracy: 0.9266 - val_loss: 0.5460 - val_accuracy: 0.8794\n",
      "Epoch 22/25\n",
      "55000/55000 [==============================] - 32s 579us/sample - loss: 0.2041 - accuracy: 0.9292 - val_loss: 0.5760 - val_accuracy: 0.8806\n",
      "Epoch 23/25\n",
      "55000/55000 [==============================] - 32s 573us/sample - loss: 0.1975 - accuracy: 0.9313 - val_loss: 0.5760 - val_accuracy: 0.8810\n",
      "Epoch 24/25\n",
      "55000/55000 [==============================] - 32s 576us/sample - loss: 0.1898 - accuracy: 0.9333 - val_loss: 0.6095 - val_accuracy: 0.8842\n",
      "Epoch 25/25\n",
      "55000/55000 [==============================] - 32s 574us/sample - loss: 0.1849 - accuracy: 0.9361 - val_loss: 0.6142 - val_accuracy: 0.8752\n"
     ]
    }
   ],
   "source": [
    "lr_scheduler = keras.callbacks.LearningRateScheduler(piecewise_constant_fn)\n",
    "\n",
    "model = keras.models.Sequential([\n",
    "    keras.layers.Flatten(input_shape=[28, 28]),\n",
    "    keras.layers.Dense(300, activation=\"selu\", kernel_initializer=\"lecun_normal\"),\n",
    "    keras.layers.Dense(100, activation=\"selu\", kernel_initializer=\"lecun_normal\"),\n",
    "    keras.layers.Dense(10, activation=\"softmax\")\n",
    "])\n",
    "model.compile(loss=\"sparse_categorical_crossentropy\", optimizer=\"nadam\", metrics=[\"accuracy\"])\n",
    "n_epochs = 25\n",
    "history = model.fit(X_train_scaled, y_train, epochs=n_epochs,\n",
    "                    validation_data=(X_valid_scaled, y_valid),\n",
    "                    callbacks=[lr_scheduler])"
   ]
  },
  {
   "cell_type": "code",
   "execution_count": 100,
   "metadata": {},
   "outputs": [
    {
     "data": {
      "image/png": "[encoded data removed]",
      "text/plain": [
       "<Figure size 432x288 with 1 Axes>"
      ]
     },
     "metadata": {
      "needs_background": "light"
     },
     "output_type": "display_data"
    }
   ],
   "source": [
    "plt.plot(history.epoch, [piecewise_constant_fn(epoch) for epoch in history.epoch], \"o-\")\n",
    "plt.axis([0, n_epochs - 1, 0, 0.011])\n",
    "plt.xlabel(\"Epoch\")\n",
    "plt.ylabel(\"Learning Rate\")\n",
    "plt.title(\"Piecewise Constant Scheduling\", fontsize=14)\n",
    "plt.grid(True)\n",
    "plt.show()"
   ]
  },
  {
   "cell_type": "markdown",
   "metadata": {},
   "source": [
    "**Performance Scheduling**"
   ]
  },
  {
   "cell_type": "code",
   "execution_count": 101,
   "metadata": {},
   "outputs": [
    {
     "name": "stdout",
     "output_type": "stream",
     "text": [
      "Train on 55000 samples, validate on 5000 samples\n",
      "Epoch 1/25\n",
      "55000/55000 [==============================] - 6s 109us/sample - loss: 0.5876 - accuracy: 0.8079 - val_loss: 0.5109 - val_accuracy: 0.8440\n",
      "Epoch 2/25\n",
      "55000/55000 [==============================] - 6s 104us/sample - loss: 0.5123 - accuracy: 0.8362 - val_loss: 0.4946 - val_accuracy: 0.8402\n",
      "Epoch 3/25\n",
      "55000/55000 [==============================] - 6s 103us/sample - loss: 0.4975 - accuracy: 0.8444 - val_loss: 0.5038 - val_accuracy: 0.8412\n",
      "Epoch 4/25\n",
      "55000/55000 [==============================] - 6s 104us/sample - loss: 0.5093 - accuracy: 0.8505 - val_loss: 0.5520 - val_accuracy: 0.8288\n",
      "Epoch 5/25\n",
      "55000/55000 [==============================] - 6s 105us/sample - loss: 0.5018 - accuracy: 0.8517 - val_loss: 0.5746 - val_accuracy: 0.8300\n",
      "Epoch 6/25\n",
      "55000/55000 [==============================] - 6s 103us/sample - loss: 0.4906 - accuracy: 0.8571 - val_loss: 0.7635 - val_accuracy: 0.8424\n",
      "Epoch 7/25\n",
      "55000/55000 [==============================] - 6s 103us/sample - loss: 0.5278 - accuracy: 0.8526 - val_loss: 0.6417 - val_accuracy: 0.8274\n",
      "Epoch 8/25\n",
      "55000/55000 [==============================] - 6s 106us/sample - loss: 0.2950 - accuracy: 0.8971 - val_loss: 0.3709 - val_accuracy: 0.8820\n",
      "Epoch 9/25\n",
      "55000/55000 [==============================] - 6s 105us/sample - loss: 0.2491 - accuracy: 0.9093 - val_loss: 0.4018 - val_accuracy: 0.8800\n",
      "Epoch 10/25\n",
      "55000/55000 [==============================] - 6s 103us/sample - loss: 0.2312 - accuracy: 0.9145 - val_loss: 0.4115 - val_accuracy: 0.8738\n",
      "Epoch 11/25\n",
      "55000/55000 [==============================] - 6s 106us/sample - loss: 0.2136 - accuracy: 0.9213 - val_loss: 0.4108 - val_accuracy: 0.8850\n",
      "Epoch 12/25\n",
      "55000/55000 [==============================] - 6s 107us/sample - loss: 0.1986 - accuracy: 0.9256 - val_loss: 0.4425 - val_accuracy: 0.8800\n",
      "Epoch 13/25\n",
      "55000/55000 [==============================] - 6s 105us/sample - loss: 0.1921 - accuracy: 0.9287 - val_loss: 0.4262 - val_accuracy: 0.8890\n",
      "Epoch 14/25\n",
      "55000/55000 [==============================] - 6s 104us/sample - loss: 0.1345 - accuracy: 0.9470 - val_loss: 0.4148 - val_accuracy: 0.8970\n",
      "Epoch 15/25\n",
      "55000/55000 [==============================] - 6s 103us/sample - loss: 0.1164 - accuracy: 0.9537 - val_loss: 0.4273 - val_accuracy: 0.8904\n",
      "Epoch 16/25\n",
      "55000/55000 [==============================] - 6s 103us/sample - loss: 0.1097 - accuracy: 0.9565 - val_loss: 0.4417 - val_accuracy: 0.8938\n",
      "Epoch 17/25\n",
      "55000/55000 [==============================] - 6s 104us/sample - loss: 0.1017 - accuracy: 0.9608 - val_loss: 0.4586 - val_accuracy: 0.8902\n",
      "Epoch 18/25\n",
      "55000/55000 [==============================] - 6s 108us/sample - loss: 0.0965 - accuracy: 0.9619 - val_loss: 0.4739 - val_accuracy: 0.8914\n",
      "Epoch 19/25\n",
      "55000/55000 [==============================] - 5s 87us/sample - loss: 0.0753 - accuracy: 0.9706 - val_loss: 0.4814 - val_accuracy: 0.8948\n",
      "Epoch 20/25\n",
      "55000/55000 [==============================] - 4s 73us/sample - loss: 0.0695 - accuracy: 0.9739 - val_loss: 0.4823 - val_accuracy: 0.8950\n",
      "Epoch 21/25\n",
      "55000/55000 [==============================] - 4s 69us/sample - loss: 0.0653 - accuracy: 0.9755 - val_loss: 0.5140 - val_accuracy: 0.8914\n",
      "Epoch 22/25\n",
      "55000/55000 [==============================] - 4s 68us/sample - loss: 0.0623 - accuracy: 0.9769 - val_loss: 0.5194 - val_accuracy: 0.8904\n",
      "Epoch 23/25\n",
      "55000/55000 [==============================] - 4s 65us/sample - loss: 0.0585 - accuracy: 0.9793 - val_loss: 0.5418 - val_accuracy: 0.8914\n",
      "Epoch 24/25\n",
      "55000/55000 [==============================] - 4s 66us/sample - loss: 0.0503 - accuracy: 0.9829 - val_loss: 0.5409 - val_accuracy: 0.8952\n",
      "Epoch 25/25\n",
      "55000/55000 [==============================] - 4s 67us/sample - loss: 0.0480 - accuracy: 0.9840 - val_loss: 0.5475 - val_accuracy: 0.8934\n"
     ]
    }
   ],
   "source": [
    "lr_scheduler = keras.callbacks.ReduceLROnPlateau(factor=0.5, patience=5)\n",
    "\n",
    "model = keras.models.Sequential([\n",
    "    keras.layers.Flatten(input_shape=[28, 28]),\n",
    "    keras.layers.Dense(300, activation=\"selu\", kernel_initializer=\"lecun_normal\"),\n",
    "    keras.layers.Dense(100, activation=\"selu\", kernel_initializer=\"lecun_normal\"),\n",
    "    keras.layers.Dense(10, activation=\"softmax\")\n",
    "])\n",
    "optimizer = keras.optimizers.SGD(lr=0.02, momentum=0.9)\n",
    "model.compile(loss=\"sparse_categorical_crossentropy\", optimizer=optimizer, metrics=[\"accuracy\"])\n",
    "n_epochs = 25\n",
    "history = model.fit(X_train_scaled, y_train, epochs=n_epochs,\n",
    "                    validation_data=(X_valid_scaled, y_valid),\n",
    "                    callbacks=[lr_scheduler])"
   ]
  },
  {
   "cell_type": "code",
   "execution_count": 102,
   "metadata": {},
   "outputs": [
    {
     "data": {
      "image/png": "[encoded data removed]",
      "text/plain": [
       "<Figure size 432x288 with 2 Axes>"
      ]
     },
     "metadata": {
      "needs_background": "light"
     },
     "output_type": "display_data"
    }
   ],
   "source": [
    "plt.plot(history.epoch, history.history[\"lr\"], \"bo-\")\n",
    "plt.xlabel(\"Epoch\")\n",
    "plt.ylabel(\"Learning Rate\", color='b')\n",
    "plt.tick_params('y', colors='b')\n",
    "plt.gca().set_xlim(0, n_epochs - 1)\n",
    "plt.grid(True)\n",
    "\n",
    "ax2 = plt.gca().twinx()\n",
    "ax2.plot(history.epoch, history.history[\"val_loss\"], \"r^-\")\n",
    "ax2.set_ylabel('Validation Loss', color='r')\n",
    "ax2.tick_params('y', colors='r')\n",
    "\n",
    "plt.title(\"Reduce LR on Plateau\", fontsize=14)\n",
    "plt.show()"
   ]
  },
  {
   "cell_type": "markdown",
   "metadata": {},
   "source": [
    "**tf.keras schedulers**"
   ]
  },
  {
   "cell_type": "code",
   "execution_count": 103,
   "metadata": {},
   "outputs": [
    {
     "name": "stdout",
     "output_type": "stream",
     "text": [
      "Train on 55000 samples, validate on 5000 samples\n",
      "Epoch 1/25\n",
      "55000/55000 [==============================] - 4s 75us/sample - loss: 0.4865 - accuracy: 0.8290 - val_loss: 0.4103 - val_accuracy: 0.8586\n",
      "Epoch 2/25\n",
      "55000/55000 [==============================] - 4s 69us/sample - loss: 0.3790 - accuracy: 0.8647 - val_loss: 0.3773 - val_accuracy: 0.8688\n",
      "Epoch 3/25\n",
      "55000/55000 [==============================] - 4s 68us/sample - loss: 0.3462 - accuracy: 0.8771 - val_loss: 0.3660 - val_accuracy: 0.8716\n",
      "Epoch 4/25\n",
      "55000/55000 [==============================] - 4s 69us/sample - loss: 0.3246 - accuracy: 0.8849 - val_loss: 0.3515 - val_accuracy: 0.8754\n",
      "Epoch 5/25\n",
      "55000/55000 [==============================] - 4s 67us/sample - loss: 0.3083 - accuracy: 0.8903 - val_loss: 0.3543 - val_accuracy: 0.8744\n",
      "Epoch 6/25\n",
      "55000/55000 [==============================] - 4s 71us/sample - loss: 0.2950 - accuracy: 0.8950 - val_loss: 0.3537 - val_accuracy: 0.8758\n",
      "Epoch 7/25\n",
      "55000/55000 [==============================] - 4s 70us/sample - loss: 0.2843 - accuracy: 0.8982 - val_loss: 0.3392 - val_accuracy: 0.8846\n",
      "Epoch 8/25\n",
      "55000/55000 [==============================] - 4s 69us/sample - loss: 0.2746 - accuracy: 0.9030 - val_loss: 0.3355 - val_accuracy: 0.8844\n",
      "Epoch 9/25\n",
      "55000/55000 [==============================] - 4s 67us/sample - loss: 0.2671 - accuracy: 0.9048 - val_loss: 0.3363 - val_accuracy: 0.8834\n",
      "Epoch 10/25\n",
      "55000/55000 [==============================] - 4s 68us/sample - loss: 0.2603 - accuracy: 0.9067 - val_loss: 0.3349 - val_accuracy: 0.8838\n",
      "Epoch 11/25\n",
      "55000/55000 [==============================] - 4s 67us/sample - loss: 0.2542 - accuracy: 0.9100 - val_loss: 0.3284 - val_accuracy: 0.8866\n",
      "Epoch 12/25\n",
      "55000/55000 [==============================] - 4s 67us/sample - loss: 0.2489 - accuracy: 0.9127 - val_loss: 0.3292 - val_accuracy: 0.8858\n",
      "Epoch 13/25\n",
      "55000/55000 [==============================] - 4s 66us/sample - loss: 0.2442 - accuracy: 0.9146 - val_loss: 0.3295 - val_accuracy: 0.8870\n",
      "Epoch 14/25\n",
      "55000/55000 [==============================] - 4s 70us/sample - loss: 0.2403 - accuracy: 0.9154 - val_loss: 0.3273 - val_accuracy: 0.8860\n",
      "Epoch 15/25\n",
      "55000/55000 [==============================] - 4s 73us/sample - loss: 0.2371 - accuracy: 0.9171 - val_loss: 0.3252 - val_accuracy: 0.8888\n",
      "Epoch 16/25\n",
      "55000/55000 [==============================] - 4s 70us/sample - loss: 0.2340 - accuracy: 0.9187 - val_loss: 0.3262 - val_accuracy: 0.8862\n",
      "Epoch 17/25\n",
      "55000/55000 [==============================] - 4s 72us/sample - loss: 0.2312 - accuracy: 0.9192 - val_loss: 0.3269 - val_accuracy: 0.8852\n",
      "Epoch 18/25\n",
      "55000/55000 [==============================] - 4s 74us/sample - loss: 0.2285 - accuracy: 0.9204 - val_loss: 0.3251 - val_accuracy: 0.8870\n",
      "Epoch 19/25\n",
      "55000/55000 [==============================] - 4s 69us/sample - loss: 0.2265 - accuracy: 0.9217 - val_loss: 0.3247 - val_accuracy: 0.8866\n",
      "Epoch 20/25\n",
      "55000/55000 [==============================] - 5s 95us/sample - loss: 0.2244 - accuracy: 0.9218 - val_loss: 0.3238 - val_accuracy: 0.8890\n",
      "Epoch 21/25\n",
      "55000/55000 [==============================] - 5s 100us/sample - loss: 0.2228 - accuracy: 0.9224 - val_loss: 0.3242 - val_accuracy: 0.8864\n",
      "Epoch 22/25\n",
      "55000/55000 [==============================] - 5s 98us/sample - loss: 0.2211 - accuracy: 0.9233 - val_loss: 0.3241 - val_accuracy: 0.8874\n",
      "Epoch 23/25\n",
      "55000/55000 [==============================] - 5s 97us/sample - loss: 0.2198 - accuracy: 0.9244 - val_loss: 0.3244 - val_accuracy: 0.8868\n",
      "Epoch 24/25\n",
      "55000/55000 [==============================] - 6s 102us/sample - loss: 0.2184 - accuracy: 0.9249 - val_loss: 0.3246 - val_accuracy: 0.8884\n",
      "Epoch 25/25\n",
      "55000/55000 [==============================] - 6s 101us/sample - loss: 0.2174 - accuracy: 0.9247 - val_loss: 0.3229 - val_accuracy: 0.8880\n"
     ]
    }
   ],
   "source": [
    "model = keras.models.Sequential([\n",
    "    keras.layers.Flatten(input_shape=[28, 28]),\n",
    "    keras.layers.Dense(300, activation=\"selu\", kernel_initializer=\"lecun_normal\"),\n",
    "    keras.layers.Dense(100, activation=\"selu\", kernel_initializer=\"lecun_normal\"),\n",
    "    keras.layers.Dense(10, activation=\"softmax\")\n",
    "])\n",
    "s = 20 * len(X_train) // 32 # number of steps in 20 epochs (batch size = 32)\n",
    "learning_rate = keras.optimizers.schedules.ExponentialDecay(0.01, s, 0.1)\n",
    "optimizer = keras.optimizers.SGD(learning_rate)\n",
    "model.compile(loss=\"sparse_categorical_crossentropy\", optimizer=optimizer, metrics=[\"accuracy\"])\n",
    "n_epochs = 25\n",
    "history = model.fit(X_train_scaled, y_train, epochs=n_epochs,\n",
    "                    validation_data=(X_valid_scaled, y_valid))"
   ]
  },
  {
   "cell_type": "code",
   "execution_count": 104,
   "metadata": {},
   "outputs": [],
   "source": [
    "# Piecewise constant scheduling, can be done this way:\n",
    "learning_rate = keras.optimizers.schedules.PiecewiseConstantDecay(\n",
    "    boundaries=[5. * n_steps_per_epoch, 15. * n_steps_per_epoch],\n",
    "    values=[0.01, 0.005, 0.001])"
   ]
  },
  {
   "cell_type": "markdown",
   "metadata": {},
   "source": [
    "**1Cycle scheduling**"
   ]
  },
  {
   "cell_type": "code",
   "execution_count": 105,
   "metadata": {},
   "outputs": [],
   "source": [
    "K = keras.backend\n",
    "\n",
    "class ExponentialLearningRate(keras.callbacks.Callback):\n",
    "    def __init__(self, factor):\n",
    "        self.factor = factor\n",
    "        self.rates = []\n",
    "        self.losses = []\n",
    "    def on_batch_end(self, batch, logs):\n",
    "        self.rates.append(K.get_value(self.model.optimizer.lr))\n",
    "        self.losses.append(logs[\"loss\"])\n",
    "        K.set_value(self.model.optimizer.lr, self.model.optimizer.lr * self.factor)\n",
    "\n",
    "def find_learning_rate(model, X, y, epochs=1, batch_size=32, min_rate=10**-5, max_rate=10):\n",
    "    init_weights = model.get_weights()\n",
    "    iterations = len(X) // batch_size * epochs\n",
    "    factor = np.exp(np.log(max_rate / min_rate) / iterations)\n",
    "    init_lr = K.get_value(model.optimizer.lr)\n",
    "    K.set_value(model.optimizer.lr, min_rate)\n",
    "    exp_lr = ExponentialLearningRate(factor)\n",
    "    history = model.fit(X, y, epochs=epochs, batch_size=batch_size,\n",
    "                        callbacks=[exp_lr])\n",
    "    K.set_value(model.optimizer.lr, init_lr)\n",
    "    model.set_weights(init_weights)\n",
    "    return exp_lr.rates, exp_lr.losses\n",
    "\n",
    "def plot_lr_vs_loss(rates, losses):\n",
    "    plt.plot(rates, losses)\n",
    "    plt.gca().set_xscale('log')\n",
    "    plt.hlines(min(losses), min(rates), max(rates))\n",
    "    plt.axis([min(rates), max(rates), min(losses), (losses[0] + min(losses)) / 2])\n",
    "    plt.xlabel(\"Learning rate\")\n",
    "    plt.ylabel(\"Loss\")"
   ]
  },
  {
   "cell_type": "code",
   "execution_count": 106,
   "metadata": {},
   "outputs": [],
   "source": [
    "model = keras.models.Sequential([\n",
    "    keras.layers.Flatten(input_shape=[28, 28]),\n",
    "    keras.layers.Dense(300, activation=\"selu\", kernel_initializer=\"lecun_normal\"),\n",
    "    keras.layers.Dense(100, activation=\"selu\", kernel_initializer=\"lecun_normal\"),\n",
    "    keras.layers.Dense(10, activation=\"softmax\")\n",
    "])\n",
    "model.compile(loss=\"sparse_categorical_crossentropy\",\n",
    "              optimizer=keras.optimizers.SGD(lr=1e-3),\n",
    "              metrics=[\"accuracy\"])"
   ]
  },
  {
   "cell_type": "code",
   "execution_count": 107,
   "metadata": {},
   "outputs": [
    {
     "name": "stdout",
     "output_type": "stream",
     "text": [
      "Train on 55000 samples\n",
      "55000/55000 [==============================] - 3s 47us/sample - loss: 13639460992750976.0000 - accuracy: 0.3685\n"
     ]
    },
    {
     "data": {
      "image/png": "[encoded data removed]",
      "text/plain": [
       "<Figure size 432x288 with 1 Axes>"
      ]
     },
     "metadata": {
      "needs_background": "light"
     },
     "output_type": "display_data"
    }
   ],
   "source": [
    "batch_size = 128\n",
    "rates, losses = find_learning_rate(model, X_train_scaled, y_train, epochs=1, batch_size=batch_size)\n",
    "plot_lr_vs_loss(rates, losses)"
   ]
  },
  {
   "cell_type": "code",
   "execution_count": 108,
   "metadata": {},
   "outputs": [],
   "source": [
    "class OneCycleScheduler(keras.callbacks.Callback):\n",
    "    def __init__(self, iterations, max_rate, start_rate=None,\n",
    "                 last_iterations=None, last_rate=None):\n",
    "        self.iterations = iterations\n",
    "        self.max_rate = max_rate\n",
    "        self.start_rate = start_rate or max_rate / 10\n",
    "        self.last_iterations = last_iterations or iterations // 10 + 1\n",
    "        self.half_iteration = (iterations - self.last_iterations) // 2\n",
    "        self.last_rate = last_rate or self.start_rate / 1000\n",
    "        self.iteration = 0\n",
    "    def _interpolate(self, iter1, iter2, rate1, rate2):\n",
    "        return ((rate2 - rate1) * (self.iteration - iter1)\n",
    "                / (iter2 - iter1) + rate1)\n",
    "    def on_batch_begin(self, batch, logs):\n",
    "        if self.iteration < self.half_iteration:\n",
    "            rate = self._interpolate(0, self.half_iteration, self.start_rate, self.max_rate)\n",
    "        elif self.iteration < 2 * self.half_iteration:\n",
    "            rate = self._interpolate(self.half_iteration, 2 * self.half_iteration,\n",
    "                                     self.max_rate, self.start_rate)\n",
    "        else:\n",
    "            rate = self._interpolate(2 * self.half_iteration, self.iterations,\n",
    "                                     self.start_rate, self.last_rate)\n",
    "            rate = max(rate, self.last_rate)\n",
    "        self.iteration += 1\n",
    "        K.set_value(self.model.optimizer.lr, rate)"
   ]
  },
  {
   "cell_type": "code",
   "execution_count": 109,
   "metadata": {},
   "outputs": [
    {
     "name": "stdout",
     "output_type": "stream",
     "text": [
      "Train on 55000 samples, validate on 5000 samples\n",
      "Epoch 1/25\n",
      "55000/55000 [==============================] - 2s 44us/sample - loss: 0.6495 - accuracy: 0.7766 - val_loss: 0.4830 - val_accuracy: 0.8356\n",
      "Epoch 2/25\n",
      "55000/55000 [==============================] - 2s 43us/sample - loss: 0.4525 - accuracy: 0.8424 - val_loss: 0.4339 - val_accuracy: 0.8498\n",
      "Epoch 3/25\n",
      "55000/55000 [==============================] - 2s 41us/sample - loss: 0.4101 - accuracy: 0.8566 - val_loss: 0.4030 - val_accuracy: 0.8614\n",
      "Epoch 4/25\n",
      "55000/55000 [==============================] - 1s 24us/sample - loss: 0.3827 - accuracy: 0.8649 - val_loss: 0.3894 - val_accuracy: 0.8696\n",
      "Epoch 5/25\n",
      "55000/55000 [==============================] - 1s 21us/sample - loss: 0.3618 - accuracy: 0.8707 - val_loss: 0.3854 - val_accuracy: 0.8636\n",
      "Epoch 6/25\n",
      "55000/55000 [==============================] - 1s 24us/sample - loss: 0.3442 - accuracy: 0.8772 - val_loss: 0.3671 - val_accuracy: 0.8732\n",
      "Epoch 7/25\n",
      "55000/55000 [==============================] - 1s 24us/sample - loss: 0.3293 - accuracy: 0.8820 - val_loss: 0.3708 - val_accuracy: 0.8730\n",
      "Epoch 8/25\n",
      "55000/55000 [==============================] - 1s 25us/sample - loss: 0.3145 - accuracy: 0.8866 - val_loss: 0.3634 - val_accuracy: 0.8712\n",
      "Epoch 9/25\n",
      "55000/55000 [==============================] - 1s 23us/sample - loss: 0.3024 - accuracy: 0.8907 - val_loss: 0.3535 - val_accuracy: 0.8770\n",
      "Epoch 10/25\n",
      "55000/55000 [==============================] - 1s 23us/sample - loss: 0.2928 - accuracy: 0.8944 - val_loss: 0.3447 - val_accuracy: 0.8800\n",
      "Epoch 11/25\n",
      "55000/55000 [==============================] - 1s 22us/sample - loss: 0.2833 - accuracy: 0.8968 - val_loss: 0.3752 - val_accuracy: 0.8718\n",
      "Epoch 12/25\n",
      "55000/55000 [==============================] - 1s 26us/sample - loss: 0.2692 - accuracy: 0.9026 - val_loss: 0.3349 - val_accuracy: 0.8798\n",
      "Epoch 13/25\n",
      "55000/55000 [==============================] - 1s 25us/sample - loss: 0.2511 - accuracy: 0.9082 - val_loss: 0.3394 - val_accuracy: 0.8828\n",
      "Epoch 14/25\n",
      "55000/55000 [==============================] - 1s 21us/sample - loss: 0.2377 - accuracy: 0.9137 - val_loss: 0.3302 - val_accuracy: 0.8832\n",
      "Epoch 15/25\n",
      "55000/55000 [==============================] - 1s 22us/sample - loss: 0.2258 - accuracy: 0.9188 - val_loss: 0.3500 - val_accuracy: 0.8788\n",
      "Epoch 16/25\n",
      "55000/55000 [==============================] - 1s 22us/sample - loss: 0.2147 - accuracy: 0.9228 - val_loss: 0.3186 - val_accuracy: 0.8884\n",
      "Epoch 17/25\n",
      "55000/55000 [==============================] - 1s 27us/sample - loss: 0.2043 - accuracy: 0.9266 - val_loss: 0.3235 - val_accuracy: 0.8908\n",
      "Epoch 18/25\n",
      "55000/55000 [==============================] - 1s 25us/sample - loss: 0.1953 - accuracy: 0.9312 - val_loss: 0.3159 - val_accuracy: 0.8942\n",
      "Epoch 19/25\n",
      "55000/55000 [==============================] - 1s 23us/sample - loss: 0.1871 - accuracy: 0.9348 - val_loss: 0.3195 - val_accuracy: 0.8912\n",
      "Epoch 20/25\n",
      "55000/55000 [==============================] - 1s 23us/sample - loss: 0.1801 - accuracy: 0.9379 - val_loss: 0.3196 - val_accuracy: 0.8912\n",
      "Epoch 21/25\n",
      "55000/55000 [==============================] - 1s 24us/sample - loss: 0.1740 - accuracy: 0.9405 - val_loss: 0.3219 - val_accuracy: 0.8920\n",
      "Epoch 22/25\n",
      "55000/55000 [==============================] - 1s 23us/sample - loss: 0.1682 - accuracy: 0.9423 - val_loss: 0.3161 - val_accuracy: 0.8922\n",
      "Epoch 23/25\n",
      "55000/55000 [==============================] - 1s 22us/sample - loss: 0.1637 - accuracy: 0.9447 - val_loss: 0.3161 - val_accuracy: 0.8932\n",
      "Epoch 24/25\n",
      "55000/55000 [==============================] - 1s 22us/sample - loss: 0.1611 - accuracy: 0.9460 - val_loss: 0.3147 - val_accuracy: 0.8940\n",
      "Epoch 25/25\n",
      "55000/55000 [==============================] - 1s 23us/sample - loss: 0.1591 - accuracy: 0.9464 - val_loss: 0.3141 - val_accuracy: 0.8938\n"
     ]
    }
   ],
   "source": [
    "n_epochs = 25\n",
    "onecycle = OneCycleScheduler(len(X_train) // batch_size * n_epochs, max_rate=0.05)\n",
    "history = model.fit(X_train_scaled, y_train, epochs=n_epochs, batch_size=batch_size,\n",
    "                    validation_data=(X_valid_scaled, y_valid),\n",
    "                    callbacks=[onecycle])"
   ]
  },
  {
   "cell_type": "markdown",
   "metadata": {},
   "source": [
    "Avoiding Overfitting Through Regularization\n",
    "\n",
    "$\\ell_1$ and $\\ell_2$ regularization\n",
    "\n",
    "$\\ell_1$ - Lasso regression -> for sparse models\n",
    "Lasso Regression (Least Absolute Shrinkage and Selection Operator) adds “absolute value of magnitude” of coefficient as penalty term to the loss function.\n",
    "\n",
    "$\\ell_2$ - Ridge Regression \n",
    "Adds “squared magnitude” of coefficient as penalty term to the loss function\n"
   ]
  },
  {
   "cell_type": "code",
   "execution_count": 110,
   "metadata": {},
   "outputs": [],
   "source": [
    "layer = keras.layers.Dense(100, activation=\"elu\",\n",
    "                           kernel_initializer=\"he_normal\",\n",
    "                           kernel_regularizer=keras.regularizers.l2(0.01))\n",
    "# or l1(0.1) for ℓ1 regularization with a factor or 0.1\n",
    "# or l1_l2(0.1, 0.01) for both ℓ1 and ℓ2 regularization, with factors 0.1 and 0.01 respectively"
   ]
  },
  {
   "cell_type": "code",
   "execution_count": 111,
   "metadata": {},
   "outputs": [
    {
     "name": "stdout",
     "output_type": "stream",
     "text": [
      "Train on 55000 samples, validate on 5000 samples\n",
      "Epoch 1/2\n",
      "55000/55000 [==============================] - 35s 630us/sample - loss: 1.6084 - accuracy: 0.8122 - val_loss: 0.7196 - val_accuracy: 0.8330\n",
      "Epoch 2/2\n",
      "55000/55000 [==============================] - 33s 608us/sample - loss: 0.7226 - accuracy: 0.8263 - val_loss: 0.6988 - val_accuracy: 0.8346\n"
     ]
    }
   ],
   "source": [
    "model = keras.models.Sequential([\n",
    "    keras.layers.Flatten(input_shape=[28, 28]),\n",
    "    keras.layers.Dense(300, activation=\"elu\",\n",
    "                       kernel_initializer=\"he_normal\",\n",
    "                       kernel_regularizer=keras.regularizers.l2(0.01)),\n",
    "    keras.layers.Dense(100, activation=\"elu\",\n",
    "                       kernel_initializer=\"he_normal\",\n",
    "                       kernel_regularizer=keras.regularizers.l2(0.01)),\n",
    "    keras.layers.Dense(10, activation=\"softmax\",\n",
    "                       kernel_regularizer=keras.regularizers.l2(0.01))\n",
    "])\n",
    "model.compile(loss=\"sparse_categorical_crossentropy\", optimizer=\"nadam\", metrics=[\"accuracy\"])\n",
    "n_epochs = 2\n",
    "history = model.fit(X_train_scaled, y_train, epochs=n_epochs,\n",
    "                    validation_data=(X_valid_scaled, y_valid))"
   ]
  },
  {
   "cell_type": "code",
   "execution_count": 112,
   "metadata": {},
   "outputs": [
    {
     "name": "stdout",
     "output_type": "stream",
     "text": [
      "Train on 55000 samples, validate on 5000 samples\n",
      "Epoch 1/2\n",
      "55000/55000 [==============================] - 34s 627us/sample - loss: 1.6791 - accuracy: 0.8116 - val_loss: 0.7414 - val_accuracy: 0.8216\n",
      "Epoch 2/2\n",
      "55000/55000 [==============================] - 14s 247us/sample - loss: 0.7186 - accuracy: 0.8268 - val_loss: 0.7202 - val_accuracy: 0.8182\n"
     ]
    }
   ],
   "source": [
    "# Use python functools.partial() to create thin wrapper around any callable Dense\n",
    "from functools import partial\n",
    "\n",
    "RegularizedDense = partial(keras.layers.Dense,\n",
    "                           activation=\"elu\",\n",
    "                           kernel_initializer=\"he_normal\",\n",
    "                           kernel_regularizer=keras.regularizers.l2(0.01))\n",
    "\n",
    "model = keras.models.Sequential([\n",
    "    keras.layers.Flatten(input_shape=[28, 28]),\n",
    "    RegularizedDense(300),\n",
    "    RegularizedDense(100),\n",
    "    RegularizedDense(10, activation=\"softmax\")\n",
    "])\n",
    "model.compile(loss=\"sparse_categorical_crossentropy\", optimizer=\"nadam\", metrics=[\"accuracy\"])\n",
    "n_epochs = 2\n",
    "history = model.fit(X_train_scaled, y_train, epochs=n_epochs,\n",
    "                    validation_data=(X_valid_scaled, y_valid))"
   ]
  },
  {
   "cell_type": "markdown",
   "metadata": {},
   "source": [
    "**Dropout**\n",
    "\n",
    "At every training step, every neuron ( including input ) has probabilty to being \"dropped out\" - it would be ignored during current step.\n",
    "\n",
    "During testing every input connection is multiplied by 1/p to compensate for droput rate."
   ]
  },
  {
   "cell_type": "code",
   "execution_count": 113,
   "metadata": {},
   "outputs": [
    {
     "name": "stdout",
     "output_type": "stream",
     "text": [
      "Train on 55000 samples, validate on 5000 samples\n",
      "Epoch 1/2\n",
      "55000/55000 [==============================] - 6s 111us/sample - loss: 0.5734 - accuracy: 0.8024 - val_loss: 0.3863 - val_accuracy: 0.8596\n",
      "Epoch 2/2\n",
      "55000/55000 [==============================] - 5s 95us/sample - loss: 0.4248 - accuracy: 0.8434 - val_loss: 0.3435 - val_accuracy: 0.8736\n"
     ]
    }
   ],
   "source": [
    "model = keras.models.Sequential([\n",
    "    keras.layers.Flatten(input_shape=[28, 28]),\n",
    "    keras.layers.Dropout(rate=0.2),\n",
    "    keras.layers.Dense(300, activation=\"elu\", kernel_initializer=\"he_normal\"),\n",
    "    keras.layers.Dropout(rate=0.2),\n",
    "    keras.layers.Dense(100, activation=\"elu\", kernel_initializer=\"he_normal\"),\n",
    "    keras.layers.Dropout(rate=0.2),\n",
    "    keras.layers.Dense(10, activation=\"softmax\")\n",
    "])\n",
    "model.compile(loss=\"sparse_categorical_crossentropy\", optimizer=\"nadam\", metrics=[\"accuracy\"])\n",
    "n_epochs = 2\n",
    "history = model.fit(X_train_scaled, y_train, epochs=n_epochs,\n",
    "                    validation_data=(X_valid_scaled, y_valid))"
   ]
  },
  {
   "cell_type": "markdown",
   "metadata": {},
   "source": [
    "**Alpha Droput**\n",
    "\n",
    "Dropout that keeps mean and variance of inputs to their original values, in order to ensure the self-normalizing property even after this dropout. Alpha Dropout fits well to Scaled Exponential Linear Units by randomly setting activations to the negative saturation value."
   ]
  },
  {
   "cell_type": "code",
   "execution_count": 114,
   "metadata": {},
   "outputs": [
    {
     "name": "stdout",
     "output_type": "stream",
     "text": [
      "Train on 55000 samples, validate on 5000 samples\n",
      "Epoch 1/20\n",
      "55000/55000 [==============================] - 5s 91us/sample - loss: 0.6633 - accuracy: 0.7585 - val_loss: 0.6329 - val_accuracy: 0.8282\n",
      "Epoch 2/20\n",
      "55000/55000 [==============================] - 4s 80us/sample - loss: 0.5612 - accuracy: 0.7946 - val_loss: 0.5640 - val_accuracy: 0.8450\n",
      "Epoch 3/20\n",
      "55000/55000 [==============================] - 4s 77us/sample - loss: 0.5239 - accuracy: 0.8058 - val_loss: 0.4829 - val_accuracy: 0.8540\n",
      "Epoch 4/20\n",
      "55000/55000 [==============================] - 4s 78us/sample - loss: 0.5035 - accuracy: 0.8151 - val_loss: 0.4912 - val_accuracy: 0.8544\n",
      "Epoch 5/20\n",
      "55000/55000 [==============================] - 4s 78us/sample - loss: 0.4927 - accuracy: 0.8187 - val_loss: 0.4627 - val_accuracy: 0.8586\n",
      "Epoch 6/20\n",
      "55000/55000 [==============================] - 4s 77us/sample - loss: 0.4850 - accuracy: 0.8213 - val_loss: 0.4714 - val_accuracy: 0.8622\n",
      "Epoch 7/20\n",
      "55000/55000 [==============================] - 4s 77us/sample - loss: 0.4693 - accuracy: 0.8253 - val_loss: 0.4507 - val_accuracy: 0.8690\n",
      "Epoch 8/20\n",
      "55000/55000 [==============================] - 4s 79us/sample - loss: 0.4620 - accuracy: 0.8285 - val_loss: 0.4227 - val_accuracy: 0.8730\n",
      "Epoch 9/20\n",
      "55000/55000 [==============================] - 4s 77us/sample - loss: 0.4593 - accuracy: 0.8291 - val_loss: 0.4150 - val_accuracy: 0.8740\n",
      "Epoch 10/20\n",
      "55000/55000 [==============================] - 4s 78us/sample - loss: 0.4513 - accuracy: 0.8322 - val_loss: 0.4294 - val_accuracy: 0.8688\n",
      "Epoch 11/20\n",
      "55000/55000 [==============================] - 4s 77us/sample - loss: 0.4492 - accuracy: 0.8339 - val_loss: 0.4253 - val_accuracy: 0.8660\n",
      "Epoch 12/20\n",
      "55000/55000 [==============================] - 4s 77us/sample - loss: 0.4455 - accuracy: 0.8352 - val_loss: 0.4501 - val_accuracy: 0.8628\n",
      "Epoch 13/20\n",
      "55000/55000 [==============================] - 4s 78us/sample - loss: 0.4390 - accuracy: 0.8385 - val_loss: 0.4199 - val_accuracy: 0.8694\n",
      "Epoch 14/20\n",
      "55000/55000 [==============================] - 4s 79us/sample - loss: 0.4403 - accuracy: 0.8366 - val_loss: 0.4323 - val_accuracy: 0.8610\n",
      "Epoch 15/20\n",
      "55000/55000 [==============================] - 4s 78us/sample - loss: 0.4316 - accuracy: 0.8406 - val_loss: 0.4087 - val_accuracy: 0.8746\n",
      "Epoch 16/20\n",
      "55000/55000 [==============================] - 4s 80us/sample - loss: 0.4281 - accuracy: 0.8421 - val_loss: 0.4071 - val_accuracy: 0.8774\n",
      "Epoch 17/20\n",
      "55000/55000 [==============================] - 4s 77us/sample - loss: 0.4319 - accuracy: 0.8387 - val_loss: 0.4205 - val_accuracy: 0.8660\n",
      "Epoch 18/20\n",
      "55000/55000 [==============================] - 5s 83us/sample - loss: 0.4255 - accuracy: 0.8424 - val_loss: 0.4105 - val_accuracy: 0.8738\n",
      "Epoch 19/20\n",
      "55000/55000 [==============================] - 5s 89us/sample - loss: 0.4208 - accuracy: 0.8440 - val_loss: 0.4758 - val_accuracy: 0.8674\n",
      "Epoch 20/20\n",
      "55000/55000 [==============================] - 5s 84us/sample - loss: 0.4213 - accuracy: 0.8445 - val_loss: 0.4452 - val_accuracy: 0.8696\n"
     ]
    }
   ],
   "source": [
    "model = keras.models.Sequential([\n",
    "    keras.layers.Flatten(input_shape=[28, 28]),\n",
    "    keras.layers.AlphaDropout(rate=0.2),\n",
    "    keras.layers.Dense(300, activation=\"selu\", kernel_initializer=\"lecun_normal\"),\n",
    "    keras.layers.AlphaDropout(rate=0.2),\n",
    "    keras.layers.Dense(100, activation=\"selu\", kernel_initializer=\"lecun_normal\"),\n",
    "    keras.layers.AlphaDropout(rate=0.2),\n",
    "    keras.layers.Dense(10, activation=\"softmax\")\n",
    "])\n",
    "optimizer = keras.optimizers.SGD(lr=0.01, momentum=0.9, nesterov=True)\n",
    "model.compile(loss=\"sparse_categorical_crossentropy\", optimizer=optimizer, metrics=[\"accuracy\"])\n",
    "n_epochs = 20\n",
    "history = model.fit(X_train_scaled, y_train, epochs=n_epochs,\n",
    "                    validation_data=(X_valid_scaled, y_valid))"
   ]
  },
  {
   "cell_type": "code",
   "execution_count": 116,
   "metadata": {},
   "outputs": [
    {
     "name": "stdout",
     "output_type": "stream",
     "text": [
      "10000/10000 [==============================] - 1s 51us/sample - loss: 0.5000 - accuracy: 0.8597\n",
      "55000/55000 [==============================] - 3s 51us/sample - loss: 0.3738 - accuracy: 0.8819\n"
     ]
    },
    {
     "data": {
      "text/plain": [
       "[0.37381767154065043, 0.88192725]"
      ]
     },
     "execution_count": 116,
     "metadata": {},
     "output_type": "execute_result"
    }
   ],
   "source": [
    "model.evaluate(X_test_scaled, y_test)\n",
    "model.evaluate(X_train_scaled, y_train)"
   ]
  },
  {
   "cell_type": "code",
   "execution_count": 117,
   "metadata": {},
   "outputs": [
    {
     "name": "stdout",
     "output_type": "stream",
     "text": [
      "Train on 55000 samples\n",
      "55000/55000 [==============================] - 5s 83us/sample - loss: 0.4185 - accuracy: 0.8435\n"
     ]
    }
   ],
   "source": [
    "history = model.fit(X_train_scaled, y_train)"
   ]
  },
  {
   "cell_type": "code",
   "execution_count": 118,
   "metadata": {},
   "outputs": [
    {
     "name": "stdout",
     "output_type": "stream",
     "text": [
      "10000/10000 [==============================] - 1s 54us/sample - loss: 0.4427 - accuracy: 0.8693\n",
      "55000/55000 [==============================] - ETA: 0s - loss: 0.3223 - accuracy: 0.89 - 3s 50us/sample - loss: 0.3222 - accuracy: 0.8936\n"
     ]
    },
    {
     "data": {
      "text/plain": [
       "[0.322177374481613, 0.8936]"
      ]
     },
     "execution_count": 118,
     "metadata": {},
     "output_type": "execute_result"
    }
   ],
   "source": [
    "model.evaluate(X_test_scaled, y_test)\n",
    "model.evaluate(X_train_scaled, y_train)"
   ]
  },
  {
   "cell_type": "markdown",
   "metadata": {},
   "source": [
    "**MC Dropout**\n",
    "\n",
    "Monte Carlo dropout.\n",
    "When making prediction we don't turn off dropout layers. We make many predictions with different neurons being droput and average predictions."
   ]
  },
  {
   "cell_type": "code",
   "execution_count": 121,
   "metadata": {},
   "outputs": [],
   "source": [
    "# we make 100 predictions over test set & stack them. All the predictions will be different. \n",
    "y_probas = np.stack([model(X_test_scaled, training=True) # [100, 10000, 10]\n",
    "                     for sample in range(100)]) \n",
    "y_proba = y_probas.mean(axis=0) # [10000, 10]\n",
    "y_std = y_probas.std(axis=0)"
   ]
  },
  {
   "cell_type": "code",
   "execution_count": 122,
   "metadata": {},
   "outputs": [
    {
     "data": {
      "text/plain": [
       "array([[0., 0., 0., 0., 0., 0., 0., 0., 0., 1.]], dtype=float32)"
      ]
     },
     "execution_count": 122,
     "metadata": {},
     "output_type": "execute_result"
    }
   ],
   "source": [
    "np.round(model.predict(X_test_scaled[:1]), 2) # dropout off"
   ]
  },
  {
   "cell_type": "code",
   "execution_count": 123,
   "metadata": {},
   "outputs": [
    {
     "data": {
      "text/plain": [
       "array([[[0.  , 0.  , 0.  , 0.  , 0.  , 0.  , 0.  , 0.07, 0.  , 0.93]],\n",
       "\n",
       "       [[0.  , 0.  , 0.  , 0.  , 0.  , 0.07, 0.  , 0.19, 0.  , 0.75]],\n",
       "\n",
       "       [[0.  , 0.  , 0.  , 0.  , 0.  , 0.  , 0.  , 0.49, 0.  , 0.51]],\n",
       "\n",
       "       [[0.  , 0.  , 0.  , 0.  , 0.  , 0.03, 0.  , 0.02, 0.  , 0.95]],\n",
       "\n",
       "       [[0.  , 0.  , 0.  , 0.  , 0.  , 0.05, 0.  , 0.77, 0.  , 0.18]],\n",
       "\n",
       "       [[0.  , 0.  , 0.  , 0.  , 0.  , 0.01, 0.  , 0.65, 0.  , 0.34]],\n",
       "\n",
       "       [[0.  , 0.  , 0.  , 0.  , 0.  , 0.01, 0.  , 0.1 , 0.  , 0.89]],\n",
       "\n",
       "       [[0.  , 0.  , 0.  , 0.  , 0.  , 0.  , 0.  , 0.09, 0.  , 0.91]],\n",
       "\n",
       "       [[0.  , 0.  , 0.  , 0.  , 0.  , 0.03, 0.  , 0.04, 0.  , 0.93]],\n",
       "\n",
       "       [[0.  , 0.  , 0.  , 0.  , 0.  , 0.02, 0.  , 0.14, 0.  , 0.85]],\n",
       "\n",
       "       [[0.  , 0.  , 0.  , 0.  , 0.  , 0.  , 0.  , 0.11, 0.  , 0.89]],\n",
       "\n",
       "       [[0.  , 0.  , 0.  , 0.  , 0.  , 0.  , 0.  , 0.78, 0.  , 0.22]],\n",
       "\n",
       "       [[0.  , 0.  , 0.  , 0.  , 0.  , 0.  , 0.  , 0.01, 0.  , 0.99]],\n",
       "\n",
       "       [[0.  , 0.  , 0.  , 0.  , 0.  , 0.  , 0.  , 0.  , 0.  , 1.  ]],\n",
       "\n",
       "       [[0.  , 0.  , 0.  , 0.  , 0.  , 0.2 , 0.  , 0.28, 0.  , 0.52]],\n",
       "\n",
       "       [[0.  , 0.  , 0.  , 0.  , 0.  , 0.02, 0.  , 0.25, 0.  , 0.73]],\n",
       "\n",
       "       [[0.  , 0.  , 0.  , 0.  , 0.  , 0.  , 0.  , 0.03, 0.  , 0.97]],\n",
       "\n",
       "       [[0.  , 0.  , 0.  , 0.  , 0.  , 0.01, 0.  , 0.25, 0.  , 0.74]],\n",
       "\n",
       "       [[0.  , 0.  , 0.  , 0.  , 0.  , 0.01, 0.  , 0.05, 0.  , 0.94]],\n",
       "\n",
       "       [[0.  , 0.  , 0.  , 0.  , 0.  , 0.  , 0.  , 0.01, 0.  , 0.99]],\n",
       "\n",
       "       [[0.01, 0.  , 0.01, 0.  , 0.01, 0.18, 0.07, 0.27, 0.  , 0.46]],\n",
       "\n",
       "       [[0.  , 0.  , 0.  , 0.  , 0.  , 0.  , 0.  , 0.64, 0.  , 0.36]],\n",
       "\n",
       "       [[0.  , 0.  , 0.  , 0.  , 0.  , 0.04, 0.  , 0.2 , 0.  , 0.76]],\n",
       "\n",
       "       [[0.  , 0.  , 0.  , 0.  , 0.  , 0.  , 0.  , 0.13, 0.  , 0.87]],\n",
       "\n",
       "       [[0.  , 0.  , 0.  , 0.  , 0.  , 0.  , 0.  , 0.03, 0.  , 0.97]],\n",
       "\n",
       "       [[0.  , 0.  , 0.  , 0.  , 0.  , 0.01, 0.  , 0.03, 0.  , 0.96]],\n",
       "\n",
       "       [[0.  , 0.  , 0.  , 0.  , 0.  , 0.01, 0.  , 0.27, 0.  , 0.73]],\n",
       "\n",
       "       [[0.  , 0.  , 0.  , 0.  , 0.  , 0.02, 0.  , 0.68, 0.  , 0.31]],\n",
       "\n",
       "       [[0.  , 0.  , 0.  , 0.  , 0.  , 0.06, 0.  , 0.42, 0.  , 0.51]],\n",
       "\n",
       "       [[0.  , 0.  , 0.  , 0.  , 0.  , 0.01, 0.  , 0.05, 0.  , 0.94]],\n",
       "\n",
       "       [[0.  , 0.  , 0.  , 0.  , 0.  , 0.04, 0.  , 0.31, 0.  , 0.65]],\n",
       "\n",
       "       [[0.  , 0.  , 0.  , 0.  , 0.  , 0.  , 0.  , 0.2 , 0.  , 0.8 ]],\n",
       "\n",
       "       [[0.  , 0.  , 0.  , 0.  , 0.  , 0.01, 0.  , 0.04, 0.  , 0.95]],\n",
       "\n",
       "       [[0.  , 0.  , 0.  , 0.  , 0.  , 0.43, 0.  , 0.  , 0.  , 0.57]],\n",
       "\n",
       "       [[0.  , 0.  , 0.  , 0.  , 0.  , 0.03, 0.  , 0.21, 0.  , 0.76]],\n",
       "\n",
       "       [[0.  , 0.  , 0.  , 0.  , 0.  , 0.16, 0.  , 0.1 , 0.  , 0.74]],\n",
       "\n",
       "       [[0.  , 0.  , 0.  , 0.  , 0.  , 0.35, 0.  , 0.16, 0.  , 0.49]],\n",
       "\n",
       "       [[0.  , 0.  , 0.  , 0.  , 0.  , 0.01, 0.  , 0.13, 0.  , 0.86]],\n",
       "\n",
       "       [[0.  , 0.  , 0.  , 0.  , 0.  , 0.01, 0.  , 0.06, 0.  , 0.93]],\n",
       "\n",
       "       [[0.  , 0.  , 0.  , 0.  , 0.  , 0.03, 0.  , 0.28, 0.  , 0.7 ]],\n",
       "\n",
       "       [[0.  , 0.  , 0.  , 0.  , 0.  , 0.  , 0.  , 0.04, 0.  , 0.96]],\n",
       "\n",
       "       [[0.  , 0.  , 0.  , 0.  , 0.  , 0.  , 0.  , 0.12, 0.  , 0.87]],\n",
       "\n",
       "       [[0.  , 0.  , 0.  , 0.  , 0.  , 0.06, 0.  , 0.08, 0.  , 0.86]],\n",
       "\n",
       "       [[0.  , 0.  , 0.  , 0.  , 0.  , 0.  , 0.  , 0.04, 0.  , 0.96]],\n",
       "\n",
       "       [[0.  , 0.  , 0.  , 0.  , 0.  , 0.01, 0.  , 0.18, 0.  , 0.81]],\n",
       "\n",
       "       [[0.  , 0.  , 0.  , 0.  , 0.  , 0.08, 0.  , 0.73, 0.  , 0.19]],\n",
       "\n",
       "       [[0.  , 0.  , 0.  , 0.  , 0.  , 0.01, 0.  , 0.02, 0.  , 0.97]],\n",
       "\n",
       "       [[0.  , 0.  , 0.  , 0.  , 0.  , 0.01, 0.  , 0.26, 0.  , 0.73]],\n",
       "\n",
       "       [[0.  , 0.  , 0.  , 0.  , 0.  , 0.01, 0.  , 0.06, 0.  , 0.93]],\n",
       "\n",
       "       [[0.  , 0.  , 0.  , 0.  , 0.  , 0.01, 0.  , 0.37, 0.  , 0.62]],\n",
       "\n",
       "       [[0.  , 0.  , 0.  , 0.  , 0.  , 0.  , 0.  , 0.3 , 0.  , 0.7 ]],\n",
       "\n",
       "       [[0.  , 0.  , 0.  , 0.  , 0.  , 0.01, 0.  , 0.02, 0.  , 0.97]],\n",
       "\n",
       "       [[0.  , 0.  , 0.  , 0.  , 0.  , 0.41, 0.  , 0.02, 0.  , 0.57]],\n",
       "\n",
       "       [[0.  , 0.  , 0.  , 0.  , 0.  , 0.07, 0.  , 0.06, 0.  , 0.87]],\n",
       "\n",
       "       [[0.  , 0.  , 0.  , 0.  , 0.  , 0.05, 0.  , 0.03, 0.  , 0.92]],\n",
       "\n",
       "       [[0.  , 0.  , 0.  , 0.  , 0.  , 0.  , 0.  , 0.05, 0.  , 0.95]],\n",
       "\n",
       "       [[0.  , 0.  , 0.  , 0.  , 0.  , 0.  , 0.  , 0.09, 0.  , 0.91]],\n",
       "\n",
       "       [[0.  , 0.  , 0.  , 0.  , 0.  , 0.1 , 0.  , 0.19, 0.  , 0.71]],\n",
       "\n",
       "       [[0.  , 0.  , 0.  , 0.  , 0.  , 0.01, 0.  , 0.25, 0.  , 0.75]],\n",
       "\n",
       "       [[0.  , 0.  , 0.  , 0.  , 0.  , 0.04, 0.  , 0.44, 0.  , 0.52]],\n",
       "\n",
       "       [[0.  , 0.  , 0.  , 0.  , 0.  , 0.  , 0.  , 0.04, 0.  , 0.96]],\n",
       "\n",
       "       [[0.  , 0.  , 0.  , 0.  , 0.  , 0.  , 0.  , 0.44, 0.  , 0.56]],\n",
       "\n",
       "       [[0.  , 0.  , 0.  , 0.  , 0.  , 0.71, 0.  , 0.24, 0.  , 0.05]],\n",
       "\n",
       "       [[0.  , 0.  , 0.  , 0.  , 0.  , 0.01, 0.  , 0.34, 0.  , 0.65]],\n",
       "\n",
       "       [[0.  , 0.  , 0.  , 0.  , 0.  , 0.02, 0.  , 0.16, 0.  , 0.83]],\n",
       "\n",
       "       [[0.  , 0.  , 0.  , 0.  , 0.  , 0.03, 0.  , 0.5 , 0.  , 0.47]],\n",
       "\n",
       "       [[0.  , 0.  , 0.  , 0.  , 0.  , 0.01, 0.  , 0.1 , 0.  , 0.9 ]],\n",
       "\n",
       "       [[0.  , 0.  , 0.  , 0.  , 0.  , 0.09, 0.  , 0.79, 0.  , 0.12]],\n",
       "\n",
       "       [[0.  , 0.  , 0.  , 0.  , 0.  , 0.13, 0.  , 0.32, 0.  , 0.55]],\n",
       "\n",
       "       [[0.  , 0.  , 0.  , 0.  , 0.  , 0.01, 0.  , 0.04, 0.  , 0.95]],\n",
       "\n",
       "       [[0.  , 0.  , 0.  , 0.  , 0.  , 0.2 , 0.  , 0.42, 0.  , 0.38]],\n",
       "\n",
       "       [[0.  , 0.  , 0.  , 0.  , 0.  , 0.01, 0.  , 0.88, 0.  , 0.11]],\n",
       "\n",
       "       [[0.  , 0.  , 0.  , 0.  , 0.  , 0.01, 0.  , 0.05, 0.  , 0.94]],\n",
       "\n",
       "       [[0.  , 0.  , 0.  , 0.  , 0.  , 0.  , 0.  , 0.  , 0.  , 0.99]],\n",
       "\n",
       "       [[0.  , 0.  , 0.  , 0.  , 0.  , 0.  , 0.  , 0.29, 0.  , 0.71]],\n",
       "\n",
       "       [[0.  , 0.  , 0.  , 0.  , 0.  , 0.  , 0.  , 0.26, 0.  , 0.74]],\n",
       "\n",
       "       [[0.  , 0.  , 0.  , 0.  , 0.  , 0.11, 0.  , 0.12, 0.  , 0.77]],\n",
       "\n",
       "       [[0.  , 0.  , 0.  , 0.  , 0.  , 0.  , 0.  , 0.01, 0.  , 0.99]],\n",
       "\n",
       "       [[0.  , 0.  , 0.  , 0.  , 0.  , 0.  , 0.  , 0.33, 0.  , 0.67]],\n",
       "\n",
       "       [[0.  , 0.  , 0.  , 0.  , 0.  , 0.04, 0.  , 0.07, 0.  , 0.89]],\n",
       "\n",
       "       [[0.  , 0.  , 0.  , 0.  , 0.  , 0.  , 0.  , 0.87, 0.  , 0.13]],\n",
       "\n",
       "       [[0.  , 0.  , 0.  , 0.  , 0.  , 0.01, 0.  , 0.13, 0.  , 0.86]],\n",
       "\n",
       "       [[0.  , 0.  , 0.  , 0.  , 0.  , 0.  , 0.  , 0.06, 0.  , 0.94]],\n",
       "\n",
       "       [[0.  , 0.  , 0.  , 0.  , 0.  , 0.01, 0.  , 0.05, 0.  , 0.94]],\n",
       "\n",
       "       [[0.  , 0.  , 0.  , 0.  , 0.  , 0.02, 0.  , 0.37, 0.  , 0.61]],\n",
       "\n",
       "       [[0.  , 0.  , 0.  , 0.  , 0.  , 0.  , 0.  , 0.15, 0.  , 0.85]],\n",
       "\n",
       "       [[0.  , 0.  , 0.  , 0.  , 0.  , 0.07, 0.  , 0.28, 0.  , 0.65]],\n",
       "\n",
       "       [[0.  , 0.  , 0.  , 0.  , 0.  , 0.  , 0.  , 0.12, 0.  , 0.88]],\n",
       "\n",
       "       [[0.  , 0.  , 0.  , 0.  , 0.  , 0.  , 0.  , 0.05, 0.  , 0.94]],\n",
       "\n",
       "       [[0.  , 0.  , 0.  , 0.  , 0.  , 0.  , 0.  , 0.  , 0.  , 1.  ]],\n",
       "\n",
       "       [[0.  , 0.  , 0.  , 0.  , 0.  , 0.  , 0.  , 0.04, 0.  , 0.95]],\n",
       "\n",
       "       [[0.  , 0.  , 0.  , 0.  , 0.  , 0.  , 0.  , 0.01, 0.  , 0.99]],\n",
       "\n",
       "       [[0.  , 0.  , 0.  , 0.  , 0.  , 0.  , 0.  , 0.01, 0.  , 0.99]],\n",
       "\n",
       "       [[0.  , 0.  , 0.  , 0.  , 0.  , 0.01, 0.  , 0.1 , 0.  , 0.89]],\n",
       "\n",
       "       [[0.  , 0.  , 0.  , 0.  , 0.  , 0.  , 0.  , 0.02, 0.  , 0.98]],\n",
       "\n",
       "       [[0.  , 0.  , 0.  , 0.  , 0.  , 0.  , 0.  , 0.04, 0.  , 0.96]],\n",
       "\n",
       "       [[0.  , 0.  , 0.  , 0.  , 0.  , 0.02, 0.  , 0.7 , 0.  , 0.28]],\n",
       "\n",
       "       [[0.  , 0.  , 0.  , 0.  , 0.  , 0.04, 0.  , 0.49, 0.  , 0.47]],\n",
       "\n",
       "       [[0.  , 0.  , 0.  , 0.  , 0.  , 0.  , 0.  , 0.02, 0.  , 0.98]],\n",
       "\n",
       "       [[0.  , 0.  , 0.  , 0.  , 0.  , 0.  , 0.  , 0.74, 0.  , 0.26]]],\n",
       "      dtype=float32)"
      ]
     },
     "execution_count": 123,
     "metadata": {},
     "output_type": "execute_result"
    }
   ],
   "source": [
    "np.round(y_probas[:, :1], 2) # dropout on"
   ]
  },
  {
   "cell_type": "code",
   "execution_count": 125,
   "metadata": {},
   "outputs": [
    {
     "data": {
      "text/plain": [
       "array([[0.  , 0.  , 0.  , 0.  , 0.  , 0.04, 0.  , 0.22, 0.  , 0.74],\n",
       "       [0.  , 0.  , 0.97, 0.  , 0.01, 0.  , 0.02, 0.  , 0.  , 0.  ]],\n",
       "      dtype=float32)"
      ]
     },
     "execution_count": 125,
     "metadata": {},
     "output_type": "execute_result"
    }
   ],
   "source": [
    "np.round(y_proba[:2], 2)"
   ]
  },
  {
   "cell_type": "code",
   "execution_count": 126,
   "metadata": {},
   "outputs": [
    {
     "data": {
      "text/plain": [
       "array([[0.  , 0.  , 0.  , 0.  , 0.  , 0.1 , 0.01, 0.23, 0.  , 0.25],\n",
       "       [0.  , 0.  , 0.05, 0.  , 0.02, 0.  , 0.04, 0.  , 0.  , 0.  ]],\n",
       "      dtype=float32)"
      ]
     },
     "execution_count": 126,
     "metadata": {},
     "output_type": "execute_result"
    }
   ],
   "source": [
    "y_std = y_probas.std(axis=0)\n",
    "np.round(y_std[:2], 2)"
   ]
  },
  {
   "cell_type": "code",
   "execution_count": 127,
   "metadata": {},
   "outputs": [],
   "source": [
    "y_pred = np.argmax(y_proba, axis=1)"
   ]
  },
  {
   "cell_type": "code",
   "execution_count": 128,
   "metadata": {},
   "outputs": [
    {
     "data": {
      "text/plain": [
       "0.8718"
      ]
     },
     "execution_count": 128,
     "metadata": {},
     "output_type": "execute_result"
    }
   ],
   "source": [
    "accuracy = np.sum(y_pred == y_test) / len(y_test)\n",
    "accuracy"
   ]
  },
  {
   "cell_type": "code",
   "execution_count": 129,
   "metadata": {},
   "outputs": [],
   "source": [
    "class MCDropout(keras.layers.Dropout):\n",
    "    def call(self, inputs):\n",
    "        return super().call(inputs, training=True)\n",
    "\n",
    "class MCAlphaDropout(keras.layers.AlphaDropout):\n",
    "    def call(self, inputs):\n",
    "        return super().call(inputs, training=True)"
   ]
  },
  {
   "cell_type": "code",
   "execution_count": 130,
   "metadata": {},
   "outputs": [],
   "source": [
    "mc_model = keras.models.Sequential([\n",
    "    MCAlphaDropout(layer.rate) if isinstance(layer, keras.layers.AlphaDropout) else layer\n",
    "    for layer in model.layers\n",
    "])\n"
   ]
  },
  {
   "cell_type": "code",
   "execution_count": 131,
   "metadata": {},
   "outputs": [
    {
     "name": "stdout",
     "output_type": "stream",
     "text": [
      "Model: \"sequential_24\"\n",
      "_________________________________________________________________\n",
      "Layer (type)                 Output Shape              Param #   \n",
      "=================================================================\n",
      "flatten_22 (Flatten)         (None, 784)               0         \n",
      "_________________________________________________________________\n",
      "mc_alpha_dropout (MCAlphaDro (None, 784)               0         \n",
      "_________________________________________________________________\n",
      "dense_470 (Dense)            (None, 300)               235500    \n",
      "_________________________________________________________________\n",
      "mc_alpha_dropout_1 (MCAlphaD (None, 300)               0         \n",
      "_________________________________________________________________\n",
      "dense_471 (Dense)            (None, 100)               30100     \n",
      "_________________________________________________________________\n",
      "mc_alpha_dropout_2 (MCAlphaD (None, 100)               0         \n",
      "_________________________________________________________________\n",
      "dense_472 (Dense)            (None, 10)                1010      \n",
      "=================================================================\n",
      "Total params: 266,610\n",
      "Trainable params: 266,610\n",
      "Non-trainable params: 0\n",
      "_________________________________________________________________\n"
     ]
    }
   ],
   "source": [
    "mc_model.summary()"
   ]
  },
  {
   "cell_type": "code",
   "execution_count": 132,
   "metadata": {},
   "outputs": [],
   "source": [
    "optimizer = keras.optimizers.SGD(lr=0.01, momentum=0.9, nesterov=True)\n",
    "mc_model.compile(loss=\"sparse_categorical_crossentropy\", optimizer=optimizer, metrics=[\"accuracy\"])"
   ]
  },
  {
   "cell_type": "code",
   "execution_count": 133,
   "metadata": {},
   "outputs": [],
   "source": [
    "mc_model.set_weights(model.get_weights())"
   ]
  },
  {
   "cell_type": "code",
   "execution_count": 134,
   "metadata": {},
   "outputs": [
    {
     "data": {
      "text/plain": [
       "array([[0.  , 0.  , 0.  , 0.  , 0.  , 0.03, 0.  , 0.18, 0.  , 0.79]],\n",
       "      dtype=float32)"
      ]
     },
     "execution_count": 134,
     "metadata": {},
     "output_type": "execute_result"
    }
   ],
   "source": [
    "# To use model with MCDropout:\n",
    "np.round(np.mean([mc_model.predict(X_test_scaled[:1]) for sample in range(100)], axis=0), 2)"
   ]
  },
  {
   "cell_type": "markdown",
   "metadata": {},
   "source": [
    "**Max norm**"
   ]
  },
  {
   "cell_type": "code",
   "execution_count": 135,
   "metadata": {},
   "outputs": [],
   "source": [
    "layer = keras.layers.Dense(100, activation=\"selu\", kernel_initializer=\"lecun_normal\",\n",
    "                           kernel_constraint=keras.constraints.max_norm(1.))"
   ]
  },
  {
   "cell_type": "code",
   "execution_count": 136,
   "metadata": {},
   "outputs": [
    {
     "name": "stdout",
     "output_type": "stream",
     "text": [
      "Train on 55000 samples, validate on 5000 samples\n",
      "Epoch 1/2\n",
      "55000/55000 [==============================] - 6s 107us/sample - loss: 0.4713 - accuracy: 0.8353 - val_loss: 0.3694 - val_accuracy: 0.8624\n",
      "Epoch 2/2\n",
      "55000/55000 [==============================] - 6s 100us/sample - loss: 0.3509 - accuracy: 0.8724 - val_loss: 0.3368 - val_accuracy: 0.8766\n"
     ]
    }
   ],
   "source": [
    "# or - using functools.partial():\n",
    "MaxNormDense = partial(keras.layers.Dense,\n",
    "                       activation=\"selu\", kernel_initializer=\"lecun_normal\",\n",
    "                       kernel_constraint=keras.constraints.max_norm(1.))\n",
    "\n",
    "model = keras.models.Sequential([\n",
    "    keras.layers.Flatten(input_shape=[28, 28]),\n",
    "    MaxNormDense(300),\n",
    "    MaxNormDense(100),\n",
    "    keras.layers.Dense(10, activation=\"softmax\")\n",
    "])\n",
    "model.compile(loss=\"sparse_categorical_crossentropy\", optimizer=\"nadam\", metrics=[\"accuracy\"])\n",
    "n_epochs = 2\n",
    "history = model.fit(X_train_scaled, y_train, epochs=n_epochs,\n",
    "                    validation_data=(X_valid_scaled, y_valid))"
   ]
  },
  {
   "cell_type": "code",
   "execution_count": 143,
   "metadata": {},
   "outputs": [],
   "source": [
    "from sklearn.model_selection import train_test_split\n",
    "(X_train_full, y_train_full), (X_test, y_test) = keras.datasets.cifar10.load_data()\n",
    "\n",
    "\n",
    "X_train, X_valid, y_train, y_valid = train_test_split(X_train_full, y_train_full, train_size=0.9)"
   ]
  },
  {
   "cell_type": "code",
   "execution_count": 144,
   "metadata": {},
   "outputs": [
    {
     "data": {
      "text/plain": [
       "((45000, 32, 32, 3), (5000, 32, 32, 3), (45000, 1), (5000, 1))"
      ]
     },
     "execution_count": 144,
     "metadata": {},
     "output_type": "execute_result"
    }
   ],
   "source": [
    "X_train.shape, X_valid.shape, y_train.shape, y_valid.shape"
   ]
  },
  {
   "cell_type": "code",
   "execution_count": 148,
   "metadata": {},
   "outputs": [],
   "source": [
    "import pandas as pd\n",
    "import matplotlib.pyplot as plt\n",
    "\n",
    "def plot_learning_curves(history):\n",
    "    pd.DataFrame(history.history).plot(figsize=(8, 5))\n",
    "    plt.grid(True)\n",
    "    plt.gca().set_ylim(0, 1) # vertical range to [0-1]\n",
    "    plt.show()"
   ]
  },
  {
   "cell_type": "code",
   "execution_count": 175,
   "metadata": {},
   "outputs": [],
   "source": [
    "def create_cifar_100_model():\n",
    "    cifar_model = keras.models.Sequential()\n",
    "\n",
    "    cifar_model.add(keras.layers.Flatten(input_shape=[32, 32, 3]))\n",
    "\n",
    "    for _ in range(20):\n",
    "        cifar_model.add(keras.layers.Dense(100, activation=\"elu\", kernel_initializer=\"he_normal\"))\n",
    "\n",
    "    cifar_model.add(keras.layers.Dense(10, activation=\"softmax\"))\n",
    "    return cifar_model"
   ]
  },
  {
   "cell_type": "code",
   "execution_count": 172,
   "metadata": {},
   "outputs": [],
   "source": [
    "model = keras.models.Sequential()\n",
    "model.add(keras.layers.Flatten(input_shape=[32, 32, 3]))\n",
    "for _ in range(20):\n",
    "    model.add(keras.layers.Dense(100,\n",
    "                                 activation=\"elu\",\n",
    "                                 kernel_initializer=\"he_normal\"))\n",
    "    \n",
    "\n",
    "model.add(keras.layers.Dense(10, activation=\"softmax\"))\n",
    "\n"
   ]
  },
  {
   "cell_type": "code",
   "execution_count": null,
   "metadata": {},
   "outputs": [],
   "source": [
    "optimizer = keras.optimizers.Nadam(lr=5e-5)\n",
    "model.compile(loss=\"sparse_categorical_crossentropy\",\n",
    "              optimizer=optimizer,\n",
    "              metrics=[\"accuracy\"])"
   ]
  },
  {
   "cell_type": "code",
   "execution_count": null,
   "metadata": {},
   "outputs": [],
   "source": [
    "cifar_model.summary()"
   ]
  },
  {
   "cell_type": "code",
   "execution_count": null,
   "metadata": {},
   "outputs": [],
   "source": [
    "model.compile(loss=\"sparse_categorical_crossentropy\",\n",
    "              optimizer=optimizer,\n",
    "              metrics=[\"accuracy\"])"
   ]
  },
  {
   "cell_type": "code",
   "execution_count": null,
   "metadata": {},
   "outputs": [],
   "source": [
    "nadam_optimizer = keras.optimizers.Nadam(lr=0.001)\n",
    "\n",
    "cifar_model.compile(loss=\"sparse_categorical_crossentropy\", optimizer=optimizer, metrics=[\"accuracy\"])\n",
    "history = cifar_model.fit(X_train, y_train, epochs=20, validation_data=(X_valid, y_valid))"
   ]
  },
  {
   "cell_type": "code",
   "execution_count": 155,
   "metadata": {},
   "outputs": [
    {
     "data": {
      "image/png": "[encoded data removed]",
      "text/plain": [
       "<Figure size 576x360 with 1 Axes>"
      ]
     },
     "metadata": {
      "needs_background": "light"
     },
     "output_type": "display_data"
    }
   ],
   "source": [
    "plot_learning_curves(history)"
   ]
  },
  {
   "cell_type": "code",
   "execution_count": 199,
   "metadata": {},
   "outputs": [],
   "source": [
    "def prepare_run_dir(index, postfix=\"\"):\n",
    "    run_logdir = os.path.join(os.curdir, \"my_logs\", \"cifar_logs\", \"run_{:s}_{:03d}\".format(postfix, index))\n",
    "    #run_logdir = os.path.join(os.curdir, \"my_cifar_logs\", \"run_{:03d}\".format(index))\n",
    "    return run_logdir"
   ]
  },
  {
   "cell_type": "code",
   "execution_count": 201,
   "metadata": {},
   "outputs": [],
   "source": [
    "def prepare_callbacks(logdir, modelname=\"my_cifar10_model.h5\"):\n",
    "    #cifar_logdir = os.path.join(os.curdir, \"my_logs\", \"cifar_logs\")\n",
    "    tensorboard_cb = keras.callbacks.TensorBoard(log_dir=logdir, write_graph=True, write_images=True)\n",
    "    early_stopping_cb = keras.callbacks.EarlyStopping(patience=10)\n",
    "    model_checkpoint_cb = keras.callbacks.ModelCheckpoint(modelname, save_best_only=True)\n",
    "    callbacks = [early_stopping_cb, model_checkpoint_cb, tensorboard_cb]\n",
    "    return callbacks"
   ]
  },
  {
   "cell_type": "code",
   "execution_count": 186,
   "metadata": {},
   "outputs": [
    {
     "name": "stdout",
     "output_type": "stream",
     "text": [
      "Train on 45000 samples, validate on 5000 samples\n",
      "Epoch 1/20\n",
      "45000/45000 [==============================] - 16s 354us/sample - loss: 39.2017 - accuracy: 0.1042 - val_loss: 6.3696 - val_accuracy: 0.1064\n",
      "Epoch 2/20\n",
      "45000/45000 [==============================] - 13s 300us/sample - loss: 4.5635 - accuracy: 0.1220 - val_loss: 3.4300 - val_accuracy: 0.1278\n",
      "Epoch 3/20\n",
      "45000/45000 [==============================] - 14s 314us/sample - loss: 3.0693 - accuracy: 0.1426 - val_loss: 2.7620 - val_accuracy: 0.1454\n",
      "Epoch 4/20\n",
      "45000/45000 [==============================] - 14s 306us/sample - loss: 2.6247 - accuracy: 0.1647 - val_loss: 2.4649 - val_accuracy: 0.1694\n",
      "Epoch 5/20\n",
      "45000/45000 [==============================] - 14s 316us/sample - loss: 2.3914 - accuracy: 0.1924 - val_loss: 2.2976 - val_accuracy: 0.2000\n",
      "Epoch 6/20\n",
      "45000/45000 [==============================] - 13s 298us/sample - loss: 2.2456 - accuracy: 0.2159 - val_loss: 2.1801 - val_accuracy: 0.2268\n",
      "Epoch 7/20\n",
      "45000/45000 [==============================] - 13s 290us/sample - loss: 2.1516 - accuracy: 0.2339 - val_loss: 2.1093 - val_accuracy: 0.2440\n",
      "Epoch 8/20\n",
      "45000/45000 [==============================] - 13s 289us/sample - loss: 2.0875 - accuracy: 0.2529 - val_loss: 2.0538 - val_accuracy: 0.2666\n",
      "Epoch 9/20\n",
      "45000/45000 [==============================] - 13s 292us/sample - loss: 2.0385 - accuracy: 0.2659 - val_loss: 2.0179 - val_accuracy: 0.2794\n",
      "Epoch 10/20\n",
      "45000/45000 [==============================] - 13s 291us/sample - loss: 1.9985 - accuracy: 0.2828 - val_loss: 1.9752 - val_accuracy: 0.2912\n",
      "Epoch 11/20\n",
      "45000/45000 [==============================] - 13s 292us/sample - loss: 1.9634 - accuracy: 0.2958 - val_loss: 1.9472 - val_accuracy: 0.3054\n",
      "Epoch 12/20\n",
      "45000/45000 [==============================] - 13s 291us/sample - loss: 1.9332 - accuracy: 0.3064 - val_loss: 1.9249 - val_accuracy: 0.3098\n",
      "Epoch 13/20\n",
      "45000/45000 [==============================] - 13s 291us/sample - loss: 1.9071 - accuracy: 0.3149 - val_loss: 1.9113 - val_accuracy: 0.3196\n",
      "Epoch 14/20\n",
      "45000/45000 [==============================] - 13s 292us/sample - loss: 1.8827 - accuracy: 0.3256 - val_loss: 1.8919 - val_accuracy: 0.3244\n",
      "Epoch 15/20\n",
      "45000/45000 [==============================] - 13s 289us/sample - loss: 1.8619 - accuracy: 0.3316 - val_loss: 1.8663 - val_accuracy: 0.3364\n",
      "Epoch 16/20\n",
      "45000/45000 [==============================] - 13s 287us/sample - loss: 1.8417 - accuracy: 0.3387 - val_loss: 1.8756 - val_accuracy: 0.3272\n",
      "Epoch 17/20\n",
      "45000/45000 [==============================] - 13s 291us/sample - loss: 1.8254 - accuracy: 0.3426 - val_loss: 1.8375 - val_accuracy: 0.3484\n",
      "Epoch 18/20\n",
      "45000/45000 [==============================] - 13s 289us/sample - loss: 1.8111 - accuracy: 0.3481 - val_loss: 1.8224 - val_accuracy: 0.3518\n",
      "Epoch 19/20\n",
      "45000/45000 [==============================] - 13s 288us/sample - loss: 1.7962 - accuracy: 0.3531 - val_loss: 1.8145 - val_accuracy: 0.3502\n",
      "Epoch 20/20\n",
      "45000/45000 [==============================] - 13s 290us/sample - loss: 1.7843 - accuracy: 0.3608 - val_loss: 1.8032 - val_accuracy: 0.3574\n",
      "5000/5000 [==============================] - 0s 72us/sample - loss: 1.8032 - accuracy: 0.3574\n",
      "Train on 45000 samples, validate on 5000 samples\n",
      "Epoch 1/20\n",
      "45000/45000 [==============================] - 15s 343us/sample - loss: 18.6428 - accuracy: 0.1169 - val_loss: 2.7155 - val_accuracy: 0.1558\n",
      "Epoch 2/20\n",
      "45000/45000 [==============================] - 13s 300us/sample - loss: 2.4696 - accuracy: 0.1626 - val_loss: 2.2949 - val_accuracy: 0.1756\n",
      "Epoch 3/20\n",
      "45000/45000 [==============================] - 14s 304us/sample - loss: 2.2167 - accuracy: 0.1990 - val_loss: 2.1617 - val_accuracy: 0.2064\n",
      "Epoch 4/20\n",
      "45000/45000 [==============================] - 13s 297us/sample - loss: 2.1066 - accuracy: 0.2306 - val_loss: 2.0777 - val_accuracy: 0.2438\n",
      "Epoch 5/20\n",
      "45000/45000 [==============================] - 13s 284us/sample - loss: 2.0277 - accuracy: 0.2589 - val_loss: 1.9990 - val_accuracy: 0.2682\n",
      "Epoch 6/20\n",
      "45000/45000 [==============================] - 12s 272us/sample - loss: 1.9616 - accuracy: 0.2824 - val_loss: 1.9194 - val_accuracy: 0.2922\n",
      "Epoch 7/20\n",
      "45000/45000 [==============================] - 13s 297us/sample - loss: 1.9091 - accuracy: 0.3036 - val_loss: 1.8912 - val_accuracy: 0.3004\n",
      "Epoch 8/20\n",
      "45000/45000 [==============================] - 13s 291us/sample - loss: 1.8679 - accuracy: 0.3199 - val_loss: 1.8551 - val_accuracy: 0.3192\n",
      "Epoch 9/20\n",
      "45000/45000 [==============================] - 13s 292us/sample - loss: 1.8315 - accuracy: 0.3331 - val_loss: 1.8240 - val_accuracy: 0.3306\n",
      "Epoch 10/20\n",
      "45000/45000 [==============================] - 13s 288us/sample - loss: 1.7993 - accuracy: 0.3464 - val_loss: 1.7904 - val_accuracy: 0.3492\n",
      "Epoch 11/20\n",
      "45000/45000 [==============================] - 13s 295us/sample - loss: 1.7724 - accuracy: 0.3573 - val_loss: 1.7815 - val_accuracy: 0.3548\n",
      "Epoch 12/20\n",
      "45000/45000 [==============================] - 13s 294us/sample - loss: 1.7475 - accuracy: 0.3670 - val_loss: 1.7833 - val_accuracy: 0.3542\n",
      "Epoch 13/20\n",
      "45000/45000 [==============================] - 13s 294us/sample - loss: 1.7301 - accuracy: 0.3729 - val_loss: 1.7330 - val_accuracy: 0.3728\n",
      "Epoch 14/20\n",
      "45000/45000 [==============================] - 13s 295us/sample - loss: 1.7092 - accuracy: 0.3802 - val_loss: 1.7282 - val_accuracy: 0.3790\n",
      "Epoch 15/20\n",
      "45000/45000 [==============================] - 13s 293us/sample - loss: 1.6921 - accuracy: 0.3879 - val_loss: 1.7177 - val_accuracy: 0.3836\n",
      "Epoch 16/20\n",
      "45000/45000 [==============================] - 13s 285us/sample - loss: 1.6773 - accuracy: 0.3934 - val_loss: 1.7208 - val_accuracy: 0.3804\n",
      "Epoch 17/20\n",
      "45000/45000 [==============================] - 13s 291us/sample - loss: 1.6597 - accuracy: 0.4018 - val_loss: 1.7069 - val_accuracy: 0.3896\n",
      "Epoch 18/20\n",
      "45000/45000 [==============================] - 13s 288us/sample - loss: 1.6473 - accuracy: 0.4064 - val_loss: 1.6892 - val_accuracy: 0.3954\n",
      "Epoch 19/20\n",
      "45000/45000 [==============================] - 13s 288us/sample - loss: 1.6352 - accuracy: 0.4096 - val_loss: 1.6767 - val_accuracy: 0.4008\n",
      "Epoch 20/20\n",
      "45000/45000 [==============================] - 13s 286us/sample - loss: 1.6221 - accuracy: 0.4152 - val_loss: 1.6707 - val_accuracy: 0.4044\n",
      "5000/5000 [==============================] - 0s 70us/sample - loss: 1.6707 - accuracy: 0.4044\n",
      "Train on 45000 samples, validate on 5000 samples\n",
      "Epoch 1/20\n",
      "45000/45000 [==============================] - 15s 343us/sample - loss: 6.1106 - accuracy: 0.1458 - val_loss: 2.2420 - val_accuracy: 0.2088\n",
      "Epoch 2/20\n",
      "45000/45000 [==============================] - 13s 284us/sample - loss: 2.1222 - accuracy: 0.2314 - val_loss: 2.0607 - val_accuracy: 0.2482\n",
      "Epoch 3/20\n",
      "45000/45000 [==============================] - 13s 283us/sample - loss: 1.9858 - accuracy: 0.2744 - val_loss: 1.9564 - val_accuracy: 0.2832\n",
      "Epoch 4/20\n",
      "45000/45000 [==============================] - 13s 282us/sample - loss: 1.8945 - accuracy: 0.3069 - val_loss: 1.8951 - val_accuracy: 0.3004\n",
      "Epoch 5/20\n",
      "45000/45000 [==============================] - 13s 291us/sample - loss: 1.8284 - accuracy: 0.3369 - val_loss: 1.8125 - val_accuracy: 0.3278\n",
      "Epoch 6/20\n",
      "45000/45000 [==============================] - 13s 284us/sample - loss: 1.7770 - accuracy: 0.3551 - val_loss: 1.7916 - val_accuracy: 0.3482\n",
      "Epoch 7/20\n",
      "45000/45000 [==============================] - 13s 282us/sample - loss: 1.7353 - accuracy: 0.3726 - val_loss: 1.7137 - val_accuracy: 0.3786\n",
      "Epoch 8/20\n",
      "45000/45000 [==============================] - 13s 281us/sample - loss: 1.6962 - accuracy: 0.3883 - val_loss: 1.7358 - val_accuracy: 0.3706\n",
      "Epoch 9/20\n",
      "45000/45000 [==============================] - 13s 286us/sample - loss: 1.6659 - accuracy: 0.3977 - val_loss: 1.6774 - val_accuracy: 0.3986\n",
      "Epoch 10/20\n",
      "45000/45000 [==============================] - 13s 286us/sample - loss: 1.6380 - accuracy: 0.4093 - val_loss: 1.7089 - val_accuracy: 0.3728\n",
      "Epoch 11/20\n",
      "45000/45000 [==============================] - 13s 288us/sample - loss: 1.6167 - accuracy: 0.4163 - val_loss: 1.6562 - val_accuracy: 0.3992\n",
      "Epoch 12/20\n",
      "45000/45000 [==============================] - 13s 285us/sample - loss: 1.5950 - accuracy: 0.4242 - val_loss: 1.6594 - val_accuracy: 0.4008\n"
     ]
    },
    {
     "name": "stdout",
     "output_type": "stream",
     "text": [
      "Epoch 13/20\n",
      "45000/45000 [==============================] - 13s 293us/sample - loss: 1.5739 - accuracy: 0.4328 - val_loss: 1.6306 - val_accuracy: 0.4074\n",
      "Epoch 14/20\n",
      "45000/45000 [==============================] - 13s 288us/sample - loss: 1.5585 - accuracy: 0.4397 - val_loss: 1.6303 - val_accuracy: 0.4108\n",
      "Epoch 15/20\n",
      "45000/45000 [==============================] - 13s 293us/sample - loss: 1.5422 - accuracy: 0.4451 - val_loss: 1.6266 - val_accuracy: 0.4078\n",
      "Epoch 16/20\n",
      "45000/45000 [==============================] - 13s 285us/sample - loss: 1.5262 - accuracy: 0.4494 - val_loss: 1.5805 - val_accuracy: 0.4338\n",
      "Epoch 17/20\n",
      "45000/45000 [==============================] - 13s 291us/sample - loss: 1.5115 - accuracy: 0.4558 - val_loss: 1.6380 - val_accuracy: 0.4102\n",
      "Epoch 18/20\n",
      "45000/45000 [==============================] - 13s 290us/sample - loss: 1.4982 - accuracy: 0.4611 - val_loss: 1.5584 - val_accuracy: 0.4380\n",
      "Epoch 19/20\n",
      "45000/45000 [==============================] - 13s 290us/sample - loss: 1.4846 - accuracy: 0.4664 - val_loss: 1.5508 - val_accuracy: 0.4386\n",
      "Epoch 20/20\n",
      "45000/45000 [==============================] - 13s 279us/sample - loss: 1.4718 - accuracy: 0.4676 - val_loss: 1.5433 - val_accuracy: 0.4416\n",
      "5000/5000 [==============================] - 0s 73us/sample - loss: 1.5433 - accuracy: 0.4416\n",
      "Train on 45000 samples, validate on 5000 samples\n",
      "Epoch 1/20\n",
      "45000/45000 [==============================] - 16s 349us/sample - loss: 4.8081 - accuracy: 0.1544 - val_loss: 2.4181 - val_accuracy: 0.1742\n",
      "Epoch 2/20\n",
      "45000/45000 [==============================] - 13s 288us/sample - loss: 2.1284 - accuracy: 0.2273 - val_loss: 2.1457 - val_accuracy: 0.2206\n",
      "Epoch 3/20\n",
      "45000/45000 [==============================] - 13s 287us/sample - loss: 1.9831 - accuracy: 0.2785 - val_loss: 1.9907 - val_accuracy: 0.2872\n",
      "Epoch 4/20\n",
      "45000/45000 [==============================] - 13s 285us/sample - loss: 1.8907 - accuracy: 0.3097 - val_loss: 1.8710 - val_accuracy: 0.3124\n",
      "Epoch 5/20\n",
      "45000/45000 [==============================] - 13s 293us/sample - loss: 1.8207 - accuracy: 0.3428 - val_loss: 1.8178 - val_accuracy: 0.3408\n",
      "Epoch 6/20\n",
      "45000/45000 [==============================] - 13s 284us/sample - loss: 1.7688 - accuracy: 0.3618 - val_loss: 1.8095 - val_accuracy: 0.3372\n",
      "Epoch 7/20\n",
      "45000/45000 [==============================] - 13s 284us/sample - loss: 1.7257 - accuracy: 0.3778 - val_loss: 1.7415 - val_accuracy: 0.3744\n",
      "Epoch 8/20\n",
      "45000/45000 [==============================] - 13s 291us/sample - loss: 1.6847 - accuracy: 0.3923 - val_loss: 1.7086 - val_accuracy: 0.3830\n",
      "Epoch 9/20\n",
      "45000/45000 [==============================] - 13s 285us/sample - loss: 1.6532 - accuracy: 0.4039 - val_loss: 1.7527 - val_accuracy: 0.3636\n",
      "Epoch 10/20\n",
      "45000/45000 [==============================] - 13s 283us/sample - loss: 1.6279 - accuracy: 0.4129 - val_loss: 1.7650 - val_accuracy: 0.3778\n",
      "Epoch 11/20\n",
      "45000/45000 [==============================] - 13s 284us/sample - loss: 1.6004 - accuracy: 0.4272 - val_loss: 1.6514 - val_accuracy: 0.4130\n",
      "Epoch 12/20\n",
      "45000/45000 [==============================] - 13s 286us/sample - loss: 1.5775 - accuracy: 0.4332 - val_loss: 1.6212 - val_accuracy: 0.4226\n",
      "Epoch 13/20\n",
      "45000/45000 [==============================] - 13s 287us/sample - loss: 1.5579 - accuracy: 0.4390 - val_loss: 1.6161 - val_accuracy: 0.4296\n",
      "Epoch 14/20\n",
      "45000/45000 [==============================] - 13s 288us/sample - loss: 1.5372 - accuracy: 0.4483 - val_loss: 1.5685 - val_accuracy: 0.4368\n",
      "Epoch 15/20\n",
      "45000/45000 [==============================] - 13s 289us/sample - loss: 1.5183 - accuracy: 0.4555 - val_loss: 1.5937 - val_accuracy: 0.4298\n",
      "Epoch 16/20\n",
      "45000/45000 [==============================] - 13s 289us/sample - loss: 1.5001 - accuracy: 0.4610 - val_loss: 1.5473 - val_accuracy: 0.4470\n",
      "Epoch 17/20\n",
      "45000/45000 [==============================] - 13s 293us/sample - loss: 1.4866 - accuracy: 0.4654 - val_loss: 1.5228 - val_accuracy: 0.4560\n",
      "Epoch 18/20\n",
      "45000/45000 [==============================] - 13s 289us/sample - loss: 1.4745 - accuracy: 0.4703 - val_loss: 1.5210 - val_accuracy: 0.4568\n",
      "Epoch 19/20\n",
      "45000/45000 [==============================] - 13s 283us/sample - loss: 1.4611 - accuracy: 0.4761 - val_loss: 1.5541 - val_accuracy: 0.4442\n",
      "Epoch 20/20\n",
      "45000/45000 [==============================] - 13s 284us/sample - loss: 1.4451 - accuracy: 0.4808 - val_loss: 1.5653 - val_accuracy: 0.4448\n",
      "5000/5000 [==============================] - 0s 72us/sample - loss: 1.5653 - accuracy: 0.4448\n",
      "Train on 45000 samples, validate on 5000 samples\n",
      "Epoch 1/20\n",
      "45000/45000 [==============================] - 16s 355us/sample - loss: 3.3015 - accuracy: 0.1761 - val_loss: 2.1456 - val_accuracy: 0.2066\n",
      "Epoch 2/20\n",
      "45000/45000 [==============================] - 13s 290us/sample - loss: 2.0153 - accuracy: 0.2552 - val_loss: 2.0144 - val_accuracy: 0.2520\n",
      "Epoch 3/20\n",
      "45000/45000 [==============================] - 13s 293us/sample - loss: 1.9034 - accuracy: 0.3042 - val_loss: 1.8666 - val_accuracy: 0.3210\n",
      "Epoch 4/20\n",
      "45000/45000 [==============================] - 13s 291us/sample - loss: 1.8238 - accuracy: 0.3323 - val_loss: 1.8955 - val_accuracy: 0.3112\n",
      "Epoch 5/20\n",
      "45000/45000 [==============================] - 13s 287us/sample - loss: 1.7646 - accuracy: 0.3574 - val_loss: 1.7693 - val_accuracy: 0.3586\n",
      "Epoch 6/20\n",
      "45000/45000 [==============================] - 13s 289us/sample - loss: 1.7158 - accuracy: 0.3794 - val_loss: 1.7207 - val_accuracy: 0.3654\n",
      "Epoch 7/20\n",
      "45000/45000 [==============================] - 13s 290us/sample - loss: 1.6753 - accuracy: 0.3917 - val_loss: 1.7230 - val_accuracy: 0.3912\n",
      "Epoch 8/20\n",
      "45000/45000 [==============================] - 13s 286us/sample - loss: 1.6433 - accuracy: 0.4050 - val_loss: 1.6870 - val_accuracy: 0.3950\n",
      "Epoch 9/20\n",
      "45000/45000 [==============================] - 13s 287us/sample - loss: 1.6135 - accuracy: 0.4199 - val_loss: 1.6358 - val_accuracy: 0.4060\n",
      "Epoch 10/20\n",
      "45000/45000 [==============================] - 13s 293us/sample - loss: 1.5876 - accuracy: 0.4274 - val_loss: 1.6323 - val_accuracy: 0.4102\n",
      "Epoch 11/20\n",
      "45000/45000 [==============================] - 13s 292us/sample - loss: 1.5671 - accuracy: 0.4352 - val_loss: 1.6012 - val_accuracy: 0.4232\n",
      "Epoch 12/20\n",
      "45000/45000 [==============================] - 13s 285us/sample - loss: 1.5514 - accuracy: 0.4404 - val_loss: 1.6269 - val_accuracy: 0.4140\n",
      "Epoch 13/20\n",
      "45000/45000 [==============================] - 13s 296us/sample - loss: 1.5303 - accuracy: 0.4500 - val_loss: 1.5767 - val_accuracy: 0.4332\n",
      "Epoch 14/20\n",
      "45000/45000 [==============================] - 13s 294us/sample - loss: 1.5110 - accuracy: 0.4569 - val_loss: 1.5832 - val_accuracy: 0.4388\n",
      "Epoch 15/20\n",
      "45000/45000 [==============================] - 13s 300us/sample - loss: 1.4980 - accuracy: 0.4639 - val_loss: 1.6295 - val_accuracy: 0.4220\n",
      "Epoch 16/20\n",
      "45000/45000 [==============================] - 14s 308us/sample - loss: 1.4813 - accuracy: 0.4689 - val_loss: 1.5453 - val_accuracy: 0.4478\n",
      "Epoch 17/20\n",
      "45000/45000 [==============================] - 13s 291us/sample - loss: 1.4687 - accuracy: 0.4743 - val_loss: 1.5346 - val_accuracy: 0.4606\n",
      "Epoch 18/20\n",
      "45000/45000 [==============================] - 13s 279us/sample - loss: 1.4526 - accuracy: 0.4799 - val_loss: 1.5289 - val_accuracy: 0.4590\n",
      "Epoch 19/20\n",
      "45000/45000 [==============================] - 13s 279us/sample - loss: 1.4420 - accuracy: 0.4832 - val_loss: 1.5143 - val_accuracy: 0.4564\n",
      "Epoch 20/20\n",
      "45000/45000 [==============================] - 13s 287us/sample - loss: 1.4303 - accuracy: 0.4902 - val_loss: 1.5402 - val_accuracy: 0.4532\n",
      "5000/5000 [==============================] - 0s 76us/sample - loss: 1.5402 - accuracy: 0.4532\n",
      "Train on 45000 samples, validate on 5000 samples\n",
      "Epoch 1/20\n",
      "45000/45000 [==============================] - 16s 356us/sample - loss: 2.5030 - accuracy: 0.2198 - val_loss: 2.0606 - val_accuracy: 0.2452\n",
      "Epoch 2/20\n",
      "45000/45000 [==============================] - 13s 279us/sample - loss: 1.9264 - accuracy: 0.2932 - val_loss: 2.0361 - val_accuracy: 0.2774\n",
      "Epoch 3/20\n",
      "45000/45000 [==============================] - 12s 275us/sample - loss: 1.8540 - accuracy: 0.3211 - val_loss: 1.8958 - val_accuracy: 0.3008\n",
      "Epoch 4/20\n"
     ]
    },
    {
     "name": "stdout",
     "output_type": "stream",
     "text": [
      "45000/45000 [==============================] - 12s 273us/sample - loss: 1.7921 - accuracy: 0.3445 - val_loss: 1.8013 - val_accuracy: 0.3438\n",
      "Epoch 5/20\n",
      "45000/45000 [==============================] - 12s 274us/sample - loss: 1.7452 - accuracy: 0.3654 - val_loss: 2.0083 - val_accuracy: 0.2992\n",
      "Epoch 6/20\n",
      "45000/45000 [==============================] - 13s 294us/sample - loss: 1.7064 - accuracy: 0.3826 - val_loss: 1.7045 - val_accuracy: 0.3848\n",
      "Epoch 7/20\n",
      "45000/45000 [==============================] - 12s 268us/sample - loss: 1.6679 - accuracy: 0.3976 - val_loss: 1.7239 - val_accuracy: 0.3782\n",
      "Epoch 8/20\n",
      "45000/45000 [==============================] - 13s 282us/sample - loss: 1.6434 - accuracy: 0.4060 - val_loss: 1.6624 - val_accuracy: 0.3990\n",
      "Epoch 9/20\n",
      "45000/45000 [==============================] - 13s 285us/sample - loss: 1.6229 - accuracy: 0.4160 - val_loss: 1.7062 - val_accuracy: 0.3828\n",
      "Epoch 10/20\n",
      "45000/45000 [==============================] - 13s 293us/sample - loss: 1.6021 - accuracy: 0.4230 - val_loss: 1.6252 - val_accuracy: 0.4072\n",
      "Epoch 11/20\n",
      "45000/45000 [==============================] - 13s 300us/sample - loss: 1.5852 - accuracy: 0.4297 - val_loss: 1.6337 - val_accuracy: 0.4108\n",
      "Epoch 12/20\n",
      "45000/45000 [==============================] - 13s 293us/sample - loss: 1.5726 - accuracy: 0.4326 - val_loss: 1.7195 - val_accuracy: 0.3846\n",
      "Epoch 13/20\n",
      "45000/45000 [==============================] - 13s 296us/sample - loss: 1.5517 - accuracy: 0.4436 - val_loss: 1.6010 - val_accuracy: 0.4250\n",
      "Epoch 14/20\n",
      "45000/45000 [==============================] - 13s 291us/sample - loss: 1.5389 - accuracy: 0.4492 - val_loss: 1.5772 - val_accuracy: 0.4348\n",
      "Epoch 15/20\n",
      "45000/45000 [==============================] - 13s 287us/sample - loss: 1.5277 - accuracy: 0.4534 - val_loss: 1.5828 - val_accuracy: 0.4396\n",
      "Epoch 16/20\n",
      "45000/45000 [==============================] - 13s 292us/sample - loss: 1.5149 - accuracy: 0.4574 - val_loss: 1.5597 - val_accuracy: 0.4444\n",
      "Epoch 17/20\n",
      "45000/45000 [==============================] - 13s 289us/sample - loss: 1.5009 - accuracy: 0.4637 - val_loss: 1.5802 - val_accuracy: 0.4396\n",
      "Epoch 18/20\n",
      "45000/45000 [==============================] - 13s 296us/sample - loss: 1.4875 - accuracy: 0.4660 - val_loss: 1.5437 - val_accuracy: 0.4448\n",
      "Epoch 19/20\n",
      "45000/45000 [==============================] - 13s 298us/sample - loss: 1.4792 - accuracy: 0.4695 - val_loss: 1.5572 - val_accuracy: 0.4404\n",
      "Epoch 20/20\n",
      "45000/45000 [==============================] - 13s 298us/sample - loss: 1.4658 - accuracy: 0.4765 - val_loss: 1.5253 - val_accuracy: 0.4564\n",
      "5000/5000 [==============================] - 0s 81us/sample - loss: 1.5253 - accuracy: 0.4564\n",
      "Train on 45000 samples, validate on 5000 samples\n",
      "Epoch 1/20\n",
      "45000/45000 [==============================] - 16s 364us/sample - loss: 3.8050 - accuracy: 0.2248 - val_loss: 2.0358 - val_accuracy: 0.2518\n",
      "Epoch 2/20\n",
      "45000/45000 [==============================] - 13s 296us/sample - loss: 1.9306 - accuracy: 0.2940 - val_loss: 1.9165 - val_accuracy: 0.3038\n",
      "Epoch 3/20\n",
      "45000/45000 [==============================] - 13s 285us/sample - loss: 1.8741 - accuracy: 0.3172 - val_loss: 1.9278 - val_accuracy: 0.2926\n",
      "Epoch 4/20\n",
      "45000/45000 [==============================] - 13s 288us/sample - loss: 1.8317 - accuracy: 0.3327 - val_loss: 1.8282 - val_accuracy: 0.3270\n",
      "Epoch 5/20\n",
      "45000/45000 [==============================] - 13s 288us/sample - loss: 1.8101 - accuracy: 0.3443 - val_loss: 1.8225 - val_accuracy: 0.3354\n",
      "Epoch 6/20\n",
      "45000/45000 [==============================] - 13s 291us/sample - loss: 1.7859 - accuracy: 0.3543 - val_loss: 1.8017 - val_accuracy: 0.3560\n",
      "Epoch 7/20\n",
      "45000/45000 [==============================] - 13s 290us/sample - loss: 1.7641 - accuracy: 0.3620 - val_loss: 1.9213 - val_accuracy: 0.3462\n",
      "Epoch 8/20\n",
      "45000/45000 [==============================] - 13s 294us/sample - loss: 1.7411 - accuracy: 0.3706 - val_loss: 1.7723 - val_accuracy: 0.3586\n",
      "Epoch 9/20\n",
      "45000/45000 [==============================] - 13s 290us/sample - loss: 2.1277 - accuracy: 0.2231 - val_loss: 1.9961 - val_accuracy: 0.2532\n",
      "Epoch 10/20\n",
      "45000/45000 [==============================] - 13s 294us/sample - loss: 1.9154 - accuracy: 0.2794 - val_loss: 1.9050 - val_accuracy: 0.2848\n",
      "Epoch 11/20\n",
      "45000/45000 [==============================] - 14s 302us/sample - loss: 1.9090 - accuracy: 0.2995 - val_loss: 2.0265 - val_accuracy: 0.2232\n",
      "Epoch 12/20\n",
      "45000/45000 [==============================] - 13s 289us/sample - loss: 1.9179 - accuracy: 0.2719 - val_loss: 1.9081 - val_accuracy: 0.2750\n",
      "Epoch 13/20\n",
      "45000/45000 [==============================] - 13s 287us/sample - loss: 1.8728 - accuracy: 0.2973 - val_loss: 1.8919 - val_accuracy: 0.3010\n",
      "Epoch 14/20\n",
      "45000/45000 [==============================] - 13s 296us/sample - loss: 1.8580 - accuracy: 0.3126 - val_loss: 1.8416 - val_accuracy: 0.3144\n",
      "Epoch 15/20\n",
      "45000/45000 [==============================] - 14s 303us/sample - loss: 1.8231 - accuracy: 0.3340 - val_loss: 1.8931 - val_accuracy: 0.3312\n",
      "Epoch 16/20\n",
      "45000/45000 [==============================] - 13s 291us/sample - loss: 1.7939 - accuracy: 0.3454 - val_loss: 1.8261 - val_accuracy: 0.3268\n",
      "Epoch 17/20\n",
      "45000/45000 [==============================] - 13s 295us/sample - loss: 1.7752 - accuracy: 0.3504 - val_loss: 1.8109 - val_accuracy: 0.3388\n",
      "Epoch 18/20\n",
      "45000/45000 [==============================] - 13s 289us/sample - loss: 1.8594 - accuracy: 0.3077 - val_loss: 1.8503 - val_accuracy: 0.3024\n",
      "5000/5000 [==============================] - 0s 70us/sample - loss: 1.8503 - accuracy: 0.3024\n",
      "Train on 45000 samples, validate on 5000 samples\n",
      "Epoch 1/20\n",
      "45000/45000 [==============================] - 16s 348us/sample - loss: 6.9271 - accuracy: 0.2091 - val_loss: 2.2941 - val_accuracy: 0.1912\n",
      "Epoch 2/20\n",
      "45000/45000 [==============================] - 13s 286us/sample - loss: 1.9374 - accuracy: 0.2856 - val_loss: 2.0191 - val_accuracy: 0.2702\n",
      "Epoch 3/20\n",
      "45000/45000 [==============================] - 13s 288us/sample - loss: 1.8858 - accuracy: 0.3096 - val_loss: 1.8176 - val_accuracy: 0.3352\n",
      "Epoch 4/20\n",
      "45000/45000 [==============================] - 13s 285us/sample - loss: 1.8654 - accuracy: 0.3165 - val_loss: 1.9230 - val_accuracy: 0.3052\n",
      "Epoch 5/20\n",
      "45000/45000 [==============================] - 13s 292us/sample - loss: 1.8728 - accuracy: 0.3128 - val_loss: 1.8600 - val_accuracy: 0.3124\n",
      "Epoch 6/20\n",
      "45000/45000 [==============================] - 13s 288us/sample - loss: 1.8787 - accuracy: 0.3073 - val_loss: 2.0265 - val_accuracy: 0.2794\n",
      "Epoch 7/20\n",
      "45000/45000 [==============================] - 13s 279us/sample - loss: 113.6258 - accuracy: 0.2663 - val_loss: 2.3655 - val_accuracy: 0.0996\n",
      "Epoch 8/20\n",
      "45000/45000 [==============================] - 13s 286us/sample - loss: 2.3282 - accuracy: 0.1006 - val_loss: 2.3516 - val_accuracy: 0.0964\n",
      "Epoch 9/20\n",
      "45000/45000 [==============================] - 12s 272us/sample - loss: 2.3261 - accuracy: 0.1003 - val_loss: 2.3362 - val_accuracy: 0.0952\n",
      "Epoch 10/20\n",
      "45000/45000 [==============================] - 12s 271us/sample - loss: 2.3248 - accuracy: 0.1038 - val_loss: 2.3243 - val_accuracy: 0.0984\n",
      "Epoch 11/20\n",
      "45000/45000 [==============================] - 12s 268us/sample - loss: 2.3256 - accuracy: 0.0978 - val_loss: 2.3180 - val_accuracy: 0.1096\n",
      "Epoch 12/20\n",
      "45000/45000 [==============================] - 12s 273us/sample - loss: 2.3245 - accuracy: 0.1027 - val_loss: 2.3182 - val_accuracy: 0.0974\n",
      "Epoch 13/20\n",
      "45000/45000 [==============================] - 12s 268us/sample - loss: 2.3231 - accuracy: 0.0994 - val_loss: 2.3222 - val_accuracy: 0.1036\n",
      "5000/5000 [==============================] - 0s 75us/sample - loss: 2.3222 - accuracy: 0.1036\n",
      "Train on 45000 samples, validate on 5000 samples\n",
      "Epoch 1/20\n",
      "45000/45000 [==============================] - 15s 339us/sample - loss: 17.6372 - accuracy: 0.2022 - val_loss: 2.5383 - val_accuracy: 0.1372\n",
      "Epoch 2/20\n",
      "45000/45000 [==============================] - 13s 295us/sample - loss: 2.0171 - accuracy: 0.2433 - val_loss: 1.9760 - val_accuracy: 0.2498\n",
      "Epoch 3/20\n",
      "45000/45000 [==============================] - 12s 268us/sample - loss: 1.9702 - accuracy: 0.2624 - val_loss: 1.9692 - val_accuracy: 0.2494\n",
      "Epoch 4/20\n"
     ]
    },
    {
     "name": "stdout",
     "output_type": "stream",
     "text": [
      "45000/45000 [==============================] - 12s 273us/sample - loss: 1.9406 - accuracy: 0.2736 - val_loss: 2.0427 - val_accuracy: 0.2142\n",
      "Epoch 5/20\n",
      "45000/45000 [==============================] - 12s 264us/sample - loss: 794567.7232 - accuracy: 0.1270 - val_loss: 3.5467 - val_accuracy: 0.1020\n",
      "Epoch 6/20\n",
      "45000/45000 [==============================] - 12s 275us/sample - loss: 2.3964 - accuracy: 0.1002 - val_loss: 2.6870 - val_accuracy: 0.1020\n",
      "Epoch 7/20\n",
      "45000/45000 [==============================] - 13s 288us/sample - loss: 2.3807 - accuracy: 0.0995 - val_loss: 2.4609 - val_accuracy: 0.1096\n",
      "Epoch 8/20\n",
      "45000/45000 [==============================] - 12s 272us/sample - loss: 2.3825 - accuracy: 0.0999 - val_loss: 2.4302 - val_accuracy: 0.0952\n",
      "Epoch 9/20\n",
      "45000/45000 [==============================] - 12s 268us/sample - loss: 2.3815 - accuracy: 0.1016 - val_loss: 2.4455 - val_accuracy: 0.1096\n",
      "Epoch 10/20\n",
      "45000/45000 [==============================] - 12s 276us/sample - loss: 2.3858 - accuracy: 0.1011 - val_loss: 2.5394 - val_accuracy: 0.0964\n",
      "Epoch 11/20\n",
      "45000/45000 [==============================] - 13s 278us/sample - loss: 2.3876 - accuracy: 0.0996 - val_loss: 2.3987 - val_accuracy: 0.0976\n",
      "Epoch 12/20\n",
      "45000/45000 [==============================] - 12s 269us/sample - loss: 2.3814 - accuracy: 0.0999 - val_loss: 2.4228 - val_accuracy: 0.0964\n",
      "Epoch 13/20\n",
      "45000/45000 [==============================] - 12s 263us/sample - loss: 2.3722 - accuracy: 0.1000 - val_loss: 2.4148 - val_accuracy: 0.1020\n",
      "5000/5000 [==============================] - 0s 63us/sample - loss: 2.4148 - accuracy: 0.1020\n"
     ]
    }
   ],
   "source": [
    "#index = 1\n",
    "\n",
    "learning_rates = [3e-6, 1e-5, 3e-5, 5e-5, 1e-4, 3e-4, 1e-3, 3e-3, 1e-2]\n",
    "for index, lr in enumerate(learning_rates):\n",
    "    logdir = prepare_run_dir(index)\n",
    "    callbacks = prepare_callbacks(logdir)\n",
    "    nadam_optimizer = keras.optimizers.Nadam(lr=lr)\n",
    "    \n",
    "    cifar_model = create_cifar_100_model()\n",
    "    cifar_model.compile(loss=\"sparse_categorical_crossentropy\", optimizer=nadam_optimizer, metrics=[\"accuracy\"])\n",
    "    \n",
    "    history = cifar_model.fit(X_train, y_train, epochs=20, \n",
    "                              callbacks=callbacks,\n",
    "                              validation_data=(X_valid, y_valid))\n",
    "    cifar_model.evaluate(X_valid, y_valid)"
   ]
  },
  {
   "cell_type": "code",
   "execution_count": 158,
   "metadata": {},
   "outputs": [
    {
     "name": "stdout",
     "output_type": "stream",
     "text": [
      "0 0.001\n",
      "1 0.0003\n",
      "2 0.0001\n",
      "3 3e-05\n",
      "4 1e-05\n",
      "5 3e-06\n"
     ]
    }
   ],
   "source": [
    "learning_rates = [1e-3, 3e-4, 1e-4, 3e-5, 1e-5, 3e-6]\n",
    "for index, lr in enumerate(learning_rates):\n",
    "    print(index, lr)"
   ]
  },
  {
   "cell_type": "code",
   "execution_count": 190,
   "metadata": {},
   "outputs": [
    {
     "name": "stdout",
     "output_type": "stream",
     "text": [
      "Train on 45000 samples, validate on 5000 samples\n",
      "Epoch 1/100\n",
      "45000/45000 [==============================] - 15s 342us/sample - loss: 3.9930 - accuracy: 0.1627 - val_loss: 2.2333 - val_accuracy: 0.2040\n",
      "Epoch 2/100\n",
      "45000/45000 [==============================] - 13s 286us/sample - loss: 2.0751 - accuracy: 0.2383 - val_loss: 2.0707 - val_accuracy: 0.2500\n",
      "Epoch 3/100\n",
      "45000/45000 [==============================] - 13s 285us/sample - loss: 1.9660 - accuracy: 0.2757 - val_loss: 1.9097 - val_accuracy: 0.3096\n",
      "Epoch 4/100\n",
      "45000/45000 [==============================] - 13s 295us/sample - loss: 1.8952 - accuracy: 0.3038 - val_loss: 1.8955 - val_accuracy: 0.3044\n",
      "Epoch 5/100\n",
      "45000/45000 [==============================] - 12s 277us/sample - loss: 1.8438 - accuracy: 0.3252 - val_loss: 1.9088 - val_accuracy: 0.2892\n",
      "Epoch 6/100\n",
      "45000/45000 [==============================] - 13s 297us/sample - loss: 1.7938 - accuracy: 0.3460 - val_loss: 1.7813 - val_accuracy: 0.3432\n",
      "Epoch 7/100\n",
      "45000/45000 [==============================] - 13s 282us/sample - loss: 1.7473 - accuracy: 0.3660 - val_loss: 1.7424 - val_accuracy: 0.3674\n",
      "Epoch 8/100\n",
      "45000/45000 [==============================] - 13s 279us/sample - loss: 1.7080 - accuracy: 0.3826 - val_loss: 1.7301 - val_accuracy: 0.3692\n",
      "Epoch 9/100\n",
      "45000/45000 [==============================] - 14s 308us/sample - loss: 1.6759 - accuracy: 0.3939 - val_loss: 1.6930 - val_accuracy: 0.3862\n",
      "Epoch 10/100\n",
      "45000/45000 [==============================] - 12s 261us/sample - loss: 1.6502 - accuracy: 0.4040 - val_loss: 1.7189 - val_accuracy: 0.3780\n",
      "Epoch 11/100\n",
      "45000/45000 [==============================] - 12s 276us/sample - loss: 1.6248 - accuracy: 0.4139 - val_loss: 1.6631 - val_accuracy: 0.3876\n",
      "Epoch 12/100\n",
      "45000/45000 [==============================] - 13s 278us/sample - loss: 1.6024 - accuracy: 0.4234 - val_loss: 1.6300 - val_accuracy: 0.4074\n",
      "Epoch 13/100\n",
      "45000/45000 [==============================] - 12s 267us/sample - loss: 1.5861 - accuracy: 0.4301 - val_loss: 1.6661 - val_accuracy: 0.3950\n",
      "Epoch 14/100\n",
      "45000/45000 [==============================] - 12s 268us/sample - loss: 1.5689 - accuracy: 0.4366 - val_loss: 1.5990 - val_accuracy: 0.4276\n",
      "Epoch 15/100\n",
      "45000/45000 [==============================] - 13s 281us/sample - loss: 1.5525 - accuracy: 0.4424 - val_loss: 1.6110 - val_accuracy: 0.4204\n",
      "Epoch 16/100\n",
      "45000/45000 [==============================] - 14s 310us/sample - loss: 1.5411 - accuracy: 0.4458 - val_loss: 1.6078 - val_accuracy: 0.4254\n",
      "Epoch 17/100\n",
      "45000/45000 [==============================] - 14s 304us/sample - loss: 1.5258 - accuracy: 0.4533 - val_loss: 1.6183 - val_accuracy: 0.4262\n",
      "Epoch 18/100\n",
      "45000/45000 [==============================] - 13s 297us/sample - loss: 1.5129 - accuracy: 0.4595 - val_loss: 1.5825 - val_accuracy: 0.4348\n",
      "Epoch 19/100\n",
      "45000/45000 [==============================] - 13s 281us/sample - loss: 1.4992 - accuracy: 0.4623 - val_loss: 1.5894 - val_accuracy: 0.4304\n",
      "Epoch 20/100\n",
      "45000/45000 [==============================] - 13s 286us/sample - loss: 1.4885 - accuracy: 0.4674 - val_loss: 1.5626 - val_accuracy: 0.4382\n",
      "Epoch 21/100\n",
      "45000/45000 [==============================] - 13s 292us/sample - loss: 1.4808 - accuracy: 0.4688 - val_loss: 1.5478 - val_accuracy: 0.4438\n",
      "Epoch 22/100\n",
      "45000/45000 [==============================] - 13s 285us/sample - loss: 1.4683 - accuracy: 0.4724 - val_loss: 1.5552 - val_accuracy: 0.4492\n",
      "Epoch 23/100\n",
      "45000/45000 [==============================] - 13s 296us/sample - loss: 1.4596 - accuracy: 0.4802 - val_loss: 1.5425 - val_accuracy: 0.4468\n",
      "Epoch 24/100\n",
      "45000/45000 [==============================] - 13s 297us/sample - loss: 1.4480 - accuracy: 0.4838 - val_loss: 1.5640 - val_accuracy: 0.4400\n",
      "Epoch 25/100\n",
      "45000/45000 [==============================] - 13s 294us/sample - loss: 1.4369 - accuracy: 0.4841 - val_loss: 1.5434 - val_accuracy: 0.4424\n",
      "Epoch 26/100\n",
      "45000/45000 [==============================] - 13s 291us/sample - loss: 1.4313 - accuracy: 0.4878 - val_loss: 1.5653 - val_accuracy: 0.4438\n",
      "Epoch 27/100\n",
      "45000/45000 [==============================] - 13s 295us/sample - loss: 1.4210 - accuracy: 0.4926 - val_loss: 1.5363 - val_accuracy: 0.4424\n",
      "Epoch 28/100\n",
      "45000/45000 [==============================] - 13s 291us/sample - loss: 1.4126 - accuracy: 0.4948 - val_loss: 1.5360 - val_accuracy: 0.4550\n",
      "Epoch 29/100\n",
      "45000/45000 [==============================] - 13s 300us/sample - loss: 1.4042 - accuracy: 0.4971 - val_loss: 1.5855 - val_accuracy: 0.4366\n",
      "Epoch 30/100\n",
      "45000/45000 [==============================] - 13s 292us/sample - loss: 1.3973 - accuracy: 0.5012 - val_loss: 1.5752 - val_accuracy: 0.4402\n",
      "Epoch 31/100\n",
      "45000/45000 [==============================] - 13s 296us/sample - loss: 1.3925 - accuracy: 0.5004 - val_loss: 1.5543 - val_accuracy: 0.4524\n",
      "Epoch 32/100\n",
      "45000/45000 [==============================] - 13s 286us/sample - loss: 1.3825 - accuracy: 0.5076 - val_loss: 1.5983 - val_accuracy: 0.4418\n",
      "Epoch 33/100\n",
      "45000/45000 [==============================] - 14s 306us/sample - loss: 1.3761 - accuracy: 0.5086 - val_loss: 1.5409 - val_accuracy: 0.4522\n",
      "Epoch 34/100\n",
      "45000/45000 [==============================] - 13s 293us/sample - loss: 1.3644 - accuracy: 0.5149 - val_loss: 1.5640 - val_accuracy: 0.4494\n",
      "Epoch 35/100\n",
      "45000/45000 [==============================] - 12s 271us/sample - loss: 1.3625 - accuracy: 0.5130 - val_loss: 1.5571 - val_accuracy: 0.4526\n",
      "Epoch 36/100\n",
      "45000/45000 [==============================] - 13s 279us/sample - loss: 1.3506 - accuracy: 0.5160 - val_loss: 1.5728 - val_accuracy: 0.4522\n",
      "Epoch 37/100\n",
      "45000/45000 [==============================] - 12s 274us/sample - loss: 1.3481 - accuracy: 0.5160 - val_loss: 1.6188 - val_accuracy: 0.4362\n",
      "Epoch 38/100\n",
      "45000/45000 [==============================] - 13s 293us/sample - loss: 1.3407 - accuracy: 0.5205 - val_loss: 1.5614 - val_accuracy: 0.4508\n",
      "5000/5000 [==============================] - 0s 90us/sample - loss: 1.5614 - accuracy: 0.4508\n"
     ]
    },
    {
     "data": {
      "text/plain": [
       "[1.5614418300628663, 0.4508]"
      ]
     },
     "execution_count": 190,
     "metadata": {},
     "output_type": "execute_result"
    }
   ],
   "source": [
    "lr=5e-5\n",
    "logdir = os.path.join(os.curdir, \"my_logs\", \"cifar_logs\", \"lr_{:03f}\".format(lr))\n",
    "callbacks = prepare_callbacks(logdir)\n",
    "nadam_optimizer = keras.optimizers.Nadam(lr=lr)\n",
    "   \n",
    "cifar_model = create_cifar_100_model()\n",
    "cifar_model.compile(loss=\"sparse_categorical_crossentropy\", optimizer=nadam_optimizer, metrics=[\"accuracy\"])\n",
    "    \n",
    "history = cifar_model.fit(X_train, y_train, epochs=100, \n",
    "                              callbacks=callbacks,\n",
    "                              validation_data=(X_valid, y_valid))\n",
    "cifar_model.evaluate(X_valid, y_valid)\n",
    "\n"
   ]
  },
  {
   "cell_type": "code",
   "execution_count": 192,
   "metadata": {},
   "outputs": [
    {
     "name": "stdout",
     "output_type": "stream",
     "text": [
      "10000/10000 [==============================] - 1s 84us/sample - loss: 1.5422 - accuracy: 0.4567\n"
     ]
    },
    {
     "data": {
      "text/plain": [
       "[1.542150361442566, 0.4567]"
      ]
     },
     "execution_count": 192,
     "metadata": {},
     "output_type": "execute_result"
    }
   ],
   "source": [
    "cifar_model_loaded = keras.models.load_model(\"my_cifar10_model.h5\")\n",
    "cifar_model_loaded.evaluate(X_test, y_test)\n"
   ]
  },
  {
   "cell_type": "code",
   "execution_count": 194,
   "metadata": {},
   "outputs": [
    {
     "data": {
      "text/plain": [
       "'.\\\\my_logs\\\\cifar_logs\\\\run__000'"
      ]
     },
     "execution_count": 194,
     "metadata": {},
     "output_type": "execute_result"
    }
   ],
   "source": [
    "postfix = \"\"\n",
    "index = 0\n",
    "os.path.join(os.curdir, \"my_logs\", \"cifar_logs\", \"run_{:s}_{:03d}\".format(postfix, index))"
   ]
  },
  {
   "cell_type": "code",
   "execution_count": 197,
   "metadata": {},
   "outputs": [],
   "source": [
    "def create_cifar_bn_100_model():\n",
    "    cifar_model = keras.models.Sequential()\n",
    "\n",
    "    cifar_model.add(keras.layers.Flatten(input_shape=[32, 32, 3]))\n",
    "\n",
    "    for _ in range(20):\n",
    "        cifar_model.add(keras.layers.Dense(100, kernel_initializer=\"he_normal\"))\n",
    "        cifar_model.add(keras.layers.BatchNormalization())\n",
    "        cifar_model.add(keras.layers.Activation(\"elu\"))\n",
    "\n",
    "    cifar_model.add(keras.layers.Dense(10, activation=\"softmax\"))\n",
    "    return cifar_model"
   ]
  },
  {
   "cell_type": "code",
   "execution_count": 200,
   "metadata": {},
   "outputs": [
    {
     "name": "stdout",
     "output_type": "stream",
     "text": [
      "Train on 45000 samples, validate on 5000 samples\n",
      "Epoch 1/30\n",
      "45000/45000 [==============================] - 39s 875us/sample - loss: 2.1403 - accuracy: 0.2388 - val_loss: 1.9105 - val_accuracy: 0.3222\n",
      "Epoch 2/30\n",
      "45000/45000 [==============================] - 30s 677us/sample - loss: 1.8553 - accuracy: 0.3372 - val_loss: 1.7763 - val_accuracy: 0.3570\n",
      "Epoch 3/30\n",
      "45000/45000 [==============================] - 30s 668us/sample - loss: 1.7605 - accuracy: 0.3724 - val_loss: 1.6932 - val_accuracy: 0.3860\n",
      "Epoch 4/30\n",
      "45000/45000 [==============================] - 30s 667us/sample - loss: 1.6979 - accuracy: 0.3944 - val_loss: 1.6361 - val_accuracy: 0.4138\n",
      "Epoch 5/30\n",
      "45000/45000 [==============================] - 30s 663us/sample - loss: 1.6509 - accuracy: 0.4133 - val_loss: 1.6289 - val_accuracy: 0.4228\n",
      "Epoch 6/30\n",
      "45000/45000 [==============================] - 29s 647us/sample - loss: 1.6128 - accuracy: 0.4259 - val_loss: 1.6389 - val_accuracy: 0.4166\n",
      "Epoch 7/30\n",
      "45000/45000 [==============================] - 29s 654us/sample - loss: 1.5810 - accuracy: 0.4369 - val_loss: 1.5615 - val_accuracy: 0.4408\n",
      "Epoch 8/30\n",
      "45000/45000 [==============================] - 29s 649us/sample - loss: 1.5564 - accuracy: 0.4462 - val_loss: 1.5459 - val_accuracy: 0.4458\n",
      "Epoch 9/30\n",
      "45000/45000 [==============================] - 29s 641us/sample - loss: 1.5275 - accuracy: 0.4576 - val_loss: 1.5511 - val_accuracy: 0.4500\n",
      "Epoch 10/30\n",
      "45000/45000 [==============================] - 29s 650us/sample - loss: 1.5063 - accuracy: 0.4648 - val_loss: 1.5601 - val_accuracy: 0.4376\n",
      "Epoch 11/30\n",
      "45000/45000 [==============================] - 30s 659us/sample - loss: 1.4857 - accuracy: 0.4712 - val_loss: 1.5065 - val_accuracy: 0.4560\n",
      "Epoch 12/30\n",
      "45000/45000 [==============================] - 30s 656us/sample - loss: 1.4670 - accuracy: 0.4772 - val_loss: 1.5657 - val_accuracy: 0.4444\n",
      "Epoch 13/30\n",
      "45000/45000 [==============================] - 30s 661us/sample - loss: 1.4512 - accuracy: 0.4849 - val_loss: 1.4806 - val_accuracy: 0.4734\n",
      "Epoch 14/30\n",
      "45000/45000 [==============================] - 30s 661us/sample - loss: 1.4371 - accuracy: 0.4895 - val_loss: 1.4931 - val_accuracy: 0.4758\n",
      "Epoch 15/30\n",
      "45000/45000 [==============================] - 30s 656us/sample - loss: 1.4227 - accuracy: 0.4952 - val_loss: 1.5148 - val_accuracy: 0.4620\n",
      "Epoch 16/30\n",
      "45000/45000 [==============================] - 30s 656us/sample - loss: 1.4022 - accuracy: 0.5022 - val_loss: 1.4590 - val_accuracy: 0.4758\n",
      "Epoch 17/30\n",
      "45000/45000 [==============================] - 30s 660us/sample - loss: 1.3934 - accuracy: 0.5050 - val_loss: 1.4406 - val_accuracy: 0.4890\n",
      "Epoch 18/30\n",
      "45000/45000 [==============================] - 29s 651us/sample - loss: 1.3827 - accuracy: 0.5122 - val_loss: 1.5619 - val_accuracy: 0.4530\n",
      "Epoch 19/30\n",
      "45000/45000 [==============================] - 30s 661us/sample - loss: 1.3693 - accuracy: 0.5156 - val_loss: 1.4297 - val_accuracy: 0.4984\n",
      "Epoch 20/30\n",
      "45000/45000 [==============================] - 29s 655us/sample - loss: 1.3565 - accuracy: 0.5193 - val_loss: 1.4986 - val_accuracy: 0.4736\n",
      "Epoch 21/30\n",
      "45000/45000 [==============================] - 30s 658us/sample - loss: 1.3445 - accuracy: 0.5226 - val_loss: 1.4440 - val_accuracy: 0.4842\n",
      "Epoch 22/30\n",
      "45000/45000 [==============================] - 29s 655us/sample - loss: 1.3354 - accuracy: 0.5250 - val_loss: 1.4427 - val_accuracy: 0.4902\n",
      "Epoch 23/30\n",
      "45000/45000 [==============================] - 29s 650us/sample - loss: 1.3254 - accuracy: 0.5308 - val_loss: 1.4308 - val_accuracy: 0.4928\n",
      "Epoch 24/30\n",
      "45000/45000 [==============================] - 30s 665us/sample - loss: 1.3137 - accuracy: 0.5330 - val_loss: 1.4020 - val_accuracy: 0.5064\n",
      "Epoch 25/30\n",
      "45000/45000 [==============================] - 29s 652us/sample - loss: 1.3033 - accuracy: 0.5394 - val_loss: 1.4748 - val_accuracy: 0.4800\n",
      "Epoch 26/30\n",
      "45000/45000 [==============================] - 29s 653us/sample - loss: 1.2951 - accuracy: 0.5395 - val_loss: 1.4406 - val_accuracy: 0.4858\n",
      "Epoch 27/30\n",
      "45000/45000 [==============================] - 30s 658us/sample - loss: 1.2892 - accuracy: 0.5437 - val_loss: 1.4328 - val_accuracy: 0.5008\n",
      "Epoch 28/30\n",
      "45000/45000 [==============================] - 29s 650us/sample - loss: 1.2797 - accuracy: 0.5475 - val_loss: 1.4628 - val_accuracy: 0.4858\n",
      "Epoch 29/30\n",
      "45000/45000 [==============================] - 29s 648us/sample - loss: 1.2709 - accuracy: 0.5469 - val_loss: 1.4493 - val_accuracy: 0.4898\n",
      "Epoch 30/30\n",
      "45000/45000 [==============================] - 29s 650us/sample - loss: 1.2647 - accuracy: 0.5514 - val_loss: 1.4462 - val_accuracy: 0.5032\n",
      "5000/5000 [==============================] - 1s 110us/sample - loss: 1.4462 - accuracy: 0.5032\n",
      "Train on 45000 samples, validate on 5000 samples\n",
      "Epoch 1/30\n",
      "45000/45000 [==============================] - 39s 866us/sample - loss: 2.0624 - accuracy: 0.2607 - val_loss: 1.8421 - val_accuracy: 0.3456\n",
      "Epoch 2/30\n",
      "45000/45000 [==============================] - 34s 756us/sample - loss: 1.7915 - accuracy: 0.3572 - val_loss: 1.6817 - val_accuracy: 0.4030\n",
      "Epoch 3/30\n",
      "45000/45000 [==============================] - 33s 725us/sample - loss: 1.7010 - accuracy: 0.3921 - val_loss: 1.6419 - val_accuracy: 0.4098\n",
      "Epoch 4/30\n",
      "45000/45000 [==============================] - 32s 714us/sample - loss: 1.6437 - accuracy: 0.4135 - val_loss: 1.7338 - val_accuracy: 0.3834\n",
      "Epoch 5/30\n",
      "45000/45000 [==============================] - 32s 708us/sample - loss: 1.5987 - accuracy: 0.4298 - val_loss: 1.5519 - val_accuracy: 0.4446\n",
      "Epoch 6/30\n",
      "45000/45000 [==============================] - 33s 724us/sample - loss: 1.5602 - accuracy: 0.4449 - val_loss: 1.5942 - val_accuracy: 0.4342\n",
      "Epoch 7/30\n",
      "45000/45000 [==============================] - 30s 677us/sample - loss: 1.5320 - accuracy: 0.4577 - val_loss: 1.5867 - val_accuracy: 0.4366\n",
      "Epoch 8/30\n",
      "45000/45000 [==============================] - 31s 699us/sample - loss: 1.5059 - accuracy: 0.4641 - val_loss: 1.5523 - val_accuracy: 0.4566\n",
      "Epoch 9/30\n",
      "45000/45000 [==============================] - 32s 717us/sample - loss: 1.4807 - accuracy: 0.4730 - val_loss: 1.5136 - val_accuracy: 0.4624\n",
      "Epoch 10/30\n",
      "45000/45000 [==============================] - 31s 679us/sample - loss: 1.4546 - accuracy: 0.4840 - val_loss: 1.4888 - val_accuracy: 0.4682\n",
      "Epoch 11/30\n",
      "45000/45000 [==============================] - 31s 690us/sample - loss: 1.4348 - accuracy: 0.4886 - val_loss: 1.4392 - val_accuracy: 0.4944\n",
      "Epoch 12/30\n",
      "45000/45000 [==============================] - 31s 694us/sample - loss: 1.4192 - accuracy: 0.4963 - val_loss: 1.5224 - val_accuracy: 0.4522\n",
      "Epoch 13/30\n",
      "45000/45000 [==============================] - 33s 743us/sample - loss: 1.3986 - accuracy: 0.5035 - val_loss: 1.5010 - val_accuracy: 0.4678\n",
      "Epoch 14/30\n",
      "45000/45000 [==============================] - 31s 700us/sample - loss: 1.3861 - accuracy: 0.5087 - val_loss: 1.5075 - val_accuracy: 0.4662\n",
      "Epoch 15/30\n",
      "45000/45000 [==============================] - 31s 700us/sample - loss: 1.3612 - accuracy: 0.5163 - val_loss: 1.4716 - val_accuracy: 0.4750\n",
      "Epoch 16/30\n",
      "45000/45000 [==============================] - 32s 722us/sample - loss: 1.3520 - accuracy: 0.5184 - val_loss: 1.5285 - val_accuracy: 0.4610\n",
      "Epoch 17/30\n",
      "45000/45000 [==============================] - 32s 712us/sample - loss: 1.3408 - accuracy: 0.5256 - val_loss: 1.5035 - val_accuracy: 0.4676\n",
      "Epoch 18/30\n",
      "45000/45000 [==============================] - 32s 705us/sample - loss: 1.3203 - accuracy: 0.5323 - val_loss: 1.4482 - val_accuracy: 0.4972\n",
      "5000/5000 [==============================] - 1s 120us/sample - loss: 1.4482 - accuracy: 0.4972\n",
      "Train on 45000 samples, validate on 5000 samples\n",
      "Epoch 1/30\n",
      "45000/45000 [==============================] - 42s 934us/sample - loss: 1.9358 - accuracy: 0.3085 - val_loss: 1.7723 - val_accuracy: 0.3614\n",
      "Epoch 2/30\n",
      "45000/45000 [==============================] - 34s 753us/sample - loss: 1.7193 - accuracy: 0.3858 - val_loss: 1.7358 - val_accuracy: 0.3750\n",
      "Epoch 3/30\n",
      "45000/45000 [==============================] - 32s 708us/sample - loss: 1.6315 - accuracy: 0.4208 - val_loss: 1.5978 - val_accuracy: 0.4288\n",
      "Epoch 4/30\n"
     ]
    },
    {
     "name": "stdout",
     "output_type": "stream",
     "text": [
      "45000/45000 [==============================] - 31s 695us/sample - loss: 1.5734 - accuracy: 0.4412 - val_loss: 1.5584 - val_accuracy: 0.4346\n",
      "Epoch 5/30\n",
      "45000/45000 [==============================] - 31s 697us/sample - loss: 1.5296 - accuracy: 0.4553 - val_loss: 1.5415 - val_accuracy: 0.4446\n",
      "Epoch 6/30\n",
      "45000/45000 [==============================] - 31s 696us/sample - loss: 1.4893 - accuracy: 0.4708 - val_loss: 1.5102 - val_accuracy: 0.4608\n",
      "Epoch 7/30\n",
      "45000/45000 [==============================] - 30s 676us/sample - loss: 1.4593 - accuracy: 0.4821 - val_loss: 1.5258 - val_accuracy: 0.4628\n",
      "Epoch 8/30\n",
      "45000/45000 [==============================] - 30s 670us/sample - loss: 1.4318 - accuracy: 0.4916 - val_loss: 1.4832 - val_accuracy: 0.4660\n",
      "Epoch 9/30\n",
      "45000/45000 [==============================] - 30s 667us/sample - loss: 1.4132 - accuracy: 0.4998 - val_loss: 1.4807 - val_accuracy: 0.4766\n",
      "Epoch 10/30\n",
      "45000/45000 [==============================] - 30s 676us/sample - loss: 1.3855 - accuracy: 0.5067 - val_loss: 1.4575 - val_accuracy: 0.4830\n",
      "Epoch 11/30\n",
      "45000/45000 [==============================] - 30s 675us/sample - loss: 1.3636 - accuracy: 0.5160 - val_loss: 1.5022 - val_accuracy: 0.4676\n",
      "Epoch 12/30\n",
      "45000/45000 [==============================] - 32s 710us/sample - loss: 1.3490 - accuracy: 0.5222 - val_loss: 1.4282 - val_accuracy: 0.4994\n",
      "Epoch 13/30\n",
      "45000/45000 [==============================] - 31s 688us/sample - loss: 1.3265 - accuracy: 0.5289 - val_loss: 1.4728 - val_accuracy: 0.4820\n",
      "Epoch 14/30\n",
      "45000/45000 [==============================] - 31s 692us/sample - loss: 1.3097 - accuracy: 0.5368 - val_loss: 1.4763 - val_accuracy: 0.4816\n",
      "Epoch 15/30\n",
      "45000/45000 [==============================] - 31s 688us/sample - loss: 1.2961 - accuracy: 0.5374 - val_loss: 1.4425 - val_accuracy: 0.5010\n",
      "Epoch 16/30\n",
      "45000/45000 [==============================] - 31s 681us/sample - loss: 1.2875 - accuracy: 0.5436 - val_loss: 1.5170 - val_accuracy: 0.4814\n",
      "Epoch 17/30\n",
      "45000/45000 [==============================] - 31s 678us/sample - loss: 1.2695 - accuracy: 0.5509 - val_loss: 1.5139 - val_accuracy: 0.4816\n",
      "Epoch 18/30\n",
      "45000/45000 [==============================] - 30s 677us/sample - loss: 1.2556 - accuracy: 0.5523 - val_loss: 1.5543 - val_accuracy: 0.4576\n",
      "Epoch 19/30\n",
      "45000/45000 [==============================] - 31s 684us/sample - loss: 1.2429 - accuracy: 0.5597 - val_loss: 1.4052 - val_accuracy: 0.5100\n",
      "Epoch 20/30\n",
      "45000/45000 [==============================] - 31s 691us/sample - loss: 1.2239 - accuracy: 0.5671 - val_loss: 1.4490 - val_accuracy: 0.4874\n",
      "Epoch 21/30\n",
      "45000/45000 [==============================] - 31s 695us/sample - loss: 1.2157 - accuracy: 0.5678 - val_loss: 1.4028 - val_accuracy: 0.5110\n",
      "Epoch 22/30\n",
      "45000/45000 [==============================] - 31s 682us/sample - loss: 1.2027 - accuracy: 0.5736 - val_loss: 1.4290 - val_accuracy: 0.5060\n",
      "Epoch 23/30\n",
      "45000/45000 [==============================] - 32s 701us/sample - loss: 1.1889 - accuracy: 0.5770 - val_loss: 1.4785 - val_accuracy: 0.4954\n",
      "Epoch 24/30\n",
      "45000/45000 [==============================] - 31s 680us/sample - loss: 1.1824 - accuracy: 0.5799 - val_loss: 1.5592 - val_accuracy: 0.4474\n",
      "Epoch 25/30\n",
      "45000/45000 [==============================] - 31s 687us/sample - loss: 1.1667 - accuracy: 0.5860 - val_loss: 1.4196 - val_accuracy: 0.5044\n",
      "Epoch 26/30\n",
      "45000/45000 [==============================] - 31s 690us/sample - loss: 1.1626 - accuracy: 0.5873 - val_loss: 1.6194 - val_accuracy: 0.4568\n",
      "Epoch 27/30\n",
      "45000/45000 [==============================] - 30s 673us/sample - loss: 1.1521 - accuracy: 0.5901 - val_loss: 1.4954 - val_accuracy: 0.4902\n",
      "Epoch 28/30\n",
      "45000/45000 [==============================] - 31s 688us/sample - loss: 1.1411 - accuracy: 0.5936 - val_loss: 1.5092 - val_accuracy: 0.4848\n",
      "5000/5000 [==============================] - 1s 119us/sample - loss: 1.5092 - accuracy: 0.4848\n",
      "Train on 45000 samples, validate on 5000 samples\n",
      "Epoch 1/30\n",
      "45000/45000 [==============================] - 40s 899us/sample - loss: 1.8628 - accuracy: 0.3322 - val_loss: 1.7719 - val_accuracy: 0.3586\n",
      "Epoch 2/30\n",
      "45000/45000 [==============================] - 32s 712us/sample - loss: 1.6657 - accuracy: 0.4058 - val_loss: 1.7227 - val_accuracy: 0.3928\n",
      "Epoch 3/30\n",
      "45000/45000 [==============================] - 33s 729us/sample - loss: 1.5985 - accuracy: 0.4288 - val_loss: 1.5721 - val_accuracy: 0.4418\n",
      "Epoch 4/30\n",
      "45000/45000 [==============================] - 32s 716us/sample - loss: 1.5474 - accuracy: 0.4457 - val_loss: 1.6363 - val_accuracy: 0.4178\n",
      "Epoch 5/30\n",
      "45000/45000 [==============================] - 33s 734us/sample - loss: 1.5039 - accuracy: 0.4624 - val_loss: 1.5633 - val_accuracy: 0.4362\n",
      "Epoch 6/30\n",
      "45000/45000 [==============================] - 32s 716us/sample - loss: 1.4661 - accuracy: 0.4775 - val_loss: 1.7137 - val_accuracy: 0.3916\n",
      "Epoch 7/30\n",
      "45000/45000 [==============================] - 33s 727us/sample - loss: 1.4344 - accuracy: 0.4906 - val_loss: 1.6016 - val_accuracy: 0.4340\n",
      "Epoch 8/30\n",
      "45000/45000 [==============================] - 33s 728us/sample - loss: 1.4033 - accuracy: 0.5026 - val_loss: 1.4336 - val_accuracy: 0.4864\n",
      "Epoch 9/30\n",
      "45000/45000 [==============================] - 32s 709us/sample - loss: 1.3763 - accuracy: 0.5128 - val_loss: 1.5010 - val_accuracy: 0.4680\n",
      "Epoch 10/30\n",
      "45000/45000 [==============================] - 32s 706us/sample - loss: 1.3505 - accuracy: 0.5194 - val_loss: 1.5278 - val_accuracy: 0.4704\n",
      "Epoch 11/30\n",
      "45000/45000 [==============================] - 32s 718us/sample - loss: 1.3346 - accuracy: 0.5273 - val_loss: 1.5373 - val_accuracy: 0.4618\n",
      "Epoch 12/30\n",
      "45000/45000 [==============================] - 32s 715us/sample - loss: 1.3079 - accuracy: 0.5336 - val_loss: 1.3890 - val_accuracy: 0.5032\n",
      "Epoch 13/30\n",
      "45000/45000 [==============================] - 32s 712us/sample - loss: 1.2920 - accuracy: 0.5384 - val_loss: 1.4796 - val_accuracy: 0.4708\n",
      "Epoch 14/30\n",
      "45000/45000 [==============================] - 32s 718us/sample - loss: 1.2781 - accuracy: 0.5440 - val_loss: 1.5576 - val_accuracy: 0.4532\n",
      "Epoch 15/30\n",
      "45000/45000 [==============================] - 32s 720us/sample - loss: 1.2574 - accuracy: 0.5565 - val_loss: 1.4502 - val_accuracy: 0.4768\n",
      "Epoch 16/30\n",
      "45000/45000 [==============================] - 32s 711us/sample - loss: 1.2402 - accuracy: 0.5606 - val_loss: 1.4008 - val_accuracy: 0.5126\n",
      "Epoch 17/30\n",
      "45000/45000 [==============================] - 33s 726us/sample - loss: 1.2310 - accuracy: 0.5623 - val_loss: 1.4395 - val_accuracy: 0.4964\n",
      "Epoch 18/30\n",
      "45000/45000 [==============================] - 32s 721us/sample - loss: 1.2139 - accuracy: 0.5704 - val_loss: 1.4784 - val_accuracy: 0.4800\n",
      "Epoch 19/30\n",
      "45000/45000 [==============================] - 32s 722us/sample - loss: 1.1921 - accuracy: 0.5781 - val_loss: 1.4166 - val_accuracy: 0.5076\n",
      "5000/5000 [==============================] - 1s 109us/sample - loss: 1.4166 - accuracy: 0.5076\n",
      "Train on 45000 samples, validate on 5000 samples\n",
      "Epoch 1/30\n",
      "45000/45000 [==============================] - 41s 901us/sample - loss: 1.8426 - accuracy: 0.3374 - val_loss: 1.7328 - val_accuracy: 0.3806\n",
      "Epoch 2/30\n",
      "45000/45000 [==============================] - 32s 717us/sample - loss: 1.6646 - accuracy: 0.4054 - val_loss: 1.9804 - val_accuracy: 0.3020\n",
      "Epoch 3/30\n",
      "45000/45000 [==============================] - 33s 727us/sample - loss: 1.5937 - accuracy: 0.4326 - val_loss: 1.7048 - val_accuracy: 0.3996\n",
      "Epoch 4/30\n",
      "45000/45000 [==============================] - 33s 733us/sample - loss: 1.5454 - accuracy: 0.4518 - val_loss: 1.5278 - val_accuracy: 0.4572\n",
      "Epoch 5/30\n",
      "45000/45000 [==============================] - 33s 725us/sample - loss: 1.5020 - accuracy: 0.4696 - val_loss: 1.5620 - val_accuracy: 0.4518\n",
      "Epoch 6/30\n",
      "45000/45000 [==============================] - 33s 734us/sample - loss: 1.4639 - accuracy: 0.4804 - val_loss: 1.4868 - val_accuracy: 0.4760\n",
      "Epoch 7/30\n",
      "45000/45000 [==============================] - 33s 730us/sample - loss: 1.4354 - accuracy: 0.4922 - val_loss: 1.4529 - val_accuracy: 0.4866\n",
      "Epoch 8/30\n",
      "45000/45000 [==============================] - 33s 739us/sample - loss: 1.4031 - accuracy: 0.5028 - val_loss: 1.4466 - val_accuracy: 0.4852\n",
      "Epoch 9/30\n"
     ]
    },
    {
     "name": "stdout",
     "output_type": "stream",
     "text": [
      "45000/45000 [==============================] - 32s 721us/sample - loss: 1.3751 - accuracy: 0.5125 - val_loss: 1.5344 - val_accuracy: 0.4662\n",
      "Epoch 10/30\n",
      "45000/45000 [==============================] - 33s 738us/sample - loss: 1.3562 - accuracy: 0.5221 - val_loss: 1.4483 - val_accuracy: 0.4936\n",
      "Epoch 11/30\n",
      "45000/45000 [==============================] - 33s 727us/sample - loss: 1.3320 - accuracy: 0.5273 - val_loss: 1.5086 - val_accuracy: 0.4728\n",
      "Epoch 12/30\n",
      "45000/45000 [==============================] - 33s 735us/sample - loss: 1.3110 - accuracy: 0.5352 - val_loss: 1.5313 - val_accuracy: 0.4716\n",
      "Epoch 13/30\n",
      "45000/45000 [==============================] - 33s 727us/sample - loss: 1.2874 - accuracy: 0.5455 - val_loss: 1.5943 - val_accuracy: 0.4662\n",
      "Epoch 14/30\n",
      "45000/45000 [==============================] - 34s 745us/sample - loss: 1.2734 - accuracy: 0.5492 - val_loss: 1.4443 - val_accuracy: 0.4968\n",
      "Epoch 15/30\n",
      "45000/45000 [==============================] - 33s 732us/sample - loss: 1.2593 - accuracy: 0.5560 - val_loss: 1.5066 - val_accuracy: 0.4738\n",
      "Epoch 16/30\n",
      "45000/45000 [==============================] - 33s 725us/sample - loss: 1.2377 - accuracy: 0.5610 - val_loss: 1.5255 - val_accuracy: 0.4640\n",
      "Epoch 17/30\n",
      "45000/45000 [==============================] - 33s 738us/sample - loss: 1.2172 - accuracy: 0.5690 - val_loss: 1.4024 - val_accuracy: 0.5160\n",
      "Epoch 18/30\n",
      "45000/45000 [==============================] - 33s 743us/sample - loss: 1.2028 - accuracy: 0.5761 - val_loss: 1.4916 - val_accuracy: 0.4816\n",
      "Epoch 19/30\n",
      "45000/45000 [==============================] - 34s 762us/sample - loss: 1.1875 - accuracy: 0.5819 - val_loss: 1.4653 - val_accuracy: 0.4918\n",
      "Epoch 20/30\n",
      "45000/45000 [==============================] - 34s 748us/sample - loss: 1.1753 - accuracy: 0.5839 - val_loss: 1.4818 - val_accuracy: 0.4964\n",
      "Epoch 21/30\n",
      "45000/45000 [==============================] - 34s 746us/sample - loss: 1.1587 - accuracy: 0.5930 - val_loss: 1.4800 - val_accuracy: 0.4866\n",
      "Epoch 22/30\n",
      "45000/45000 [==============================] - 34s 748us/sample - loss: 1.1501 - accuracy: 0.5945 - val_loss: 1.4839 - val_accuracy: 0.4920\n",
      "Epoch 23/30\n",
      "45000/45000 [==============================] - 33s 737us/sample - loss: 1.1319 - accuracy: 0.6005 - val_loss: 1.5773 - val_accuracy: 0.4696\n",
      "Epoch 24/30\n",
      "45000/45000 [==============================] - 33s 730us/sample - loss: 1.1226 - accuracy: 0.6077 - val_loss: 1.5488 - val_accuracy: 0.4734\n",
      "5000/5000 [==============================] - 1s 115us/sample - loss: 1.5488 - accuracy: 0.4734\n",
      "Train on 45000 samples, validate on 5000 samples\n",
      "Epoch 1/30\n",
      "45000/45000 [==============================] - 42s 929us/sample - loss: 1.8413 - accuracy: 0.3428 - val_loss: 1.7536 - val_accuracy: 0.3696\n",
      "Epoch 2/30\n",
      "45000/45000 [==============================] - 34s 764us/sample - loss: 1.6779 - accuracy: 0.4046 - val_loss: 1.7639 - val_accuracy: 0.3676\n",
      "Epoch 3/30\n",
      "45000/45000 [==============================] - 35s 785us/sample - loss: 1.6145 - accuracy: 0.4287 - val_loss: 1.7626 - val_accuracy: 0.3622\n",
      "Epoch 4/30\n",
      "45000/45000 [==============================] - 34s 755us/sample - loss: 1.5600 - accuracy: 0.4456 - val_loss: 1.7049 - val_accuracy: 0.4158\n",
      "Epoch 5/30\n",
      "45000/45000 [==============================] - 34s 761us/sample - loss: 1.5151 - accuracy: 0.4598 - val_loss: 1.6930 - val_accuracy: 0.4090\n",
      "Epoch 6/30\n",
      "45000/45000 [==============================] - 35s 771us/sample - loss: 1.4808 - accuracy: 0.4747 - val_loss: 1.5913 - val_accuracy: 0.4428\n",
      "Epoch 7/30\n",
      "45000/45000 [==============================] - 33s 742us/sample - loss: 1.4433 - accuracy: 0.4886 - val_loss: 1.5914 - val_accuracy: 0.4392\n",
      "Epoch 8/30\n",
      "45000/45000 [==============================] - 35s 767us/sample - loss: 1.4139 - accuracy: 0.5023 - val_loss: 1.5648 - val_accuracy: 0.4458\n",
      "Epoch 9/30\n",
      "45000/45000 [==============================] - 35s 773us/sample - loss: 1.3889 - accuracy: 0.5092 - val_loss: 1.6801 - val_accuracy: 0.4358\n",
      "Epoch 10/30\n",
      "45000/45000 [==============================] - 34s 761us/sample - loss: 1.3584 - accuracy: 0.5204 - val_loss: 1.8493 - val_accuracy: 0.4040\n",
      "Epoch 11/30\n",
      "45000/45000 [==============================] - 34s 755us/sample - loss: 1.3420 - accuracy: 0.5273 - val_loss: 1.4986 - val_accuracy: 0.4826\n",
      "Epoch 12/30\n",
      "45000/45000 [==============================] - 34s 748us/sample - loss: 1.3139 - accuracy: 0.5381 - val_loss: 1.4292 - val_accuracy: 0.4978\n",
      "Epoch 13/30\n",
      "45000/45000 [==============================] - 34s 760us/sample - loss: 1.2987 - accuracy: 0.5413 - val_loss: 1.6066 - val_accuracy: 0.4502\n",
      "Epoch 14/30\n",
      "45000/45000 [==============================] - 33s 740us/sample - loss: 1.2710 - accuracy: 0.5536 - val_loss: 1.4776 - val_accuracy: 0.4972\n",
      "Epoch 15/30\n",
      "45000/45000 [==============================] - 35s 772us/sample - loss: 1.2581 - accuracy: 0.5570 - val_loss: 1.4694 - val_accuracy: 0.4864\n",
      "Epoch 16/30\n",
      "45000/45000 [==============================] - 35s 787us/sample - loss: 1.2393 - accuracy: 0.5627 - val_loss: 1.5770 - val_accuracy: 0.4712\n",
      "Epoch 17/30\n",
      "45000/45000 [==============================] - 35s 788us/sample - loss: 1.2212 - accuracy: 0.5731 - val_loss: 1.4559 - val_accuracy: 0.4940\n",
      "Epoch 18/30\n",
      "45000/45000 [==============================] - 34s 751us/sample - loss: 1.2064 - accuracy: 0.5776 - val_loss: 1.4204 - val_accuracy: 0.5064\n",
      "Epoch 19/30\n",
      "45000/45000 [==============================] - 34s 750us/sample - loss: 1.1914 - accuracy: 0.5835 - val_loss: 1.4960 - val_accuracy: 0.4750\n",
      "Epoch 20/30\n",
      "45000/45000 [==============================] - 34s 749us/sample - loss: 1.1741 - accuracy: 0.5865 - val_loss: 1.5501 - val_accuracy: 0.4748\n",
      "Epoch 21/30\n",
      "45000/45000 [==============================] - 34s 750us/sample - loss: 1.1597 - accuracy: 0.5930 - val_loss: 1.5405 - val_accuracy: 0.4718\n",
      "Epoch 22/30\n",
      "45000/45000 [==============================] - 35s 773us/sample - loss: 1.1412 - accuracy: 0.5974 - val_loss: 1.5974 - val_accuracy: 0.4814\n",
      "Epoch 23/30\n",
      "45000/45000 [==============================] - 35s 780us/sample - loss: 1.1312 - accuracy: 0.6051 - val_loss: 1.5044 - val_accuracy: 0.4890\n",
      "Epoch 24/30\n",
      "45000/45000 [==============================] - 35s 776us/sample - loss: 1.1142 - accuracy: 0.6091 - val_loss: 1.5930 - val_accuracy: 0.4590\n",
      "Epoch 25/30\n",
      "45000/45000 [==============================] - 34s 757us/sample - loss: 1.1004 - accuracy: 0.6143 - val_loss: 1.5713 - val_accuracy: 0.4658\n",
      "5000/5000 [==============================] - 1s 132us/sample - loss: 1.5713 - accuracy: 0.4658\n",
      "Train on 45000 samples, validate on 5000 samples\n",
      "Epoch 1/30\n",
      "45000/45000 [==============================] - 46s 1ms/sample - loss: 1.8890 - accuracy: 0.3188 - val_loss: 2.2181 - val_accuracy: 0.2618\n",
      "Epoch 2/30\n",
      "45000/45000 [==============================] - 37s 825us/sample - loss: 1.7446 - accuracy: 0.3725 - val_loss: 3.5517 - val_accuracy: 0.1942\n",
      "Epoch 3/30\n",
      "45000/45000 [==============================] - 38s 838us/sample - loss: 1.6648 - accuracy: 0.4039 - val_loss: 1.6801 - val_accuracy: 0.4036\n",
      "Epoch 4/30\n",
      "45000/45000 [==============================] - 38s 851us/sample - loss: 1.6043 - accuracy: 0.4296 - val_loss: 1.6263 - val_accuracy: 0.4156\n",
      "Epoch 5/30\n",
      "45000/45000 [==============================] - 38s 833us/sample - loss: 1.5510 - accuracy: 0.4473 - val_loss: 1.6364 - val_accuracy: 0.4284\n",
      "Epoch 6/30\n",
      "45000/45000 [==============================] - 38s 840us/sample - loss: 1.5106 - accuracy: 0.4598 - val_loss: 1.6591 - val_accuracy: 0.4170\n",
      "Epoch 7/30\n",
      "45000/45000 [==============================] - 38s 842us/sample - loss: 1.4632 - accuracy: 0.4773 - val_loss: 1.7678 - val_accuracy: 0.3820\n",
      "Epoch 8/30\n",
      "45000/45000 [==============================] - 38s 839us/sample - loss: 1.4312 - accuracy: 0.4939 - val_loss: 1.8868 - val_accuracy: 0.4076\n",
      "Epoch 9/30\n",
      "45000/45000 [==============================] - 38s 837us/sample - loss: 1.3971 - accuracy: 0.5076 - val_loss: 1.7796 - val_accuracy: 0.4002\n",
      "Epoch 10/30\n",
      "45000/45000 [==============================] - 38s 840us/sample - loss: 1.3716 - accuracy: 0.5136 - val_loss: 1.6110 - val_accuracy: 0.4610\n",
      "Epoch 11/30\n",
      "45000/45000 [==============================] - 38s 835us/sample - loss: 1.3429 - accuracy: 0.5241 - val_loss: 1.6556 - val_accuracy: 0.4354\n",
      "Epoch 12/30\n"
     ]
    },
    {
     "name": "stdout",
     "output_type": "stream",
     "text": [
      "45000/45000 [==============================] - 37s 831us/sample - loss: 1.3172 - accuracy: 0.5337 - val_loss: 1.5453 - val_accuracy: 0.4614\n",
      "Epoch 13/30\n",
      "45000/45000 [==============================] - 39s 860us/sample - loss: 1.2910 - accuracy: 0.5436 - val_loss: 1.5179 - val_accuracy: 0.4634\n",
      "Epoch 14/30\n",
      "45000/45000 [==============================] - 42s 933us/sample - loss: 1.2695 - accuracy: 0.5530 - val_loss: 1.5924 - val_accuracy: 0.4702\n",
      "Epoch 15/30\n",
      "45000/45000 [==============================] - 38s 833us/sample - loss: 1.2494 - accuracy: 0.5594 - val_loss: 1.6924 - val_accuracy: 0.4148\n",
      "Epoch 16/30\n",
      "45000/45000 [==============================] - 38s 837us/sample - loss: 1.2298 - accuracy: 0.5662 - val_loss: 1.8775 - val_accuracy: 0.3874\n",
      "Epoch 17/30\n",
      "45000/45000 [==============================] - 37s 830us/sample - loss: 1.2052 - accuracy: 0.5748 - val_loss: 1.5163 - val_accuracy: 0.4866\n",
      "Epoch 18/30\n",
      "45000/45000 [==============================] - 37s 832us/sample - loss: 1.1866 - accuracy: 0.5812 - val_loss: 1.5028 - val_accuracy: 0.4864\n",
      "Epoch 19/30\n",
      "45000/45000 [==============================] - 38s 853us/sample - loss: 1.1700 - accuracy: 0.5890 - val_loss: 1.5325 - val_accuracy: 0.4776\n",
      "Epoch 20/30\n",
      "45000/45000 [==============================] - 38s 846us/sample - loss: 1.1518 - accuracy: 0.5941 - val_loss: 1.4854 - val_accuracy: 0.4952\n",
      "Epoch 21/30\n",
      "45000/45000 [==============================] - 38s 854us/sample - loss: 1.1361 - accuracy: 0.6020 - val_loss: 1.6422 - val_accuracy: 0.4518\n",
      "Epoch 22/30\n",
      "45000/45000 [==============================] - 38s 842us/sample - loss: 1.1193 - accuracy: 0.6053 - val_loss: 1.4770 - val_accuracy: 0.4974\n",
      "Epoch 23/30\n",
      "45000/45000 [==============================] - 38s 838us/sample - loss: 1.1051 - accuracy: 0.6121 - val_loss: 1.4712 - val_accuracy: 0.4930\n",
      "Epoch 24/30\n",
      "45000/45000 [==============================] - 36s 811us/sample - loss: 1.0876 - accuracy: 0.6172 - val_loss: 1.4255 - val_accuracy: 0.5110\n",
      "Epoch 25/30\n",
      "45000/45000 [==============================] - 37s 830us/sample - loss: 1.0704 - accuracy: 0.6224 - val_loss: 1.5514 - val_accuracy: 0.4752\n",
      "Epoch 26/30\n",
      "45000/45000 [==============================] - 38s 855us/sample - loss: 1.0618 - accuracy: 0.6270 - val_loss: 1.5525 - val_accuracy: 0.4798\n",
      "Epoch 27/30\n",
      "45000/45000 [==============================] - 38s 839us/sample - loss: 1.0446 - accuracy: 0.6304 - val_loss: 1.5224 - val_accuracy: 0.5174\n",
      "Epoch 28/30\n",
      "45000/45000 [==============================] - 37s 833us/sample - loss: 1.0300 - accuracy: 0.6356 - val_loss: 1.4646 - val_accuracy: 0.5032\n",
      "Epoch 29/30\n",
      "45000/45000 [==============================] - 38s 833us/sample - loss: 1.0180 - accuracy: 0.6416 - val_loss: 1.6732 - val_accuracy: 0.4608\n",
      "Epoch 30/30\n",
      "45000/45000 [==============================] - 38s 851us/sample - loss: 1.0104 - accuracy: 0.6458 - val_loss: 1.8393 - val_accuracy: 0.4526\n",
      "5000/5000 [==============================] - 1s 154us/sample - loss: 1.8393 - accuracy: 0.4526\n",
      "Train on 45000 samples, validate on 5000 samples\n",
      "Epoch 1/30\n",
      "45000/45000 [==============================] - 45s 991us/sample - loss: 1.9727 - accuracy: 0.2727 - val_loss: 2.0893 - val_accuracy: 0.2872\n",
      "Epoch 2/30\n",
      "45000/45000 [==============================] - 37s 828us/sample - loss: 1.7824 - accuracy: 0.3531 - val_loss: 2.4227 - val_accuracy: 0.2344\n",
      "Epoch 3/30\n",
      "45000/45000 [==============================] - 38s 838us/sample - loss: 1.6956 - accuracy: 0.3879 - val_loss: 2.4738 - val_accuracy: 0.2566\n",
      "Epoch 4/30\n",
      "45000/45000 [==============================] - 37s 820us/sample - loss: 1.6343 - accuracy: 0.4136 - val_loss: 2.1023 - val_accuracy: 0.3262\n",
      "Epoch 5/30\n",
      "45000/45000 [==============================] - 37s 820us/sample - loss: 1.5911 - accuracy: 0.4327 - val_loss: 1.8485 - val_accuracy: 0.3700\n",
      "Epoch 6/30\n",
      "45000/45000 [==============================] - 38s 841us/sample - loss: 1.5443 - accuracy: 0.4481 - val_loss: 2.0689 - val_accuracy: 0.3570\n",
      "Epoch 7/30\n",
      "45000/45000 [==============================] - 37s 815us/sample - loss: 1.5068 - accuracy: 0.4614 - val_loss: 2.3948 - val_accuracy: 0.2576\n",
      "Epoch 8/30\n",
      "45000/45000 [==============================] - 37s 831us/sample - loss: 1.4712 - accuracy: 0.4750 - val_loss: 3.1622 - val_accuracy: 0.2178\n",
      "Epoch 9/30\n",
      "45000/45000 [==============================] - 37s 827us/sample - loss: 1.4411 - accuracy: 0.4883 - val_loss: 2.6440 - val_accuracy: 0.2676\n",
      "Epoch 10/30\n",
      "45000/45000 [==============================] - 37s 816us/sample - loss: 1.4138 - accuracy: 0.4975 - val_loss: 2.3091 - val_accuracy: 0.3108\n",
      "Epoch 11/30\n",
      "45000/45000 [==============================] - 36s 811us/sample - loss: 1.3880 - accuracy: 0.5088 - val_loss: 2.9063 - val_accuracy: 0.2606\n",
      "Epoch 12/30\n",
      "45000/45000 [==============================] - 38s 838us/sample - loss: 1.3656 - accuracy: 0.5147 - val_loss: 2.1098 - val_accuracy: 0.3192\n",
      "5000/5000 [==============================] - 1s 134us/sample - loss: 2.1098 - accuracy: 0.3192\n"
     ]
    }
   ],
   "source": [
    "learning_rates = [3e-5, 5e-5, 1e-4, 3e-4, 5e-4, 1e-3, 3e-3, 1e-2]\n",
    "for index, lr in enumerate(learning_rates):\n",
    "    logdir = prepare_run_dir(index, postfix=\"bn\")\n",
    "    callbacks = prepare_callbacks(logdir, modelname=\"my_cifar10_bn_model.h5\")\n",
    "    nadam_optimizer = keras.optimizers.Nadam(lr=lr)\n",
    "    \n",
    "    cifar_model = create_cifar_bn_100_model()\n",
    "    cifar_model.compile(loss=\"sparse_categorical_crossentropy\", optimizer=nadam_optimizer, metrics=[\"accuracy\"])\n",
    "    \n",
    "    history = cifar_model.fit(X_train, y_train, epochs=30, \n",
    "                              callbacks=callbacks,\n",
    "                              validation_data=(X_valid, y_valid))\n",
    "    cifar_model.evaluate(X_valid, y_valid)"
   ]
  },
  {
   "cell_type": "code",
   "execution_count": 202,
   "metadata": {},
   "outputs": [
    {
     "name": "stdout",
     "output_type": "stream",
     "text": [
      "Train on 45000 samples, validate on 5000 samples\n",
      "Epoch 1/100\n",
      "45000/45000 [==============================] - 53s 1ms/sample - loss: 1.8485 - accuracy: 0.3388 - val_loss: 1.7323 - val_accuracy: 0.3752\n",
      "Epoch 2/100\n",
      "45000/45000 [==============================] - 44s 987us/sample - loss: 1.6738 - accuracy: 0.4019 - val_loss: 1.7917 - val_accuracy: 0.3790\n",
      "Epoch 3/100\n",
      "45000/45000 [==============================] - 44s 968us/sample - loss: 1.6025 - accuracy: 0.4315 - val_loss: 1.7227 - val_accuracy: 0.3980\n",
      "Epoch 4/100\n",
      "45000/45000 [==============================] - 44s 972us/sample - loss: 1.5504 - accuracy: 0.4467 - val_loss: 1.5568 - val_accuracy: 0.4528\n",
      "Epoch 5/100\n",
      "45000/45000 [==============================] - 44s 970us/sample - loss: 1.5030 - accuracy: 0.4648 - val_loss: 1.6195 - val_accuracy: 0.4244\n",
      "Epoch 6/100\n",
      "45000/45000 [==============================] - 44s 981us/sample - loss: 1.4689 - accuracy: 0.4805 - val_loss: 1.6979 - val_accuracy: 0.4056\n",
      "Epoch 7/100\n",
      "45000/45000 [==============================] - 44s 981us/sample - loss: 1.4333 - accuracy: 0.4892 - val_loss: 1.6081 - val_accuracy: 0.4388\n",
      "Epoch 8/100\n",
      "45000/45000 [==============================] - 44s 984us/sample - loss: 1.4028 - accuracy: 0.5029 - val_loss: 1.4783 - val_accuracy: 0.4836\n",
      "Epoch 9/100\n",
      "45000/45000 [==============================] - 43s 954us/sample - loss: 1.3765 - accuracy: 0.5118 - val_loss: 1.4673 - val_accuracy: 0.4870\n",
      "Epoch 10/100\n",
      "45000/45000 [==============================] - 44s 974us/sample - loss: 1.3523 - accuracy: 0.5206 - val_loss: 1.4582 - val_accuracy: 0.4808\n",
      "Epoch 11/100\n",
      "45000/45000 [==============================] - 44s 971us/sample - loss: 1.3293 - accuracy: 0.5310 - val_loss: 1.7524 - val_accuracy: 0.4092\n",
      "Epoch 12/100\n",
      "45000/45000 [==============================] - 44s 972us/sample - loss: 1.3080 - accuracy: 0.5364 - val_loss: 1.6635 - val_accuracy: 0.4290\n",
      "Epoch 13/100\n",
      "45000/45000 [==============================] - 44s 969us/sample - loss: 1.2891 - accuracy: 0.5429 - val_loss: 1.5246 - val_accuracy: 0.4698\n",
      "Epoch 14/100\n",
      "45000/45000 [==============================] - 44s 976us/sample - loss: 1.2722 - accuracy: 0.5477 - val_loss: 1.4855 - val_accuracy: 0.4752\n",
      "Epoch 15/100\n",
      "45000/45000 [==============================] - 44s 977us/sample - loss: 1.2542 - accuracy: 0.5547 - val_loss: 1.4620 - val_accuracy: 0.4910\n",
      "Epoch 16/100\n",
      "45000/45000 [==============================] - 44s 971us/sample - loss: 1.2386 - accuracy: 0.5659 - val_loss: 1.6559 - val_accuracy: 0.4410\n",
      "Epoch 17/100\n",
      "45000/45000 [==============================] - 44s 978us/sample - loss: 1.2247 - accuracy: 0.5670 - val_loss: 1.4679 - val_accuracy: 0.4884\n",
      "Epoch 18/100\n",
      "45000/45000 [==============================] - 44s 973us/sample - loss: 1.2046 - accuracy: 0.5742 - val_loss: 1.7404 - val_accuracy: 0.4044\n",
      "Epoch 19/100\n",
      "45000/45000 [==============================] - 44s 982us/sample - loss: 1.1980 - accuracy: 0.5780 - val_loss: 1.5096 - val_accuracy: 0.4838\n",
      "Epoch 20/100\n",
      "45000/45000 [==============================] - 45s 991us/sample - loss: 1.1803 - accuracy: 0.5815 - val_loss: 1.6215 - val_accuracy: 0.4768\n",
      "5000/5000 [==============================] - 1s 128us/sample - loss: 1.6215 - accuracy: 0.4768\n"
     ]
    },
    {
     "data": {
      "text/plain": [
       "[1.6214884134292602, 0.4768]"
      ]
     },
     "execution_count": 202,
     "metadata": {},
     "output_type": "execute_result"
    }
   ],
   "source": [
    "lr=5e-4\n",
    "logdir = os.path.join(os.curdir, \"my_logs\", \"cifar_logs\", \"lr_bn_{:03f}\".format(lr))\n",
    "callbacks = prepare_callbacks(logdir, modelname=\"my_cifar10_bn_model.h5\")\n",
    "nadam_optimizer = keras.optimizers.Nadam(lr=lr)\n",
    "   \n",
    "cifar_model = create_cifar_bn_100_model()\n",
    "cifar_model.compile(loss=\"sparse_categorical_crossentropy\", optimizer=nadam_optimizer, metrics=[\"accuracy\"])\n",
    "    \n",
    "history = cifar_model.fit(X_train, y_train, epochs=100, \n",
    "                              callbacks=callbacks,\n",
    "                              validation_data=(X_valid, y_valid))\n",
    "cifar_model.evaluate(X_test, y_test)"
   ]
  },
  {
   "cell_type": "code",
   "execution_count": 204,
   "metadata": {},
   "outputs": [],
   "source": [
    "def create_cifar_selu_100_model():\n",
    "    cifar_model = keras.models.Sequential()\n",
    "\n",
    "    cifar_model.add(keras.layers.Flatten(input_shape=[32, 32, 3]))\n",
    "\n",
    "    for _ in range(20):\n",
    "        cifar_model.add(keras.layers.Dense(100, \n",
    "                            activation=\"selu\", kernel_initializer=\"lecun_normal\"))\n",
    "\n",
    "    cifar_model.add(keras.layers.Dense(10, activation=\"softmax\"))\n",
    "    return cifar_model"
   ]
  },
  {
   "cell_type": "code",
   "execution_count": 205,
   "metadata": {},
   "outputs": [],
   "source": [
    "X_means = X_train.mean(axis=0)\n",
    "X_stds = X_train.std(axis=0)\n",
    "X_train_scaled = (X_train - X_means) / X_stds\n",
    "X_valid_scaled = (X_valid - X_means) / X_stds\n",
    "X_test_scaled = (X_test - X_means) / X_stds"
   ]
  },
  {
   "cell_type": "code",
   "execution_count": 207,
   "metadata": {},
   "outputs": [
    {
     "name": "stdout",
     "output_type": "stream",
     "text": [
      "Train on 45000 samples, validate on 5000 samples\n",
      "Epoch 1/30\n",
      "45000/45000 [==============================] - 31s 696us/sample - loss: 2.0477 - accuracy: 0.2716 - val_loss: 1.8659 - val_accuracy: 0.3306\n",
      "Epoch 2/30\n",
      "45000/45000 [==============================] - 29s 634us/sample - loss: 1.8147 - accuracy: 0.3527 - val_loss: 1.7598 - val_accuracy: 0.3738\n",
      "Epoch 3/30\n",
      "45000/45000 [==============================] - 29s 637us/sample - loss: 1.7219 - accuracy: 0.3893 - val_loss: 1.7039 - val_accuracy: 0.3900\n",
      "Epoch 4/30\n",
      "45000/45000 [==============================] - 30s 668us/sample - loss: 1.6570 - accuracy: 0.4132 - val_loss: 1.6679 - val_accuracy: 0.4030\n",
      "Epoch 5/30\n",
      "45000/45000 [==============================] - 29s 634us/sample - loss: 1.6059 - accuracy: 0.4322 - val_loss: 1.6370 - val_accuracy: 0.4156\n",
      "Epoch 6/30\n",
      "45000/45000 [==============================] - 28s 628us/sample - loss: 1.5640 - accuracy: 0.4452 - val_loss: 1.6194 - val_accuracy: 0.4176\n",
      "Epoch 7/30\n",
      "45000/45000 [==============================] - 29s 634us/sample - loss: 1.5281 - accuracy: 0.4595 - val_loss: 1.5989 - val_accuracy: 0.4312\n",
      "Epoch 8/30\n",
      "45000/45000 [==============================] - 28s 632us/sample - loss: 1.4969 - accuracy: 0.4709 - val_loss: 1.5855 - val_accuracy: 0.4394\n",
      "Epoch 9/30\n",
      "45000/45000 [==============================] - 28s 630us/sample - loss: 1.4678 - accuracy: 0.4792 - val_loss: 1.5759 - val_accuracy: 0.4440\n",
      "Epoch 10/30\n",
      "45000/45000 [==============================] - 28s 632us/sample - loss: 1.4422 - accuracy: 0.4896 - val_loss: 1.5722 - val_accuracy: 0.4466\n",
      "Epoch 11/30\n",
      "45000/45000 [==============================] - 28s 617us/sample - loss: 1.4188 - accuracy: 0.4971 - val_loss: 1.5642 - val_accuracy: 0.4502\n",
      "Epoch 12/30\n",
      "45000/45000 [==============================] - 27s 593us/sample - loss: 1.3972 - accuracy: 0.5071 - val_loss: 1.5595 - val_accuracy: 0.4472\n",
      "Epoch 13/30\n",
      "45000/45000 [==============================] - 26s 569us/sample - loss: 1.3762 - accuracy: 0.5139 - val_loss: 1.5510 - val_accuracy: 0.4548\n",
      "Epoch 14/30\n",
      "45000/45000 [==============================] - 26s 573us/sample - loss: 1.3563 - accuracy: 0.5230 - val_loss: 1.5499 - val_accuracy: 0.4540\n",
      "Epoch 15/30\n",
      "45000/45000 [==============================] - 25s 557us/sample - loss: 1.3379 - accuracy: 0.5303 - val_loss: 1.5417 - val_accuracy: 0.4606\n",
      "Epoch 16/30\n",
      "45000/45000 [==============================] - 25s 559us/sample - loss: 1.3202 - accuracy: 0.5347 - val_loss: 1.5444 - val_accuracy: 0.4598\n",
      "Epoch 17/30\n",
      "45000/45000 [==============================] - 25s 563us/sample - loss: 1.3032 - accuracy: 0.5401 - val_loss: 1.5474 - val_accuracy: 0.4568\n",
      "Epoch 18/30\n",
      "45000/45000 [==============================] - 26s 585us/sample - loss: 1.2863 - accuracy: 0.5472 - val_loss: 1.5532 - val_accuracy: 0.4618\n",
      "Epoch 19/30\n",
      "45000/45000 [==============================] - 26s 585us/sample - loss: 1.2704 - accuracy: 0.5558 - val_loss: 1.5498 - val_accuracy: 0.4654\n",
      "Epoch 20/30\n",
      "45000/45000 [==============================] - 26s 581us/sample - loss: 1.2536 - accuracy: 0.5598 - val_loss: 1.5462 - val_accuracy: 0.4660\n",
      "Epoch 21/30\n",
      "45000/45000 [==============================] - 28s 619us/sample - loss: 1.2394 - accuracy: 0.5666 - val_loss: 1.5459 - val_accuracy: 0.4700\n",
      "Epoch 22/30\n",
      "45000/45000 [==============================] - 25s 566us/sample - loss: 1.2248 - accuracy: 0.5708 - val_loss: 1.5471 - val_accuracy: 0.4660\n",
      "Epoch 23/30\n",
      "45000/45000 [==============================] - 25s 560us/sample - loss: 1.2101 - accuracy: 0.5766 - val_loss: 1.5523 - val_accuracy: 0.4620\n",
      "Epoch 24/30\n",
      "45000/45000 [==============================] - 26s 572us/sample - loss: 1.1963 - accuracy: 0.5807 - val_loss: 1.5604 - val_accuracy: 0.4660\n",
      "Epoch 25/30\n",
      "45000/45000 [==============================] - 25s 565us/sample - loss: 1.1825 - accuracy: 0.5852 - val_loss: 1.5585 - val_accuracy: 0.4638\n",
      "10000/10000 [==============================] - 1s 86us/sample - loss: 1.5672 - accuracy: 0.4593\n",
      "Train on 45000 samples, validate on 5000 samples\n",
      "Epoch 1/30\n",
      "45000/45000 [==============================] - 23s 507us/sample - loss: 1.9558 - accuracy: 0.3043 - val_loss: 1.7865 - val_accuracy: 0.3618\n",
      "Epoch 2/30\n",
      "45000/45000 [==============================] - 20s 454us/sample - loss: 1.7016 - accuracy: 0.3952 - val_loss: 1.6657 - val_accuracy: 0.4036\n",
      "Epoch 3/30\n",
      "45000/45000 [==============================] - 20s 453us/sample - loss: 1.5943 - accuracy: 0.4351 - val_loss: 1.6036 - val_accuracy: 0.4296\n",
      "Epoch 4/30\n",
      "45000/45000 [==============================] - 21s 460us/sample - loss: 1.5173 - accuracy: 0.4616 - val_loss: 1.5736 - val_accuracy: 0.4480\n",
      "Epoch 5/30\n",
      "45000/45000 [==============================] - 20s 452us/sample - loss: 1.4613 - accuracy: 0.4834 - val_loss: 1.5379 - val_accuracy: 0.4540\n",
      "Epoch 6/30\n",
      "45000/45000 [==============================] - 21s 456us/sample - loss: 1.4100 - accuracy: 0.5020 - val_loss: 1.5175 - val_accuracy: 0.4722\n",
      "Epoch 7/30\n",
      "45000/45000 [==============================] - 21s 457us/sample - loss: 1.3691 - accuracy: 0.5140 - val_loss: 1.5021 - val_accuracy: 0.4666\n",
      "Epoch 8/30\n",
      "45000/45000 [==============================] - 20s 449us/sample - loss: 1.3304 - accuracy: 0.5303 - val_loss: 1.5095 - val_accuracy: 0.4730\n",
      "Epoch 9/30\n",
      "45000/45000 [==============================] - 20s 452us/sample - loss: 1.2943 - accuracy: 0.5429 - val_loss: 1.5046 - val_accuracy: 0.4746\n",
      "Epoch 10/30\n",
      "45000/45000 [==============================] - 21s 459us/sample - loss: 1.2587 - accuracy: 0.5526 - val_loss: 1.5041 - val_accuracy: 0.4780\n",
      "Epoch 11/30\n",
      "45000/45000 [==============================] - 20s 454us/sample - loss: 1.2306 - accuracy: 0.5644 - val_loss: 1.5063 - val_accuracy: 0.4834\n",
      "Epoch 12/30\n",
      "45000/45000 [==============================] - 21s 458us/sample - loss: 1.2006 - accuracy: 0.5785 - val_loss: 1.4973 - val_accuracy: 0.4830\n",
      "Epoch 13/30\n",
      "45000/45000 [==============================] - 20s 453us/sample - loss: 1.1714 - accuracy: 0.5868 - val_loss: 1.5047 - val_accuracy: 0.4838\n",
      "Epoch 14/30\n",
      "45000/45000 [==============================] - 20s 454us/sample - loss: 1.1454 - accuracy: 0.5973 - val_loss: 1.5177 - val_accuracy: 0.4838\n",
      "Epoch 15/30\n",
      "45000/45000 [==============================] - 20s 454us/sample - loss: 1.1155 - accuracy: 0.6082 - val_loss: 1.5344 - val_accuracy: 0.4826\n",
      "Epoch 16/30\n",
      "45000/45000 [==============================] - 20s 450us/sample - loss: 1.0895 - accuracy: 0.6184 - val_loss: 1.5526 - val_accuracy: 0.4692\n",
      "Epoch 17/30\n",
      "45000/45000 [==============================] - 21s 457us/sample - loss: 1.0680 - accuracy: 0.6250 - val_loss: 1.5463 - val_accuracy: 0.4824\n",
      "Epoch 18/30\n",
      "45000/45000 [==============================] - 20s 452us/sample - loss: 1.0395 - accuracy: 0.6332 - val_loss: 1.5538 - val_accuracy: 0.4880\n",
      "Epoch 19/30\n",
      "45000/45000 [==============================] - 20s 447us/sample - loss: 1.0167 - accuracy: 0.6450 - val_loss: 1.5590 - val_accuracy: 0.4830\n",
      "Epoch 20/30\n",
      "45000/45000 [==============================] - 20s 455us/sample - loss: 0.9974 - accuracy: 0.6492 - val_loss: 1.5794 - val_accuracy: 0.4844\n",
      "Epoch 21/30\n",
      "45000/45000 [==============================] - 21s 457us/sample - loss: 0.9707 - accuracy: 0.6610 - val_loss: 1.6002 - val_accuracy: 0.4838\n",
      "Epoch 22/30\n",
      "45000/45000 [==============================] - 20s 454us/sample - loss: 0.9500 - accuracy: 0.6670 - val_loss: 1.6050 - val_accuracy: 0.4796\n",
      "10000/10000 [==============================] - 1s 94us/sample - loss: 1.6268 - accuracy: 0.4775\n",
      "Train on 45000 samples, validate on 5000 samples\n",
      "Epoch 1/30\n",
      "45000/45000 [==============================] - 23s 507us/sample - loss: 1.8250 - accuracy: 0.3504 - val_loss: 1.6825 - val_accuracy: 0.3982\n",
      "Epoch 2/30\n",
      "45000/45000 [==============================] - 20s 451us/sample - loss: 1.6149 - accuracy: 0.4227 - val_loss: 1.5882 - val_accuracy: 0.4296\n",
      "Epoch 3/30\n",
      "45000/45000 [==============================] - 21s 456us/sample - loss: 1.5161 - accuracy: 0.4601 - val_loss: 1.5406 - val_accuracy: 0.4526\n",
      "Epoch 4/30\n",
      "45000/45000 [==============================] - 21s 457us/sample - loss: 1.4479 - accuracy: 0.4849 - val_loss: 1.5290 - val_accuracy: 0.4654\n",
      "Epoch 5/30\n",
      "45000/45000 [==============================] - 20s 451us/sample - loss: 1.3882 - accuracy: 0.5106 - val_loss: 1.4818 - val_accuracy: 0.4788\n"
     ]
    },
    {
     "name": "stdout",
     "output_type": "stream",
     "text": [
      "Epoch 6/30\n",
      "45000/45000 [==============================] - 21s 457us/sample - loss: 1.3331 - accuracy: 0.5273 - val_loss: 1.4640 - val_accuracy: 0.4852\n",
      "Epoch 7/30\n",
      "45000/45000 [==============================] - 21s 459us/sample - loss: 1.2854 - accuracy: 0.5425 - val_loss: 1.4510 - val_accuracy: 0.4862\n",
      "Epoch 8/30\n",
      "45000/45000 [==============================] - 21s 457us/sample - loss: 1.2406 - accuracy: 0.5610 - val_loss: 1.4789 - val_accuracy: 0.4892\n",
      "Epoch 9/30\n",
      "45000/45000 [==============================] - 20s 455us/sample - loss: 1.1978 - accuracy: 0.5751 - val_loss: 1.4612 - val_accuracy: 0.4842\n",
      "Epoch 10/30\n",
      "45000/45000 [==============================] - 21s 461us/sample - loss: 1.1571 - accuracy: 0.5910 - val_loss: 1.4583 - val_accuracy: 0.4908\n",
      "Epoch 11/30\n",
      "45000/45000 [==============================] - 20s 449us/sample - loss: 1.1201 - accuracy: 0.6080 - val_loss: 1.4543 - val_accuracy: 0.5032\n",
      "Epoch 12/30\n",
      "45000/45000 [==============================] - 20s 452us/sample - loss: 1.0795 - accuracy: 0.6204 - val_loss: 1.4698 - val_accuracy: 0.5070\n",
      "Epoch 13/30\n",
      "45000/45000 [==============================] - 20s 455us/sample - loss: 1.0466 - accuracy: 0.6307 - val_loss: 1.4750 - val_accuracy: 0.5030\n",
      "Epoch 14/30\n",
      "45000/45000 [==============================] - 20s 451us/sample - loss: 1.0116 - accuracy: 0.6422 - val_loss: 1.4886 - val_accuracy: 0.4990\n",
      "Epoch 15/30\n",
      "45000/45000 [==============================] - 20s 451us/sample - loss: 0.9813 - accuracy: 0.6552 - val_loss: 1.5317 - val_accuracy: 0.4996\n",
      "Epoch 16/30\n",
      "45000/45000 [==============================] - 20s 456us/sample - loss: 0.9481 - accuracy: 0.6662 - val_loss: 1.5365 - val_accuracy: 0.5026\n",
      "Epoch 17/30\n",
      "45000/45000 [==============================] - 20s 450us/sample - loss: 0.9139 - accuracy: 0.6765 - val_loss: 1.5836 - val_accuracy: 0.5028\n",
      "10000/10000 [==============================] - 1s 97us/sample - loss: 1.5652 - accuracy: 0.4995\n",
      "Train on 45000 samples, validate on 5000 samples\n",
      "Epoch 1/30\n",
      "45000/45000 [==============================] - 23s 500us/sample - loss: 1.8514 - accuracy: 0.3407 - val_loss: 1.7727 - val_accuracy: 0.3660\n",
      "Epoch 2/30\n",
      "45000/45000 [==============================] - 20s 445us/sample - loss: 1.6393 - accuracy: 0.4203 - val_loss: 1.6141 - val_accuracy: 0.4358\n",
      "Epoch 3/30\n",
      "45000/45000 [==============================] - 20s 444us/sample - loss: 1.5397 - accuracy: 0.4541 - val_loss: 1.5565 - val_accuracy: 0.4532\n",
      "Epoch 4/30\n",
      "45000/45000 [==============================] - 20s 441us/sample - loss: 1.4658 - accuracy: 0.4821 - val_loss: 1.4758 - val_accuracy: 0.4814\n",
      "Epoch 5/30\n",
      "45000/45000 [==============================] - 20s 445us/sample - loss: 1.4002 - accuracy: 0.5038 - val_loss: 1.4563 - val_accuracy: 0.4924\n",
      "Epoch 6/30\n",
      "45000/45000 [==============================] - 20s 444us/sample - loss: 1.3467 - accuracy: 0.5223 - val_loss: 1.5032 - val_accuracy: 0.4674\n",
      "Epoch 7/30\n",
      "45000/45000 [==============================] - 20s 444us/sample - loss: 1.2990 - accuracy: 0.5427 - val_loss: 1.4689 - val_accuracy: 0.4866\n",
      "Epoch 8/30\n",
      "45000/45000 [==============================] - 20s 442us/sample - loss: 1.2540 - accuracy: 0.5588 - val_loss: 1.4577 - val_accuracy: 0.4980\n",
      "Epoch 9/30\n",
      "45000/45000 [==============================] - 20s 443us/sample - loss: 1.2141 - accuracy: 0.5768 - val_loss: 1.4341 - val_accuracy: 0.4946\n",
      "Epoch 10/30\n",
      "45000/45000 [==============================] - 20s 443us/sample - loss: 1.1713 - accuracy: 0.5924 - val_loss: 1.4681 - val_accuracy: 0.5034\n",
      "Epoch 11/30\n",
      "45000/45000 [==============================] - 20s 443us/sample - loss: 1.1345 - accuracy: 0.6039 - val_loss: 1.4500 - val_accuracy: 0.5118\n",
      "Epoch 12/30\n",
      "45000/45000 [==============================] - 20s 444us/sample - loss: 1.0974 - accuracy: 0.6172 - val_loss: 1.5032 - val_accuracy: 0.5064\n",
      "Epoch 13/30\n",
      "45000/45000 [==============================] - 20s 445us/sample - loss: 1.0640 - accuracy: 0.6312 - val_loss: 1.4301 - val_accuracy: 0.5136\n",
      "Epoch 14/30\n",
      "45000/45000 [==============================] - 20s 442us/sample - loss: 1.0340 - accuracy: 0.6396 - val_loss: 1.4677 - val_accuracy: 0.5064\n",
      "Epoch 15/30\n",
      "45000/45000 [==============================] - 20s 445us/sample - loss: 1.0023 - accuracy: 0.6513 - val_loss: 1.5115 - val_accuracy: 0.5116\n",
      "Epoch 16/30\n",
      "45000/45000 [==============================] - 20s 443us/sample - loss: 0.9754 - accuracy: 0.6626 - val_loss: 1.5478 - val_accuracy: 0.5078\n",
      "Epoch 17/30\n",
      "45000/45000 [==============================] - 20s 439us/sample - loss: 0.9429 - accuracy: 0.6716 - val_loss: 1.5191 - val_accuracy: 0.5042\n",
      "Epoch 18/30\n",
      "45000/45000 [==============================] - 20s 442us/sample - loss: 0.9122 - accuracy: 0.6857 - val_loss: 1.5345 - val_accuracy: 0.5090\n",
      "Epoch 19/30\n",
      "45000/45000 [==============================] - 20s 447us/sample - loss: 0.8914 - accuracy: 0.6934 - val_loss: 1.5484 - val_accuracy: 0.5100\n",
      "Epoch 20/30\n",
      "45000/45000 [==============================] - 20s 442us/sample - loss: 0.8594 - accuracy: 0.7038 - val_loss: 1.6169 - val_accuracy: 0.5116\n",
      "Epoch 21/30\n",
      "45000/45000 [==============================] - 20s 444us/sample - loss: 0.8392 - accuracy: 0.7130 - val_loss: 1.6165 - val_accuracy: 0.5126\n",
      "Epoch 22/30\n",
      "45000/45000 [==============================] - 20s 442us/sample - loss: 0.8181 - accuracy: 0.7205 - val_loss: 1.6128 - val_accuracy: 0.5096\n",
      "Epoch 23/30\n",
      "45000/45000 [==============================] - 20s 443us/sample - loss: 0.7944 - accuracy: 0.7267 - val_loss: 1.6818 - val_accuracy: 0.5006\n",
      "10000/10000 [==============================] - 1s 92us/sample - loss: 1.7014 - accuracy: 0.4888\n",
      "Train on 45000 samples, validate on 5000 samples\n",
      "Epoch 1/30\n",
      "45000/45000 [==============================] - 26s 567us/sample - loss: 1.8839 - accuracy: 0.3278 - val_loss: 1.7682 - val_accuracy: 0.3804\n",
      "Epoch 2/30\n",
      "45000/45000 [==============================] - 23s 510us/sample - loss: 1.6747 - accuracy: 0.4069 - val_loss: 1.6803 - val_accuracy: 0.4148\n",
      "Epoch 3/30\n",
      "45000/45000 [==============================] - 23s 512us/sample - loss: 1.5675 - accuracy: 0.4462 - val_loss: 1.5749 - val_accuracy: 0.4468\n",
      "Epoch 4/30\n",
      "45000/45000 [==============================] - 23s 511us/sample - loss: 1.4968 - accuracy: 0.4719 - val_loss: 1.5421 - val_accuracy: 0.4598\n",
      "Epoch 5/30\n",
      "45000/45000 [==============================] - 23s 509us/sample - loss: 1.4392 - accuracy: 0.4937 - val_loss: 1.5113 - val_accuracy: 0.4668\n",
      "Epoch 6/30\n",
      "45000/45000 [==============================] - 23s 511us/sample - loss: 1.3817 - accuracy: 0.5186 - val_loss: 1.4900 - val_accuracy: 0.4760\n",
      "Epoch 7/30\n",
      "45000/45000 [==============================] - 23s 509us/sample - loss: 1.3426 - accuracy: 0.5328 - val_loss: 1.4929 - val_accuracy: 0.4884\n",
      "Epoch 8/30\n",
      "45000/45000 [==============================] - 23s 510us/sample - loss: 1.2954 - accuracy: 0.5478 - val_loss: 1.4618 - val_accuracy: 0.4930\n",
      "Epoch 9/30\n",
      "45000/45000 [==============================] - 23s 510us/sample - loss: 1.2606 - accuracy: 0.5635 - val_loss: 1.5109 - val_accuracy: 0.4952\n",
      "Epoch 10/30\n",
      "45000/45000 [==============================] - 23s 509us/sample - loss: 1.2279 - accuracy: 0.5751 - val_loss: 1.4460 - val_accuracy: 0.5066\n",
      "Epoch 11/30\n",
      "45000/45000 [==============================] - 23s 511us/sample - loss: 1.1927 - accuracy: 0.5862 - val_loss: 1.4376 - val_accuracy: 0.5122\n",
      "Epoch 12/30\n",
      "45000/45000 [==============================] - 23s 512us/sample - loss: 1.1604 - accuracy: 0.5980 - val_loss: 1.5020 - val_accuracy: 0.5038\n",
      "Epoch 13/30\n",
      "45000/45000 [==============================] - 23s 507us/sample - loss: 1.1369 - accuracy: 0.6072 - val_loss: 1.4709 - val_accuracy: 0.5086\n",
      "Epoch 14/30\n",
      "45000/45000 [==============================] - 23s 506us/sample - loss: 1.1068 - accuracy: 0.6198 - val_loss: 1.4930 - val_accuracy: 0.5254\n",
      "Epoch 15/30\n",
      "45000/45000 [==============================] - 23s 511us/sample - loss: 1.0812 - accuracy: 0.6293 - val_loss: 1.5239 - val_accuracy: 0.5102\n",
      "Epoch 16/30\n",
      "45000/45000 [==============================] - 23s 506us/sample - loss: 1.0579 - accuracy: 0.6364 - val_loss: 1.5387 - val_accuracy: 0.5140\n",
      "Epoch 17/30\n",
      "45000/45000 [==============================] - 23s 509us/sample - loss: 1.0330 - accuracy: 0.6473 - val_loss: 1.4878 - val_accuracy: 0.5188\n",
      "Epoch 18/30\n"
     ]
    },
    {
     "name": "stdout",
     "output_type": "stream",
     "text": [
      "45000/45000 [==============================] - 23s 507us/sample - loss: 1.0069 - accuracy: 0.6580 - val_loss: 1.5399 - val_accuracy: 0.5080\n",
      "Epoch 19/30\n",
      "45000/45000 [==============================] - 23s 509us/sample - loss: 0.9896 - accuracy: 0.6635 - val_loss: 1.4682 - val_accuracy: 0.5252\n",
      "Epoch 20/30\n",
      "45000/45000 [==============================] - 23s 504us/sample - loss: 0.9657 - accuracy: 0.6699 - val_loss: 1.5470 - val_accuracy: 0.5156\n",
      "Epoch 21/30\n",
      "45000/45000 [==============================] - 23s 510us/sample - loss: 0.9447 - accuracy: 0.6800 - val_loss: 1.5617 - val_accuracy: 0.5088\n",
      "10000/10000 [==============================] - 1s 87us/sample - loss: 1.5538 - accuracy: 0.5102\n",
      "Train on 45000 samples, validate on 5000 samples\n",
      "Epoch 1/30\n",
      "45000/45000 [==============================] - 24s 530us/sample - loss: 1.9240 - accuracy: 0.3081 - val_loss: 1.7926 - val_accuracy: 0.3754\n",
      "Epoch 2/30\n",
      "45000/45000 [==============================] - 21s 468us/sample - loss: 1.7125 - accuracy: 0.3925 - val_loss: 1.6593 - val_accuracy: 0.4084\n",
      "Epoch 3/30\n",
      "45000/45000 [==============================] - 21s 465us/sample - loss: 1.6171 - accuracy: 0.4272 - val_loss: 1.6130 - val_accuracy: 0.4250\n",
      "Epoch 4/30\n",
      "45000/45000 [==============================] - 21s 457us/sample - loss: 1.5512 - accuracy: 0.4545 - val_loss: 1.5604 - val_accuracy: 0.4548\n",
      "Epoch 5/30\n",
      "45000/45000 [==============================] - 21s 473us/sample - loss: 1.4931 - accuracy: 0.4757 - val_loss: 1.5280 - val_accuracy: 0.4672\n",
      "Epoch 6/30\n",
      "45000/45000 [==============================] - 21s 464us/sample - loss: 1.4437 - accuracy: 0.4977 - val_loss: 1.5217 - val_accuracy: 0.4756\n",
      "Epoch 7/30\n",
      "45000/45000 [==============================] - 21s 457us/sample - loss: 1.4022 - accuracy: 0.5101 - val_loss: 1.5088 - val_accuracy: 0.4820\n",
      "Epoch 8/30\n",
      "45000/45000 [==============================] - 21s 463us/sample - loss: 1.3635 - accuracy: 0.5234 - val_loss: 1.5037 - val_accuracy: 0.4830\n",
      "Epoch 9/30\n",
      "45000/45000 [==============================] - 21s 467us/sample - loss: 1.3249 - accuracy: 0.5419 - val_loss: 1.4920 - val_accuracy: 0.4756\n",
      "Epoch 10/30\n",
      "45000/45000 [==============================] - 21s 473us/sample - loss: 1.2951 - accuracy: 0.5506 - val_loss: 1.4750 - val_accuracy: 0.5012\n",
      "Epoch 11/30\n",
      "45000/45000 [==============================] - 21s 464us/sample - loss: 1.2673 - accuracy: 0.5637 - val_loss: 1.4786 - val_accuracy: 0.5012\n",
      "Epoch 12/30\n",
      "45000/45000 [==============================] - 21s 466us/sample - loss: 1.2338 - accuracy: 0.5751 - val_loss: 1.4952 - val_accuracy: 0.4858\n",
      "Epoch 13/30\n",
      "45000/45000 [==============================] - 21s 462us/sample - loss: 1.2088 - accuracy: 0.5833 - val_loss: 1.4905 - val_accuracy: 0.4980\n",
      "Epoch 14/30\n",
      "45000/45000 [==============================] - 21s 464us/sample - loss: 1.1804 - accuracy: 0.5950 - val_loss: 1.5004 - val_accuracy: 0.5098\n",
      "Epoch 15/30\n",
      "45000/45000 [==============================] - 21s 463us/sample - loss: 1.1657 - accuracy: 0.6007 - val_loss: 1.4545 - val_accuracy: 0.5060\n",
      "Epoch 16/30\n",
      "45000/45000 [==============================] - 20s 451us/sample - loss: 1.1350 - accuracy: 0.6113 - val_loss: 1.5252 - val_accuracy: 0.4974\n",
      "Epoch 17/30\n",
      "45000/45000 [==============================] - 21s 465us/sample - loss: 1.1192 - accuracy: 0.6175 - val_loss: 1.4689 - val_accuracy: 0.5088\n",
      "Epoch 18/30\n",
      "45000/45000 [==============================] - 21s 465us/sample - loss: 1.0984 - accuracy: 0.6218 - val_loss: 1.5054 - val_accuracy: 0.5082\n",
      "Epoch 19/30\n",
      "45000/45000 [==============================] - 20s 454us/sample - loss: 1.0748 - accuracy: 0.6331 - val_loss: 1.5187 - val_accuracy: 0.5138\n",
      "Epoch 20/30\n",
      "45000/45000 [==============================] - 20s 454us/sample - loss: 1.0507 - accuracy: 0.6429 - val_loss: 1.5348 - val_accuracy: 0.5022\n",
      "Epoch 21/30\n",
      "45000/45000 [==============================] - 21s 458us/sample - loss: 1.0399 - accuracy: 0.6464 - val_loss: 1.5663 - val_accuracy: 0.5018\n",
      "Epoch 22/30\n",
      "45000/45000 [==============================] - 21s 467us/sample - loss: 1.0153 - accuracy: 0.6524 - val_loss: 1.5721 - val_accuracy: 0.5042\n",
      "Epoch 23/30\n",
      "45000/45000 [==============================] - 21s 472us/sample - loss: 0.9940 - accuracy: 0.6633 - val_loss: 1.5346 - val_accuracy: 0.5042\n",
      "Epoch 24/30\n",
      "45000/45000 [==============================] - 21s 473us/sample - loss: 0.9763 - accuracy: 0.6703 - val_loss: 1.6118 - val_accuracy: 0.5082\n",
      "Epoch 25/30\n",
      "45000/45000 [==============================] - 21s 466us/sample - loss: 0.9635 - accuracy: 0.6729 - val_loss: 1.5908 - val_accuracy: 0.5130\n",
      "10000/10000 [==============================] - 1s 89us/sample - loss: 1.5871 - accuracy: 0.5076\n",
      "Train on 45000 samples, validate on 5000 samples\n",
      "Epoch 1/30\n",
      "45000/45000 [==============================] - 22s 499us/sample - loss: 1.9692 - accuracy: 0.2921 - val_loss: 1.8269 - val_accuracy: 0.3302\n",
      "Epoch 2/30\n",
      "45000/45000 [==============================] - 20s 445us/sample - loss: 1.7551 - accuracy: 0.3709 - val_loss: 1.7234 - val_accuracy: 0.3944\n",
      "Epoch 3/30\n",
      "45000/45000 [==============================] - 20s 448us/sample - loss: 1.6742 - accuracy: 0.4071 - val_loss: 1.6593 - val_accuracy: 0.4182\n",
      "Epoch 4/30\n",
      "45000/45000 [==============================] - 20s 451us/sample - loss: 1.6156 - accuracy: 0.4269 - val_loss: 1.6500 - val_accuracy: 0.4218\n",
      "Epoch 5/30\n",
      "45000/45000 [==============================] - 20s 445us/sample - loss: 1.5862 - accuracy: 0.4414 - val_loss: 1.6080 - val_accuracy: 0.4304\n",
      "Epoch 6/30\n",
      "45000/45000 [==============================] - 20s 447us/sample - loss: 1.5354 - accuracy: 0.4589 - val_loss: 1.5685 - val_accuracy: 0.4404\n",
      "Epoch 7/30\n",
      "45000/45000 [==============================] - 20s 443us/sample - loss: 1.5012 - accuracy: 0.4746 - val_loss: 1.5874 - val_accuracy: 0.4518\n",
      "Epoch 8/30\n",
      "45000/45000 [==============================] - 20s 443us/sample - loss: 1.4714 - accuracy: 0.4826 - val_loss: 1.5600 - val_accuracy: 0.4388\n",
      "Epoch 9/30\n",
      "45000/45000 [==============================] - 20s 442us/sample - loss: 1.4535 - accuracy: 0.4882 - val_loss: 1.5631 - val_accuracy: 0.4468\n",
      "Epoch 10/30\n",
      "45000/45000 [==============================] - 20s 446us/sample - loss: 1.4327 - accuracy: 0.4977 - val_loss: 1.5199 - val_accuracy: 0.4638\n",
      "Epoch 11/30\n",
      "45000/45000 [==============================] - 20s 445us/sample - loss: 1.3992 - accuracy: 0.5087 - val_loss: 1.4895 - val_accuracy: 0.4820\n",
      "Epoch 12/30\n",
      "45000/45000 [==============================] - 20s 440us/sample - loss: 1.3869 - accuracy: 0.5148 - val_loss: 1.5536 - val_accuracy: 0.4710\n",
      "Epoch 13/30\n",
      "45000/45000 [==============================] - 20s 445us/sample - loss: 1.3962 - accuracy: 0.5111 - val_loss: 1.5516 - val_accuracy: 0.4450\n",
      "Epoch 14/30\n",
      "45000/45000 [==============================] - 20s 444us/sample - loss: 1.3611 - accuracy: 0.5226 - val_loss: 1.5178 - val_accuracy: 0.4862\n",
      "Epoch 15/30\n",
      "45000/45000 [==============================] - 20s 445us/sample - loss: 1.3326 - accuracy: 0.5328 - val_loss: 1.5195 - val_accuracy: 0.4860\n",
      "Epoch 16/30\n",
      "45000/45000 [==============================] - 20s 446us/sample - loss: 1.3057 - accuracy: 0.5459 - val_loss: 1.5289 - val_accuracy: 0.4806\n",
      "Epoch 17/30\n",
      "45000/45000 [==============================] - 20s 446us/sample - loss: 1.2851 - accuracy: 0.5495 - val_loss: 1.5617 - val_accuracy: 0.4790\n",
      "Epoch 18/30\n",
      "45000/45000 [==============================] - 20s 444us/sample - loss: 1.2747 - accuracy: 0.5553 - val_loss: 1.5252 - val_accuracy: 0.4876\n",
      "Epoch 19/30\n",
      "45000/45000 [==============================] - 20s 446us/sample - loss: 1.2488 - accuracy: 0.5639 - val_loss: 1.5104 - val_accuracy: 0.4978\n",
      "Epoch 20/30\n",
      "45000/45000 [==============================] - 20s 445us/sample - loss: 27.6451 - accuracy: 0.5597 - val_loss: 2.3825 - val_accuracy: 0.3244\n",
      "Epoch 21/30\n",
      "45000/45000 [==============================] - 20s 444us/sample - loss: 1.4905 - accuracy: 0.4733 - val_loss: 1.5233 - val_accuracy: 0.4604\n",
      "10000/10000 [==============================] - 1s 89us/sample - loss: 1.5145 - accuracy: 0.4743\n",
      "Train on 45000 samples, validate on 5000 samples\n",
      "Epoch 1/30\n",
      "45000/45000 [==============================] - 28s 628us/sample - loss: 2.3422 - accuracy: 0.1707 - val_loss: 2.3276 - val_accuracy: 0.1536\n",
      "Epoch 2/30\n"
     ]
    },
    {
     "name": "stdout",
     "output_type": "stream",
     "text": [
      "45000/45000 [==============================] - 25s 560us/sample - loss: 2.0552 - accuracy: 0.1965 - val_loss: 2.0371 - val_accuracy: 0.1902\n",
      "Epoch 3/30\n",
      "45000/45000 [==============================] - 25s 550us/sample - loss: 1.9617 - accuracy: 0.2373 - val_loss: 2.0071 - val_accuracy: 0.2070\n",
      "Epoch 4/30\n",
      "45000/45000 [==============================] - 24s 542us/sample - loss: 1.9126 - accuracy: 0.2578 - val_loss: 2.0149 - val_accuracy: 0.2212\n",
      "Epoch 5/30\n",
      "45000/45000 [==============================] - 25s 558us/sample - loss: 1.8528 - accuracy: 0.2816 - val_loss: 1.8790 - val_accuracy: 0.2780\n",
      "Epoch 6/30\n",
      "45000/45000 [==============================] - 25s 552us/sample - loss: 1.8053 - accuracy: 0.3101 - val_loss: 1.7924 - val_accuracy: 0.3144\n",
      "Epoch 7/30\n",
      "45000/45000 [==============================] - 26s 573us/sample - loss: 1.7811 - accuracy: 0.3268 - val_loss: 1.9992 - val_accuracy: 0.2636\n",
      "Epoch 8/30\n",
      "45000/45000 [==============================] - 26s 569us/sample - loss: 1.7335 - accuracy: 0.3448 - val_loss: 1.8103 - val_accuracy: 0.3146\n",
      "Epoch 9/30\n",
      "45000/45000 [==============================] - 25s 557us/sample - loss: 1.6822 - accuracy: 0.3703 - val_loss: 1.9465 - val_accuracy: 0.3626\n",
      "Epoch 10/30\n",
      "45000/45000 [==============================] - 26s 567us/sample - loss: 2.5195 - accuracy: 0.3201 - val_loss: 1.8707 - val_accuracy: 0.3018\n",
      "Epoch 11/30\n",
      "45000/45000 [==============================] - 25s 557us/sample - loss: 1.7497 - accuracy: 0.3596 - val_loss: 1.7493 - val_accuracy: 0.3494\n",
      "Epoch 12/30\n",
      "45000/45000 [==============================] - 26s 571us/sample - loss: 1.6647 - accuracy: 0.3816 - val_loss: 1.7204 - val_accuracy: 0.3792\n",
      "Epoch 13/30\n",
      "45000/45000 [==============================] - 25s 551us/sample - loss: 3.1449 - accuracy: 0.2725 - val_loss: 2.3866 - val_accuracy: 0.0998\n",
      "Epoch 14/30\n",
      "45000/45000 [==============================] - 26s 585us/sample - loss: 2.3463 - accuracy: 0.0994 - val_loss: 2.3315 - val_accuracy: 0.0996\n",
      "Epoch 15/30\n",
      "45000/45000 [==============================] - 26s 576us/sample - loss: 2.3431 - accuracy: 0.1006 - val_loss: 2.3386 - val_accuracy: 0.0964\n",
      "Epoch 16/30\n",
      "45000/45000 [==============================] - 26s 570us/sample - loss: 2.3423 - accuracy: 0.1009 - val_loss: 2.3243 - val_accuracy: 0.1036\n",
      "Epoch 17/30\n",
      "45000/45000 [==============================] - 25s 563us/sample - loss: 2.3414 - accuracy: 0.1012 - val_loss: 2.3493 - val_accuracy: 0.0996\n",
      "Epoch 18/30\n",
      "45000/45000 [==============================] - 25s 561us/sample - loss: 2.3417 - accuracy: 0.1000 - val_loss: 2.3150 - val_accuracy: 0.0974\n",
      "Epoch 19/30\n",
      "45000/45000 [==============================] - 25s 557us/sample - loss: 2.3408 - accuracy: 0.1001 - val_loss: 2.3548 - val_accuracy: 0.0974\n",
      "Epoch 20/30\n",
      "45000/45000 [==============================] - 25s 564us/sample - loss: 2.3410 - accuracy: 0.1007 - val_loss: 2.3271 - val_accuracy: 0.1096\n",
      "Epoch 21/30\n",
      "45000/45000 [==============================] - 25s 559us/sample - loss: 2.3413 - accuracy: 0.0993 - val_loss: 2.4206 - val_accuracy: 0.1036\n",
      "Epoch 22/30\n",
      "45000/45000 [==============================] - 25s 562us/sample - loss: 2.3424 - accuracy: 0.0990 - val_loss: 2.4395 - val_accuracy: 0.1036\n",
      "10000/10000 [==============================] - 1s 88us/sample - loss: 2.4435 - accuracy: 0.1000\n"
     ]
    }
   ],
   "source": [
    "learning_rates = [1e-5, 3e-5, 1e-4, 3e-4, 5e-4, 7e-4, 1e-3, 3e-3]\n",
    "for index, lr in enumerate(learning_rates):\n",
    "    logdir = prepare_run_dir(index, postfix=\"selu\")\n",
    "    callbacks = prepare_callbacks(logdir, modelname=\"my_cifar10_selu_model.h5\")\n",
    "    nadam_optimizer = keras.optimizers.Nadam(lr=lr)\n",
    "    \n",
    "    cifar_model = create_cifar_selu_100_model()\n",
    "    cifar_model.compile(loss=\"sparse_categorical_crossentropy\", optimizer=nadam_optimizer, metrics=[\"accuracy\"])\n",
    "    \n",
    "    history = cifar_model.fit(X_train_scaled, y_train, epochs=30, \n",
    "                              callbacks=callbacks,\n",
    "                              validation_data=(X_valid_scaled, y_valid))\n",
    "    cifar_model.evaluate(X_test_scaled, y_test)"
   ]
  },
  {
   "cell_type": "code",
   "execution_count": 210,
   "metadata": {},
   "outputs": [
    {
     "name": "stdout",
     "output_type": "stream",
     "text": [
      "Train on 45000 samples, validate on 5000 samples\n",
      "Epoch 1/100\n",
      "45000/45000 [==============================] - 33s 737us/sample - loss: 1.9379 - accuracy: 0.2990 - val_loss: 1.7935 - val_accuracy: 0.3454\n",
      "Epoch 2/100\n",
      "45000/45000 [==============================] - 30s 670us/sample - loss: 1.7094 - accuracy: 0.3897 - val_loss: 1.7612 - val_accuracy: 0.3690\n",
      "Epoch 3/100\n",
      "45000/45000 [==============================] - 28s 630us/sample - loss: 1.6077 - accuracy: 0.4310 - val_loss: 1.6301 - val_accuracy: 0.4266\n",
      "Epoch 4/100\n",
      "45000/45000 [==============================] - 29s 649us/sample - loss: 1.5403 - accuracy: 0.4592 - val_loss: 1.6419 - val_accuracy: 0.4304\n",
      "Epoch 5/100\n",
      "45000/45000 [==============================] - 29s 649us/sample - loss: 1.4853 - accuracy: 0.4799 - val_loss: 1.5084 - val_accuracy: 0.4622\n",
      "Epoch 6/100\n",
      "45000/45000 [==============================] - 29s 651us/sample - loss: 1.4350 - accuracy: 0.4964 - val_loss: 1.5006 - val_accuracy: 0.4772\n",
      "Epoch 7/100\n",
      "45000/45000 [==============================] - 30s 677us/sample - loss: 1.3945 - accuracy: 0.5119 - val_loss: 1.5162 - val_accuracy: 0.4830\n",
      "Epoch 8/100\n",
      "45000/45000 [==============================] - 31s 683us/sample - loss: 1.3576 - accuracy: 0.5274 - val_loss: 1.4667 - val_accuracy: 0.4906\n",
      "Epoch 9/100\n",
      "45000/45000 [==============================] - 29s 646us/sample - loss: 1.3278 - accuracy: 0.5382 - val_loss: 1.5187 - val_accuracy: 0.4864\n",
      "Epoch 10/100\n",
      "45000/45000 [==============================] - 30s 662us/sample - loss: 1.3014 - accuracy: 0.5510 - val_loss: 1.4752 - val_accuracy: 0.4974\n",
      "Epoch 11/100\n",
      "45000/45000 [==============================] - 29s 653us/sample - loss: 1.2640 - accuracy: 0.5629 - val_loss: 1.4491 - val_accuracy: 0.5030\n",
      "Epoch 12/100\n",
      "45000/45000 [==============================] - 28s 622us/sample - loss: 1.2377 - accuracy: 0.5734 - val_loss: 1.5112 - val_accuracy: 0.4888\n",
      "Epoch 13/100\n",
      "45000/45000 [==============================] - 29s 652us/sample - loss: 1.2164 - accuracy: 0.5809 - val_loss: 1.4784 - val_accuracy: 0.5058\n",
      "Epoch 14/100\n",
      "45000/45000 [==============================] - 29s 639us/sample - loss: 1.1960 - accuracy: 0.5876 - val_loss: 1.4383 - val_accuracy: 0.5108\n",
      "Epoch 15/100\n",
      "45000/45000 [==============================] - 30s 671us/sample - loss: 1.1672 - accuracy: 0.5992 - val_loss: 1.5111 - val_accuracy: 0.4920\n",
      "Epoch 16/100\n",
      "45000/45000 [==============================] - 30s 659us/sample - loss: 1.1488 - accuracy: 0.6042 - val_loss: 1.5208 - val_accuracy: 0.5098\n",
      "Epoch 17/100\n",
      "45000/45000 [==============================] - 29s 655us/sample - loss: 1.1288 - accuracy: 0.6148 - val_loss: 1.5333 - val_accuracy: 0.5126\n",
      "Epoch 18/100\n",
      "45000/45000 [==============================] - 29s 640us/sample - loss: 1.1068 - accuracy: 0.6211 - val_loss: 1.4665 - val_accuracy: 0.5152\n",
      "Epoch 19/100\n",
      "45000/45000 [==============================] - 29s 640us/sample - loss: 1.0818 - accuracy: 0.6298 - val_loss: 1.4692 - val_accuracy: 0.5178\n",
      "Epoch 20/100\n",
      "45000/45000 [==============================] - 29s 653us/sample - loss: 1.0699 - accuracy: 0.6345 - val_loss: 1.4737 - val_accuracy: 0.5096\n",
      "Epoch 21/100\n",
      "45000/45000 [==============================] - 30s 657us/sample - loss: 1.0564 - accuracy: 0.6402 - val_loss: 1.4903 - val_accuracy: 0.5282\n",
      "Epoch 22/100\n",
      "45000/45000 [==============================] - 30s 659us/sample - loss: 1.0309 - accuracy: 0.6510 - val_loss: 1.5040 - val_accuracy: 0.5220\n",
      "Epoch 23/100\n",
      "45000/45000 [==============================] - 30s 665us/sample - loss: 1.0058 - accuracy: 0.6560 - val_loss: 1.5771 - val_accuracy: 0.5166\n",
      "Epoch 24/100\n",
      "45000/45000 [==============================] - 30s 659us/sample - loss: 0.9928 - accuracy: 0.6663 - val_loss: 1.5637 - val_accuracy: 0.5144\n",
      "10000/10000 [==============================] - 1s 121us/sample - loss: 1.4597 - accuracy: 0.4988\n"
     ]
    },
    {
     "data": {
      "text/plain": [
       "[1.4596643672943115, 0.4988]"
      ]
     },
     "execution_count": 210,
     "metadata": {},
     "output_type": "execute_result"
    }
   ],
   "source": [
    "lr=7e-4\n",
    "logdir = os.path.join(os.curdir, \"my_logs\", \"cifar_logs\", \"lr_selu_{:03f}\".format(lr))\n",
    "callbacks = prepare_callbacks(logdir, modelname=\"my_cifar10_selu_model.h5\")\n",
    "nadam_optimizer = keras.optimizers.Nadam(lr=lr)\n",
    "   \n",
    "cifar_model = create_cifar_selu_100_model()\n",
    "cifar_model.compile(loss=\"sparse_categorical_crossentropy\", optimizer=nadam_optimizer, metrics=[\"accuracy\"])\n",
    "    \n",
    "history = cifar_model.fit(X_train_scaled, y_train, epochs=100, \n",
    "                              callbacks=callbacks,\n",
    "                              validation_data=(X_valid_scaled, y_valid))\n",
    "\n",
    "cifar_model = keras.models.load_model(\"my_cifar10_selu_model.h5\")\n",
    "cifar_model.evaluate(X_test_scaled , y_test)\n"
   ]
  },
  {
   "cell_type": "code",
   "execution_count": 214,
   "metadata": {},
   "outputs": [],
   "source": [
    "def create_cifar_selu_alphadroput_100_model():\n",
    "    cifar_model = keras.models.Sequential()\n",
    "\n",
    "    cifar_model.add(keras.layers.Flatten(input_shape=[32, 32, 3]))\n",
    "\n",
    "    for _ in range(20):\n",
    "        cifar_model.add(keras.layers.Dense(100, \n",
    "                            activation=\"selu\", kernel_initializer=\"lecun_normal\"))\n",
    "    cifar_model.add(keras.layers.AlphaDropout(rate=0.1))\n",
    "    \n",
    "    cifar_model.add(keras.layers.Dense(10, activation=\"softmax\"))\n",
    "    return cifar_model"
   ]
  },
  {
   "cell_type": "code",
   "execution_count": 215,
   "metadata": {},
   "outputs": [
    {
     "name": "stdout",
     "output_type": "stream",
     "text": [
      "Train on 45000 samples, validate on 5000 samples\n",
      "Epoch 1/100\n",
      "45000/45000 [==============================] - 41s 903us/sample - loss: 1.9009 - accuracy: 0.3272 - val_loss: 1.7595 - val_accuracy: 0.3810\n",
      "Epoch 2/100\n",
      "45000/45000 [==============================] - 35s 778us/sample - loss: 1.6629 - accuracy: 0.4156 - val_loss: 1.5890 - val_accuracy: 0.4474\n",
      "Epoch 3/100\n",
      "45000/45000 [==============================] - 34s 745us/sample - loss: 1.5741 - accuracy: 0.4468 - val_loss: 1.6249 - val_accuracy: 0.4384\n",
      "Epoch 4/100\n",
      "45000/45000 [==============================] - 34s 756us/sample - loss: 1.5068 - accuracy: 0.4716 - val_loss: 1.6229 - val_accuracy: 0.4666\n",
      "Epoch 5/100\n",
      "45000/45000 [==============================] - 34s 761us/sample - loss: 1.4544 - accuracy: 0.4938 - val_loss: 1.5512 - val_accuracy: 0.4756\n",
      "Epoch 6/100\n",
      "45000/45000 [==============================] - 34s 753us/sample - loss: 1.4039 - accuracy: 0.5113 - val_loss: 1.4950 - val_accuracy: 0.4722\n",
      "Epoch 7/100\n",
      "45000/45000 [==============================] - 34s 745us/sample - loss: 1.3593 - accuracy: 0.5271 - val_loss: 1.5150 - val_accuracy: 0.4918\n",
      "Epoch 8/100\n",
      "45000/45000 [==============================] - 33s 743us/sample - loss: 1.3222 - accuracy: 0.5419 - val_loss: 1.5494 - val_accuracy: 0.4850\n",
      "Epoch 9/100\n",
      "45000/45000 [==============================] - 34s 761us/sample - loss: 1.2792 - accuracy: 0.5571 - val_loss: 1.5399 - val_accuracy: 0.4848\n",
      "Epoch 10/100\n",
      "45000/45000 [==============================] - 34s 759us/sample - loss: 1.2464 - accuracy: 0.5674 - val_loss: 1.5375 - val_accuracy: 0.5020\n",
      "Epoch 11/100\n",
      "45000/45000 [==============================] - 34s 751us/sample - loss: 1.2115 - accuracy: 0.5822 - val_loss: 1.4971 - val_accuracy: 0.5102\n",
      "Epoch 12/100\n",
      "45000/45000 [==============================] - 34s 748us/sample - loss: 1.1785 - accuracy: 0.5926 - val_loss: 1.5709 - val_accuracy: 0.5092\n",
      "Epoch 13/100\n",
      "45000/45000 [==============================] - 34s 759us/sample - loss: 1.1599 - accuracy: 0.6028 - val_loss: 1.5534 - val_accuracy: 0.4910\n",
      "Epoch 14/100\n",
      "45000/45000 [==============================] - 34s 753us/sample - loss: 1.1259 - accuracy: 0.6145 - val_loss: 1.6312 - val_accuracy: 0.5038\n",
      "Epoch 15/100\n",
      "45000/45000 [==============================] - 34s 764us/sample - loss: 1.1024 - accuracy: 0.6202 - val_loss: 1.5874 - val_accuracy: 0.5186\n",
      "Epoch 16/100\n",
      "45000/45000 [==============================] - 33s 726us/sample - loss: 1.0808 - accuracy: 0.6275 - val_loss: 1.6595 - val_accuracy: 0.5004\n",
      "10000/10000 [==============================] - 1s 121us/sample - loss: 1.5002 - accuracy: 0.4752\n"
     ]
    },
    {
     "data": {
      "text/plain": [
       "[1.5002077070236206, 0.4752]"
      ]
     },
     "execution_count": 215,
     "metadata": {},
     "output_type": "execute_result"
    }
   ],
   "source": [
    "lr=5e-4\n",
    "logdir = os.path.join(os.curdir, \"my_logs\", \"cifar_logs\", \"lr_selu_alphadroput_{:03f}\".format(lr))\n",
    "callbacks = prepare_callbacks(logdir, modelname=\"my_cifar10_selu_alphadroput_model.h5\")\n",
    "nadam_optimizer = keras.optimizers.Nadam(lr=lr)\n",
    "   \n",
    "cifar_model = create_cifar_selu_alphadroput_100_model()\n",
    "cifar_model.compile(loss=\"sparse_categorical_crossentropy\", optimizer=nadam_optimizer, metrics=[\"accuracy\"])\n",
    "    \n",
    "history = cifar_model.fit(X_train_scaled, y_train, epochs=100, \n",
    "                              callbacks=callbacks,\n",
    "                              validation_data=(X_valid_scaled, y_valid))\n",
    "\n",
    "cifar_model = keras.models.load_model(\"my_cifar10_selu_alphadroput_model.h5\")\n",
    "cifar_model.evaluate(X_test_scaled , y_test)"
   ]
  },
  {
   "cell_type": "code",
   "execution_count": 216,
   "metadata": {},
   "outputs": [],
   "source": [
    "class MCAlphaDropout(keras.layers.AlphaDropout):\n",
    "    def call(self, inputs):\n",
    "        return super().call(inputs, training=True)"
   ]
  },
  {
   "cell_type": "code",
   "execution_count": 217,
   "metadata": {},
   "outputs": [],
   "source": [
    "mc_model = keras.models.Sequential([\n",
    "    MCAlphaDropout(layer.rate) if isinstance(layer, keras.layers.AlphaDropout) else layer\n",
    "    for layer in cifar_model.layers\n",
    "])"
   ]
  },
  {
   "cell_type": "code",
   "execution_count": 218,
   "metadata": {},
   "outputs": [],
   "source": [
    "def mc_dropout_predict_probas(mc_model, X, n_samples=10):\n",
    "    Y_probas = [mc_model.predict(X) for sample in range(n_samples)]\n",
    "    return np.mean(Y_probas, axis=0)\n",
    "\n",
    "def mc_dropout_predict_classes(mc_model, X, n_samples=10):\n",
    "    Y_probas = mc_dropout_predict_probas(mc_model, X, n_samples)\n",
    "    return np.argmax(Y_probas, axis=1)\n",
    "\n"
   ]
  },
  {
   "cell_type": "code",
   "execution_count": 219,
   "metadata": {},
   "outputs": [
    {
     "data": {
      "text/plain": [
       "0.4754"
      ]
     },
     "execution_count": 219,
     "metadata": {},
     "output_type": "execute_result"
    }
   ],
   "source": [
    "y_pred = mc_dropout_predict_classes(mc_model, X_valid_scaled)\n",
    "accuracy = np.mean(y_pred == y_valid[:, 0])\n",
    "accuracy"
   ]
  },
  {
   "cell_type": "code",
   "execution_count": 228,
   "metadata": {},
   "outputs": [],
   "source": [
    "cifar_model = create_cifar_selu_100_model()\n",
    "sgd_optimizer = keras.optimizers.SGD(lr=1e-3)\n",
    "#nadam_optimizer = keras.optimizers.Nadam(lr=7e-4)\n",
    "cifar_model.compile(loss=\"sparse_categorical_crossentropy\", optimizer=sgd_optimizer, metrics=[\"accuracy\"])"
   ]
  },
  {
   "cell_type": "code",
   "execution_count": 229,
   "metadata": {},
   "outputs": [
    {
     "name": "stdout",
     "output_type": "stream",
     "text": [
      "Train on 45000 samples\n",
      "45000/45000 [==============================] - 4s 82us/sample - loss: nan - accuracy: 0.1440\n"
     ]
    },
    {
     "data": {
      "text/plain": [
       "[1e-05, 9.999868, 1.8970866, 3.566196646009173]"
      ]
     },
     "execution_count": 229,
     "metadata": {},
     "output_type": "execute_result"
    },
    {
     "data": {
      "image/png": "[encoded data removed]",
      "text/plain": [
       "<Figure size 432x288 with 1 Axes>"
      ]
     },
     "metadata": {
      "needs_background": "light"
     },
     "output_type": "display_data"
    }
   ],
   "source": [
    "batch_size = 128\n",
    "rates, losses = find_learning_rate(cifar_model, X_train_scaled, y_train, epochs=1, batch_size=batch_size)\n",
    "plot_lr_vs_loss(rates, losses)\n",
    "plt.axis([min(rates), max(rates), min(losses), (losses[0] + min(losses)) / 1.4])"
   ]
  },
  {
   "cell_type": "code",
   "execution_count": 234,
   "metadata": {},
   "outputs": [],
   "source": [
    "cifar_model = create_cifar_selu_100_model()\n",
    "sgd_optimizer = keras.optimizers.SGD(lr=1e-2)\n",
    "cifar_model.compile(loss=\"sparse_categorical_crossentropy\", optimizer=sgd_optimizer, metrics=[\"accuracy\"])"
   ]
  },
  {
   "cell_type": "code",
   "execution_count": 235,
   "metadata": {},
   "outputs": [
    {
     "name": "stdout",
     "output_type": "stream",
     "text": [
      "Train on 45000 samples, validate on 5000 samples\n",
      "Epoch 1/15\n",
      "45000/45000 [==============================] - 4s 86us/sample - loss: 1.8888 - accuracy: 0.3261 - val_loss: 1.7421 - val_accuracy: 0.3658\n",
      "Epoch 2/15\n",
      "45000/45000 [==============================] - 3s 68us/sample - loss: 1.6867 - accuracy: 0.3972 - val_loss: 1.6908 - val_accuracy: 0.3864\n",
      "Epoch 3/15\n",
      "45000/45000 [==============================] - 3s 71us/sample - loss: 1.6014 - accuracy: 0.4276 - val_loss: 1.5945 - val_accuracy: 0.4274\n",
      "Epoch 4/15\n",
      "45000/45000 [==============================] - 3s 68us/sample - loss: 1.5416 - accuracy: 0.4545 - val_loss: 1.6101 - val_accuracy: 0.4226\n",
      "Epoch 5/15\n",
      "45000/45000 [==============================] - 3s 70us/sample - loss: 1.4980 - accuracy: 0.4678 - val_loss: 1.5071 - val_accuracy: 0.4620\n",
      "Epoch 6/15\n",
      "45000/45000 [==============================] - 3s 68us/sample - loss: 1.4549 - accuracy: 0.4843 - val_loss: 1.5936 - val_accuracy: 0.4438\n",
      "Epoch 7/15\n",
      "45000/45000 [==============================] - 3s 68us/sample - loss: 1.4179 - accuracy: 0.4992 - val_loss: 1.5272 - val_accuracy: 0.4622\n",
      "Epoch 8/15\n",
      "45000/45000 [==============================] - 3s 68us/sample - loss: 1.3586 - accuracy: 0.5204 - val_loss: 1.4578 - val_accuracy: 0.4956\n",
      "Epoch 9/15\n",
      "45000/45000 [==============================] - 3s 69us/sample - loss: 1.2728 - accuracy: 0.5464 - val_loss: 1.4558 - val_accuracy: 0.4844\n",
      "Epoch 10/15\n",
      "45000/45000 [==============================] - 3s 69us/sample - loss: 1.2002 - accuracy: 0.5750 - val_loss: 1.4495 - val_accuracy: 0.4994\n",
      "Epoch 11/15\n",
      "45000/45000 [==============================] - 3s 68us/sample - loss: 1.1301 - accuracy: 0.5998 - val_loss: 1.4292 - val_accuracy: 0.5172\n",
      "Epoch 12/15\n",
      "45000/45000 [==============================] - 3s 67us/sample - loss: 1.0554 - accuracy: 0.6274 - val_loss: 1.4379 - val_accuracy: 0.5126\n",
      "Epoch 13/15\n",
      "45000/45000 [==============================] - 3s 70us/sample - loss: 0.9844 - accuracy: 0.6528 - val_loss: 1.4252 - val_accuracy: 0.5220\n",
      "Epoch 14/15\n",
      "45000/45000 [==============================] - 3s 69us/sample - loss: 0.9160 - accuracy: 0.6802 - val_loss: 1.4435 - val_accuracy: 0.5286\n",
      "Epoch 15/15\n",
      "45000/45000 [==============================] - 3s 68us/sample - loss: 0.8744 - accuracy: 0.6974 - val_loss: 1.4474 - val_accuracy: 0.5282\n"
     ]
    }
   ],
   "source": [
    "batch_size=128\n",
    "logdir = os.path.join(os.curdir, \"my_logs\", \"cifar_logs\", \"lr_selu_onecycle_{:03f}\".format(lr))\n",
    "callbacks = prepare_callbacks(logdir, modelname=\"my_cifar10_selu_onecycle_model.h5\")\n",
    "n_epochs = 15\n",
    "onecycle = OneCycleScheduler(len(X_train) // batch_size * n_epochs, max_rate=0.05)\n",
    "history = cifar_model.fit(X_train_scaled, y_train, epochs=n_epochs, batch_size=batch_size,\n",
    "                    validation_data=(X_valid_scaled, y_valid),\n",
    "                    callbacks=callbacks + [onecycle])"
   ]
  },
  {
   "cell_type": "code",
   "execution_count": 236,
   "metadata": {},
   "outputs": [
    {
     "name": "stdout",
     "output_type": "stream",
     "text": [
      "10000/10000 [==============================] - 1s 103us/sample - loss: 1.4239 - accuracy: 0.5239\n"
     ]
    },
    {
     "data": {
      "text/plain": [
       "[1.4238969652175903, 0.5239]"
      ]
     },
     "execution_count": 236,
     "metadata": {},
     "output_type": "execute_result"
    }
   ],
   "source": [
    "cifar_model = keras.models.load_model(\"my_cifar10_selu_onecycle_model.h5\")\n",
    "cifar_model.evaluate(X_test_scaled , y_test)"
   ]
  }
 ],
 "metadata": {
  "kernelspec": {
   "display_name": "Python 3",
   "language": "python",
   "name": "python3"
  },
  "language_info": {
   "codemirror_mode": {
    "name": "ipython",
    "version": 3
   },
   "file_extension": ".py",
   "mimetype": "text/x-python",
   "name": "python",
   "nbconvert_exporter": "python",
   "pygments_lexer": "ipython3",
   "version": "3.7.5"
  }
 },
 "nbformat": 4,
 "nbformat_minor": 2
}
