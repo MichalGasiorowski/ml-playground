{
 "cells": [
  {
   "cell_type": "code",
   "execution_count": 1,
   "metadata": {
    "colab": {
     "base_uri": "https://localhost:8080/",
     "height": 204
    },
    "colab_type": "code",
    "executionInfo": {
     "elapsed": 13668,
     "status": "ok",
     "timestamp": 1583708527094,
     "user": {
      "displayName": "Michał Gąsiorowski",
      "photoUrl": "https://lh3.googleusercontent.com/a-/AOh14GhXOWlJ4KxxHhCGudjwmdKeGCOkqGWLFiBPGkONew=s64",
      "userId": "01135843378887591141"
     },
     "user_tz": -60
    },
    "id": "LETtjMmNfRPq",
    "outputId": "4cbe5c74-e831-428f-d9fb-8bf2a044857f"
   },
   "outputs": [
    {
     "name": "stdout",
     "output_type": "stream",
     "text": [
      "/home/iid/.kaggle/kaggle.json <class 'str'> True\n",
      "mkdir: cannot create directory ‘/home/iid/.kaggle’: File exists\r\n"
     ]
    }
   ],
   "source": [
    "import os.path\n",
    "homedir = os.path.expanduser(\"~\")\n",
    "kaggle_home_dir = homedir + \"/.kaggle\"\n",
    "kaggle_file = \"kaggle.json\"\n",
    "\n",
    "kaggle_file = os.path.join(kaggle_home_dir, kaggle_file)\n",
    "print(kaggle_file, type(kaggle_file), kaggle_file == '/home/iid/.kaggle/kaggle.json')\n",
    "\n",
    "#!cat {kaggle_file}\n",
    "#!pip install kaggle\n",
    "\n",
    "!mkdir {kaggle_home_dir}\n",
    "# !echo '{\"username\":\"michalgasiorowski\",\"key\":\"64ed31a01f3f866630e66b5427dd6682\"}' > /root/.kaggle/kaggle.json\n",
    "#!echo '{\"username\":\"michalgasiorowski\",\"key\":\"64ed31a01f3f866630e66b5427dd6682\"}' >  '/home/iid/.kaggle/kaggle.json'\n",
    "\n"
   ]
  },
  {
   "cell_type": "code",
   "execution_count": 2,
   "metadata": {},
   "outputs": [
    {
     "name": "stdout",
     "output_type": "stream",
     "text": [
      "./../../data/titanic\n"
     ]
    }
   ],
   "source": [
    "os.path.curdir\n",
    "data_path = os.path.join(os.path.curdir, '../../data/titanic')\n",
    "print(data_path)"
   ]
  },
  {
   "cell_type": "code",
   "execution_count": null,
   "metadata": {
    "colab": {
     "base_uri": "https://localhost:8080/",
     "height": 204
    },
    "colab_type": "code",
    "executionInfo": {
     "elapsed": 18367,
     "status": "ok",
     "timestamp": 1583708531808,
     "user": {
      "displayName": "Michał Gąsiorowski",
      "photoUrl": "https://lh3.googleusercontent.com/a-/AOh14GhXOWlJ4KxxHhCGudjwmdKeGCOkqGWLFiBPGkONew=s64",
      "userId": "01135843378887591141"
     },
     "user_tz": -60
    },
    "id": "1WC27ixCoTpF",
    "outputId": "5c7e6e91-1622-42d2-bf18-f7c0f3b6f2d2"
   },
   "outputs": [
    {
     "name": "stdout",
     "output_type": "stream",
     "text": [
      "Warning: Your Kaggle API key is readable by other users on this system! To fix this, you can run 'chmod 600 /home/iid/.kaggle/kaggle.json'\n",
      "2020-03-10 18:08:01,052 WARNING Retrying (Retry(total=2, connect=None, read=None, redirect=None, status=None)) after connection broken by 'NewConnectionError('<urllib3.connection.VerifiedHTTPSConnection object at 0x7f97087eaa50>: Failed to establish a new connection: [Errno 111] Connection refused')': /api/v1/competitions/data/download-all/titanic\n"
     ]
    }
   ],
   "source": [
    "!kaggle competitions download -c titanic --path $data_path --force\n",
    "!unzip $data_path/titanic.zip -d $data_path"
   ]
  },
  {
   "cell_type": "code",
   "execution_count": 44,
   "metadata": {},
   "outputs": [],
   "source": [
    "# ! conda install -c anaconda seaborn \n",
    "import seaborn as sns\n",
    "import numpy as np"
   ]
  },
  {
   "cell_type": "code",
   "execution_count": 4,
   "metadata": {
    "colab": {
     "base_uri": "https://localhost:8080/",
     "height": 34
    },
    "colab_type": "code",
    "executionInfo": {
     "elapsed": 22090,
     "status": "ok",
     "timestamp": 1583708535543,
     "user": {
      "displayName": "Michał Gąsiorowski",
      "photoUrl": "https://lh3.googleusercontent.com/a-/AOh14GhXOWlJ4KxxHhCGudjwmdKeGCOkqGWLFiBPGkONew=s64",
      "userId": "01135843378887591141"
     },
     "user_tz": -60
    },
    "id": "YwAAx56LqL9u",
    "outputId": "739ebd56-86de-403f-f003-f47a4a3c2423"
   },
   "outputs": [
    {
     "name": "stdout",
     "output_type": "stream",
     "text": [
      "Ch3-Classification.ipynb\t     Classification3-c-Titanic.ipynb\r\n",
      "Classification3-a-MNIST.ipynb\t     forest_reg.pkl\r\n",
      "Classification3-b-shift-MNIST.ipynb  Housing.ipynb\r\n"
     ]
    }
   ],
   "source": [
    "!ls"
   ]
  },
  {
   "cell_type": "code",
   "execution_count": 5,
   "metadata": {
    "colab": {},
    "colab_type": "code",
    "id": "X5b_Oqq5pGNd"
   },
   "outputs": [],
   "source": [
    "import os\n",
    "import pandas as pd\n",
    "\n",
    "def load_titanic_dateset(titanic_path='/content'):\n",
    "  gender_submission_csv_path = os.path.join(titanic_path, \"gender_submission.csv\")\n",
    "  train_csv_path = os.path.join(titanic_path, \"train.csv\")\n",
    "  test_csv_path = os.path.join(titanic_path, \"test.csv\")\n",
    "  return pd.read_csv(gender_submission_csv_path), pd.read_csv(train_csv_path), pd.read_csv(test_csv_path)\n",
    "  #return pd.read_csv\n"
   ]
  },
  {
   "cell_type": "code",
   "execution_count": 6,
   "metadata": {
    "colab": {},
    "colab_type": "code",
    "id": "jDeNDRF2q0yc"
   },
   "outputs": [],
   "source": [
    "#gender_sub_df, train_df, test_df = load_titanic_dateset(titanic_path='/home/iid/PycharmProjects/ml-playground/data/titanic/')\n",
    "#gender_sub_df, train_df, test_df = load_titanic_dateset(titanic_path='/home/iid/PycharmProjects/ml-playground/data/titanic/')\n",
    "gender_sub_df, train_df, test_df = load_titanic_dateset(titanic_path=data_path)\n",
    "\n"
   ]
  },
  {
   "cell_type": "code",
   "execution_count": 7,
   "metadata": {
    "colab": {
     "base_uri": "https://localhost:8080/",
     "height": 493
    },
    "colab_type": "code",
    "executionInfo": {
     "elapsed": 22067,
     "status": "ok",
     "timestamp": 1583708535544,
     "user": {
      "displayName": "Michał Gąsiorowski",
      "photoUrl": "https://lh3.googleusercontent.com/a-/AOh14GhXOWlJ4KxxHhCGudjwmdKeGCOkqGWLFiBPGkONew=s64",
      "userId": "01135843378887591141"
     },
     "user_tz": -60
    },
    "id": "Mmq0qjzAsYpf",
    "outputId": "40fbba16-975c-4649-f813-75597980807e"
   },
   "outputs": [
    {
     "name": "stdout",
     "output_type": "stream",
     "text": [
      "<class 'pandas.core.frame.DataFrame'>\n",
      "RangeIndex: 891 entries, 0 to 890\n",
      "Data columns (total 12 columns):\n",
      " #   Column       Non-Null Count  Dtype  \n",
      "---  ------       --------------  -----  \n",
      " 0   PassengerId  891 non-null    int64  \n",
      " 1   Survived     891 non-null    int64  \n",
      " 2   Pclass       891 non-null    int64  \n",
      " 3   Name         891 non-null    object \n",
      " 4   Sex          891 non-null    object \n",
      " 5   Age          714 non-null    float64\n",
      " 6   SibSp        891 non-null    int64  \n",
      " 7   Parch        891 non-null    int64  \n",
      " 8   Ticket       891 non-null    object \n",
      " 9   Fare         891 non-null    float64\n",
      " 10  Cabin        204 non-null    object \n",
      " 11  Embarked     889 non-null    object \n",
      "dtypes: float64(2), int64(5), object(5)\n",
      "memory usage: 83.7+ KB\n"
     ]
    },
    {
     "data": {
      "text/plain": [
       "(       PassengerId    Survived      Pclass         Age       SibSp  \\\n",
       " count   891.000000  891.000000  891.000000  714.000000  891.000000   \n",
       " mean    446.000000    0.383838    2.308642   29.699118    0.523008   \n",
       " std     257.353842    0.486592    0.836071   14.526497    1.102743   \n",
       " min       1.000000    0.000000    1.000000    0.420000    0.000000   \n",
       " 25%     223.500000    0.000000    2.000000   20.125000    0.000000   \n",
       " 50%     446.000000    0.000000    3.000000   28.000000    0.000000   \n",
       " 75%     668.500000    1.000000    3.000000   38.000000    1.000000   \n",
       " max     891.000000    1.000000    3.000000   80.000000    8.000000   \n",
       " \n",
       "             Parch        Fare  \n",
       " count  891.000000  891.000000  \n",
       " mean     0.381594   32.204208  \n",
       " std      0.806057   49.693429  \n",
       " min      0.000000    0.000000  \n",
       " 25%      0.000000    7.910400  \n",
       " 50%      0.000000   14.454200  \n",
       " 75%      0.000000   31.000000  \n",
       " max      6.000000  512.329200  , None)"
      ]
     },
     "execution_count": 7,
     "metadata": {},
     "output_type": "execute_result"
    }
   ],
   "source": [
    "train_df.describe(), train_df.info()"
   ]
  },
  {
   "cell_type": "code",
   "execution_count": 8,
   "metadata": {
    "colab": {
     "base_uri": "https://localhost:8080/",
     "height": 578
    },
    "colab_type": "code",
    "executionInfo": {
     "elapsed": 22057,
     "status": "ok",
     "timestamp": 1583708535545,
     "user": {
      "displayName": "Michał Gąsiorowski",
      "photoUrl": "https://lh3.googleusercontent.com/a-/AOh14GhXOWlJ4KxxHhCGudjwmdKeGCOkqGWLFiBPGkONew=s64",
      "userId": "01135843378887591141"
     },
     "user_tz": -60
    },
    "id": "EnNLZNXHtdyX",
    "outputId": "2c5e488a-f7eb-4c03-beda-95ed913d425f"
   },
   "outputs": [
    {
     "data": {
      "text/plain": [
       "347082      7\n",
       "CA. 2343    7\n",
       "1601        7\n",
       "CA 2144     6\n",
       "3101295     6\n",
       "           ..\n",
       "113503      1\n",
       "347085      1\n",
       "28228       1\n",
       "345778      1\n",
       "228414      1\n",
       "Name: Ticket, Length: 681, dtype: int64"
      ]
     },
     "execution_count": 8,
     "metadata": {},
     "output_type": "execute_result"
    }
   ],
   "source": [
    "train_df[\"Ticket\"].value_counts()"
   ]
  },
  {
   "cell_type": "code",
   "execution_count": 9,
   "metadata": {
    "colab": {
     "base_uri": "https://localhost:8080/",
     "height": 1000
    },
    "colab_type": "code",
    "executionInfo": {
     "elapsed": 24035,
     "status": "ok",
     "timestamp": 1583708537537,
     "user": {
      "displayName": "Michał Gąsiorowski",
      "photoUrl": "https://lh3.googleusercontent.com/a-/AOh14GhXOWlJ4KxxHhCGudjwmdKeGCOkqGWLFiBPGkONew=s64",
      "userId": "01135843378887591141"
     },
     "user_tz": -60
    },
    "id": "HknjTr4vt-tP",
    "outputId": "1cf65527-d7ff-44ae-91a4-0205e0749c3d"
   },
   "outputs": [
    {
     "data": {
      "text/plain": [
       "array([[<matplotlib.axes._subplots.AxesSubplot object at 0x7f74e48894d0>,\n",
       "        <matplotlib.axes._subplots.AxesSubplot object at 0x7f74e4aaad50>,\n",
       "        <matplotlib.axes._subplots.AxesSubplot object at 0x7f74e4721e10>],\n",
       "       [<matplotlib.axes._subplots.AxesSubplot object at 0x7f74e46e3650>,\n",
       "        <matplotlib.axes._subplots.AxesSubplot object at 0x7f74e4698e50>,\n",
       "        <matplotlib.axes._subplots.AxesSubplot object at 0x7f74e4657690>],\n",
       "       [<matplotlib.axes._subplots.AxesSubplot object at 0x7f74e468be90>,\n",
       "        <matplotlib.axes._subplots.AxesSubplot object at 0x7f74e464b6d0>,\n",
       "        <matplotlib.axes._subplots.AxesSubplot object at 0x7f74e45d6250>]],\n",
       "      dtype=object)"
      ]
     },
     "execution_count": 9,
     "metadata": {},
     "output_type": "execute_result"
    },
    {
     "data": {
      "image/png": "[encoded data removed]",
      "text/plain": [
       "<Figure size 1440x1080 with 9 Axes>"
      ]
     },
     "metadata": {
      "needs_background": "light"
     },
     "output_type": "display_data"
    }
   ],
   "source": [
    "import matplotlib.pyplot as plt\n",
    "\n",
    "train_df.hist(bins=50, figsize=(20,15))"
   ]
  },
  {
   "cell_type": "code",
   "execution_count": 10,
   "metadata": {
    "colab": {
     "base_uri": "https://localhost:8080/",
     "height": 296
    },
    "colab_type": "code",
    "executionInfo": {
     "elapsed": 24514,
     "status": "ok",
     "timestamp": 1583708538032,
     "user": {
      "displayName": "Michał Gąsiorowski",
      "photoUrl": "https://lh3.googleusercontent.com/a-/AOh14GhXOWlJ4KxxHhCGudjwmdKeGCOkqGWLFiBPGkONew=s64",
      "userId": "01135843378887591141"
     },
     "user_tz": -60
    },
    "id": "2EhNQJJ-uKRY",
    "outputId": "3fadad27-31f9-48ad-e46b-2c2acd155a44"
   },
   "outputs": [
    {
     "data": {
      "text/plain": [
       "<matplotlib.axes._subplots.AxesSubplot at 0x7f74e3a67a50>"
      ]
     },
     "execution_count": 10,
     "metadata": {},
     "output_type": "execute_result"
    },
    {
     "data": {
      "image/png": "[encoded data removed]",
      "text/plain": [
       "<Figure size 432x288 with 1 Axes>"
      ]
     },
     "metadata": {
      "needs_background": "light"
     },
     "output_type": "display_data"
    }
   ],
   "source": [
    "train_df.plot(kind=\"scatter\", x=\"Age\", y=\"Fare\")"
   ]
  },
  {
   "cell_type": "code",
   "execution_count": 11,
   "metadata": {
    "colab": {},
    "colab_type": "code",
    "id": "PWbV9mAvvN1S"
   },
   "outputs": [],
   "source": [
    "corr_matrix = train_df.corr()\n"
   ]
  },
  {
   "cell_type": "code",
   "execution_count": 12,
   "metadata": {
    "colab": {
     "base_uri": "https://localhost:8080/",
     "height": 153
    },
    "colab_type": "code",
    "executionInfo": {
     "elapsed": 24498,
     "status": "ok",
     "timestamp": 1583708538034,
     "user": {
      "displayName": "Michał Gąsiorowski",
      "photoUrl": "https://lh3.googleusercontent.com/a-/AOh14GhXOWlJ4KxxHhCGudjwmdKeGCOkqGWLFiBPGkONew=s64",
      "userId": "01135843378887591141"
     },
     "user_tz": -60
    },
    "id": "lcZmUxt-vPx1",
    "outputId": "1fb0fa51-69e6-4eb6-f941-459775f8a454"
   },
   "outputs": [
    {
     "data": {
      "text/plain": [
       "Survived       1.000000\n",
       "Fare           0.257307\n",
       "Parch          0.081629\n",
       "PassengerId   -0.005007\n",
       "SibSp         -0.035322\n",
       "Age           -0.077221\n",
       "Pclass        -0.338481\n",
       "Name: Survived, dtype: float64"
      ]
     },
     "execution_count": 12,
     "metadata": {},
     "output_type": "execute_result"
    }
   ],
   "source": [
    "# Survival is correlated to Fare price :) No shit sherlock :)\n",
    "corr_matrix[\"Survived\"].sort_values(ascending=False)"
   ]
  },
  {
   "cell_type": "code",
   "execution_count": 13,
   "metadata": {
    "colab": {
     "base_uri": "https://localhost:8080/",
     "height": 1000
    },
    "colab_type": "code",
    "executionInfo": {
     "elapsed": 26147,
     "status": "ok",
     "timestamp": 1583708539698,
     "user": {
      "displayName": "Michał Gąsiorowski",
      "photoUrl": "https://lh3.googleusercontent.com/a-/AOh14GhXOWlJ4KxxHhCGudjwmdKeGCOkqGWLFiBPGkONew=s64",
      "userId": "01135843378887591141"
     },
     "user_tz": -60
    },
    "id": "qPmHoLssvdEY",
    "outputId": "7fcbe60f-474a-41f7-e2a1-115d6b3d18e9"
   },
   "outputs": [
    {
     "ename": "NameError",
     "evalue": "name 'train' is not defined",
     "output_type": "error",
     "traceback": [
      "\u001b[0;31m---------------------------------------------------------------------------\u001b[0m",
      "\u001b[0;31mNameError\u001b[0m                                 Traceback (most recent call last)",
      "\u001b[0;32m<ipython-input-13-74af033faca7>\u001b[0m in \u001b[0;36m<module>\u001b[0;34m\u001b[0m\n\u001b[1;32m     15\u001b[0m \u001b[0;34m\u001b[0m\u001b[0m\n\u001b[1;32m     16\u001b[0m \u001b[0mattributes\u001b[0m \u001b[0;34m=\u001b[0m \u001b[0;34m[\u001b[0m\u001b[0;34m\"Pclass\"\u001b[0m\u001b[0;34m,\u001b[0m \u001b[0;34m\"Sex\"\u001b[0m\u001b[0;34m,\u001b[0m \u001b[0;34m\"Age\"\u001b[0m\u001b[0;34m,\u001b[0m \u001b[0;34m\"SibSp\"\u001b[0m\u001b[0;34m,\u001b[0m \u001b[0;34m\"Fare\"\u001b[0m\u001b[0;34m,\u001b[0m \u001b[0;34m\"Survived\"\u001b[0m \u001b[0;34m]\u001b[0m\u001b[0;34m\u001b[0m\u001b[0;34m\u001b[0m\u001b[0m\n\u001b[0;32m---> 17\u001b[0;31m \u001b[0mscatter_matrix\u001b[0m\u001b[0;34m(\u001b[0m\u001b[0mtrain\u001b[0m\u001b[0;34m[\u001b[0m\u001b[0mattributes\u001b[0m\u001b[0;34m]\u001b[0m\u001b[0;34m,\u001b[0m \u001b[0mfigsize\u001b[0m\u001b[0;34m=\u001b[0m\u001b[0;34m(\u001b[0m\u001b[0;36m24\u001b[0m\u001b[0;34m,\u001b[0m \u001b[0;36m16\u001b[0m\u001b[0;34m)\u001b[0m\u001b[0;34m)\u001b[0m\u001b[0;34m\u001b[0m\u001b[0;34m\u001b[0m\u001b[0m\n\u001b[0m",
      "\u001b[0;31mNameError\u001b[0m: name 'train' is not defined"
     ]
    }
   ],
   "source": [
    "# PassengerId    891 non-null int64\n",
    "# Survived       891 non-null int64\n",
    "# Pclass         891 non-null int64\n",
    "# Name           891 non-null object\n",
    "# Sex            891 non-null object\n",
    "# Age            714 non-null float64\n",
    "# SibSp          891 non-null int64\n",
    "# Parch          891 non-null int64\n",
    "# Ticket         891 non-null object\n",
    "# Fare           891 non-null float64\n",
    "# Cabin          204 non-null object\n",
    "# Embarked       889 non-null object\n",
    "\n",
    "from pandas.plotting import scatter_matrix\n",
    "\n",
    "attributes = [\"Pclass\", \"Sex\", \"Age\", \"SibSp\", \"Fare\", \"Survived\" ]\n",
    "scatter_matrix(train[attributes], figsize=(24, 16))\n"
   ]
  },
  {
   "cell_type": "code",
   "execution_count": null,
   "metadata": {
    "colab": {},
    "colab_type": "code",
    "id": "SQrtjDr7_eOz"
   },
   "outputs": [],
   "source": [
    "#train_df_data = train_df.drop(\"Survived\", axis=1)\n",
    "#train_df_labels = train_df[\"Survived\"].copy()"
   ]
  },
  {
   "cell_type": "code",
   "execution_count": 14,
   "metadata": {
    "colab": {
     "base_uri": "https://localhost:8080/",
     "height": 68
    },
    "colab_type": "code",
    "executionInfo": {
     "elapsed": 26130,
     "status": "ok",
     "timestamp": 1583708539700,
     "user": {
      "displayName": "Michał Gąsiorowski",
      "photoUrl": "https://lh3.googleusercontent.com/a-/AOh14GhXOWlJ4KxxHhCGudjwmdKeGCOkqGWLFiBPGkONew=s64",
      "userId": "01135843378887591141"
     },
     "user_tz": -60
    },
    "id": "SybvxBbzGhMb",
    "outputId": "4eec196a-e035-4a68-f202-763058b6a0df"
   },
   "outputs": [
    {
     "data": {
      "text/plain": [
       "Index(['PassengerId', 'Survived', 'Pclass', 'Name', 'Sex', 'Age', 'SibSp',\n",
       "       'Parch', 'Ticket', 'Fare', 'Cabin', 'Embarked'],\n",
       "      dtype='object')"
      ]
     },
     "execution_count": 14,
     "metadata": {},
     "output_type": "execute_result"
    }
   ],
   "source": [
    "train_df.columns"
   ]
  },
  {
   "cell_type": "code",
   "execution_count": 16,
   "metadata": {
    "colab": {},
    "colab_type": "code",
    "id": "d8FF1HVVDfqO"
   },
   "outputs": [],
   "source": [
    "# Categorical Attributes\n",
    "# Missing Values\n",
    "# Numerical attributes\n",
    "\n",
    "nummerical_attributes = []\n",
    "categorical_attributes = [\"Pclass\", \"Sex\", \"Embarked\"]\n",
    "to_drop_attributes = [\"Ticket\", \"Name\"]"
   ]
  },
  {
   "cell_type": "code",
   "execution_count": null,
   "metadata": {
    "colab": {
     "base_uri": "https://localhost:8080/",
     "height": 450
    },
    "colab_type": "code",
    "executionInfo": {
     "elapsed": 1936,
     "status": "ok",
     "timestamp": 1583709306408,
     "user": {
      "displayName": "Michał Gąsiorowski",
      "photoUrl": "https://lh3.googleusercontent.com/a-/AOh14GhXOWlJ4KxxHhCGudjwmdKeGCOkqGWLFiBPGkONew=s64",
      "userId": "01135843378887591141"
     },
     "user_tz": -60
    },
    "id": "PQ4VoRHAbitB",
    "outputId": "d0276a13-9bdb-486f-e148-10ebafe50d30"
   },
   "outputs": [],
   "source": [
    "train.head()"
   ]
  },
  {
   "cell_type": "code",
   "execution_count": 17,
   "metadata": {},
   "outputs": [
    {
     "data": {
      "text/html": [
       "<div>\n",
       "<style scoped>\n",
       "    .dataframe tbody tr th:only-of-type {\n",
       "        vertical-align: middle;\n",
       "    }\n",
       "\n",
       "    .dataframe tbody tr th {\n",
       "        vertical-align: top;\n",
       "    }\n",
       "\n",
       "    .dataframe thead th {\n",
       "        text-align: right;\n",
       "    }\n",
       "</style>\n",
       "<table border=\"1\" class=\"dataframe\">\n",
       "  <thead>\n",
       "    <tr style=\"text-align: right;\">\n",
       "      <th></th>\n",
       "      <th>Total</th>\n",
       "      <th>%</th>\n",
       "    </tr>\n",
       "  </thead>\n",
       "  <tbody>\n",
       "    <tr>\n",
       "      <th>Cabin</th>\n",
       "      <td>687</td>\n",
       "      <td>77.1</td>\n",
       "    </tr>\n",
       "    <tr>\n",
       "      <th>Age</th>\n",
       "      <td>177</td>\n",
       "      <td>19.9</td>\n",
       "    </tr>\n",
       "    <tr>\n",
       "      <th>Embarked</th>\n",
       "      <td>2</td>\n",
       "      <td>0.2</td>\n",
       "    </tr>\n",
       "    <tr>\n",
       "      <th>Fare</th>\n",
       "      <td>0</td>\n",
       "      <td>0.0</td>\n",
       "    </tr>\n",
       "    <tr>\n",
       "      <th>Ticket</th>\n",
       "      <td>0</td>\n",
       "      <td>0.0</td>\n",
       "    </tr>\n",
       "  </tbody>\n",
       "</table>\n",
       "</div>"
      ],
      "text/plain": [
       "          Total     %\n",
       "Cabin       687  77.1\n",
       "Age         177  19.9\n",
       "Embarked      2   0.2\n",
       "Fare          0   0.0\n",
       "Ticket        0   0.0"
      ]
     },
     "execution_count": 17,
     "metadata": {},
     "output_type": "execute_result"
    }
   ],
   "source": [
    "total = train_df.isnull().sum().sort_values(ascending=False)\n",
    "percent_1 = train_df.isnull().sum()/train_df.isnull().count()*100\n",
    "percent_2 = (round(percent_1, 1)).sort_values(ascending=False)\n",
    "missing_data = pd.concat([total, percent_2], axis=1, keys=['Total', '%'])\n",
    "missing_data.head(5)"
   ]
  },
  {
   "cell_type": "markdown",
   "metadata": {
    "colab_type": "text",
    "id": "V9fMGpGIgddu"
   },
   "source": [
    "survival\tSurvival\t0 = No, 1 = Yes\n",
    "pclass\tTicket class\t1 = 1st, 2 = 2nd, 3 = 3rd\n",
    "sex\tSex\t\n",
    "Age\tAge in years\t\n",
    "sibsp\t# of siblings / spouses aboard the Titanic\t\n",
    "parch\t# of parents / children aboard the Titanic\t\n",
    "ticket\tTicket number\t\n",
    "fare\tPassenger fare\t\n",
    "cabin\tCabin number\t\n",
    "embarked\tPort of Embarkation\tC = Cherbourg, Q = Queenstown, S = Southampton"
   ]
  },
  {
   "cell_type": "code",
   "execution_count": 18,
   "metadata": {},
   "outputs": [
    {
     "data": {
      "text/plain": [
       "count     204\n",
       "unique    147\n",
       "top        G6\n",
       "freq        4\n",
       "Name: Cabin, dtype: object"
      ]
     },
     "execution_count": 18,
     "metadata": {},
     "output_type": "execute_result"
    }
   ],
   "source": [
    "#sns.barplot(x='Pclass', y='Survived', data=train_df)\n",
    "train_df['Cabin'].describe()"
   ]
  },
  {
   "cell_type": "code",
   "execution_count": 26,
   "metadata": {},
   "outputs": [],
   "source": [
    "train_df_prep = None\n",
    "test_df_prep = None"
   ]
  },
  {
   "cell_type": "code",
   "execution_count": 27,
   "metadata": {},
   "outputs": [],
   "source": [
    "def copy_data_to_prep():\n",
    "    train_df_prep, test_df_prep = train_df.copy(), test_df.copy()\n",
    "    return train_df_prep, test_df_prep"
   ]
  },
  {
   "cell_type": "code",
   "execution_count": 28,
   "metadata": {},
   "outputs": [],
   "source": [
    "def get_train_test_datests():\n",
    "    return train_df_prep, test_df_prep"
   ]
  },
  {
   "cell_type": "code",
   "execution_count": 29,
   "metadata": {},
   "outputs": [],
   "source": [
    "# Drop id for training dataset, we are not interested in PassengerId\n",
    "def dropPassengerId(train_df_prep):\n",
    "    train_df_prep = train_df_prep.drop([\"PassengerId\"], axis=1)\n",
    "    return train_df_prep\n",
    "#data_prep"
   ]
  },
  {
   "cell_type": "code",
   "execution_count": 30,
   "metadata": {},
   "outputs": [],
   "source": [
    "#train_df_prep[\"Cabin\"].value_counts()\n",
    "import re\n",
    "\n",
    "def cabin_preprocessing(train_df_prep, test_df_prep):\n",
    "    deckS = \"ABCDEFGU\"\n",
    "    deckNum = \"12345678\"\n",
    "    deckMap = dict(zip(deckS, deckNum))\n",
    "\n",
    "    reg = re.compile(\"([a-zA-Z]+)\")\n",
    "\n",
    "    for prep_dataset in get_train_test_datests():\n",
    "        prep_dataset[\"Cabin\"] = prep_dataset[\"Cabin\"].fillna(\"UO\")\n",
    "        prep_dataset[\"Deck\"] = prep_dataset[\"Cabin\"].map(lambda x: reg.search(x).group())\n",
    "        prep_dataset[\"Deck\"] = prep_dataset[\"Deck\"].map(deckMap)\n",
    "        prep_dataset[\"Deck\"] = prep_dataset[\"Deck\"].fillna(0)\n",
    "        prep_dataset[\"Deck\"] = prep_dataset[\"Deck\"].astype(int)\n",
    "\n",
    "    train_df_prep = train_df_prep.drop(['Cabin'], axis=1)  \n",
    "    test_df_prep = test_df_prep.drop(['Cabin'], axis=1)  \n",
    "\n",
    "    return train_df_prep, test_df_prep\n",
    "#train_df_prep[\"Deck\"].value_counts(), test_df_prep[\"Deck\"].value_counts()"
   ]
  },
  {
   "cell_type": "code",
   "execution_count": 46,
   "metadata": {},
   "outputs": [],
   "source": [
    "from sklearn.preprocessing import OrdinalEncoder\n",
    "\n",
    "def sex_preprocessing(train_df_prep, test_df_prep):\n",
    "    sex_category_mapping = {\"male\" : 0, \"female\" : 1}\n",
    "\n",
    "    for prep_dataset in get_train_test_datests():\n",
    "        sex_encoder = OrdinalEncoder(dtype=np.int32)\n",
    "        prep_dataset[[\"Sex\"]] = sex_encoder.fit_transform(prep_dataset[[\"Sex\"]])\n",
    "        prep_dataset[\"Sex\"] = prep_dataset[\"Sex\"].astype('category')\n",
    "        #prep_dataset['Sex'] = prep_dataset['Sex'].map(sex_category_mapping)\n",
    "    return train_df_prep, test_df_prep"
   ]
  },
  {
   "cell_type": "code",
   "execution_count": 32,
   "metadata": {},
   "outputs": [],
   "source": [
    "# Age - fill missing values\n",
    "# Use SimpleImputer\n",
    "\n",
    "import numpy as np\n",
    "from sklearn.impute import KNNImputer\n",
    "from sklearn.impute import SimpleImputer\n",
    "\n",
    "def age_preprocessing(train_df_prep, test_df_prep):\n",
    "    for prep_dataset in get_train_test_datests():\n",
    "        #imputer = KNNImputer(n_neighbors=2, weights=\"uniform\")\n",
    "        age_imputer = SimpleImputer(missing_values=np.nan, strategy='mean')\n",
    "        prep_dataset[[\"Age\"]] = age_imputer.fit_transform(prep_dataset[[\"Age\"]])\n",
    "        prep_dataset[\"Age\"] = prep_dataset[\"Age\"].astype(int)\n",
    "    return train_df_prep, test_df_prep"
   ]
  },
  {
   "cell_type": "code",
   "execution_count": 33,
   "metadata": {},
   "outputs": [],
   "source": [
    "# Combine SibSp and Parch\n",
    "def relatives_preprocessing(train_df_prep, test_df_prep):\n",
    "    for prep_dataset in get_train_test_datests():\n",
    "        #imputer = KNNImputer(n_neighbors=2, weights=\"uniform\")\n",
    "        prep_dataset[\"Relatives\"] = prep_dataset[\"SibSp\"] + prep_dataset['Parch']\n",
    "        prep_dataset.loc[prep_dataset['Relatives'] > 0, 'alone'] = 0\n",
    "        prep_dataset.loc[prep_dataset['Relatives'] == 0, 'alone'] = 1\n",
    "        #prep_dataset['alone'] = prep_dataset['alone'].astype(int)\n",
    "        prep_dataset[\"alone\"] = prep_dataset[\"alone\"].astype('category')\n",
    "    \n",
    "    train_df_prep = train_df_prep.drop(['SibSp'], axis=1)\n",
    "    train_df_prep = train_df_prep.drop(['Parch'], axis=1)\n",
    "    test_df_prep = test_df_prep.drop(['SibSp'], axis=1)  \n",
    "    test_df_prep = test_df_prep.drop(['Parch'], axis=1)\n",
    "    \n",
    "    return train_df_prep, test_df_prep"
   ]
  },
  {
   "cell_type": "code",
   "execution_count": 48,
   "metadata": {},
   "outputs": [],
   "source": [
    "# Embarked - fill missing values with median\n",
    "# Use SimpleImputer 'most_frequent'\n",
    "\n",
    "import numpy as np\n",
    "\n",
    "from sklearn.impute import SimpleImputer\n",
    "\n",
    "def embarked_preprocessing(train_df_prep, test_df_prep):\n",
    "    for prep_dataset in get_train_test_datests():\n",
    "        embarked_imputer = SimpleImputer(strategy='most_frequent')\n",
    "        embarked_encoder = OrdinalEncoder(dtype=np.int32)\n",
    "        prep_dataset[[\"Embarked\"]] = embarked_imputer.fit_transform(prep_dataset[[\"Embarked\"]])\n",
    "        prep_dataset[[\"Embarked\"]] = embarked_encoder.fit_transform(prep_dataset[[\"Embarked\"]])\n",
    "        prep_dataset[\"Embarked\"] = prep_dataset[\"Embarked\"].astype('category')\n",
    "        \n",
    "    return train_df_prep, test_df_prep"
   ]
  },
  {
   "cell_type": "code",
   "execution_count": 35,
   "metadata": {},
   "outputs": [],
   "source": [
    "# Fare - fill missing values with median\n",
    "\n",
    "import numpy as np\n",
    "\n",
    "from sklearn.impute import SimpleImputer\n",
    "\n",
    "def fare_preprocessing(train_df_prep, test_df_prep):\n",
    "    for prep_dataset in get_train_test_datests():\n",
    "        prep_dataset[\"Fare\"] = prep_dataset[\"Fare\"].fillna(0)\n",
    "        prep_dataset[\"Fare\"] = prep_dataset[\"Fare\"].astype(int)\n",
    "\n",
    "    return train_df_prep, test_df_prep"
   ]
  },
  {
   "cell_type": "code",
   "execution_count": 36,
   "metadata": {},
   "outputs": [],
   "source": [
    "# Ticket - drop the ticket\n",
    "\n",
    "import numpy as np\n",
    "\n",
    "from sklearn.impute import SimpleImputer\n",
    "\n",
    "def ticket_preprocessing(train_df_prep, test_df_prep):\n",
    "    train_df_prep = train_df_prep.drop([\"Ticket\"], axis=1)\n",
    "    test_df_prep = test_df_prep.drop([\"Ticket\"], axis=1)\n",
    "        \n",
    "    return train_df_prep, test_df_prep"
   ]
  },
  {
   "cell_type": "code",
   "execution_count": 37,
   "metadata": {},
   "outputs": [],
   "source": [
    "# PClass - make it categorical\n",
    "\n",
    "import numpy as np\n",
    "\n",
    "from sklearn.impute import SimpleImputer\n",
    "\n",
    "def pclass_preprocessing(train_df_prep, test_df_prep):\n",
    "    for prep_dataset in get_train_test_datests():\n",
    "        prep_dataset[\"Pclass\"] = prep_dataset[\"Pclass\"].astype('category')\n",
    "        \n",
    "    return train_df_prep, test_df_prep"
   ]
  },
  {
   "cell_type": "code",
   "execution_count": 38,
   "metadata": {},
   "outputs": [],
   "source": [
    "# Name - drop\n",
    "\n",
    "import numpy as np\n",
    "\n",
    "from sklearn.impute import SimpleImputer\n",
    "\n",
    "def name_preprocessing(train_df_prep, test_df_prep):\n",
    "    train_df_prep = train_df_prep.drop([\"Name\"], axis=1)\n",
    "    test_df_prep = test_df_prep.drop([\"Name\"], axis=1)\n",
    "    #for prep_dataset in get_train_test_datests():\n",
    "    #    prep_dataset[\"Pclass\"] = prep_dataset[\"Pclass\"].astype('category')\n",
    "        \n",
    "    return train_df_prep, test_df_prep"
   ]
  },
  {
   "cell_type": "code",
   "execution_count": 39,
   "metadata": {},
   "outputs": [],
   "source": [
    "def drop_survived(train_df_prep, test_df_prep):\n",
    "    X_train = train_df_prep.drop([\"Survived\"], axis=1) \n",
    "    y_train = train_df_prep[\"Survived\"]\n",
    "    X_test = test_df_prep.drop([\"PassengerId\"], axis=1).copy()\n",
    "    return X_train, y_train, X_test"
   ]
  },
  {
   "cell_type": "code",
   "execution_count": 40,
   "metadata": {},
   "outputs": [
    {
     "ename": "TypeError",
     "evalue": "'NoneType' object is not subscriptable",
     "output_type": "error",
     "traceback": [
      "\u001b[0;31m---------------------------------------------------------------------------\u001b[0m",
      "\u001b[0;31mTypeError\u001b[0m                                 Traceback (most recent call last)",
      "\u001b[0;32m<ipython-input-40-f0e65ba52d53>\u001b[0m in \u001b[0;36m<module>\u001b[0;34m\u001b[0m\n\u001b[0;32m----> 1\u001b[0;31m \u001b[0mtrain_df_prep\u001b[0m\u001b[0;34m[\u001b[0m\u001b[0;34m[\u001b[0m\u001b[0;34m\"Name\"\u001b[0m\u001b[0;34m]\u001b[0m\u001b[0;34m]\u001b[0m\u001b[0;34m.\u001b[0m\u001b[0msample\u001b[0m\u001b[0;34m(\u001b[0m\u001b[0;36m10\u001b[0m\u001b[0;34m)\u001b[0m\u001b[0;34m\u001b[0m\u001b[0;34m\u001b[0m\u001b[0m\n\u001b[0m\u001b[1;32m      2\u001b[0m \u001b[0;31m#test_df_prep['Embarked'].value_counts()\u001b[0m\u001b[0;34m\u001b[0m\u001b[0;34m\u001b[0m\u001b[0;34m\u001b[0m\u001b[0m\n",
      "\u001b[0;31mTypeError\u001b[0m: 'NoneType' object is not subscriptable"
     ]
    }
   ],
   "source": [
    "train_df_prep[[\"Name\"]].sample(10)\n",
    "#test_df_prep['Embarked'].value_counts()"
   ]
  },
  {
   "cell_type": "code",
   "execution_count": 41,
   "metadata": {},
   "outputs": [
    {
     "ename": "AttributeError",
     "evalue": "'NoneType' object has no attribute 'info'",
     "output_type": "error",
     "traceback": [
      "\u001b[0;31m---------------------------------------------------------------------------\u001b[0m",
      "\u001b[0;31mAttributeError\u001b[0m                            Traceback (most recent call last)",
      "\u001b[0;32m<ipython-input-41-859e54d131cd>\u001b[0m in \u001b[0;36m<module>\u001b[0;34m\u001b[0m\n\u001b[0;32m----> 1\u001b[0;31m \u001b[0mtrain_df_prep\u001b[0m\u001b[0;34m.\u001b[0m\u001b[0minfo\u001b[0m\u001b[0;34m(\u001b[0m\u001b[0;34m)\u001b[0m\u001b[0;34m\u001b[0m\u001b[0;34m\u001b[0m\u001b[0m\n\u001b[0m",
      "\u001b[0;31mAttributeError\u001b[0m: 'NoneType' object has no attribute 'info'"
     ]
    }
   ],
   "source": [
    "train_df_prep.info()"
   ]
  },
  {
   "cell_type": "code",
   "execution_count": 49,
   "metadata": {},
   "outputs": [],
   "source": [
    "train_df_prep, test_df_prep = copy_data_to_prep()\n",
    "train_df_prep = dropPassengerId(train_df_prep)\n",
    "train_df_prep, test_df_prep = cabin_preprocessing(train_df_prep, test_df_prep)\n",
    "train_df_prep, test_df_prep = sex_preprocessing(train_df_prep, test_df_prep)\n",
    "train_df_prep, test_df_prep = age_preprocessing(train_df_prep, test_df_prep)\n",
    "train_df_prep, test_df_prep = relatives_preprocessing(train_df_prep, test_df_prep)\n",
    "train_df_prep, test_df_prep = embarked_preprocessing(train_df_prep, test_df_prep)\n",
    "train_df_prep, test_df_prep = fare_preprocessing(train_df_prep, test_df_prep)\n",
    "train_df_prep, test_df_prep = ticket_preprocessing(train_df_prep, test_df_prep)\n",
    "train_df_prep, test_df_prep = pclass_preprocessing(train_df_prep, test_df_prep)\n",
    "train_df_prep, test_df_prep = name_preprocessing(train_df_prep, test_df_prep)\n",
    "\n",
    "X_train, y_train, X_test = drop_survived(train_df_prep, test_df_prep)\n"
   ]
  },
  {
   "cell_type": "code",
   "execution_count": 50,
   "metadata": {},
   "outputs": [
    {
     "name": "stderr",
     "output_type": "stream",
     "text": [
      "/home/iid/anaconda3/envs/ml-tensorflow/lib/python3.7/site-packages/seaborn/categorical.py:3669: UserWarning: The `factorplot` function has been renamed to `catplot`. The original name will be removed in a future release. Please update your code. Note that the default `kind` in `factorplot` (`'point'`) has changed `'strip'` in `catplot`.\n",
      "  warnings.warn(msg)\n"
     ]
    },
    {
     "data": {
      "image/png": "[encoded data removed]",
      "text/plain": [
       "<Figure size 900x360 with 1 Axes>"
      ]
     },
     "metadata": {
      "needs_background": "light"
     },
     "output_type": "display_data"
    }
   ],
   "source": [
    "axes = sns.factorplot('alone','Survived', \n",
    "                      data=train_df_prep, aspect = 2.5, )"
   ]
  },
  {
   "cell_type": "code",
   "execution_count": 51,
   "metadata": {},
   "outputs": [
    {
     "name": "stdout",
     "output_type": "stream",
     "text": [
      "acc_sgd: 60.1571268237935\n"
     ]
    }
   ],
   "source": [
    "from sklearn import linear_model\n",
    "\n",
    "sgd = linear_model.SGDClassifier()\n",
    "\n",
    "sgd.fit(X_train, y_train)\n",
    "Y_pred = sgd.predict(X_test)\n",
    "\n",
    "sgd.score(X_train, y_train)\n",
    "\n",
    "print(\"acc_sgd: {}\".format(sgd.score(X_train, y_train) * 100))"
   ]
  },
  {
   "cell_type": "code",
   "execution_count": 56,
   "metadata": {},
   "outputs": [
    {
     "name": "stdout",
     "output_type": "stream",
     "text": [
      "96.75\n"
     ]
    }
   ],
   "source": [
    "from sklearn.ensemble import RandomForestClassifier\n",
    "\n",
    "random_forest = RandomForestClassifier(n_estimators=100)\n",
    "random_forest.fit(X_train, y_train)\n",
    "\n",
    "Y_prediction = random_forest.predict(X_test)\n",
    "\n",
    "random_forest.score(X_train, y_train)\n",
    "acc_random_forest = round(random_forest.score(X_train, y_train) * 100, 2)\n",
    "print(acc_random_forest)"
   ]
  },
  {
   "cell_type": "code",
   "execution_count": 233,
   "metadata": {},
   "outputs": [
    {
     "data": {
      "text/plain": [
       "array([3, 1, 2], dtype=int64)"
      ]
     },
     "execution_count": 233,
     "metadata": {},
     "output_type": "execute_result"
    }
   ],
   "source": [
    "#list(prep_dataset.select_dtypes(include ='float64'))\n",
    "#prep_dataset[\"Sex\"] = prep_dataset[\"Sex\"].astype(int)\n",
    "train_df_prep['Pclass'].unique()"
   ]
  },
  {
   "cell_type": "code",
   "execution_count": 208,
   "metadata": {},
   "outputs": [
    {
     "data": {
      "text/plain": [
       "<matplotlib.axes._subplots.AxesSubplot at 0x23003cf3a88>"
      ]
     },
     "execution_count": 208,
     "metadata": {},
     "output_type": "execute_result"
    },
    {
     "data": {
      "image/png": "[encoded data removed]",
      "text/plain": [
       "<Figure size 432x288 with 1 Axes>"
      ]
     },
     "metadata": {
      "needs_background": "light"
     },
     "output_type": "display_data"
    }
   ],
   "source": [
    "train_df_prep['Fare'].hist()"
   ]
  },
  {
   "cell_type": "code",
   "execution_count": null,
   "metadata": {},
   "outputs": [],
   "source": [
    "X_train = tra"
   ]
  },
  {
   "cell_type": "code",
   "execution_count": 0,
   "metadata": {
    "colab": {},
    "colab_type": "code",
    "id": "QjPXmT7tY7PA"
   },
   "outputs": [],
   "source": [
    "from sklearn.pipeline import Pipeline\n",
    "from sklearn.preprocessing import StandardScaler\n",
    "\n",
    "num_pipeline = Pipeline([\n",
    " ('imputer')                        \n",
    "])"
   ]
  },
  {
   "cell_type": "code",
   "execution_count": 0,
   "metadata": {
    "colab": {},
    "colab_type": "code",
    "id": "vpWI0fImYZJb"
   },
   "outputs": [],
   "source": [
    "from sklearn.compose import ColumnTransformer\n",
    "\n",
    "nummerical_attributes = \n",
    "#num_pipeline "
   ]
  }
 ],
 "metadata": {
  "accelerator": "GPU",
  "colab": {
   "authorship_tag": "ABX9TyO0LlEkiE3g8pG6UBye97FT",
   "collapsed_sections": [],
   "name": "Classification3-c-Titanic.ipynb",
   "provenance": []
  },
  "kernelspec": {
   "display_name": "Python 3",
   "language": "python",
   "name": "python3"
  },
  "language_info": {
   "codemirror_mode": {
    "name": "ipython",
    "version": 3
   },
   "file_extension": ".py",
   "mimetype": "text/x-python",
   "name": "python",
   "nbconvert_exporter": "python",
   "pygments_lexer": "ipython3",
   "version": "3.7.6"
  }
 },
 "nbformat": 4,
 "nbformat_minor": 1
}
