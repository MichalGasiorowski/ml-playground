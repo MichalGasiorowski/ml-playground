{
 "cells": [
  {
   "cell_type": "code",
   "execution_count": 1,
   "metadata": {
    "colab": {
     "base_uri": "https://localhost:8080/",
     "height": 204
    },
    "colab_type": "code",
    "executionInfo": {
     "elapsed": 13668,
     "status": "ok",
     "timestamp": 1583708527094,
     "user": {
      "displayName": "Michał Gąsiorowski",
      "photoUrl": "https://lh3.googleusercontent.com/a-/AOh14GhXOWlJ4KxxHhCGudjwmdKeGCOkqGWLFiBPGkONew=s64",
      "userId": "01135843378887591141"
     },
     "user_tz": -60
    },
    "id": "LETtjMmNfRPq",
    "outputId": "4cbe5c74-e831-428f-d9fb-8bf2a044857f"
   },
   "outputs": [
    {
     "name": "stdout",
     "output_type": "stream",
     "text": [
      "/home/iid/.kaggle/kaggle.json <class 'str'> True\n",
      "mkdir: cannot create directory ‘/home/iid/.kaggle’: File exists\r\n"
     ]
    }
   ],
   "source": [
    "import os.path\n",
    "homedir = os.path.expanduser(\"~\")\n",
    "kaggle_home_dir = homedir + \"/.kaggle\"\n",
    "kaggle_file = \"kaggle.json\"\n",
    "\n",
    "kaggle_file = os.path.join(kaggle_home_dir, kaggle_file)\n",
    "print(kaggle_file, type(kaggle_file), kaggle_file == '/home/iid/.kaggle/kaggle.json')\n",
    "\n",
    "#!cat {kaggle_file}\n",
    "#!pip install kaggle\n",
    "\n",
    "!mkdir {kaggle_home_dir}\n",
    "# !echo '{\"username\":\"michalgasiorowski\",\"key\":\"64ed31a01f3f866630e66b5427dd6682\"}' > /root/.kaggle/kaggle.json\n",
    "!echo '{\"username\":\"michalgasiorowski\",\"key\":\"64ed31a01f3f866630e66b5427dd6682\"}' >  '/home/iid/.kaggle/kaggle.json'\n",
    "\n"
   ]
  },
  {
   "cell_type": "code",
   "execution_count": 18,
   "metadata": {
    "colab": {
     "base_uri": "https://localhost:8080/",
     "height": 204
    },
    "colab_type": "code",
    "executionInfo": {
     "elapsed": 18367,
     "status": "ok",
     "timestamp": 1583708531808,
     "user": {
      "displayName": "Michał Gąsiorowski",
      "photoUrl": "https://lh3.googleusercontent.com/a-/AOh14GhXOWlJ4KxxHhCGudjwmdKeGCOkqGWLFiBPGkONew=s64",
      "userId": "01135843378887591141"
     },
     "user_tz": -60
    },
    "id": "1WC27ixCoTpF",
    "outputId": "5c7e6e91-1622-42d2-bf18-f7c0f3b6f2d2"
   },
   "outputs": [],
   "source": [
    "#!kaggle competitions download -c titanic"
   ]
  },
  {
   "cell_type": "code",
   "execution_count": 2,
   "metadata": {},
   "outputs": [],
   "source": [
    "# ! conda install -c anaconda seaborn \n",
    "import seaborn as sns"
   ]
  },
  {
   "cell_type": "code",
   "execution_count": 3,
   "metadata": {
    "colab": {
     "base_uri": "https://localhost:8080/",
     "height": 34
    },
    "colab_type": "code",
    "executionInfo": {
     "elapsed": 22090,
     "status": "ok",
     "timestamp": 1583708535543,
     "user": {
      "displayName": "Michał Gąsiorowski",
      "photoUrl": "https://lh3.googleusercontent.com/a-/AOh14GhXOWlJ4KxxHhCGudjwmdKeGCOkqGWLFiBPGkONew=s64",
      "userId": "01135843378887591141"
     },
     "user_tz": -60
    },
    "id": "YwAAx56LqL9u",
    "outputId": "739ebd56-86de-403f-f003-f47a4a3c2423"
   },
   "outputs": [
    {
     "name": "stdout",
     "output_type": "stream",
     "text": [
      "gender_submission.csv  sample_data  test.csv  train.csv\n"
     ]
    }
   ],
   "source": [
    "!ls"
   ]
  },
  {
   "cell_type": "code",
   "execution_count": 3,
   "metadata": {
    "colab": {},
    "colab_type": "code",
    "id": "X5b_Oqq5pGNd"
   },
   "outputs": [],
   "source": [
    "import os\n",
    "import pandas as pd\n",
    "\n",
    "def load_titanic_dateset(titanic_path='/content'):\n",
    "  gender_submission_csv_path = os.path.join(titanic_path, \"gender_submission.csv\")\n",
    "  train_csv_path = os.path.join(titanic_path, \"train.csv\")\n",
    "  test_csv_path = os.path.join(titanic_path, \"test.csv\")\n",
    "  return pd.read_csv(gender_submission_csv_path), pd.read_csv(train_csv_path), pd.read_csv(test_csv_path)\n",
    "  #return pd.read_csv\n"
   ]
  },
  {
   "cell_type": "code",
   "execution_count": 14,
   "metadata": {
    "colab": {},
    "colab_type": "code",
    "id": "jDeNDRF2q0yc"
   },
   "outputs": [],
   "source": [
    "gender_sub_df, train_df, test_df = load_titanic_dateset(titanic_path='/home/iid/PycharmProjects/ml-playground/data/titanic/')"
   ]
  },
  {
   "cell_type": "code",
   "execution_count": 15,
   "metadata": {
    "colab": {
     "base_uri": "https://localhost:8080/",
     "height": 493
    },
    "colab_type": "code",
    "executionInfo": {
     "elapsed": 22067,
     "status": "ok",
     "timestamp": 1583708535544,
     "user": {
      "displayName": "Michał Gąsiorowski",
      "photoUrl": "https://lh3.googleusercontent.com/a-/AOh14GhXOWlJ4KxxHhCGudjwmdKeGCOkqGWLFiBPGkONew=s64",
      "userId": "01135843378887591141"
     },
     "user_tz": -60
    },
    "id": "Mmq0qjzAsYpf",
    "outputId": "40fbba16-975c-4649-f813-75597980807e"
   },
   "outputs": [
    {
     "name": "stdout",
     "output_type": "stream",
     "text": [
      "<class 'pandas.core.frame.DataFrame'>\n",
      "RangeIndex: 891 entries, 0 to 890\n",
      "Data columns (total 12 columns):\n",
      " #   Column       Non-Null Count  Dtype  \n",
      "---  ------       --------------  -----  \n",
      " 0   PassengerId  891 non-null    int64  \n",
      " 1   Survived     891 non-null    int64  \n",
      " 2   Pclass       891 non-null    int64  \n",
      " 3   Name         891 non-null    object \n",
      " 4   Sex          891 non-null    object \n",
      " 5   Age          714 non-null    float64\n",
      " 6   SibSp        891 non-null    int64  \n",
      " 7   Parch        891 non-null    int64  \n",
      " 8   Ticket       891 non-null    object \n",
      " 9   Fare         891 non-null    float64\n",
      " 10  Cabin        204 non-null    object \n",
      " 11  Embarked     889 non-null    object \n",
      "dtypes: float64(2), int64(5), object(5)\n",
      "memory usage: 83.7+ KB\n"
     ]
    },
    {
     "data": {
      "text/plain": [
       "(       PassengerId    Survived      Pclass         Age       SibSp  \\\n",
       " count   891.000000  891.000000  891.000000  714.000000  891.000000   \n",
       " mean    446.000000    0.383838    2.308642   29.699118    0.523008   \n",
       " std     257.353842    0.486592    0.836071   14.526497    1.102743   \n",
       " min       1.000000    0.000000    1.000000    0.420000    0.000000   \n",
       " 25%     223.500000    0.000000    2.000000   20.125000    0.000000   \n",
       " 50%     446.000000    0.000000    3.000000   28.000000    0.000000   \n",
       " 75%     668.500000    1.000000    3.000000   38.000000    1.000000   \n",
       " max     891.000000    1.000000    3.000000   80.000000    8.000000   \n",
       " \n",
       "             Parch        Fare  \n",
       " count  891.000000  891.000000  \n",
       " mean     0.381594   32.204208  \n",
       " std      0.806057   49.693429  \n",
       " min      0.000000    0.000000  \n",
       " 25%      0.000000    7.910400  \n",
       " 50%      0.000000   14.454200  \n",
       " 75%      0.000000   31.000000  \n",
       " max      6.000000  512.329200  , None)"
      ]
     },
     "execution_count": 15,
     "metadata": {},
     "output_type": "execute_result"
    }
   ],
   "source": [
    "train_df.describe(), train_df.info()"
   ]
  },
  {
   "cell_type": "code",
   "execution_count": 16,
   "metadata": {
    "colab": {
     "base_uri": "https://localhost:8080/",
     "height": 578
    },
    "colab_type": "code",
    "executionInfo": {
     "elapsed": 22057,
     "status": "ok",
     "timestamp": 1583708535545,
     "user": {
      "displayName": "Michał Gąsiorowski",
      "photoUrl": "https://lh3.googleusercontent.com/a-/AOh14GhXOWlJ4KxxHhCGudjwmdKeGCOkqGWLFiBPGkONew=s64",
      "userId": "01135843378887591141"
     },
     "user_tz": -60
    },
    "id": "EnNLZNXHtdyX",
    "outputId": "2c5e488a-f7eb-4c03-beda-95ed913d425f"
   },
   "outputs": [
    {
     "data": {
      "text/plain": [
       "CA. 2343    7\n",
       "1601        7\n",
       "347082      7\n",
       "3101295     6\n",
       "347088      6\n",
       "           ..\n",
       "349208      1\n",
       "PC 17599    1\n",
       "367232      1\n",
       "349243      1\n",
       "2631        1\n",
       "Name: Ticket, Length: 681, dtype: int64"
      ]
     },
     "execution_count": 16,
     "metadata": {},
     "output_type": "execute_result"
    }
   ],
   "source": [
    "train_df[\"Ticket\"].value_counts()"
   ]
  },
  {
   "cell_type": "code",
   "execution_count": 7,
   "metadata": {
    "colab": {
     "base_uri": "https://localhost:8080/",
     "height": 1000
    },
    "colab_type": "code",
    "executionInfo": {
     "elapsed": 24035,
     "status": "ok",
     "timestamp": 1583708537537,
     "user": {
      "displayName": "Michał Gąsiorowski",
      "photoUrl": "https://lh3.googleusercontent.com/a-/AOh14GhXOWlJ4KxxHhCGudjwmdKeGCOkqGWLFiBPGkONew=s64",
      "userId": "01135843378887591141"
     },
     "user_tz": -60
    },
    "id": "HknjTr4vt-tP",
    "outputId": "1cf65527-d7ff-44ae-91a4-0205e0749c3d"
   },
   "outputs": [
    {
     "data": {
      "text/plain": [
       "array([[<matplotlib.axes._subplots.AxesSubplot object at 0x7f48987943d0>,\n",
       "        <matplotlib.axes._subplots.AxesSubplot object at 0x7f4898753d90>,\n",
       "        <matplotlib.axes._subplots.AxesSubplot object at 0x7f48966e3e10>],\n",
       "       [<matplotlib.axes._subplots.AxesSubplot object at 0x7f48966a4650>,\n",
       "        <matplotlib.axes._subplots.AxesSubplot object at 0x7f4896657e50>,\n",
       "        <matplotlib.axes._subplots.AxesSubplot object at 0x7f4896617690>],\n",
       "       [<matplotlib.axes._subplots.AxesSubplot object at 0x7f48965cae90>,\n",
       "        <matplotlib.axes._subplots.AxesSubplot object at 0x7f489658b6d0>,\n",
       "        <matplotlib.axes._subplots.AxesSubplot object at 0x7f4896596250>]],\n",
       "      dtype=object)"
      ]
     },
     "execution_count": 7,
     "metadata": {},
     "output_type": "execute_result"
    },
    {
     "data": {
      "image/png": "[encoded data removed]",
      "text/plain": [
       "<Figure size 1440x1080 with 9 Axes>"
      ]
     },
     "metadata": {
      "needs_background": "light"
     },
     "output_type": "display_data"
    }
   ],
   "source": [
    "import matplotlib.pyplot as plt\n",
    "\n",
    "train_df.hist(bins=50, figsize=(20,15))"
   ]
  },
  {
   "cell_type": "code",
   "execution_count": 8,
   "metadata": {
    "colab": {
     "base_uri": "https://localhost:8080/",
     "height": 296
    },
    "colab_type": "code",
    "executionInfo": {
     "elapsed": 24514,
     "status": "ok",
     "timestamp": 1583708538032,
     "user": {
      "displayName": "Michał Gąsiorowski",
      "photoUrl": "https://lh3.googleusercontent.com/a-/AOh14GhXOWlJ4KxxHhCGudjwmdKeGCOkqGWLFiBPGkONew=s64",
      "userId": "01135843378887591141"
     },
     "user_tz": -60
    },
    "id": "2EhNQJJ-uKRY",
    "outputId": "3fadad27-31f9-48ad-e46b-2c2acd155a44"
   },
   "outputs": [
    {
     "data": {
      "text/plain": [
       "<matplotlib.axes._subplots.AxesSubplot at 0x7f4895a4a4d0>"
      ]
     },
     "execution_count": 8,
     "metadata": {},
     "output_type": "execute_result"
    },
    {
     "data": {
      "image/png": "[encoded data removed]",
      "text/plain": [
       "<Figure size 432x288 with 1 Axes>"
      ]
     },
     "metadata": {
      "needs_background": "light"
     },
     "output_type": "display_data"
    }
   ],
   "source": [
    "train_df.plot(kind=\"scatter\", x=\"Age\", y=\"Fare\")"
   ]
  },
  {
   "cell_type": "code",
   "execution_count": 9,
   "metadata": {
    "colab": {},
    "colab_type": "code",
    "id": "PWbV9mAvvN1S"
   },
   "outputs": [],
   "source": [
    "corr_matrix = train_df.corr()\n"
   ]
  },
  {
   "cell_type": "code",
   "execution_count": 10,
   "metadata": {
    "colab": {
     "base_uri": "https://localhost:8080/",
     "height": 153
    },
    "colab_type": "code",
    "executionInfo": {
     "elapsed": 24498,
     "status": "ok",
     "timestamp": 1583708538034,
     "user": {
      "displayName": "Michał Gąsiorowski",
      "photoUrl": "https://lh3.googleusercontent.com/a-/AOh14GhXOWlJ4KxxHhCGudjwmdKeGCOkqGWLFiBPGkONew=s64",
      "userId": "01135843378887591141"
     },
     "user_tz": -60
    },
    "id": "lcZmUxt-vPx1",
    "outputId": "1fb0fa51-69e6-4eb6-f941-459775f8a454"
   },
   "outputs": [
    {
     "data": {
      "text/plain": [
       "Survived       1.000000\n",
       "Fare           0.257307\n",
       "Parch          0.081629\n",
       "PassengerId   -0.005007\n",
       "SibSp         -0.035322\n",
       "Age           -0.077221\n",
       "Pclass        -0.338481\n",
       "Name: Survived, dtype: float64"
      ]
     },
     "execution_count": 10,
     "metadata": {},
     "output_type": "execute_result"
    }
   ],
   "source": [
    "# Survival is correlated to Fare price :) No shit sherlock :)\n",
    "corr_matrix[\"Survived\"].sort_values(ascending=False)"
   ]
  },
  {
   "cell_type": "code",
   "execution_count": 12,
   "metadata": {
    "colab": {
     "base_uri": "https://localhost:8080/",
     "height": 1000
    },
    "colab_type": "code",
    "executionInfo": {
     "elapsed": 26147,
     "status": "ok",
     "timestamp": 1583708539698,
     "user": {
      "displayName": "Michał Gąsiorowski",
      "photoUrl": "https://lh3.googleusercontent.com/a-/AOh14GhXOWlJ4KxxHhCGudjwmdKeGCOkqGWLFiBPGkONew=s64",
      "userId": "01135843378887591141"
     },
     "user_tz": -60
    },
    "id": "qPmHoLssvdEY",
    "outputId": "7fcbe60f-474a-41f7-e2a1-115d6b3d18e9"
   },
   "outputs": [
    {
     "data": {
      "text/plain": [
       "array([[<matplotlib.axes._subplots.AxesSubplot object at 0x7f3b4f188d68>,\n",
       "        <matplotlib.axes._subplots.AxesSubplot object at 0x7f3b4f13a160>,\n",
       "        <matplotlib.axes._subplots.AxesSubplot object at 0x7f3b4f169710>,\n",
       "        <matplotlib.axes._subplots.AxesSubplot object at 0x7f3b4f11acc0>,\n",
       "        <matplotlib.axes._subplots.AxesSubplot object at 0x7f3b4f0da2b0>],\n",
       "       [<matplotlib.axes._subplots.AxesSubplot object at 0x7f3b4f08a860>,\n",
       "        <matplotlib.axes._subplots.AxesSubplot object at 0x7f3b4f03ae10>,\n",
       "        <matplotlib.axes._subplots.AxesSubplot object at 0x7f3b4eff9438>,\n",
       "        <matplotlib.axes._subplots.AxesSubplot object at 0x7f3b4eff9470>,\n",
       "        <matplotlib.axes._subplots.AxesSubplot object at 0x7f3b4efddf60>],\n",
       "       [<matplotlib.axes._subplots.AxesSubplot object at 0x7f3b4ef99550>,\n",
       "        <matplotlib.axes._subplots.AxesSubplot object at 0x7f3b4ef49b00>,\n",
       "        <matplotlib.axes._subplots.AxesSubplot object at 0x7f3b4ef090f0>,\n",
       "        <matplotlib.axes._subplots.AxesSubplot object at 0x7f3b4eeb76a0>,\n",
       "        <matplotlib.axes._subplots.AxesSubplot object at 0x7f3b4eee9c50>],\n",
       "       [<matplotlib.axes._subplots.AxesSubplot object at 0x7f3b4eea6240>,\n",
       "        <matplotlib.axes._subplots.AxesSubplot object at 0x7f3b4ee567f0>,\n",
       "        <matplotlib.axes._subplots.AxesSubplot object at 0x7f3b4ee08da0>,\n",
       "        <matplotlib.axes._subplots.AxesSubplot object at 0x7f3b4edc7390>,\n",
       "        <matplotlib.axes._subplots.AxesSubplot object at 0x7f3b4ed77940>],\n",
       "       [<matplotlib.axes._subplots.AxesSubplot object at 0x7f3b4eda9ef0>,\n",
       "        <matplotlib.axes._subplots.AxesSubplot object at 0x7f3b4ed674e0>,\n",
       "        <matplotlib.axes._subplots.AxesSubplot object at 0x7f3b4ed059b0>,\n",
       "        <matplotlib.axes._subplots.AxesSubplot object at 0x7f3b4ecb8f60>,\n",
       "        <matplotlib.axes._subplots.AxesSubplot object at 0x7f3b4ec75550>]],\n",
       "      dtype=object)"
      ]
     },
     "execution_count": 12,
     "metadata": {
      "tags": []
     },
     "output_type": "execute_result"
    },
    {
     "data": {
      "image/png": "[encoded data removed]",
      "text/plain": [
       "<Figure size 1728x1152 with 25 Axes>"
      ]
     },
     "metadata": {
      "tags": []
     },
     "output_type": "display_data"
    }
   ],
   "source": [
    "# PassengerId    891 non-null int64\n",
    "# Survived       891 non-null int64\n",
    "# Pclass         891 non-null int64\n",
    "# Name           891 non-null object\n",
    "# Sex            891 non-null object\n",
    "# Age            714 non-null float64\n",
    "# SibSp          891 non-null int64\n",
    "# Parch          891 non-null int64\n",
    "# Ticket         891 non-null object\n",
    "# Fare           891 non-null float64\n",
    "# Cabin          204 non-null object\n",
    "# Embarked       889 non-null object\n",
    "\n",
    "from pandas.plotting import scatter_matrix\n",
    "\n",
    "attributes = [\"Pclass\", \"Sex\", \"Age\", \"SibSp\", \"Fare\", \"Survived\" ]\n",
    "scatter_matrix(train[attributes], figsize=(24, 16))\n"
   ]
  },
  {
   "cell_type": "code",
   "execution_count": 0,
   "metadata": {
    "colab": {},
    "colab_type": "code",
    "id": "SQrtjDr7_eOz"
   },
   "outputs": [],
   "source": [
    "train_df_data = train.drop(\"Survived\", axis=1)\n",
    "train_df_labels = train[\"Survived\"].copy()"
   ]
  },
  {
   "cell_type": "code",
   "execution_count": 17,
   "metadata": {
    "colab": {
     "base_uri": "https://localhost:8080/",
     "height": 68
    },
    "colab_type": "code",
    "executionInfo": {
     "elapsed": 26130,
     "status": "ok",
     "timestamp": 1583708539700,
     "user": {
      "displayName": "Michał Gąsiorowski",
      "photoUrl": "https://lh3.googleusercontent.com/a-/AOh14GhXOWlJ4KxxHhCGudjwmdKeGCOkqGWLFiBPGkONew=s64",
      "userId": "01135843378887591141"
     },
     "user_tz": -60
    },
    "id": "SybvxBbzGhMb",
    "outputId": "4eec196a-e035-4a68-f202-763058b6a0df"
   },
   "outputs": [
    {
     "data": {
      "text/plain": [
       "Index(['PassengerId', 'Survived', 'Pclass', 'Name', 'Sex', 'Age', 'SibSp',\n",
       "       'Parch', 'Ticket', 'Fare', 'Cabin', 'Embarked'],\n",
       "      dtype='object')"
      ]
     },
     "execution_count": 17,
     "metadata": {},
     "output_type": "execute_result"
    }
   ],
   "source": [
    "train_df.columns"
   ]
  },
  {
   "cell_type": "code",
   "execution_count": 0,
   "metadata": {
    "colab": {},
    "colab_type": "code",
    "id": "d8FF1HVVDfqO"
   },
   "outputs": [],
   "source": [
    "# Categorical Attributes\n",
    "# Missing Values\n",
    "# Numerical attributes\n",
    "\n",
    "nummerical_attributes = []\n",
    "categorical_attributes = [\"Pclass\", \"Sex\", \"Embarked\"]\n",
    "to_drop_attributes = [\"Cabin\", \"Ticket\", \"Name\"]"
   ]
  },
  {
   "cell_type": "code",
   "execution_count": 19,
   "metadata": {
    "colab": {
     "base_uri": "https://localhost:8080/",
     "height": 34
    },
    "colab_type": "code",
    "executionInfo": {
     "elapsed": 1715,
     "status": "ok",
     "timestamp": 1583709194086,
     "user": {
      "displayName": "Michał Gąsiorowski",
      "photoUrl": "https://lh3.googleusercontent.com/a-/AOh14GhXOWlJ4KxxHhCGudjwmdKeGCOkqGWLFiBPGkONew=s64",
      "userId": "01135843378887591141"
     },
     "user_tz": -60
    },
    "id": "T2yXsqGwFiYb",
    "outputId": "72d7ac15-9349-4390-c9f2-0796669d6122"
   },
   "outputs": [
    {
     "data": {
      "text/plain": [
       "True"
      ]
     },
     "execution_count": 19,
     "metadata": {
      "tags": []
     },
     "output_type": "execute_result"
    }
   ],
   "source": [
    "train['PassengerId'].is_unique"
   ]
  },
  {
   "cell_type": "code",
   "execution_count": 0,
   "metadata": {
    "colab": {},
    "colab_type": "code",
    "id": "evPiAtGgbPvm"
   },
   "outputs": [],
   "source": [
    "train.set_index(\"PassengerId\", inplace=True)"
   ]
  },
  {
   "cell_type": "code",
   "execution_count": 12,
   "metadata": {
    "colab": {
     "base_uri": "https://localhost:8080/",
     "height": 450
    },
    "colab_type": "code",
    "executionInfo": {
     "elapsed": 1936,
     "status": "ok",
     "timestamp": 1583709306408,
     "user": {
      "displayName": "Michał Gąsiorowski",
      "photoUrl": "https://lh3.googleusercontent.com/a-/AOh14GhXOWlJ4KxxHhCGudjwmdKeGCOkqGWLFiBPGkONew=s64",
      "userId": "01135843378887591141"
     },
     "user_tz": -60
    },
    "id": "PQ4VoRHAbitB",
    "outputId": "d0276a13-9bdb-486f-e148-10ebafe50d30"
   },
   "outputs": [
    {
     "data": {
      "text/html": [
       "<div>\n",
       "<style scoped>\n",
       "    .dataframe tbody tr th:only-of-type {\n",
       "        vertical-align: middle;\n",
       "    }\n",
       "\n",
       "    .dataframe tbody tr th {\n",
       "        vertical-align: top;\n",
       "    }\n",
       "\n",
       "    .dataframe thead th {\n",
       "        text-align: right;\n",
       "    }\n",
       "</style>\n",
       "<table border=\"1\" class=\"dataframe\">\n",
       "  <thead>\n",
       "    <tr style=\"text-align: right;\">\n",
       "      <th></th>\n",
       "      <th>PassengerId</th>\n",
       "      <th>Survived</th>\n",
       "      <th>Pclass</th>\n",
       "      <th>Name</th>\n",
       "      <th>Sex</th>\n",
       "      <th>Age</th>\n",
       "      <th>SibSp</th>\n",
       "      <th>Parch</th>\n",
       "      <th>Ticket</th>\n",
       "      <th>Fare</th>\n",
       "      <th>Cabin</th>\n",
       "      <th>Embarked</th>\n",
       "    </tr>\n",
       "  </thead>\n",
       "  <tbody>\n",
       "    <tr>\n",
       "      <th>0</th>\n",
       "      <td>1</td>\n",
       "      <td>0</td>\n",
       "      <td>3</td>\n",
       "      <td>Braund, Mr. Owen Harris</td>\n",
       "      <td>male</td>\n",
       "      <td>22.0</td>\n",
       "      <td>1</td>\n",
       "      <td>0</td>\n",
       "      <td>A/5 21171</td>\n",
       "      <td>7.2500</td>\n",
       "      <td>NaN</td>\n",
       "      <td>S</td>\n",
       "    </tr>\n",
       "    <tr>\n",
       "      <th>1</th>\n",
       "      <td>2</td>\n",
       "      <td>1</td>\n",
       "      <td>1</td>\n",
       "      <td>Cumings, Mrs. John Bradley (Florence Briggs Th...</td>\n",
       "      <td>female</td>\n",
       "      <td>38.0</td>\n",
       "      <td>1</td>\n",
       "      <td>0</td>\n",
       "      <td>PC 17599</td>\n",
       "      <td>71.2833</td>\n",
       "      <td>C85</td>\n",
       "      <td>C</td>\n",
       "    </tr>\n",
       "    <tr>\n",
       "      <th>2</th>\n",
       "      <td>3</td>\n",
       "      <td>1</td>\n",
       "      <td>3</td>\n",
       "      <td>Heikkinen, Miss. Laina</td>\n",
       "      <td>female</td>\n",
       "      <td>26.0</td>\n",
       "      <td>0</td>\n",
       "      <td>0</td>\n",
       "      <td>STON/O2. 3101282</td>\n",
       "      <td>7.9250</td>\n",
       "      <td>NaN</td>\n",
       "      <td>S</td>\n",
       "    </tr>\n",
       "    <tr>\n",
       "      <th>3</th>\n",
       "      <td>4</td>\n",
       "      <td>1</td>\n",
       "      <td>1</td>\n",
       "      <td>Futrelle, Mrs. Jacques Heath (Lily May Peel)</td>\n",
       "      <td>female</td>\n",
       "      <td>35.0</td>\n",
       "      <td>1</td>\n",
       "      <td>0</td>\n",
       "      <td>113803</td>\n",
       "      <td>53.1000</td>\n",
       "      <td>C123</td>\n",
       "      <td>S</td>\n",
       "    </tr>\n",
       "    <tr>\n",
       "      <th>4</th>\n",
       "      <td>5</td>\n",
       "      <td>0</td>\n",
       "      <td>3</td>\n",
       "      <td>Allen, Mr. William Henry</td>\n",
       "      <td>male</td>\n",
       "      <td>35.0</td>\n",
       "      <td>0</td>\n",
       "      <td>0</td>\n",
       "      <td>373450</td>\n",
       "      <td>8.0500</td>\n",
       "      <td>NaN</td>\n",
       "      <td>S</td>\n",
       "    </tr>\n",
       "  </tbody>\n",
       "</table>\n",
       "</div>"
      ],
      "text/plain": [
       "   PassengerId  Survived  Pclass  \\\n",
       "0            1         0       3   \n",
       "1            2         1       1   \n",
       "2            3         1       3   \n",
       "3            4         1       1   \n",
       "4            5         0       3   \n",
       "\n",
       "                                                Name     Sex   Age  SibSp  \\\n",
       "0                            Braund, Mr. Owen Harris    male  22.0      1   \n",
       "1  Cumings, Mrs. John Bradley (Florence Briggs Th...  female  38.0      1   \n",
       "2                             Heikkinen, Miss. Laina  female  26.0      0   \n",
       "3       Futrelle, Mrs. Jacques Heath (Lily May Peel)  female  35.0      1   \n",
       "4                           Allen, Mr. William Henry    male  35.0      0   \n",
       "\n",
       "   Parch            Ticket     Fare Cabin Embarked  \n",
       "0      0         A/5 21171   7.2500   NaN        S  \n",
       "1      0          PC 17599  71.2833   C85        C  \n",
       "2      0  STON/O2. 3101282   7.9250   NaN        S  \n",
       "3      0            113803  53.1000  C123        S  \n",
       "4      0            373450   8.0500   NaN        S  "
      ]
     },
     "execution_count": 12,
     "metadata": {},
     "output_type": "execute_result"
    }
   ],
   "source": [
    "train.head()"
   ]
  },
  {
   "cell_type": "code",
   "execution_count": 20,
   "metadata": {},
   "outputs": [
    {
     "data": {
      "text/html": [
       "<div>\n",
       "<style scoped>\n",
       "    .dataframe tbody tr th:only-of-type {\n",
       "        vertical-align: middle;\n",
       "    }\n",
       "\n",
       "    .dataframe tbody tr th {\n",
       "        vertical-align: top;\n",
       "    }\n",
       "\n",
       "    .dataframe thead th {\n",
       "        text-align: right;\n",
       "    }\n",
       "</style>\n",
       "<table border=\"1\" class=\"dataframe\">\n",
       "  <thead>\n",
       "    <tr style=\"text-align: right;\">\n",
       "      <th></th>\n",
       "      <th>Total</th>\n",
       "      <th>%</th>\n",
       "    </tr>\n",
       "  </thead>\n",
       "  <tbody>\n",
       "    <tr>\n",
       "      <th>Cabin</th>\n",
       "      <td>687</td>\n",
       "      <td>77.1</td>\n",
       "    </tr>\n",
       "    <tr>\n",
       "      <th>Age</th>\n",
       "      <td>177</td>\n",
       "      <td>19.9</td>\n",
       "    </tr>\n",
       "    <tr>\n",
       "      <th>Embarked</th>\n",
       "      <td>2</td>\n",
       "      <td>0.2</td>\n",
       "    </tr>\n",
       "    <tr>\n",
       "      <th>Fare</th>\n",
       "      <td>0</td>\n",
       "      <td>0.0</td>\n",
       "    </tr>\n",
       "    <tr>\n",
       "      <th>Ticket</th>\n",
       "      <td>0</td>\n",
       "      <td>0.0</td>\n",
       "    </tr>\n",
       "  </tbody>\n",
       "</table>\n",
       "</div>"
      ],
      "text/plain": [
       "          Total     %\n",
       "Cabin       687  77.1\n",
       "Age         177  19.9\n",
       "Embarked      2   0.2\n",
       "Fare          0   0.0\n",
       "Ticket        0   0.0"
      ]
     },
     "execution_count": 20,
     "metadata": {},
     "output_type": "execute_result"
    }
   ],
   "source": [
    "total = train_df.isnull().sum().sort_values(ascending=False)\n",
    "percent_1 = train_df.isnull().sum()/train_df.isnull().count()*100\n",
    "percent_2 = (round(percent_1, 1)).sort_values(ascending=False)\n",
    "missing_data = pd.concat([total, percent_2], axis=1, keys=['Total', '%'])\n",
    "missing_data.head(5)"
   ]
  },
  {
   "cell_type": "markdown",
   "metadata": {
    "colab_type": "text",
    "id": "V9fMGpGIgddu"
   },
   "source": [
    "survival\tSurvival\t0 = No, 1 = Yes\n",
    "pclass\tTicket class\t1 = 1st, 2 = 2nd, 3 = 3rd\n",
    "sex\tSex\t\n",
    "Age\tAge in years\t\n",
    "sibsp\t# of siblings / spouses aboard the Titanic\t\n",
    "parch\t# of parents / children aboard the Titanic\t\n",
    "ticket\tTicket number\t\n",
    "fare\tPassenger fare\t\n",
    "cabin\tCabin number\t\n",
    "embarked\tPort of Embarkation\tC = Cherbourg, Q = Queenstown, S = Southampton"
   ]
  },
  {
   "cell_type": "code",
   "execution_count": 21,
   "metadata": {},
   "outputs": [
    {
     "data": {
      "text/plain": [
       "0       NaN\n",
       "1       C85\n",
       "2       NaN\n",
       "3      C123\n",
       "4       NaN\n",
       "       ... \n",
       "886     NaN\n",
       "887     B42\n",
       "888     NaN\n",
       "889    C148\n",
       "890     NaN\n",
       "Name: Cabin, Length: 891, dtype: object"
      ]
     },
     "execution_count": 21,
     "metadata": {},
     "output_type": "execute_result"
    }
   ],
   "source": [
    "train_df[\"Cabin\"]"
   ]
  },
  {
   "cell_type": "code",
   "execution_count": 25,
   "metadata": {},
   "outputs": [
    {
     "data": {
      "text/plain": [
       "count          891\n",
       "unique         681\n",
       "top       CA. 2343\n",
       "freq             7\n",
       "Name: Ticket, dtype: object"
      ]
     },
     "execution_count": 25,
     "metadata": {},
     "output_type": "execute_result"
    }
   ],
   "source": [
    "#sns.barplot(x='Pclass', y='Survived', data=train_df)\n",
    "train_df['Ticket'].describe()"
   ]
  },
  {
   "cell_type": "code",
   "execution_count": 90,
   "metadata": {},
   "outputs": [],
   "source": [
    "train_df_prep, test_df_prep = train_df.copy(), test_df.copy()\n",
    "data_prep = [train_df_prep, test_df_prep]"
   ]
  },
  {
   "cell_type": "code",
   "execution_count": 28,
   "metadata": {},
   "outputs": [],
   "source": [
    "train_df_prep = train_df_prep.drop([\"PassengerId\"], axis=1)"
   ]
  },
  {
   "cell_type": "code",
   "execution_count": 91,
   "metadata": {},
   "outputs": [
    {
     "data": {
      "text/plain": [
       "(0    688\n",
       " 3     59\n",
       " 2     47\n",
       " 4     33\n",
       " 5     32\n",
       " 1     15\n",
       " 6     13\n",
       " 7      4\n",
       " Name: Deck, dtype: int64, 0    327\n",
       " 3     35\n",
       " 2     18\n",
       " 4     13\n",
       " 5      9\n",
       " 6      8\n",
       " 1      7\n",
       " 7      1\n",
       " Name: Deck, dtype: int64)"
      ]
     },
     "execution_count": 91,
     "metadata": {},
     "output_type": "execute_result"
    }
   ],
   "source": [
    "#train_df_prep[\"Cabin\"].value_counts()\n",
    "import re\n",
    "\n",
    "deckS = \"ABCDEFGU\"\n",
    "deckNum = \"12345678\"\n",
    "deckMap = dict(zip(deckS, deckNum))\n",
    "\n",
    "reg = re.compile(\"([a-zA-Z]+)\")\n",
    "\n",
    "for prep_dataset in data_prep:\n",
    "    prep_dataset[\"Cabin\"] = prep_dataset[\"Cabin\"].fillna(\"UO\")\n",
    "    prep_dataset[\"Deck\"] = prep_dataset[\"Cabin\"].map(lambda x: reg.search(x).group())\n",
    "    prep_dataset[\"Deck\"] = prep_dataset[\"Deck\"].map(deckMap)\n",
    "    prep_dataset[\"Deck\"] = prep_dataset[\"Deck\"].fillna(0)\n",
    "    prep_dataset[\"Deck\"] = prep_dataset[\"Deck\"].astype(int)\n",
    "\n",
    "train_df_prep[\"Deck\"].value_counts(), test_df_prep[\"Deck\"].value_counts()"
   ]
  },
  {
   "cell_type": "code",
   "execution_count": 80,
   "metadata": {},
   "outputs": [
    {
     "data": {
      "text/html": [
       "<div>\n",
       "<style scoped>\n",
       "    .dataframe tbody tr th:only-of-type {\n",
       "        vertical-align: middle;\n",
       "    }\n",
       "\n",
       "    .dataframe tbody tr th {\n",
       "        vertical-align: top;\n",
       "    }\n",
       "\n",
       "    .dataframe thead th {\n",
       "        text-align: right;\n",
       "    }\n",
       "</style>\n",
       "<table border=\"1\" class=\"dataframe\">\n",
       "  <thead>\n",
       "    <tr style=\"text-align: right;\">\n",
       "      <th></th>\n",
       "      <th>Sex</th>\n",
       "    </tr>\n",
       "  </thead>\n",
       "  <tbody>\n",
       "    <tr>\n",
       "      <th>0</th>\n",
       "      <td>male</td>\n",
       "    </tr>\n",
       "    <tr>\n",
       "      <th>1</th>\n",
       "      <td>female</td>\n",
       "    </tr>\n",
       "    <tr>\n",
       "      <th>2</th>\n",
       "      <td>female</td>\n",
       "    </tr>\n",
       "    <tr>\n",
       "      <th>3</th>\n",
       "      <td>female</td>\n",
       "    </tr>\n",
       "    <tr>\n",
       "      <th>4</th>\n",
       "      <td>male</td>\n",
       "    </tr>\n",
       "    <tr>\n",
       "      <th>...</th>\n",
       "      <td>...</td>\n",
       "    </tr>\n",
       "    <tr>\n",
       "      <th>886</th>\n",
       "      <td>male</td>\n",
       "    </tr>\n",
       "    <tr>\n",
       "      <th>887</th>\n",
       "      <td>female</td>\n",
       "    </tr>\n",
       "    <tr>\n",
       "      <th>888</th>\n",
       "      <td>female</td>\n",
       "    </tr>\n",
       "    <tr>\n",
       "      <th>889</th>\n",
       "      <td>male</td>\n",
       "    </tr>\n",
       "    <tr>\n",
       "      <th>890</th>\n",
       "      <td>male</td>\n",
       "    </tr>\n",
       "  </tbody>\n",
       "</table>\n",
       "<p>891 rows × 1 columns</p>\n",
       "</div>"
      ],
      "text/plain": [
       "        Sex\n",
       "0      male\n",
       "1    female\n",
       "2    female\n",
       "3    female\n",
       "4      male\n",
       "..      ...\n",
       "886    male\n",
       "887  female\n",
       "888  female\n",
       "889    male\n",
       "890    male\n",
       "\n",
       "[891 rows x 1 columns]"
      ]
     },
     "execution_count": 80,
     "metadata": {},
     "output_type": "execute_result"
    }
   ],
   "source": [
    "train_df_prep[[\"Sex\"]]\n",
    "#prep_dataset[\"Sex\"]"
   ]
  },
  {
   "cell_type": "code",
   "execution_count": 92,
   "metadata": {},
   "outputs": [],
   "source": [
    "import numpy\n",
    "from sklearn.preprocessing import OrdinalEncoder\n",
    "sex_category_mapping = {'male' : 0, 'female' : 1}\n",
    "\n",
    "#train_df_prep[\"Sex\"]\n",
    "ordinal_encoder = OrdinalEncoder(dtype=numpy.int32)\n",
    "\n",
    "train_df_prep[\"Sex\"] = ordinal_encoder.fit_transform(train_df_prep[[\"Sex\"]])\n"
   ]
  },
  {
   "cell_type": "code",
   "execution_count": 93,
   "metadata": {},
   "outputs": [
    {
     "data": {
      "text/html": [
       "<div>\n",
       "<style scoped>\n",
       "    .dataframe tbody tr th:only-of-type {\n",
       "        vertical-align: middle;\n",
       "    }\n",
       "\n",
       "    .dataframe tbody tr th {\n",
       "        vertical-align: top;\n",
       "    }\n",
       "\n",
       "    .dataframe thead th {\n",
       "        text-align: right;\n",
       "    }\n",
       "</style>\n",
       "<table border=\"1\" class=\"dataframe\">\n",
       "  <thead>\n",
       "    <tr style=\"text-align: right;\">\n",
       "      <th></th>\n",
       "      <th>Sex</th>\n",
       "    </tr>\n",
       "  </thead>\n",
       "  <tbody>\n",
       "    <tr>\n",
       "      <th>0</th>\n",
       "      <td>1</td>\n",
       "    </tr>\n",
       "    <tr>\n",
       "      <th>1</th>\n",
       "      <td>0</td>\n",
       "    </tr>\n",
       "    <tr>\n",
       "      <th>2</th>\n",
       "      <td>0</td>\n",
       "    </tr>\n",
       "    <tr>\n",
       "      <th>3</th>\n",
       "      <td>0</td>\n",
       "    </tr>\n",
       "    <tr>\n",
       "      <th>4</th>\n",
       "      <td>1</td>\n",
       "    </tr>\n",
       "    <tr>\n",
       "      <th>...</th>\n",
       "      <td>...</td>\n",
       "    </tr>\n",
       "    <tr>\n",
       "      <th>886</th>\n",
       "      <td>1</td>\n",
       "    </tr>\n",
       "    <tr>\n",
       "      <th>887</th>\n",
       "      <td>0</td>\n",
       "    </tr>\n",
       "    <tr>\n",
       "      <th>888</th>\n",
       "      <td>0</td>\n",
       "    </tr>\n",
       "    <tr>\n",
       "      <th>889</th>\n",
       "      <td>1</td>\n",
       "    </tr>\n",
       "    <tr>\n",
       "      <th>890</th>\n",
       "      <td>1</td>\n",
       "    </tr>\n",
       "  </tbody>\n",
       "</table>\n",
       "<p>891 rows × 1 columns</p>\n",
       "</div>"
      ],
      "text/plain": [
       "     Sex\n",
       "0      1\n",
       "1      0\n",
       "2      0\n",
       "3      0\n",
       "4      1\n",
       "..   ...\n",
       "886    1\n",
       "887    0\n",
       "888    0\n",
       "889    1\n",
       "890    1\n",
       "\n",
       "[891 rows x 1 columns]"
      ]
     },
     "execution_count": 93,
     "metadata": {},
     "output_type": "execute_result"
    }
   ],
   "source": [
    "train_df_prep[[\"Sex\"]]"
   ]
  },
  {
   "cell_type": "code",
   "execution_count": 79,
   "metadata": {},
   "outputs": [
    {
     "name": "stdout",
     "output_type": "stream",
     "text": [
      "<class 'pandas.core.frame.DataFrame'>\n",
      "RangeIndex: 418 entries, 0 to 417\n",
      "Data columns (total 12 columns):\n",
      " #   Column       Non-Null Count  Dtype  \n",
      "---  ------       --------------  -----  \n",
      " 0   PassengerId  418 non-null    int64  \n",
      " 1   Pclass       418 non-null    int64  \n",
      " 2   Name         418 non-null    object \n",
      " 3   Sex          418 non-null    int64  \n",
      " 4   Age          332 non-null    float64\n",
      " 5   SibSp        418 non-null    int64  \n",
      " 6   Parch        418 non-null    int64  \n",
      " 7   Ticket       418 non-null    object \n",
      " 8   Fare         417 non-null    float64\n",
      " 9   Cabin        418 non-null    object \n",
      " 10  Embarked     418 non-null    object \n",
      " 11  Deck         418 non-null    int64  \n",
      "dtypes: float64(2), int64(6), object(4)\n",
      "memory usage: 39.3+ KB\n"
     ]
    }
   ],
   "source": [
    "#list(prep_dataset.select_dtypes(include ='float64'))\n",
    "#prep_dataset[\"Sex\"] = prep_dataset[\"Sex\"].astype(int)\n",
    "prep_dataset.info()"
   ]
  },
  {
   "cell_type": "code",
   "execution_count": 41,
   "metadata": {},
   "outputs": [
    {
     "name": "stdout",
     "output_type": "stream",
     "text": [
      "C <class 'str'>\n"
     ]
    }
   ],
   "source": [
    "import re\n",
    "\n",
    "reg = re.compile(\"([a-zA-Z]+)\")\n",
    "ff = reg.search(\"C23\").group()\n",
    "print(ff, type(ff))"
   ]
  },
  {
   "cell_type": "code",
   "execution_count": null,
   "metadata": {},
   "outputs": [],
   "source": []
  },
  {
   "cell_type": "code",
   "execution_count": 0,
   "metadata": {
    "colab": {},
    "colab_type": "code",
    "id": "QjPXmT7tY7PA"
   },
   "outputs": [],
   "source": [
    "from sklearn.pipeline import Pipeline\n",
    "from sklearn.preprocessing import StandardScaler\n",
    "\n",
    "num_pipeline = Pipeline([\n",
    " ('imputer')                        \n",
    "])"
   ]
  },
  {
   "cell_type": "code",
   "execution_count": 0,
   "metadata": {
    "colab": {},
    "colab_type": "code",
    "id": "vpWI0fImYZJb"
   },
   "outputs": [],
   "source": [
    "from sklearn.compose import ColumnTransformer\n",
    "\n",
    "nummerical_attributes = \n",
    "#num_pipeline "
   ]
  }
 ],
 "metadata": {
  "accelerator": "GPU",
  "colab": {
   "authorship_tag": "ABX9TyO0LlEkiE3g8pG6UBye97FT",
   "collapsed_sections": [],
   "name": "Classification3-c-Titanic.ipynb",
   "provenance": []
  },
  "kernelspec": {
   "display_name": "Python 3",
   "language": "python",
   "name": "python3"
  },
  "language_info": {
   "codemirror_mode": {
    "name": "ipython",
    "version": 3
   },
   "file_extension": ".py",
   "mimetype": "text/x-python",
   "name": "python",
   "nbconvert_exporter": "python",
   "pygments_lexer": "ipython3",
   "version": "3.7.6"
  }
 },
 "nbformat": 4,
 "nbformat_minor": 1
}
