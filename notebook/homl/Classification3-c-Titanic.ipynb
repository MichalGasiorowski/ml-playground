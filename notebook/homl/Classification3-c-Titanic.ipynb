{
 "cells": [
  {
   "cell_type": "code",
   "execution_count": 1,
   "metadata": {
    "colab": {
     "base_uri": "https://localhost:8080/",
     "height": 204
    },
    "colab_type": "code",
    "executionInfo": {
     "elapsed": 13668,
     "status": "ok",
     "timestamp": 1583708527094,
     "user": {
      "displayName": "Michał Gąsiorowski",
      "photoUrl": "https://lh3.googleusercontent.com/a-/AOh14GhXOWlJ4KxxHhCGudjwmdKeGCOkqGWLFiBPGkONew=s64",
      "userId": "01135843378887591141"
     },
     "user_tz": -60
    },
    "id": "LETtjMmNfRPq",
    "outputId": "4cbe5c74-e831-428f-d9fb-8bf2a044857f"
   },
   "outputs": [
    {
     "name": "stdout",
     "output_type": "stream",
     "text": [
      "C:\\Users\\michal/.kaggle\\kaggle.json <class 'str'> False\n"
     ]
    },
    {
     "name": "stderr",
     "output_type": "stream",
     "text": [
      "The syntax of the command is incorrect.\n"
     ]
    }
   ],
   "source": [
    "import os.path\n",
    "homedir = os.path.expanduser(\"~\")\n",
    "kaggle_home_dir = homedir + \"/.kaggle\"\n",
    "kaggle_file = \"kaggle.json\"\n",
    "\n",
    "kaggle_file = os.path.join(kaggle_home_dir, kaggle_file)\n",
    "print(kaggle_file, type(kaggle_file), kaggle_file == '/home/iid/.kaggle/kaggle.json')\n",
    "\n",
    "#!cat {kaggle_file}\n",
    "#!pip install kaggle\n",
    "\n",
    "!mkdir {kaggle_home_dir}\n",
    "\n"
   ]
  },
  {
   "cell_type": "code",
   "execution_count": 2,
   "metadata": {},
   "outputs": [
    {
     "name": "stdout",
     "output_type": "stream",
     "text": [
      ".\\../../data/titanic\n"
     ]
    }
   ],
   "source": [
    "os.path.curdir\n",
    "data_path = os.path.join(os.path.curdir, '../../data/titanic')\n",
    "print(data_path)"
   ]
  },
  {
   "cell_type": "code",
   "execution_count": null,
   "metadata": {
    "colab": {
     "base_uri": "https://localhost:8080/",
     "height": 204
    },
    "colab_type": "code",
    "executionInfo": {
     "elapsed": 18367,
     "status": "ok",
     "timestamp": 1583708531808,
     "user": {
      "displayName": "Michał Gąsiorowski",
      "photoUrl": "https://lh3.googleusercontent.com/a-/AOh14GhXOWlJ4KxxHhCGudjwmdKeGCOkqGWLFiBPGkONew=s64",
      "userId": "01135843378887591141"
     },
     "user_tz": -60
    },
    "id": "1WC27ixCoTpF",
    "outputId": "5c7e6e91-1622-42d2-bf18-f7c0f3b6f2d2"
   },
   "outputs": [
    {
     "name": "stdout",
     "output_type": "stream",
     "text": [
      "Warning: Your Kaggle API key is readable by other users on this system! To fix this, you can run 'chmod 600 /home/iid/.kaggle/kaggle.json'\n",
      "2020-03-10 18:08:01,052 WARNING Retrying (Retry(total=2, connect=None, read=None, redirect=None, status=None)) after connection broken by 'NewConnectionError('<urllib3.connection.VerifiedHTTPSConnection object at 0x7f97087eaa50>: Failed to establish a new connection: [Errno 111] Connection refused')': /api/v1/competitions/data/download-all/titanic\n"
     ]
    }
   ],
   "source": [
    "!kaggle competitions download -c titanic --path $data_path --force\n",
    "!unzip $data_path/titanic.zip -d $data_path"
   ]
  },
  {
   "cell_type": "code",
   "execution_count": 3,
   "metadata": {},
   "outputs": [],
   "source": [
    "# ! conda install -c anaconda seaborn \n",
    "import seaborn as sns\n",
    "import numpy as np"
   ]
  },
  {
   "cell_type": "code",
   "execution_count": 4,
   "metadata": {
    "colab": {
     "base_uri": "https://localhost:8080/",
     "height": 34
    },
    "colab_type": "code",
    "executionInfo": {
     "elapsed": 22090,
     "status": "ok",
     "timestamp": 1583708535543,
     "user": {
      "displayName": "Michał Gąsiorowski",
      "photoUrl": "https://lh3.googleusercontent.com/a-/AOh14GhXOWlJ4KxxHhCGudjwmdKeGCOkqGWLFiBPGkONew=s64",
      "userId": "01135843378887591141"
     },
     "user_tz": -60
    },
    "id": "YwAAx56LqL9u",
    "outputId": "739ebd56-86de-403f-f003-f47a4a3c2423"
   },
   "outputs": [
    {
     "name": "stdout",
     "output_type": "stream",
     "text": [
      "Ch3-Classification.ipynb\n",
      "Classification3-a-MNIST.ipynb\n",
      "Classification3-b-shift-MNIST.ipynb\n",
      "Classification3-c-Titanic.ipynb\n",
      "Housing.ipynb\n",
      "forest_reg.pkl\n"
     ]
    }
   ],
   "source": [
    "!ls"
   ]
  },
  {
   "cell_type": "code",
   "execution_count": 5,
   "metadata": {
    "colab": {},
    "colab_type": "code",
    "id": "X5b_Oqq5pGNd"
   },
   "outputs": [],
   "source": [
    "import os\n",
    "import pandas as pd\n",
    "\n",
    "def load_titanic_dateset(titanic_path='/content'):\n",
    "  gender_submission_csv_path = os.path.join(titanic_path, \"gender_submission.csv\")\n",
    "  train_csv_path = os.path.join(titanic_path, \"train.csv\")\n",
    "  test_csv_path = os.path.join(titanic_path, \"test.csv\")\n",
    "  return pd.read_csv(gender_submission_csv_path), pd.read_csv(train_csv_path), pd.read_csv(test_csv_path)\n",
    "  #return pd.read_csv\n"
   ]
  },
  {
   "cell_type": "code",
   "execution_count": 6,
   "metadata": {
    "colab": {},
    "colab_type": "code",
    "id": "jDeNDRF2q0yc"
   },
   "outputs": [],
   "source": [
    "#gender_sub_df, train_df, test_df = load_titanic_dateset(titanic_path='/home/iid/PycharmProjects/ml-playground/data/titanic/')\n",
    "#gender_sub_df, train_df, test_df = load_titanic_dateset(titanic_path='/home/iid/PycharmProjects/ml-playground/data/titanic/')\n",
    "gender_sub_df, train_df, test_df = load_titanic_dateset(titanic_path=data_path)\n",
    "\n"
   ]
  },
  {
   "cell_type": "code",
   "execution_count": 7,
   "metadata": {
    "colab": {
     "base_uri": "https://localhost:8080/",
     "height": 493
    },
    "colab_type": "code",
    "executionInfo": {
     "elapsed": 22067,
     "status": "ok",
     "timestamp": 1583708535544,
     "user": {
      "displayName": "Michał Gąsiorowski",
      "photoUrl": "https://lh3.googleusercontent.com/a-/AOh14GhXOWlJ4KxxHhCGudjwmdKeGCOkqGWLFiBPGkONew=s64",
      "userId": "01135843378887591141"
     },
     "user_tz": -60
    },
    "id": "Mmq0qjzAsYpf",
    "outputId": "40fbba16-975c-4649-f813-75597980807e"
   },
   "outputs": [
    {
     "name": "stdout",
     "output_type": "stream",
     "text": [
      "<class 'pandas.core.frame.DataFrame'>\n",
      "RangeIndex: 891 entries, 0 to 890\n",
      "Data columns (total 12 columns):\n",
      "PassengerId    891 non-null int64\n",
      "Survived       891 non-null int64\n",
      "Pclass         891 non-null int64\n",
      "Name           891 non-null object\n",
      "Sex            891 non-null object\n",
      "Age            714 non-null float64\n",
      "SibSp          891 non-null int64\n",
      "Parch          891 non-null int64\n",
      "Ticket         891 non-null object\n",
      "Fare           891 non-null float64\n",
      "Cabin          204 non-null object\n",
      "Embarked       889 non-null object\n",
      "dtypes: float64(2), int64(5), object(5)\n",
      "memory usage: 83.7+ KB\n"
     ]
    },
    {
     "data": {
      "text/plain": [
       "(       PassengerId    Survived      Pclass         Age       SibSp  \\\n",
       " count   891.000000  891.000000  891.000000  714.000000  891.000000   \n",
       " mean    446.000000    0.383838    2.308642   29.699118    0.523008   \n",
       " std     257.353842    0.486592    0.836071   14.526497    1.102743   \n",
       " min       1.000000    0.000000    1.000000    0.420000    0.000000   \n",
       " 25%     223.500000    0.000000    2.000000   20.125000    0.000000   \n",
       " 50%     446.000000    0.000000    3.000000   28.000000    0.000000   \n",
       " 75%     668.500000    1.000000    3.000000   38.000000    1.000000   \n",
       " max     891.000000    1.000000    3.000000   80.000000    8.000000   \n",
       " \n",
       "             Parch        Fare  \n",
       " count  891.000000  891.000000  \n",
       " mean     0.381594   32.204208  \n",
       " std      0.806057   49.693429  \n",
       " min      0.000000    0.000000  \n",
       " 25%      0.000000    7.910400  \n",
       " 50%      0.000000   14.454200  \n",
       " 75%      0.000000   31.000000  \n",
       " max      6.000000  512.329200  , None)"
      ]
     },
     "execution_count": 7,
     "metadata": {},
     "output_type": "execute_result"
    }
   ],
   "source": [
    "train_df.describe(), train_df.info()"
   ]
  },
  {
   "cell_type": "code",
   "execution_count": 8,
   "metadata": {
    "colab": {
     "base_uri": "https://localhost:8080/",
     "height": 578
    },
    "colab_type": "code",
    "executionInfo": {
     "elapsed": 22057,
     "status": "ok",
     "timestamp": 1583708535545,
     "user": {
      "displayName": "Michał Gąsiorowski",
      "photoUrl": "https://lh3.googleusercontent.com/a-/AOh14GhXOWlJ4KxxHhCGudjwmdKeGCOkqGWLFiBPGkONew=s64",
      "userId": "01135843378887591141"
     },
     "user_tz": -60
    },
    "id": "EnNLZNXHtdyX",
    "outputId": "2c5e488a-f7eb-4c03-beda-95ed913d425f"
   },
   "outputs": [
    {
     "data": {
      "text/plain": [
       "347082      7\n",
       "CA. 2343    7\n",
       "1601        7\n",
       "CA 2144     6\n",
       "3101295     6\n",
       "           ..\n",
       "113503      1\n",
       "347085      1\n",
       "28228       1\n",
       "345778      1\n",
       "228414      1\n",
       "Name: Ticket, Length: 681, dtype: int64"
      ]
     },
     "execution_count": 8,
     "metadata": {},
     "output_type": "execute_result"
    }
   ],
   "source": [
    "train_df[\"Ticket\"].value_counts()"
   ]
  },
  {
   "cell_type": "code",
   "execution_count": 25,
   "metadata": {
    "colab": {
     "base_uri": "https://localhost:8080/",
     "height": 1000
    },
    "colab_type": "code",
    "executionInfo": {
     "elapsed": 24035,
     "status": "ok",
     "timestamp": 1583708537537,
     "user": {
      "displayName": "Michał Gąsiorowski",
      "photoUrl": "https://lh3.googleusercontent.com/a-/AOh14GhXOWlJ4KxxHhCGudjwmdKeGCOkqGWLFiBPGkONew=s64",
      "userId": "01135843378887591141"
     },
     "user_tz": -60
    },
    "id": "HknjTr4vt-tP",
    "outputId": "1cf65527-d7ff-44ae-91a4-0205e0749c3d"
   },
   "outputs": [
    {
     "data": {
      "text/plain": [
       "array([[<matplotlib.axes._subplots.AxesSubplot object at 0x0000011D48AEBD88>,\n",
       "        <matplotlib.axes._subplots.AxesSubplot object at 0x0000011D4A8C4AC8>,\n",
       "        <matplotlib.axes._subplots.AxesSubplot object at 0x0000011D4AB84748>],\n",
       "       [<matplotlib.axes._subplots.AxesSubplot object at 0x0000011D4ABB84C8>,\n",
       "        <matplotlib.axes._subplots.AxesSubplot object at 0x0000011D4ABE8D48>,\n",
       "        <matplotlib.axes._subplots.AxesSubplot object at 0x0000011D4AC21888>],\n",
       "       [<matplotlib.axes._subplots.AxesSubplot object at 0x0000011D4AC57608>,\n",
       "        <matplotlib.axes._subplots.AxesSubplot object at 0x0000011D4AC8C388>,\n",
       "        <matplotlib.axes._subplots.AxesSubplot object at 0x0000011D4AC96208>]],\n",
       "      dtype=object)"
      ]
     },
     "execution_count": 25,
     "metadata": {},
     "output_type": "execute_result"
    },
    {
     "data": {
      "image/png": "[encoded data removed]",
      "text/plain": [
       "<Figure size 1440x1080 with 9 Axes>"
      ]
     },
     "metadata": {
      "needs_background": "light"
     },
     "output_type": "display_data"
    }
   ],
   "source": [
    "import matplotlib.pyplot as plt\n",
    "\n",
    "train_df.hist(bins=50, figsize=(20,15))"
   ]
  },
  {
   "cell_type": "code",
   "execution_count": 10,
   "metadata": {
    "colab": {
     "base_uri": "https://localhost:8080/",
     "height": 296
    },
    "colab_type": "code",
    "executionInfo": {
     "elapsed": 24514,
     "status": "ok",
     "timestamp": 1583708538032,
     "user": {
      "displayName": "Michał Gąsiorowski",
      "photoUrl": "https://lh3.googleusercontent.com/a-/AOh14GhXOWlJ4KxxHhCGudjwmdKeGCOkqGWLFiBPGkONew=s64",
      "userId": "01135843378887591141"
     },
     "user_tz": -60
    },
    "id": "2EhNQJJ-uKRY",
    "outputId": "3fadad27-31f9-48ad-e46b-2c2acd155a44"
   },
   "outputs": [
    {
     "data": {
      "text/plain": [
       "<matplotlib.axes._subplots.AxesSubplot at 0x7f74e3a67a50>"
      ]
     },
     "execution_count": 10,
     "metadata": {},
     "output_type": "execute_result"
    },
    {
     "data": {
      "image/png": "[encoded data removed]",
      "text/plain": [
       "<Figure size 432x288 with 1 Axes>"
      ]
     },
     "metadata": {
      "needs_background": "light"
     },
     "output_type": "display_data"
    }
   ],
   "source": [
    "train_df.plot(kind=\"scatter\", x=\"Age\", y=\"Fare\")"
   ]
  },
  {
   "cell_type": "code",
   "execution_count": 11,
   "metadata": {
    "colab": {},
    "colab_type": "code",
    "id": "PWbV9mAvvN1S"
   },
   "outputs": [],
   "source": [
    "corr_matrix = train_df.corr()\n"
   ]
  },
  {
   "cell_type": "code",
   "execution_count": 12,
   "metadata": {
    "colab": {
     "base_uri": "https://localhost:8080/",
     "height": 153
    },
    "colab_type": "code",
    "executionInfo": {
     "elapsed": 24498,
     "status": "ok",
     "timestamp": 1583708538034,
     "user": {
      "displayName": "Michał Gąsiorowski",
      "photoUrl": "https://lh3.googleusercontent.com/a-/AOh14GhXOWlJ4KxxHhCGudjwmdKeGCOkqGWLFiBPGkONew=s64",
      "userId": "01135843378887591141"
     },
     "user_tz": -60
    },
    "id": "lcZmUxt-vPx1",
    "outputId": "1fb0fa51-69e6-4eb6-f941-459775f8a454"
   },
   "outputs": [
    {
     "data": {
      "text/plain": [
       "Survived       1.000000\n",
       "Fare           0.257307\n",
       "Parch          0.081629\n",
       "PassengerId   -0.005007\n",
       "SibSp         -0.035322\n",
       "Age           -0.077221\n",
       "Pclass        -0.338481\n",
       "Name: Survived, dtype: float64"
      ]
     },
     "execution_count": 12,
     "metadata": {},
     "output_type": "execute_result"
    }
   ],
   "source": [
    "# Survival is correlated to Fare price :) No shit sherlock :)\n",
    "corr_matrix[\"Survived\"].sort_values(ascending=False)"
   ]
  },
  {
   "cell_type": "code",
   "execution_count": 13,
   "metadata": {
    "colab": {
     "base_uri": "https://localhost:8080/",
     "height": 1000
    },
    "colab_type": "code",
    "executionInfo": {
     "elapsed": 26147,
     "status": "ok",
     "timestamp": 1583708539698,
     "user": {
      "displayName": "Michał Gąsiorowski",
      "photoUrl": "https://lh3.googleusercontent.com/a-/AOh14GhXOWlJ4KxxHhCGudjwmdKeGCOkqGWLFiBPGkONew=s64",
      "userId": "01135843378887591141"
     },
     "user_tz": -60
    },
    "id": "qPmHoLssvdEY",
    "outputId": "7fcbe60f-474a-41f7-e2a1-115d6b3d18e9"
   },
   "outputs": [
    {
     "ename": "NameError",
     "evalue": "name 'train' is not defined",
     "output_type": "error",
     "traceback": [
      "\u001b[0;31m---------------------------------------------------------------------------\u001b[0m",
      "\u001b[0;31mNameError\u001b[0m                                 Traceback (most recent call last)",
      "\u001b[0;32m<ipython-input-13-74af033faca7>\u001b[0m in \u001b[0;36m<module>\u001b[0;34m\u001b[0m\n\u001b[1;32m     15\u001b[0m \u001b[0;34m\u001b[0m\u001b[0m\n\u001b[1;32m     16\u001b[0m \u001b[0mattributes\u001b[0m \u001b[0;34m=\u001b[0m \u001b[0;34m[\u001b[0m\u001b[0;34m\"Pclass\"\u001b[0m\u001b[0;34m,\u001b[0m \u001b[0;34m\"Sex\"\u001b[0m\u001b[0;34m,\u001b[0m \u001b[0;34m\"Age\"\u001b[0m\u001b[0;34m,\u001b[0m \u001b[0;34m\"SibSp\"\u001b[0m\u001b[0;34m,\u001b[0m \u001b[0;34m\"Fare\"\u001b[0m\u001b[0;34m,\u001b[0m \u001b[0;34m\"Survived\"\u001b[0m \u001b[0;34m]\u001b[0m\u001b[0;34m\u001b[0m\u001b[0;34m\u001b[0m\u001b[0m\n\u001b[0;32m---> 17\u001b[0;31m \u001b[0mscatter_matrix\u001b[0m\u001b[0;34m(\u001b[0m\u001b[0mtrain\u001b[0m\u001b[0;34m[\u001b[0m\u001b[0mattributes\u001b[0m\u001b[0;34m]\u001b[0m\u001b[0;34m,\u001b[0m \u001b[0mfigsize\u001b[0m\u001b[0;34m=\u001b[0m\u001b[0;34m(\u001b[0m\u001b[0;36m24\u001b[0m\u001b[0;34m,\u001b[0m \u001b[0;36m16\u001b[0m\u001b[0;34m)\u001b[0m\u001b[0;34m)\u001b[0m\u001b[0;34m\u001b[0m\u001b[0;34m\u001b[0m\u001b[0m\n\u001b[0m",
      "\u001b[0;31mNameError\u001b[0m: name 'train' is not defined"
     ]
    }
   ],
   "source": [
    "# PassengerId    891 non-null int64\n",
    "# Survived       891 non-null int64\n",
    "# Pclass         891 non-null int64\n",
    "# Name           891 non-null object\n",
    "# Sex            891 non-null object\n",
    "# Age            714 non-null float64\n",
    "# SibSp          891 non-null int64\n",
    "# Parch          891 non-null int64\n",
    "# Ticket         891 non-null object\n",
    "# Fare           891 non-null float64\n",
    "# Cabin          204 non-null object\n",
    "# Embarked       889 non-null object\n",
    "\n",
    "from pandas.plotting import scatter_matrix\n",
    "\n",
    "attributes = [\"Pclass\", \"Sex\", \"Age\", \"SibSp\", \"Fare\", \"Survived\" ]\n",
    "scatter_matrix(train[attributes], figsize=(24, 16))\n"
   ]
  },
  {
   "cell_type": "code",
   "execution_count": null,
   "metadata": {
    "colab": {},
    "colab_type": "code",
    "id": "SQrtjDr7_eOz"
   },
   "outputs": [],
   "source": [
    "#train_df_data = train_df.drop(\"Survived\", axis=1)\n",
    "#train_df_labels = train_df[\"Survived\"].copy()"
   ]
  },
  {
   "cell_type": "code",
   "execution_count": 14,
   "metadata": {
    "colab": {
     "base_uri": "https://localhost:8080/",
     "height": 68
    },
    "colab_type": "code",
    "executionInfo": {
     "elapsed": 26130,
     "status": "ok",
     "timestamp": 1583708539700,
     "user": {
      "displayName": "Michał Gąsiorowski",
      "photoUrl": "https://lh3.googleusercontent.com/a-/AOh14GhXOWlJ4KxxHhCGudjwmdKeGCOkqGWLFiBPGkONew=s64",
      "userId": "01135843378887591141"
     },
     "user_tz": -60
    },
    "id": "SybvxBbzGhMb",
    "outputId": "4eec196a-e035-4a68-f202-763058b6a0df"
   },
   "outputs": [
    {
     "data": {
      "text/plain": [
       "Index(['PassengerId', 'Survived', 'Pclass', 'Name', 'Sex', 'Age', 'SibSp',\n",
       "       'Parch', 'Ticket', 'Fare', 'Cabin', 'Embarked'],\n",
       "      dtype='object')"
      ]
     },
     "execution_count": 14,
     "metadata": {},
     "output_type": "execute_result"
    }
   ],
   "source": [
    "train_df.columns"
   ]
  },
  {
   "cell_type": "code",
   "execution_count": null,
   "metadata": {
    "colab": {
     "base_uri": "https://localhost:8080/",
     "height": 450
    },
    "colab_type": "code",
    "executionInfo": {
     "elapsed": 1936,
     "status": "ok",
     "timestamp": 1583709306408,
     "user": {
      "displayName": "Michał Gąsiorowski",
      "photoUrl": "https://lh3.googleusercontent.com/a-/AOh14GhXOWlJ4KxxHhCGudjwmdKeGCOkqGWLFiBPGkONew=s64",
      "userId": "01135843378887591141"
     },
     "user_tz": -60
    },
    "id": "PQ4VoRHAbitB",
    "outputId": "d0276a13-9bdb-486f-e148-10ebafe50d30"
   },
   "outputs": [],
   "source": [
    "train.head()"
   ]
  },
  {
   "cell_type": "code",
   "execution_count": 17,
   "metadata": {},
   "outputs": [
    {
     "data": {
      "text/html": [
       "<div>\n",
       "<style scoped>\n",
       "    .dataframe tbody tr th:only-of-type {\n",
       "        vertical-align: middle;\n",
       "    }\n",
       "\n",
       "    .dataframe tbody tr th {\n",
       "        vertical-align: top;\n",
       "    }\n",
       "\n",
       "    .dataframe thead th {\n",
       "        text-align: right;\n",
       "    }\n",
       "</style>\n",
       "<table border=\"1\" class=\"dataframe\">\n",
       "  <thead>\n",
       "    <tr style=\"text-align: right;\">\n",
       "      <th></th>\n",
       "      <th>Total</th>\n",
       "      <th>%</th>\n",
       "    </tr>\n",
       "  </thead>\n",
       "  <tbody>\n",
       "    <tr>\n",
       "      <th>Cabin</th>\n",
       "      <td>687</td>\n",
       "      <td>77.1</td>\n",
       "    </tr>\n",
       "    <tr>\n",
       "      <th>Age</th>\n",
       "      <td>177</td>\n",
       "      <td>19.9</td>\n",
       "    </tr>\n",
       "    <tr>\n",
       "      <th>Embarked</th>\n",
       "      <td>2</td>\n",
       "      <td>0.2</td>\n",
       "    </tr>\n",
       "    <tr>\n",
       "      <th>Fare</th>\n",
       "      <td>0</td>\n",
       "      <td>0.0</td>\n",
       "    </tr>\n",
       "    <tr>\n",
       "      <th>Ticket</th>\n",
       "      <td>0</td>\n",
       "      <td>0.0</td>\n",
       "    </tr>\n",
       "  </tbody>\n",
       "</table>\n",
       "</div>"
      ],
      "text/plain": [
       "          Total     %\n",
       "Cabin       687  77.1\n",
       "Age         177  19.9\n",
       "Embarked      2   0.2\n",
       "Fare          0   0.0\n",
       "Ticket        0   0.0"
      ]
     },
     "execution_count": 17,
     "metadata": {},
     "output_type": "execute_result"
    }
   ],
   "source": [
    "total = train_df.isnull().sum().sort_values(ascending=False)\n",
    "percent_1 = train_df.isnull().sum()/train_df.isnull().count()*100\n",
    "percent_2 = (round(percent_1, 1)).sort_values(ascending=False)\n",
    "missing_data = pd.concat([total, percent_2], axis=1, keys=['Total', '%'])\n",
    "missing_data.head(5)"
   ]
  },
  {
   "cell_type": "markdown",
   "metadata": {
    "colab_type": "text",
    "id": "V9fMGpGIgddu"
   },
   "source": [
    "survival\tSurvival\t0 = No, 1 = Yes\n",
    "pclass\tTicket class\t1 = 1st, 2 = 2nd, 3 = 3rd\n",
    "sex\tSex\t\n",
    "Age\tAge in years\t\n",
    "sibsp\t# of siblings / spouses aboard the Titanic\t\n",
    "parch\t# of parents / children aboard the Titanic\t\n",
    "ticket\tTicket number\t\n",
    "fare\tPassenger fare\t\n",
    "cabin\tCabin number\t\n",
    "embarked\tPort of Embarkation\tC = Cherbourg, Q = Queenstown, S = Southampton"
   ]
  },
  {
   "cell_type": "code",
   "execution_count": 18,
   "metadata": {},
   "outputs": [
    {
     "data": {
      "text/plain": [
       "count     204\n",
       "unique    147\n",
       "top        G6\n",
       "freq        4\n",
       "Name: Cabin, dtype: object"
      ]
     },
     "execution_count": 18,
     "metadata": {},
     "output_type": "execute_result"
    }
   ],
   "source": [
    "#sns.barplot(x='Pclass', y='Survived', data=train_df)\n",
    "train_df['Cabin'].describe()"
   ]
  },
  {
   "cell_type": "code",
   "execution_count": 26,
   "metadata": {},
   "outputs": [],
   "source": [
    "train_df_prep = None\n",
    "test_df_prep = None"
   ]
  },
  {
   "cell_type": "code",
   "execution_count": 55,
   "metadata": {},
   "outputs": [],
   "source": [
    "gender_sub_df, train_df, test_df = load_titanic_dateset(titanic_path=data_path)\n"
   ]
  },
  {
   "cell_type": "code",
   "execution_count": 27,
   "metadata": {},
   "outputs": [],
   "source": [
    "def copy_data_to_prep():\n",
    "    train_df_prep, test_df_prep = train_df.copy(), test_df.copy()\n",
    "    return train_df_prep, test_df_prep"
   ]
  },
  {
   "cell_type": "code",
   "execution_count": 28,
   "metadata": {},
   "outputs": [],
   "source": [
    "def get_train_test_datests():\n",
    "    return train_df_prep, test_df_prep"
   ]
  },
  {
   "cell_type": "code",
   "execution_count": 29,
   "metadata": {},
   "outputs": [],
   "source": [
    "# Drop id for training dataset, we are not interested in PassengerId\n",
    "def dropPassengerId(train_df_prep):\n",
    "    train_df_prep = train_df_prep.drop([\"PassengerId\"], axis=1)\n",
    "    return train_df_prep\n",
    "#data_prep"
   ]
  },
  {
   "cell_type": "code",
   "execution_count": 30,
   "metadata": {},
   "outputs": [],
   "source": [
    "#train_df_prep[\"Cabin\"].value_counts()\n",
    "import re\n",
    "\n",
    "def cabin_preprocessing(train_df_prep, test_df_prep):\n",
    "    deckS = \"ABCDEFGU\"\n",
    "    deckNum = \"12345678\"\n",
    "    deckMap = dict(zip(deckS, deckNum))\n",
    "\n",
    "    reg = re.compile(\"([a-zA-Z]+)\")\n",
    "\n",
    "    for prep_dataset in get_train_test_datests():\n",
    "        prep_dataset[\"Cabin\"] = prep_dataset[\"Cabin\"].fillna(\"UO\")\n",
    "        prep_dataset[\"Deck\"] = prep_dataset[\"Cabin\"].map(lambda x: reg.search(x).group())\n",
    "        prep_dataset[\"Deck\"] = prep_dataset[\"Deck\"].map(deckMap)\n",
    "        prep_dataset[\"Deck\"] = prep_dataset[\"Deck\"].fillna(0)\n",
    "        prep_dataset[\"Deck\"] = prep_dataset[\"Deck\"].astype(int)\n",
    "\n",
    "    train_df_prep = train_df_prep.drop(['Cabin'], axis=1)  \n",
    "    test_df_prep = test_df_prep.drop(['Cabin'], axis=1)  \n",
    "\n",
    "    return train_df_prep, test_df_prep\n",
    "#train_df_prep[\"Deck\"].value_counts(), test_df_prep[\"Deck\"].value_counts()"
   ]
  },
  {
   "cell_type": "code",
   "execution_count": 46,
   "metadata": {},
   "outputs": [],
   "source": [
    "from sklearn.preprocessing import OrdinalEncoder\n",
    "\n",
    "def sex_preprocessing(train_df_prep, test_df_prep):\n",
    "    sex_category_mapping = {\"male\" : 0, \"female\" : 1}\n",
    "\n",
    "    for prep_dataset in get_train_test_datests():\n",
    "        sex_encoder = OrdinalEncoder(dtype=np.int32)\n",
    "        prep_dataset[[\"Sex\"]] = sex_encoder.fit_transform(prep_dataset[[\"Sex\"]])\n",
    "        prep_dataset[\"Sex\"] = prep_dataset[\"Sex\"].astype('category')\n",
    "        #prep_dataset['Sex'] = prep_dataset['Sex'].map(sex_category_mapping)\n",
    "    return train_df_prep, test_df_prep"
   ]
  },
  {
   "cell_type": "code",
   "execution_count": 32,
   "metadata": {},
   "outputs": [],
   "source": [
    "# Age - fill missing values\n",
    "# Use SimpleImputer\n",
    "\n",
    "import numpy as np\n",
    "from sklearn.impute import SimpleImputer\n",
    "\n",
    "def age_preprocessing(train_df_prep, test_df_prep):\n",
    "    for prep_dataset in get_train_test_datests():\n",
    "        #imputer = KNNImputer(n_neighbors=2, weights=\"uniform\")\n",
    "        age_imputer = SimpleImputer(missing_values=np.nan, strategy='mean')\n",
    "        prep_dataset[[\"Age\"]] = age_imputer.fit_transform(prep_dataset[[\"Age\"]])\n",
    "        prep_dataset[\"Age\"] = prep_dataset[\"Age\"].astype(int)\n",
    "    return train_df_prep, test_df_prep"
   ]
  },
  {
   "cell_type": "code",
   "execution_count": 33,
   "metadata": {},
   "outputs": [],
   "source": [
    "# Combine SibSp and Parch\n",
    "def relatives_preprocessing(train_df_prep, test_df_prep):\n",
    "    for prep_dataset in get_train_test_datests():\n",
    "        #imputer = KNNImputer(n_neighbors=2, weights=\"uniform\")\n",
    "        prep_dataset[\"Relatives\"] = prep_dataset[\"SibSp\"] + prep_dataset['Parch']\n",
    "        prep_dataset.loc[prep_dataset['Relatives'] > 0, 'alone'] = 0\n",
    "        prep_dataset.loc[prep_dataset['Relatives'] == 0, 'alone'] = 1\n",
    "        #prep_dataset['alone'] = prep_dataset['alone'].astype(int)\n",
    "        prep_dataset[\"alone\"] = prep_dataset[\"alone\"].astype('category')\n",
    "    \n",
    "    train_df_prep = train_df_prep.drop(['SibSp'], axis=1)\n",
    "    train_df_prep = train_df_prep.drop(['Parch'], axis=1)\n",
    "    test_df_prep = test_df_prep.drop(['SibSp'], axis=1)  \n",
    "    test_df_prep = test_df_prep.drop(['Parch'], axis=1)\n",
    "    \n",
    "    return train_df_prep, test_df_prep"
   ]
  },
  {
   "cell_type": "code",
   "execution_count": 48,
   "metadata": {},
   "outputs": [],
   "source": [
    "# Embarked - fill missing values with median\n",
    "# Use SimpleImputer 'most_frequent'\n",
    "\n",
    "import numpy as np\n",
    "\n",
    "from sklearn.impute import SimpleImputer\n",
    "\n",
    "def embarked_preprocessing(train_df_prep, test_df_prep):\n",
    "    for prep_dataset in get_train_test_datests():\n",
    "        embarked_imputer = SimpleImputer(strategy='most_frequent')\n",
    "        embarked_encoder = OrdinalEncoder(dtype=np.int32)\n",
    "        prep_dataset[[\"Embarked\"]] = embarked_imputer.fit_transform(prep_dataset[[\"Embarked\"]])\n",
    "        prep_dataset[[\"Embarked\"]] = embarked_encoder.fit_transform(prep_dataset[[\"Embarked\"]])\n",
    "        prep_dataset[\"Embarked\"] = prep_dataset[\"Embarked\"].astype('category')\n",
    "        \n",
    "    return train_df_prep, test_df_prep"
   ]
  },
  {
   "cell_type": "code",
   "execution_count": 35,
   "metadata": {},
   "outputs": [],
   "source": [
    "# Fare - fill missing values with median\n",
    "\n",
    "import numpy as np\n",
    "\n",
    "from sklearn.impute import SimpleImputer\n",
    "\n",
    "def fare_preprocessing(train_df_prep, test_df_prep):\n",
    "    for prep_dataset in get_train_test_datests():\n",
    "        prep_dataset[\"Fare\"] = prep_dataset[\"Fare\"].fillna(0)\n",
    "        prep_dataset[\"Fare\"] = prep_dataset[\"Fare\"].astype(int)\n",
    "\n",
    "    return train_df_prep, test_df_prep"
   ]
  },
  {
   "cell_type": "code",
   "execution_count": 36,
   "metadata": {},
   "outputs": [],
   "source": [
    "# Ticket - drop the ticket\n",
    "\n",
    "import numpy as np\n",
    "\n",
    "from sklearn.impute import SimpleImputer\n",
    "\n",
    "def ticket_preprocessing(train_df_prep, test_df_prep):\n",
    "    train_df_prep = train_df_prep.drop([\"Ticket\"], axis=1)\n",
    "    test_df_prep = test_df_prep.drop([\"Ticket\"], axis=1)\n",
    "        \n",
    "    return train_df_prep, test_df_prep"
   ]
  },
  {
   "cell_type": "code",
   "execution_count": 37,
   "metadata": {},
   "outputs": [],
   "source": [
    "# PClass - make it categorical\n",
    "\n",
    "import numpy as np\n",
    "\n",
    "from sklearn.impute import SimpleImputer\n",
    "\n",
    "def pclass_preprocessing(train_df_prep, test_df_prep):\n",
    "    for prep_dataset in get_train_test_datests():\n",
    "        prep_dataset[\"Pclass\"] = prep_dataset[\"Pclass\"].astype('category')\n",
    "        \n",
    "    return train_df_prep, test_df_prep"
   ]
  },
  {
   "cell_type": "code",
   "execution_count": 38,
   "metadata": {},
   "outputs": [],
   "source": [
    "# Name - drop\n",
    "\n",
    "import numpy as np\n",
    "\n",
    "from sklearn.impute import SimpleImputer\n",
    "\n",
    "def name_preprocessing(train_df_prep, test_df_prep):\n",
    "    train_df_prep = train_df_prep.drop([\"Name\"], axis=1)\n",
    "    test_df_prep = test_df_prep.drop([\"Name\"], axis=1)\n",
    "    #for prep_dataset in get_train_test_datests():\n",
    "    #    prep_dataset[\"Pclass\"] = prep_dataset[\"Pclass\"].astype('category')\n",
    "        \n",
    "    return train_df_prep, test_df_prep"
   ]
  },
  {
   "cell_type": "code",
   "execution_count": 39,
   "metadata": {},
   "outputs": [],
   "source": [
    "def drop_survived(train_df_prep, test_df_prep):\n",
    "    X_train = train_df_prep.drop([\"Survived\"], axis=1) \n",
    "    y_train = train_df_prep[\"Survived\"]\n",
    "    X_test = test_df_prep.drop([\"PassengerId\"], axis=1).copy()\n",
    "    return X_train, y_train, X_test"
   ]
  },
  {
   "cell_type": "code",
   "execution_count": 40,
   "metadata": {},
   "outputs": [
    {
     "ename": "TypeError",
     "evalue": "'NoneType' object is not subscriptable",
     "output_type": "error",
     "traceback": [
      "\u001b[0;31m---------------------------------------------------------------------------\u001b[0m",
      "\u001b[0;31mTypeError\u001b[0m                                 Traceback (most recent call last)",
      "\u001b[0;32m<ipython-input-40-f0e65ba52d53>\u001b[0m in \u001b[0;36m<module>\u001b[0;34m\u001b[0m\n\u001b[0;32m----> 1\u001b[0;31m \u001b[0mtrain_df_prep\u001b[0m\u001b[0;34m[\u001b[0m\u001b[0;34m[\u001b[0m\u001b[0;34m\"Name\"\u001b[0m\u001b[0;34m]\u001b[0m\u001b[0;34m]\u001b[0m\u001b[0;34m.\u001b[0m\u001b[0msample\u001b[0m\u001b[0;34m(\u001b[0m\u001b[0;36m10\u001b[0m\u001b[0;34m)\u001b[0m\u001b[0;34m\u001b[0m\u001b[0;34m\u001b[0m\u001b[0m\n\u001b[0m\u001b[1;32m      2\u001b[0m \u001b[0;31m#test_df_prep['Embarked'].value_counts()\u001b[0m\u001b[0;34m\u001b[0m\u001b[0;34m\u001b[0m\u001b[0;34m\u001b[0m\u001b[0m\n",
      "\u001b[0;31mTypeError\u001b[0m: 'NoneType' object is not subscriptable"
     ]
    }
   ],
   "source": [
    "train_df_prep[[\"Name\"]].sample(10)\n",
    "#test_df_prep['Embarked'].value_counts()"
   ]
  },
  {
   "cell_type": "code",
   "execution_count": 41,
   "metadata": {},
   "outputs": [
    {
     "ename": "AttributeError",
     "evalue": "'NoneType' object has no attribute 'info'",
     "output_type": "error",
     "traceback": [
      "\u001b[0;31m---------------------------------------------------------------------------\u001b[0m",
      "\u001b[0;31mAttributeError\u001b[0m                            Traceback (most recent call last)",
      "\u001b[0;32m<ipython-input-41-859e54d131cd>\u001b[0m in \u001b[0;36m<module>\u001b[0;34m\u001b[0m\n\u001b[0;32m----> 1\u001b[0;31m \u001b[0mtrain_df_prep\u001b[0m\u001b[0;34m.\u001b[0m\u001b[0minfo\u001b[0m\u001b[0;34m(\u001b[0m\u001b[0;34m)\u001b[0m\u001b[0;34m\u001b[0m\u001b[0;34m\u001b[0m\u001b[0m\n\u001b[0m",
      "\u001b[0;31mAttributeError\u001b[0m: 'NoneType' object has no attribute 'info'"
     ]
    }
   ],
   "source": [
    "train_df_prep.info()"
   ]
  },
  {
   "cell_type": "code",
   "execution_count": 49,
   "metadata": {},
   "outputs": [],
   "source": [
    "train_df_prep, test_df_prep = copy_data_to_prep()\n",
    "train_df_prep = dropPassengerId(train_df_prep)\n",
    "train_df_prep, test_df_prep = cabin_preprocessing(train_df_prep, test_df_prep)\n",
    "train_df_prep, test_df_prep = sex_preprocessing(train_df_prep, test_df_prep)\n",
    "train_df_prep, test_df_prep = age_preprocessing(train_df_prep, test_df_prep)\n",
    "train_df_prep, test_df_prep = relatives_preprocessing(train_df_prep, test_df_prep)\n",
    "train_df_prep, test_df_prep = embarked_preprocessing(train_df_prep, test_df_prep)\n",
    "train_df_prep, test_df_prep = fare_preprocessing(train_df_prep, test_df_prep)\n",
    "train_df_prep, test_df_prep = ticket_preprocessing(train_df_prep, test_df_prep)\n",
    "train_df_prep, test_df_prep = pclass_preprocessing(train_df_prep, test_df_prep)\n",
    "train_df_prep, test_df_prep = name_preprocessing(train_df_prep, test_df_prep)\n",
    "\n",
    "X_train, y_train, X_test = drop_survived(train_df_prep, test_df_prep)\n"
   ]
  },
  {
   "cell_type": "code",
   "execution_count": 50,
   "metadata": {},
   "outputs": [
    {
     "name": "stderr",
     "output_type": "stream",
     "text": [
      "/home/iid/anaconda3/envs/ml-tensorflow/lib/python3.7/site-packages/seaborn/categorical.py:3669: UserWarning: The `factorplot` function has been renamed to `catplot`. The original name will be removed in a future release. Please update your code. Note that the default `kind` in `factorplot` (`'point'`) has changed `'strip'` in `catplot`.\n",
      "  warnings.warn(msg)\n"
     ]
    },
    {
     "data": {
      "image/png": "[encoded data removed]",
      "text/plain": [
       "<Figure size 900x360 with 1 Axes>"
      ]
     },
     "metadata": {
      "needs_background": "light"
     },
     "output_type": "display_data"
    }
   ],
   "source": [
    "axes = sns.factorplot('alone','Survived', \n",
    "                      data=train_df_prep, aspect = 2.5, )"
   ]
  },
  {
   "cell_type": "code",
   "execution_count": 51,
   "metadata": {},
   "outputs": [
    {
     "name": "stdout",
     "output_type": "stream",
     "text": [
      "acc_sgd: 60.1571268237935\n"
     ]
    }
   ],
   "source": [
    "from sklearn import linear_model\n",
    "\n",
    "sgd = linear_model.SGDClassifier()\n",
    "\n",
    "sgd.fit(X_train, y_train)\n",
    "Y_pred = sgd.predict(X_test)\n",
    "\n",
    "sgd.score(X_train, y_train)\n",
    "\n",
    "print(\"acc_sgd: {}\".format(sgd.score(X_train, y_train) * 100))"
   ]
  },
  {
   "cell_type": "code",
   "execution_count": 56,
   "metadata": {},
   "outputs": [
    {
     "name": "stdout",
     "output_type": "stream",
     "text": [
      "96.75\n"
     ]
    }
   ],
   "source": [
    "from sklearn.ensemble import RandomForestClassifier\n",
    "\n",
    "random_forest = RandomForestClassifier(n_estimators=100)\n",
    "random_forest.fit(X_train, y_train)\n",
    "\n",
    "Y_prediction = random_forest.predict(X_test)\n",
    "\n",
    "random_forest.score(X_train, y_train)\n",
    "acc_random_forest = round(random_forest.score(X_train, y_train) * 100, 2)\n",
    "print(acc_random_forest)"
   ]
  },
  {
   "cell_type": "code",
   "execution_count": 233,
   "metadata": {},
   "outputs": [
    {
     "data": {
      "text/plain": [
       "array([3, 1, 2], dtype=int64)"
      ]
     },
     "execution_count": 233,
     "metadata": {},
     "output_type": "execute_result"
    }
   ],
   "source": [
    "#list(prep_dataset.select_dtypes(include ='float64'))\n",
    "#prep_dataset[\"Sex\"] = prep_dataset[\"Sex\"].astype(int)\n",
    "train_df_prep['Pclass'].unique()"
   ]
  },
  {
   "cell_type": "code",
   "execution_count": 208,
   "metadata": {},
   "outputs": [
    {
     "data": {
      "text/plain": [
       "<matplotlib.axes._subplots.AxesSubplot at 0x23003cf3a88>"
      ]
     },
     "execution_count": 208,
     "metadata": {},
     "output_type": "execute_result"
    },
    {
     "data": {
      "image/png": "[encoded data removed]",
      "text/plain": [
       "<Figure size 432x288 with 1 Axes>"
      ]
     },
     "metadata": {
      "needs_background": "light"
     },
     "output_type": "display_data"
    }
   ],
   "source": [
    "train_df_prep['Fare'].hist()"
   ]
  },
  {
   "cell_type": "code",
   "execution_count": null,
   "metadata": {},
   "outputs": [],
   "source": [
    "X_train = tra"
   ]
  },
  {
   "cell_type": "code",
   "execution_count": 0,
   "metadata": {
    "colab": {},
    "colab_type": "code",
    "id": "QjPXmT7tY7PA"
   },
   "outputs": [],
   "source": [
    "from sklearn.pipeline import Pipeline\n",
    "from sklearn.preprocessing import StandardScaler\n",
    "\n",
    "num_pipeline = Pipeline([\n",
    " ('imputer')                        \n",
    "])"
   ]
  },
  {
   "cell_type": "code",
   "execution_count": 18,
   "metadata": {
    "colab": {},
    "colab_type": "code",
    "id": "vpWI0fImYZJb"
   },
   "outputs": [
    {
     "data": {
      "text/plain": [
       "<bound method Index.get_indexer of Index(['PassengerId', 'Survived', 'Pclass', 'Name', 'Sex', 'Age', 'SibSp',\n",
       "       'Parch', 'Ticket', 'Fare', 'Cabin', 'Embarked'],\n",
       "      dtype='object')>"
      ]
     },
     "execution_count": 18,
     "metadata": {},
     "output_type": "execute_result"
    }
   ],
   "source": [
    "#numeric_features = train.select_dtypes(include=['int64', 'float64']).columns\n",
    "train_df.columns.get_indexer\n"
   ]
  },
  {
   "cell_type": "code",
   "execution_count": 22,
   "metadata": {},
   "outputs": [
    {
     "data": {
      "text/plain": [
       "pandas.core.series.Series"
      ]
     },
     "execution_count": 22,
     "metadata": {},
     "output_type": "execute_result"
    }
   ],
   "source": [
    "type(train_df['Ticket'].num)\n"
   ]
  },
  {
   "cell_type": "code",
   "execution_count": null,
   "metadata": {},
   "outputs": [],
   "source": [
    "train_df_prep, test_df_prep = copy_data_to_prep()\n",
    "train_df_prep = dropPassengerId(train_df_prep)\n",
    "train_df_prep, test_df_prep = cabin_preprocessing(train_df_prep, test_df_prep)\n",
    "train_df_prep, test_df_prep = sex_preprocessing(train_df_prep, test_df_prep)\n",
    "train_df_prep, test_df_prep = age_preprocessing(train_df_prep, test_df_prep)\n",
    "train_df_prep, test_df_prep = relatives_preprocessing(train_df_prep, test_df_prep)\n",
    "train_df_prep, test_df_prep = embarked_preprocessing(train_df_prep, test_df_prep)\n",
    "train_df_prep, test_df_prep = fare_preprocessing(train_df_prep, test_df_prep)\n",
    "train_df_prep, test_df_prep = ticket_preprocessing(train_df_prep, test_df_prep)\n",
    "train_df_prep, test_df_prep = pclass_preprocessing(train_df_prep, test_df_prep)\n",
    "train_df_prep, test_df_prep = name_preprocessing(train_df_prep, test_df_prep)"
   ]
  },
  {
   "cell_type": "code",
   "execution_count": 259,
   "metadata": {},
   "outputs": [
    {
     "data": {
      "text/html": [
       "<div>\n",
       "<style scoped>\n",
       "    .dataframe tbody tr th:only-of-type {\n",
       "        vertical-align: middle;\n",
       "    }\n",
       "\n",
       "    .dataframe tbody tr th {\n",
       "        vertical-align: top;\n",
       "    }\n",
       "\n",
       "    .dataframe thead th {\n",
       "        text-align: right;\n",
       "    }\n",
       "</style>\n",
       "<table border=\"1\" class=\"dataframe\">\n",
       "  <thead>\n",
       "    <tr style=\"text-align: right;\">\n",
       "      <th></th>\n",
       "      <th>Name</th>\n",
       "    </tr>\n",
       "  </thead>\n",
       "  <tbody>\n",
       "    <tr>\n",
       "      <th>0</th>\n",
       "      <td>Braund, Mr. Owen Harris</td>\n",
       "    </tr>\n",
       "    <tr>\n",
       "      <th>1</th>\n",
       "      <td>Cumings, Mrs. John Bradley (Florence Briggs Th...</td>\n",
       "    </tr>\n",
       "    <tr>\n",
       "      <th>2</th>\n",
       "      <td>Heikkinen, Miss. Laina</td>\n",
       "    </tr>\n",
       "    <tr>\n",
       "      <th>3</th>\n",
       "      <td>Futrelle, Mrs. Jacques Heath (Lily May Peel)</td>\n",
       "    </tr>\n",
       "    <tr>\n",
       "      <th>4</th>\n",
       "      <td>Allen, Mr. William Henry</td>\n",
       "    </tr>\n",
       "    <tr>\n",
       "      <th>...</th>\n",
       "      <td>...</td>\n",
       "    </tr>\n",
       "    <tr>\n",
       "      <th>886</th>\n",
       "      <td>Montvila, Rev. Juozas</td>\n",
       "    </tr>\n",
       "    <tr>\n",
       "      <th>887</th>\n",
       "      <td>Graham, Miss. Margaret Edith</td>\n",
       "    </tr>\n",
       "    <tr>\n",
       "      <th>888</th>\n",
       "      <td>Johnston, Miss. Catherine Helen \"Carrie\"</td>\n",
       "    </tr>\n",
       "    <tr>\n",
       "      <th>889</th>\n",
       "      <td>Behr, Mr. Karl Howell</td>\n",
       "    </tr>\n",
       "    <tr>\n",
       "      <th>890</th>\n",
       "      <td>Dooley, Mr. Patrick</td>\n",
       "    </tr>\n",
       "  </tbody>\n",
       "</table>\n",
       "<p>891 rows × 1 columns</p>\n",
       "</div>"
      ],
      "text/plain": [
       "                                                  Name\n",
       "0                              Braund, Mr. Owen Harris\n",
       "1    Cumings, Mrs. John Bradley (Florence Briggs Th...\n",
       "2                               Heikkinen, Miss. Laina\n",
       "3         Futrelle, Mrs. Jacques Heath (Lily May Peel)\n",
       "4                             Allen, Mr. William Henry\n",
       "..                                                 ...\n",
       "886                              Montvila, Rev. Juozas\n",
       "887                       Graham, Miss. Margaret Edith\n",
       "888           Johnston, Miss. Catherine Helen \"Carrie\"\n",
       "889                              Behr, Mr. Karl Howell\n",
       "890                                Dooley, Mr. Patrick\n",
       "\n",
       "[891 rows x 1 columns]"
      ]
     },
     "execution_count": 259,
     "metadata": {},
     "output_type": "execute_result"
    }
   ],
   "source": [
    "train_df[[\"Name\"]]"
   ]
  },
  {
   "cell_type": "code",
   "execution_count": 411,
   "metadata": {},
   "outputs": [],
   "source": [
    "import pandas as pd\n",
    "import numpy as np\n",
    "from sklearn.pipeline import Pipeline\n",
    "from sklearn.compose import ColumnTransformer\n",
    "from sklearn.impute import SimpleImputer\n",
    "from sklearn.preprocessing import OrdinalEncoder, StandardScaler, OneHotEncoder\n",
    "\n",
    "from sklearn.base import BaseEstimator, TransformerMixin\n",
    "\n",
    "import re\n",
    "\n",
    "title_reg = re.compile(\"([a-zA-Z]+)\\.\")\n",
    "\n",
    "titles = {\"\": 0, \"Mr\": 1, \"Miss\": 2, \"Mrs\": 3, \"Master\": 4, \"Other\": 5}\n",
    "misspell_map = {\"Mlle\" : \"Miss\", \"Ms\" : \"Miss\", \"Mme\": \"Mrs\"}\n",
    "\n",
    "def title_category_num(name):\n",
    "    return titles.get(name, titles[\"Other\"])\n",
    "    \n",
    "def correct_misspell(name):\n",
    "    if name in misspell_map:\n",
    "        return misspell_map[name]\n",
    "    return name\n",
    "\n",
    "def get_title(name):\n",
    "    title_search = title_reg.search(name)\n",
    "    if title_search :\n",
    "        return correct_misspell(title_search.group(1))\n",
    "    return \"\"\n",
    "\n",
    "class ColumnDropTranformer(BaseEstimator, TransformerMixin):   \n",
    "    def __init__(self, to_drop): # no *args or *kargs\n",
    "        self.columns_to_drop = to_drop\n",
    "    def fit(self, X, y=None):\n",
    "        return self # nothing else to do\n",
    "    def transform(self, X):\n",
    "        # Assumes X is a DataFrame\n",
    "        X = X.drop(columns=self.columns_to_drop, axis=1) \n",
    "        return X\n",
    "\n",
    "class CabinTransformer(BaseEstimator, TransformerMixin):\n",
    "    \n",
    "    def __init__(self): # no *args or *kargs\n",
    "        self.reg = re.compile(\"([a-zA-Z]+)\")\n",
    "        self.deckMap = dict(zip(\"ABCDEFGU\", \"12345678\"))\n",
    "    def fit(self, X, y=None):\n",
    "        return self # nothing else to do\n",
    "    def transform(self, X):\n",
    "        # Assumes X is a DataFrame\n",
    "        X[\"Cabin\"] = X[\"Cabin\"].fillna(\"UO\")\n",
    "        X[\"Deck\"] = X[\"Cabin\"].map(lambda x: self.reg.search(x).group())\n",
    "        X[\"Deck\"] = X[\"Deck\"].map(self.deckMap)\n",
    "        X[\"Deck\"] = X[\"Deck\"].fillna(0)\n",
    "        X[\"Deck\"] = X[\"Deck\"].astype(int)\n",
    "        X = X.drop(['Cabin'], axis=1)\n",
    "        return X\n",
    "    \n",
    "class NameTransformer(BaseEstimator, TransformerMixin):\n",
    "    def __init__(self): # no *args or *kargs\n",
    "        self.title_reg = re.compile(\"([a-zA-Z]+)\\.\")\n",
    "    def fit(self, X, y=None):\n",
    "        return self # nothing else to do\n",
    "    def transform(self, X):\n",
    "        # Assumes X is a DataFrame\n",
    "        X[\"Title\"] = X[\"Name\"].apply(get_title)\n",
    "        X[\"Title_Cat\"] = X[\"Title\"].apply(title_category_num)\n",
    "        X[\"Title_Cat\"] = X[\"Title_Cat\"].fillna(0)\n",
    "        #X[\"Title\"] = pd.Categorical(X[\"Title\"], ordered=False)\n",
    "        X = X.drop([\"Name\"], axis=1)\n",
    "        X = X.drop([\"Title\"], axis=1)\n",
    "        return X\n",
    "\n",
    "class GenderTranformer(BaseEstimator, TransformerMixin): # sic!\n",
    "    \n",
    "    def __init__(self): # no *args or *kargs\n",
    "        # By default, the strings will be assigned numbers in increasing alphabetical order\n",
    "        self.sex_category_mapping = [\"male\", \"female\"]\n",
    "        #self.sex_encoder = OrdinalEncoder(dtype=np.int32, categories=self.sex_category_mapping)\n",
    "        self.sex_encoder = OrdinalEncoder(dtype=np.int32)\n",
    "        #mapping={'col': 'grade', 'mapping': map_for_grades}, return_df=True)\n",
    "    def fit(self, X, y=None):\n",
    "        return self # nothing else to do\n",
    "    def transform(self, X):\n",
    "        # Assumes X is a DataFrame\n",
    "        X[[\"Sex\"]] = self.sex_encoder.fit_transform(X[[\"Sex\"]])\n",
    "        #X[\"Sex\"] = X[\"Sex\"].astype('category')\n",
    "        return X\n",
    "    \n",
    "class AgeImputerTransformer(BaseEstimator, TransformerMixin):\n",
    "    \n",
    "    def __init__(self): # no *args or *kargs\n",
    "        # By default, the strings will be assigned numbers in increasing alphabetical order\n",
    "        self.age_imputer = SimpleImputer(strategy='mean')\n",
    "        #self.age_scaler = StandardScaler()\n",
    "    def fit(self, X, y=None):\n",
    "        self.age_imputer.fit(X[[\"Age\"]])\n",
    "        #self.age_scaler.fit(X[[\"Age\"]])\n",
    "        return self # nothing else to do\n",
    "    def transform(self, X):\n",
    "        # Assumes X is a DataFrame\n",
    "        X[[\"Age\"]] = self.age_imputer.transform(X[[\"Age\"]])\n",
    "        #X[[\"Age\"]] = self.age_scaler.transform(X[[\"Age\"]])\n",
    "        return X\n",
    "    \n",
    "class RelativesTransformer(BaseEstimator, TransformerMixin): \n",
    "    \n",
    "    def __init__(self): # no *args or *kargs\n",
    "        # By default, the strings will be assigned numbers in increasing alphabetical order\n",
    "        pass\n",
    "    def fit(self, X, y=None):\n",
    "        return self # nothing else to do\n",
    "    def transform(self, X):\n",
    "        # Assumes X is a DataFrame\n",
    "        X[\"Relatives\"] = X[\"SibSp\"] + X['Parch']\n",
    "        X.loc[X['Relatives'] > 0, 'Alone'] = 0\n",
    "        X.loc[X['Relatives'] == 0, 'Alone'] = 1\n",
    "        #X[\"alone\"] = X[\"alone\"].astype('category')\n",
    "        X[\"Alone\"] = X[\"Alone\"].astype(int)\n",
    "        X = X.drop(['SibSp'], axis=1)\n",
    "        X = X.drop(['Parch'], axis=1)\n",
    "        return X\n",
    "    \n",
    "class EmbarkedImputerTransformer(BaseEstimator, TransformerMixin): \n",
    "    \n",
    "    def __init__(self): # no *args or *kargs\n",
    "        # By default, the strings will be assigned numbers in increasing alphabetical order\n",
    "        self.embarked_imputer = SimpleImputer(strategy='most_frequent')\n",
    "    def fit(self, X, y=None):\n",
    "        self.embarked_imputer.fit(X[[\"Embarked\"]])\n",
    "        return self # nothing else to do\n",
    "    def transform(self, X):\n",
    "        # Assumes X is a DataFrame\n",
    "        X[[\"Embarked\"]] = self.embarked_imputer.transform(X[[\"Embarked\"]])\n",
    "        #X[\"Embarked\"] = X[\"Embarked\"].astype('category')\n",
    "        return X\n",
    "\n",
    "class EmbarkedEncoderTransformer(BaseEstimator, TransformerMixin): \n",
    "    \n",
    "    def __init__(self): # no *args or *kargs\n",
    "        # By default, the strings will be assigned numbers in increasing alphabetical order\n",
    "        self.embarked_encoder = OrdinalEncoder(dtype=np.int32)\n",
    "    def fit(self, X, y=None):\n",
    "        self.embarked_encoder.fit(X[[\"Embarked\"]])\n",
    "        return self # nothing else to do\n",
    "    def transform(self, X):\n",
    "        # Assumes X is a DataFrame\n",
    "        X[[\"Embarked\"]] = self.embarked_encoder.transform(X[[\"Embarked\"]])\n",
    "        return X\n",
    "    \n",
    "class FareTransformer(BaseEstimator, TransformerMixin): \n",
    "    \n",
    "    def __init__(self): # no *args or *kargs\n",
    "        # By default, the strings will be assigned numbers in increasing alphabetical order\n",
    "        self.fareScaler = StandardScaler()\n",
    "    def fit(self, X, y=None):\n",
    "        X[\"Fare\"] = X[\"Fare\"].fillna(0)\n",
    "        self.fareScaler.fit(X[[\"Fare\"]])\n",
    "        return self # nothing else to do\n",
    "    def transform(self, X):\n",
    "        # Assumes X is a DataFrame\n",
    "        X[\"Fare\"] = X[\"Fare\"].fillna(0)\n",
    "        X[[\"Fare\"]] = self.fareScaler.transform(X[[\"Fare\"]])\n",
    "        #X[\"Fare\"] = X[\"Fare\"].astype(int)\n",
    "        return X\n",
    "    \n",
    "class CategoryTypeTransformer(BaseEstimator, TransformerMixin): \n",
    "    \n",
    "    def __init__(self, columns): # no *args or *kargs\n",
    "        # By default, the strings will be assigned numbers in increasing alphabetical order\n",
    "        self.columns = columns\n",
    "        pass\n",
    "    def fit(self, X, y=None):\n",
    "        return self # nothing else to do\n",
    "    def transform(self, X):\n",
    "        # Assumes X is a DataFrame\n",
    "        X[self.columns] = X[self.columns].astype('category')\n",
    "        return X\n",
    "    \n",
    "class ScalerTransformer(BaseEstimator, TransformerMixin): \n",
    "    \n",
    "    def __init__(self, columns): # no *args or *kargs\n",
    "        # By default, the strings will be assigned numbers in increasing alphabetical order\n",
    "        self.scaler = StandardScaler()\n",
    "        self.columns = columns\n",
    "        pass\n",
    "    def fit(self, X, y=None):\n",
    "        self.scaler.fit(X[self.columns])\n",
    "        return self # nothing else to do\n",
    "    def transform(self, X):\n",
    "        # Assumes X is a DataFrame\n",
    "        X[self.columns] = self.scaler.transform(X[self.columns])\n",
    "        return X\n",
    "\n",
    "#print(title_category_num(\"Mrs\"))  \n",
    "\n",
    "\n",
    "#title_reg.search(\"Mr. Goose\").group(1)"
   ]
  },
  {
   "cell_type": "code",
   "execution_count": 412,
   "metadata": {},
   "outputs": [],
   "source": [
    "from sklearn.model_selection import train_test_split\n",
    "from sklearn.pipeline import make_pipeline\n",
    "from sklearn.linear_model import LogisticRegression\n",
    "\n",
    "\n",
    "cabinT = CabinTransformer()\n",
    "genderT = GenderTranformer()\n",
    "nameT = NameTransformer()\n",
    "ageIST = AgeImputerScalerTransformer()\n",
    "relativesT = RelativesTransformer()\n",
    "embarkedIT = EmbarkedImputerTransformer()\n",
    "embarkedET = EmbarkedEncoderTransformer()\n",
    "fareT = FareTransformer()\n",
    "categoryT = CategoryTypeTransformer(columns=[\"Embarked\", \"Alone\", \"Sex\", \"Title_Cat\"])\n",
    "columnDropT = ColumnDropTranformer(to_drop=[\"PassengerId\", \"Ticket\"])\n",
    "scalerT = ScalerTransformer(columns=[\"Age\"])\n",
    "# train_df_transformed = ct.fit_transform(train_df)\n",
    "\n",
    "preprocess_pipeline = Pipeline([\n",
    "    ('column_drop', columnDropT), \n",
    "    ('cabin_transformer', cabinT), \n",
    "    ('name_transformer', nameT),\n",
    "    ('gender_transformer', genderT),\n",
    "    ('age_transformer', ageIST),\n",
    "    ('relatives_transformer', relativesT),\n",
    "    ('embarked_imputer_transformer', embarkedIT),\n",
    "    ('embarked_encoder_transformer', embarkedET),\n",
    "    ('fare_transformer', fareT),\n",
    "    ('category_transformer', categoryT),\n",
    "])\n"
   ]
  },
  {
   "cell_type": "code",
   "execution_count": 413,
   "metadata": {},
   "outputs": [],
   "source": [
    "gender_sub_df, train_df, test_df = load_titanic_dateset(titanic_path=data_path)\n",
    "\n",
    "#train_target =  train_df.survived.values\n",
    "#features = titanic[['pclass', 'sex', 'age', 'fare', 'embarked']].copy()\n",
    "\n",
    "train_df_data = train_df.drop(\"Survived\", axis=1).copy()\n",
    "train_df_labels = train_df[[\"Survived\"]].copy()\n",
    "\n",
    "test_df_data = test_df.copy()\n",
    "\n",
    "#test_df_labels = test_df[\"Survived\"].copy()\n",
    "\n",
    "\n",
    "#model = make_pipeline(preprocess_pipeline, verbose=True)\n",
    "\n",
    "X_train_transformed = preprocess_pipeline.fit_transform(train_df_data)\n",
    "X_test_transformed = preprocess_pipeline.transform(test_df_data)\n",
    "\n",
    "#X_train, X_val, y_train, y_val = train_test_split(train_df_data, train_df_labels, random_state=0)\n",
    "\n",
    "#print(\"logistic regression score: %f\" % model.score(X_test, y_test))\n",
    "\n",
    "#lr =  LogisticRegression(max_iter=10**4)\n",
    "\n",
    "#lr.fit(X_train_transformed, y_train)\n",
    "#print(\"logistic regression score: %f\" % lr.score(X_val_transformed, y_val))\n",
    "\n",
    "#gs = GridSearchCV(ml_pipe, param_grid, cv=kf)\n",
    "#gs.fit(train, y)\n",
    "#gs.best_params_\n",
    "\n"
   ]
  },
  {
   "cell_type": "code",
   "execution_count": 414,
   "metadata": {},
   "outputs": [
    {
     "data": {
      "text/html": [
       "<div>\n",
       "<style scoped>\n",
       "    .dataframe tbody tr th:only-of-type {\n",
       "        vertical-align: middle;\n",
       "    }\n",
       "\n",
       "    .dataframe tbody tr th {\n",
       "        vertical-align: top;\n",
       "    }\n",
       "\n",
       "    .dataframe thead th {\n",
       "        text-align: right;\n",
       "    }\n",
       "</style>\n",
       "<table border=\"1\" class=\"dataframe\">\n",
       "  <thead>\n",
       "    <tr style=\"text-align: right;\">\n",
       "      <th></th>\n",
       "      <th>Pclass</th>\n",
       "      <th>Sex</th>\n",
       "      <th>Age</th>\n",
       "      <th>Fare</th>\n",
       "      <th>Embarked</th>\n",
       "      <th>Deck</th>\n",
       "      <th>Title_Cat</th>\n",
       "      <th>Relatives</th>\n",
       "      <th>Alone</th>\n",
       "    </tr>\n",
       "  </thead>\n",
       "  <tbody>\n",
       "    <tr>\n",
       "      <th>0</th>\n",
       "      <td>3</td>\n",
       "      <td>1</td>\n",
       "      <td>-0.530377</td>\n",
       "      <td>-0.502445</td>\n",
       "      <td>2</td>\n",
       "      <td>0</td>\n",
       "      <td>1</td>\n",
       "      <td>1</td>\n",
       "      <td>0</td>\n",
       "    </tr>\n",
       "    <tr>\n",
       "      <th>1</th>\n",
       "      <td>1</td>\n",
       "      <td>0</td>\n",
       "      <td>0.571831</td>\n",
       "      <td>0.786845</td>\n",
       "      <td>0</td>\n",
       "      <td>3</td>\n",
       "      <td>3</td>\n",
       "      <td>1</td>\n",
       "      <td>0</td>\n",
       "    </tr>\n",
       "    <tr>\n",
       "      <th>2</th>\n",
       "      <td>3</td>\n",
       "      <td>0</td>\n",
       "      <td>-0.254825</td>\n",
       "      <td>-0.488854</td>\n",
       "      <td>2</td>\n",
       "      <td>0</td>\n",
       "      <td>2</td>\n",
       "      <td>0</td>\n",
       "      <td>1</td>\n",
       "    </tr>\n",
       "    <tr>\n",
       "      <th>3</th>\n",
       "      <td>1</td>\n",
       "      <td>0</td>\n",
       "      <td>0.365167</td>\n",
       "      <td>0.420730</td>\n",
       "      <td>2</td>\n",
       "      <td>3</td>\n",
       "      <td>3</td>\n",
       "      <td>1</td>\n",
       "      <td>0</td>\n",
       "    </tr>\n",
       "    <tr>\n",
       "      <th>4</th>\n",
       "      <td>3</td>\n",
       "      <td>1</td>\n",
       "      <td>0.365167</td>\n",
       "      <td>-0.486337</td>\n",
       "      <td>2</td>\n",
       "      <td>0</td>\n",
       "      <td>1</td>\n",
       "      <td>0</td>\n",
       "      <td>1</td>\n",
       "    </tr>\n",
       "    <tr>\n",
       "      <th>...</th>\n",
       "      <td>...</td>\n",
       "      <td>...</td>\n",
       "      <td>...</td>\n",
       "      <td>...</td>\n",
       "      <td>...</td>\n",
       "      <td>...</td>\n",
       "      <td>...</td>\n",
       "      <td>...</td>\n",
       "      <td>...</td>\n",
       "    </tr>\n",
       "    <tr>\n",
       "      <th>886</th>\n",
       "      <td>2</td>\n",
       "      <td>1</td>\n",
       "      <td>-0.185937</td>\n",
       "      <td>-0.386671</td>\n",
       "      <td>2</td>\n",
       "      <td>0</td>\n",
       "      <td>5</td>\n",
       "      <td>0</td>\n",
       "      <td>1</td>\n",
       "    </tr>\n",
       "    <tr>\n",
       "      <th>887</th>\n",
       "      <td>1</td>\n",
       "      <td>0</td>\n",
       "      <td>-0.737041</td>\n",
       "      <td>-0.044381</td>\n",
       "      <td>2</td>\n",
       "      <td>2</td>\n",
       "      <td>2</td>\n",
       "      <td>0</td>\n",
       "      <td>1</td>\n",
       "    </tr>\n",
       "    <tr>\n",
       "      <th>888</th>\n",
       "      <td>3</td>\n",
       "      <td>0</td>\n",
       "      <td>0.000000</td>\n",
       "      <td>-0.176263</td>\n",
       "      <td>2</td>\n",
       "      <td>0</td>\n",
       "      <td>2</td>\n",
       "      <td>3</td>\n",
       "      <td>0</td>\n",
       "    </tr>\n",
       "    <tr>\n",
       "      <th>889</th>\n",
       "      <td>1</td>\n",
       "      <td>1</td>\n",
       "      <td>-0.254825</td>\n",
       "      <td>-0.044381</td>\n",
       "      <td>0</td>\n",
       "      <td>3</td>\n",
       "      <td>1</td>\n",
       "      <td>0</td>\n",
       "      <td>1</td>\n",
       "    </tr>\n",
       "    <tr>\n",
       "      <th>890</th>\n",
       "      <td>3</td>\n",
       "      <td>1</td>\n",
       "      <td>0.158503</td>\n",
       "      <td>-0.492378</td>\n",
       "      <td>1</td>\n",
       "      <td>0</td>\n",
       "      <td>1</td>\n",
       "      <td>0</td>\n",
       "      <td>1</td>\n",
       "    </tr>\n",
       "  </tbody>\n",
       "</table>\n",
       "<p>891 rows × 9 columns</p>\n",
       "</div>"
      ],
      "text/plain": [
       "     Pclass Sex       Age      Fare Embarked  Deck Title_Cat  Relatives Alone\n",
       "0         3   1 -0.530377 -0.502445        2     0         1          1     0\n",
       "1         1   0  0.571831  0.786845        0     3         3          1     0\n",
       "2         3   0 -0.254825 -0.488854        2     0         2          0     1\n",
       "3         1   0  0.365167  0.420730        2     3         3          1     0\n",
       "4         3   1  0.365167 -0.486337        2     0         1          0     1\n",
       "..      ...  ..       ...       ...      ...   ...       ...        ...   ...\n",
       "886       2   1 -0.185937 -0.386671        2     0         5          0     1\n",
       "887       1   0 -0.737041 -0.044381        2     2         2          0     1\n",
       "888       3   0  0.000000 -0.176263        2     0         2          3     0\n",
       "889       1   1 -0.254825 -0.044381        0     3         1          0     1\n",
       "890       3   1  0.158503 -0.492378        1     0         1          0     1\n",
       "\n",
       "[891 rows x 9 columns]"
      ]
     },
     "execution_count": 414,
     "metadata": {},
     "output_type": "execute_result"
    }
   ],
   "source": [
    "X_train_transformed\n",
    "#X_train_transformed[\"Title\"].value_counts()\n",
    "#X_train_transformed[\"Title_Cat\"].value_counts()\n",
    "#train_df[\"Name\"].value_counts()\n",
    "#X_train_transformed[\"Embarked\"].value_counts()\n",
    "#train_df_data[\"Embarked\"]\n",
    "#X_train_transformed[\"Embarked\"].isnull().sum()"
   ]
  },
  {
   "cell_type": "code",
   "execution_count": 12,
   "metadata": {},
   "outputs": [
    {
     "name": "stdout",
     "output_type": "stream",
     "text": [
      "KNeighborsClassifier(algorithm='auto', leaf_size=30, metric='minkowski',\n",
      "                     metric_params=None, n_jobs=None, n_neighbors=3, p=2,\n",
      "                     weights='uniform')\n",
      "model score: 0.695\n",
      "SVC(C=0.025, break_ties=False, cache_size=200, class_weight=None, coef0=0.0,\n",
      "    decision_function_shape='ovr', degree=3, gamma='scale', kernel='rbf',\n",
      "    max_iter=-1, probability=True, random_state=None, shrinking=True, tol=0.001,\n",
      "    verbose=False)\n",
      "model score: 0.628\n",
      "NuSVC(break_ties=False, cache_size=200, class_weight=None, coef0=0.0,\n",
      "      decision_function_shape='ovr', degree=3, gamma='scale', kernel='rbf',\n",
      "      max_iter=-1, nu=0.5, probability=True, random_state=None, shrinking=True,\n",
      "      tol=0.001, verbose=False)\n",
      "model score: 0.789\n",
      "DecisionTreeClassifier(ccp_alpha=0.0, class_weight=None, criterion='gini',\n",
      "                       max_depth=None, max_features=None, max_leaf_nodes=None,\n",
      "                       min_impurity_decrease=0.0, min_impurity_split=None,\n",
      "                       min_samples_leaf=1, min_samples_split=2,\n",
      "                       min_weight_fraction_leaf=0.0, presort='deprecated',\n",
      "                       random_state=None, splitter='best')\n",
      "model score: 0.803\n",
      "RandomForestClassifier(bootstrap=True, ccp_alpha=0.0, class_weight=None,\n",
      "                       criterion='gini', max_depth=None, max_features='auto',\n",
      "                       max_leaf_nodes=None, max_samples=None,\n",
      "                       min_impurity_decrease=0.0, min_impurity_split=None,\n",
      "                       min_samples_leaf=1, min_samples_split=2,\n",
      "                       min_weight_fraction_leaf=0.0, n_estimators=100,\n",
      "                       n_jobs=None, oob_score=False, random_state=None,\n",
      "                       verbose=0, warm_start=False)\n",
      "model score: 0.830\n",
      "AdaBoostClassifier(algorithm='SAMME.R', base_estimator=None, learning_rate=1.0,\n",
      "                   n_estimators=50, random_state=None)\n",
      "model score: 0.803\n",
      "GradientBoostingClassifier(ccp_alpha=0.0, criterion='friedman_mse', init=None,\n",
      "                           learning_rate=0.1, loss='deviance', max_depth=3,\n",
      "                           max_features=None, max_leaf_nodes=None,\n",
      "                           min_impurity_decrease=0.0, min_impurity_split=None,\n",
      "                           min_samples_leaf=1, min_samples_split=2,\n",
      "                           min_weight_fraction_leaf=0.0, n_estimators=100,\n",
      "                           n_iter_no_change=None, presort='deprecated',\n",
      "                           random_state=None, subsample=1.0, tol=0.0001,\n",
      "                           validation_fraction=0.1, verbose=0,\n",
      "                           warm_start=False)\n",
      "model score: 0.848\n"
     ]
    }
   ],
   "source": [
    "from sklearn.metrics import accuracy_score, log_loss\n",
    "from sklearn.neighbors import KNeighborsClassifier\n",
    "from sklearn.svm import SVC, LinearSVC, NuSVC\n",
    "from sklearn.tree import DecisionTreeClassifier\n",
    "from sklearn.ensemble import RandomForestClassifier, AdaBoostClassifier, GradientBoostingClassifier\n",
    "from sklearn.discriminant_analysis import LinearDiscriminantAnalysis\n",
    "from sklearn.discriminant_analysis import QuadraticDiscriminantAnalysis\n",
    "\n",
    "\n",
    "classifiers = [\n",
    "    KNeighborsClassifier(3),\n",
    "    SVC(kernel=\"rbf\", C=0.025, probability=True),\n",
    "    NuSVC(probability=True),\n",
    "    DecisionTreeClassifier(),\n",
    "    RandomForestClassifier(),\n",
    "    AdaBoostClassifier(),\n",
    "    GradientBoostingClassifier()\n",
    "    ]\n",
    "\n",
    "\n",
    "for classifier in classifiers:\n",
    "    #pipe = Pipeline(steps=[('preprocessor', preprocessor),\n",
    "    #                  ('classifier', classifier)])\n",
    "    \n",
    "    classifier.fit(X_train_transformed, y_train)\n",
    "    \n",
    "    print(classifier)\n",
    "    print(\"model score: %.3f\" % classifier.score(X_val_transformed, y_val))\n"
   ]
  },
  {
   "cell_type": "code",
   "execution_count": 36,
   "metadata": {},
   "outputs": [
    {
     "name": "stdout",
     "output_type": "stream",
     "text": [
      "[0.82681564 0.8258427  0.74719101 0.80898876 0.80898876] 0.8035653756826313 0.02923610501797776\n"
     ]
    }
   ],
   "source": [
    "from sklearn.model_selection import KFold, cross_val_score\n",
    "\n",
    "kf = KFold(n_splits=5, shuffle=True, random_state=123)\n",
    "rfc = RandomForestClassifier()\n",
    "\n",
    "cvs = cross_val_score(rfc, X_train_transformed, train_df_labels, cv=kf)\n",
    "print(cvs, cvs.mean(), cvs.std())"
   ]
  },
  {
   "cell_type": "code",
   "execution_count": null,
   "metadata": {},
   "outputs": [],
   "source": [
    "from sklearn.model_selection import GridSearchCV\n",
    "knn_clf = KNeighborsClassifier()\n",
    "params = {\n",
    "        'n_neighbors': [3, 5, 7, 9, 11] # usually odd numbers\n",
    "    }\n",
    "\n",
    "grid_clf = GridSearchCV(estimator=knn_clf, \n",
    "                   param_grid=params, cv=5, return_train_score=True) # Turn on cv train scores\n",
    "\n",
    "grid_clf.fit(X_train_transformed, train_df_labels)\n",
    "\n",
    "#print(grid_clf.best_params_, grid_clf.best_estimator_, grid_clf.\n",
    "pd.DataFrame(grid_clf.cv_results_)[[\"rank_test_score\", \"params\", \"mean_test_score\"]]\\\n",
    "    .sort_values(by=\"rank_test_score\").head(5)\n",
    "#pd.DataFrame(grid_clf.cv_results_)\n"
   ]
  },
  {
   "cell_type": "code",
   "execution_count": 96,
   "metadata": {},
   "outputs": [
    {
     "name": "stdout",
     "output_type": "stream",
     "text": [
      "Fitting 5 folds for each of 16 candidates, totalling 80 fits\n"
     ]
    },
    {
     "name": "stderr",
     "output_type": "stream",
     "text": [
      "[Parallel(n_jobs=1)]: Using backend SequentialBackend with 1 concurrent workers.\n",
      "[Parallel(n_jobs=1)]: Done  80 out of  80 | elapsed:   33.2s finished\n"
     ]
    },
    {
     "data": {
      "text/html": [
       "<div>\n",
       "<style scoped>\n",
       "    .dataframe tbody tr th:only-of-type {\n",
       "        vertical-align: middle;\n",
       "    }\n",
       "\n",
       "    .dataframe tbody tr th {\n",
       "        vertical-align: top;\n",
       "    }\n",
       "\n",
       "    .dataframe thead th {\n",
       "        text-align: right;\n",
       "    }\n",
       "</style>\n",
       "<table border=\"1\" class=\"dataframe\">\n",
       "  <thead>\n",
       "    <tr style=\"text-align: right;\">\n",
       "      <th></th>\n",
       "      <th>rank_test_score</th>\n",
       "      <th>params</th>\n",
       "      <th>mean_test_score</th>\n",
       "      <th>mean_train_score</th>\n",
       "    </tr>\n",
       "  </thead>\n",
       "  <tbody>\n",
       "    <tr>\n",
       "      <th>12</th>\n",
       "      <td>1</td>\n",
       "      <td>{'criterion': 'entropy', 'max_depth': 5, 'max_...</td>\n",
       "      <td>0.819365</td>\n",
       "      <td>0.862514</td>\n",
       "    </tr>\n",
       "    <tr>\n",
       "      <th>4</th>\n",
       "      <td>2</td>\n",
       "      <td>{'criterion': 'gini', 'max_depth': 5, 'max_fea...</td>\n",
       "      <td>0.817124</td>\n",
       "      <td>0.864198</td>\n",
       "    </tr>\n",
       "    <tr>\n",
       "      <th>7</th>\n",
       "      <td>3</td>\n",
       "      <td>{'criterion': 'gini', 'max_depth': 5, 'max_fea...</td>\n",
       "      <td>0.813759</td>\n",
       "      <td>0.867004</td>\n",
       "    </tr>\n",
       "    <tr>\n",
       "      <th>5</th>\n",
       "      <td>4</td>\n",
       "      <td>{'criterion': 'gini', 'max_depth': 5, 'max_fea...</td>\n",
       "      <td>0.813753</td>\n",
       "      <td>0.865321</td>\n",
       "    </tr>\n",
       "    <tr>\n",
       "      <th>0</th>\n",
       "      <td>5</td>\n",
       "      <td>{'criterion': 'gini', 'max_depth': 4, 'max_fea...</td>\n",
       "      <td>0.811525</td>\n",
       "      <td>0.843713</td>\n",
       "    </tr>\n",
       "    <tr>\n",
       "      <th>6</th>\n",
       "      <td>6</td>\n",
       "      <td>{'criterion': 'gini', 'max_depth': 5, 'max_fea...</td>\n",
       "      <td>0.811506</td>\n",
       "      <td>0.863079</td>\n",
       "    </tr>\n",
       "    <tr>\n",
       "      <th>3</th>\n",
       "      <td>7</td>\n",
       "      <td>{'criterion': 'gini', 'max_depth': 4, 'max_fea...</td>\n",
       "      <td>0.810407</td>\n",
       "      <td>0.847080</td>\n",
       "    </tr>\n",
       "    <tr>\n",
       "      <th>15</th>\n",
       "      <td>8</td>\n",
       "      <td>{'criterion': 'entropy', 'max_depth': 5, 'max_...</td>\n",
       "      <td>0.810389</td>\n",
       "      <td>0.863075</td>\n",
       "    </tr>\n",
       "    <tr>\n",
       "      <th>1</th>\n",
       "      <td>9</td>\n",
       "      <td>{'criterion': 'gini', 'max_depth': 4, 'max_fea...</td>\n",
       "      <td>0.809296</td>\n",
       "      <td>0.843994</td>\n",
       "    </tr>\n",
       "    <tr>\n",
       "      <th>9</th>\n",
       "      <td>10</td>\n",
       "      <td>{'criterion': 'entropy', 'max_depth': 4, 'max_...</td>\n",
       "      <td>0.809278</td>\n",
       "      <td>0.840907</td>\n",
       "    </tr>\n",
       "  </tbody>\n",
       "</table>\n",
       "</div>"
      ],
      "text/plain": [
       "    rank_test_score                                             params  \\\n",
       "12                1  {'criterion': 'entropy', 'max_depth': 5, 'max_...   \n",
       "4                 2  {'criterion': 'gini', 'max_depth': 5, 'max_fea...   \n",
       "7                 3  {'criterion': 'gini', 'max_depth': 5, 'max_fea...   \n",
       "5                 4  {'criterion': 'gini', 'max_depth': 5, 'max_fea...   \n",
       "0                 5  {'criterion': 'gini', 'max_depth': 4, 'max_fea...   \n",
       "6                 6  {'criterion': 'gini', 'max_depth': 5, 'max_fea...   \n",
       "3                 7  {'criterion': 'gini', 'max_depth': 4, 'max_fea...   \n",
       "15                8  {'criterion': 'entropy', 'max_depth': 5, 'max_...   \n",
       "1                 9  {'criterion': 'gini', 'max_depth': 4, 'max_fea...   \n",
       "9                10  {'criterion': 'entropy', 'max_depth': 4, 'max_...   \n",
       "\n",
       "    mean_test_score  mean_train_score  \n",
       "12         0.819365          0.862514  \n",
       "4          0.817124          0.864198  \n",
       "7          0.813759          0.867004  \n",
       "5          0.813753          0.865321  \n",
       "0          0.811525          0.843713  \n",
       "6          0.811506          0.863079  \n",
       "3          0.810407          0.847080  \n",
       "15         0.810389          0.863075  \n",
       "1          0.809296          0.843994  \n",
       "9          0.809278          0.840907  "
      ]
     },
     "execution_count": 96,
     "metadata": {},
     "output_type": "execute_result"
    }
   ],
   "source": [
    "param_grid = { \n",
    "    'n_estimators': [200, 500],\n",
    "    'max_features': ['auto', 'sqrt'],\n",
    "    'max_depth' : [4,5],\n",
    "    'criterion' :['gini', 'entropy']\n",
    "}\n",
    "\n",
    "rf_clf = RandomForestClassifier()\n",
    "\n",
    "grid_clf = GridSearchCV(estimator=rf_clf, \n",
    "                   param_grid=param_grid, cv=5, return_train_score=True, verbose=1) # Turn on cv train scores\n",
    "\n",
    "grid_clf.fit(X_train_transformed, train_df_labels)\n",
    "\n",
    "#print(grid_clf.best_params_, grid_clf.best_estimator_, grid_clf.\n",
    "pd.DataFrame(grid_clf.cv_results_)[[\"rank_test_score\", \"params\", \"mean_test_score\", \"mean_train_score\"]]\\\n",
    "    .sort_values(by=\"rank_test_score\").head(10)"
   ]
  },
  {
   "cell_type": "code",
   "execution_count": 415,
   "metadata": {},
   "outputs": [
    {
     "name": "stdout",
     "output_type": "stream",
     "text": [
      "Fitting 5 folds for each of 90 candidates, totalling 450 fits\n"
     ]
    },
    {
     "name": "stderr",
     "output_type": "stream",
     "text": [
      "[Parallel(n_jobs=-2)]: Using backend LokyBackend with 7 concurrent workers.\n",
      "[Parallel(n_jobs=-2)]: Done  36 tasks      | elapsed:    8.2s\n",
      "[Parallel(n_jobs=-2)]: Done 186 tasks      | elapsed:   34.2s\n",
      "[Parallel(n_jobs=-2)]: Done 436 tasks      | elapsed:  1.3min\n",
      "[Parallel(n_jobs=-2)]: Done 450 out of 450 | elapsed:  1.4min finished\n",
      "c:\\Users\\michal\\Anaconda3\\envs\\ML\\lib\\site-packages\\sklearn\\model_selection\\_search.py:739: DataConversionWarning: A column-vector y was passed when a 1d array was expected. Please change the shape of y to (n_samples,), for example using ravel().\n",
      "  self.best_estimator_.fit(X, y, **fit_params)\n"
     ]
    },
    {
     "name": "stdout",
     "output_type": "stream",
     "text": [
      "Fitting 5 folds for each of 9 candidates, totalling 45 fits\n"
     ]
    },
    {
     "name": "stderr",
     "output_type": "stream",
     "text": [
      "[Parallel(n_jobs=-2)]: Using backend LokyBackend with 7 concurrent workers.\n",
      "[Parallel(n_jobs=-2)]: Done  45 out of  45 | elapsed:    1.3s finished\n",
      "c:\\Users\\michal\\Anaconda3\\envs\\ML\\lib\\site-packages\\sklearn\\utils\\validation.py:760: DataConversionWarning: A column-vector y was passed when a 1d array was expected. Please change the shape of y to (n_samples, ), for example using ravel().\n",
      "  y = column_or_1d(y, warn=True)\n",
      "[Parallel(n_jobs=-2)]: Using backend LokyBackend with 7 concurrent workers.\n"
     ]
    },
    {
     "name": "stdout",
     "output_type": "stream",
     "text": [
      "Fitting 5 folds for each of 800 candidates, totalling 4000 fits\n"
     ]
    },
    {
     "name": "stderr",
     "output_type": "stream",
     "text": [
      "[Parallel(n_jobs=-2)]: Done 366 tasks      | elapsed:    0.7s\n",
      "[Parallel(n_jobs=-2)]: Done 4000 out of 4000 | elapsed:    6.2s finished\n",
      "[Parallel(n_jobs=-2)]: Using backend LokyBackend with 7 concurrent workers.\n"
     ]
    },
    {
     "name": "stdout",
     "output_type": "stream",
     "text": [
      "Fitting 5 folds for each of 3000 candidates, totalling 15000 fits\n"
     ]
    },
    {
     "name": "stderr",
     "output_type": "stream",
     "text": [
      "[Parallel(n_jobs=-2)]: Done 278 tasks      | elapsed:    1.6s\n",
      "[Parallel(n_jobs=-2)]: Done 2078 tasks      | elapsed:   12.9s\n",
      "[Parallel(n_jobs=-2)]: Done 5078 tasks      | elapsed:   30.0s\n",
      "[Parallel(n_jobs=-2)]: Done 9278 tasks      | elapsed:   53.3s\n",
      "[Parallel(n_jobs=-2)]: Done 14678 tasks      | elapsed:  1.4min\n",
      "[Parallel(n_jobs=-2)]: Done 15000 out of 15000 | elapsed:  1.4min finished\n",
      "c:\\Users\\michal\\Anaconda3\\envs\\ML\\lib\\site-packages\\sklearn\\ensemble\\_gb.py:1454: DataConversionWarning: A column-vector y was passed when a 1d array was expected. Please change the shape of y to (n_samples, ), for example using ravel().\n",
      "  y = column_or_1d(y, warn=True)\n"
     ]
    }
   ],
   "source": [
    "from sklearn.model_selection import GridSearchCV\n",
    "from sklearn.model_selection import RandomizedSearchCV\n",
    "\n",
    "from collections import namedtuple\n",
    "\n",
    "Classifier_Params = namedtuple('Classifier_Params', 'classifier param_grid')\n",
    "\n",
    "parameters_grid_to_search = []\n",
    "\n",
    "\n",
    "rfc_params = Classifier_Params(classifier=RandomForestClassifier(), \n",
    "                                param_grid = { 'n_estimators': [200, 500], \n",
    "                             'max_features': ['auto', 'sqrt', 'log2'],\n",
    "                                'max_depth' : [4,5,6,7,8,9, 10],\n",
    "                            'criterion' :['gini', 'entropy']\n",
    "                        }\n",
    "    )\n",
    "\n",
    "rfc_params2 = Classifier_Params(classifier=RandomForestClassifier(), \n",
    "                                param_grid = { 'n_estimators': [100, 200], \n",
    "                             'max_features': ['auto', 'sqrt', 'log2'],\n",
    "                                'max_depth' : [8,9],\n",
    "                            'criterion' :['gini', 'entropy']\n",
    "                        }\n",
    "    )\n",
    "                               \n",
    "svc_params = Classifier_Params(classifier=SVC(), \n",
    "                                param_grid = [\n",
    "  {'C': [0.3, 1, 3, 10], 'kernel': ['linear']},\n",
    "  {'C': [0.3, 1, 3, 10, 100], 'gamma': [0.001, 0.003, 0.0001], 'kernel': ['rbf']},\n",
    "]\n",
    "    )\n",
    "\n",
    "adaboost_params = Classifier_Params(classifier=AdaBoostClassifier(), \n",
    "    param_grid = {'learning_rate': [0.1, 0.3, 1.0], 'n_estimators' : [30, 50, 100] } \n",
    "    )\n",
    "\n",
    "decisiontree_params = Classifier_Params(classifier=DecisionTreeClassifier(), \n",
    "    param_grid = {'criterion':['gini','entropy'],\n",
    "                  'min_samples_split' : range(10,500,20),\n",
    "                  'max_depth':[6,7,8,9,10,11,12,15,20,30,40,50,70,90,120,150] \n",
    "                 } \n",
    "    )\n",
    "\n",
    "gradient_boosting_parameters =  Classifier_Params(classifier=GradientBoostingClassifier(),\n",
    "    param_grid = {\n",
    "    \"loss\":[\"deviance\"],\n",
    "    \"learning_rate\": [0.01, 0.025, 0.05, 0.075, 0.1, 0.15, 0.2],\n",
    "    \"min_samples_split\": np.linspace(0.1, 0.5, 12),\n",
    "    \"min_samples_leaf\": np.linspace(0.1, 0.5, 12),\n",
    "    \"max_depth\":[3,5,8,11,13],\n",
    "    \"max_features\":[\"log2\",\"sqrt\"],\n",
    "    \"criterion\": [\"friedman_mse\",  \"mae\"],\n",
    "    \"subsample\":[0.5, 0.618, 0.8, 0.85, 0.9, 0.95, 1.0],\n",
    "    \"n_estimators\":[20]\n",
    "                }\n",
    "    )\n",
    "#parameters_grid_to_search = [svc_params]\n",
    "#parameters_random_to_search = []\n",
    "\n",
    "parameters_grid_to_search = [\n",
    "    #svc_params, \n",
    "    rfc_params2, \n",
    "    adaboost_params, \n",
    "    decisiontree_params]\n",
    "parameters_random_to_search = [gradient_boosting_parameters]\n",
    "\n",
    "results = []\n",
    "best_estimators = []\n",
    "\n",
    "for params in parameters_grid_to_search:\n",
    "    grid_clf = GridSearchCV(estimator=params.classifier, \n",
    "                   param_grid=params.param_grid, cv=5, return_train_score=False, verbose=1, n_jobs=-2) # Turn on cv train scores\n",
    "    \n",
    "    grid_clf.fit(X_train_transformed, train_df_labels)\n",
    "\n",
    "    df = pd.DataFrame(grid_clf.cv_results_)[[\"rank_test_score\", \"params\", \"mean_test_score\"]]\\\n",
    "    .sort_values(by=\"mean_test_score\", ascending=False).head(5)\n",
    "    df['estimator_name'] = grid_clf.estimator.__class__.__name__\n",
    "    results.append((grid_clf, df))\n",
    "    best_estimators.append((grid_clf.best_estimator_, df.head(1)))\n",
    "\n",
    "for params in parameters_random_to_search:\n",
    "    random_clf = RandomizedSearchCV(estimator=params.classifier, \n",
    "                   param_distributions=params.param_grid, cv=5, return_train_score=False, verbose=1, n_jobs=-2, n_iter=3000) # Turn on cv train scores\n",
    "    \n",
    "    random_clf.fit(X_train_transformed, train_df_labels)\n",
    "\n",
    "    df = pd.DataFrame(random_clf.cv_results_)[[\"rank_test_score\", \"params\", \"mean_test_score\"]]\\\n",
    "    .sort_values(by=\"mean_test_score\", ascending=False).head(5)\n",
    "    df['estimator_name'] = random_clf.estimator.__class__.__name__\n",
    "    results.append((random_clf, df))\n",
    "    best_estimators.append((random_clf.best_estimator_, df.head(1)))\n"
   ]
  },
  {
   "cell_type": "code",
   "execution_count": 420,
   "metadata": {},
   "outputs": [
    {
     "name": "stderr",
     "output_type": "stream",
     "text": [
      "c:\\Users\\michal\\Anaconda3\\envs\\ML\\lib\\site-packages\\ipykernel_launcher.py:1: FutureWarning: `item` has been deprecated and will be removed in a future version\n",
      "  \"\"\"Entry point for launching an IPython kernel.\n"
     ]
    }
   ],
   "source": [
    "best_estimators_sorted = sorted(best_estimators, key=lambda est: est[1][\"mean_test_score\"].item(), reverse=True)\n",
    "#for est in best_estimators:\n",
    "#    print(est[1][\"mean_test_score\"].item())\n",
    "\n",
    "#best_estimators[0][1][\"mean_test_score\"]\n",
    "top_estimator = best_estimators_sorted[0][0]\n",
    "\n"
   ]
  },
  {
   "cell_type": "code",
   "execution_count": 421,
   "metadata": {},
   "outputs": [
    {
     "data": {
      "text/html": [
       "<table border=\"1\" class=\"dataframe\">\n",
       "  <thead>\n",
       "    <tr style=\"text-align: right;\">\n",
       "      <th></th>\n",
       "      <th>rank_test_score</th>\n",
       "      <th>params</th>\n",
       "      <th>mean_test_score</th>\n",
       "      <th>estimator_name</th>\n",
       "    </tr>\n",
       "  </thead>\n",
       "  <tbody>\n",
       "    <tr>\n",
       "      <th>0</th>\n",
       "      <td>1</td>\n",
       "      <td>{'criterion': 'entropy', 'max_depth': 10, 'max_features': 'sqrt', 'n_estimators': 800}</td>\n",
       "      <td>0.837261</td>\n",
       "      <td>RandomForestClassifier</td>\n",
       "    </tr>\n",
       "    <tr>\n",
       "      <th>1</th>\n",
       "      <td>2</td>\n",
       "      <td>{'criterion': 'entropy', 'max_depth': 10, 'max_features': 'sqrt', 'n_estimators': 500}</td>\n",
       "      <td>0.837254</td>\n",
       "      <td>RandomForestClassifier</td>\n",
       "    </tr>\n",
       "    <tr>\n",
       "      <th>2</th>\n",
       "      <td>3</td>\n",
       "      <td>{'criterion': 'entropy', 'max_depth': 9, 'max_features': 'sqrt', 'n_estimators': 500}</td>\n",
       "      <td>0.836131</td>\n",
       "      <td>RandomForestClassifier</td>\n",
       "    </tr>\n",
       "    <tr>\n",
       "      <th>3</th>\n",
       "      <td>4</td>\n",
       "      <td>{'criterion': 'gini', 'max_depth': 9, 'max_features': 'auto', 'n_estimators': 800}</td>\n",
       "      <td>0.836125</td>\n",
       "      <td>RandomForestClassifier</td>\n",
       "    </tr>\n",
       "    <tr>\n",
       "      <th>4</th>\n",
       "      <td>5</td>\n",
       "      <td>{'criterion': 'entropy', 'max_depth': 10, 'max_features': 'log2', 'n_estimators': 800}</td>\n",
       "      <td>0.835013</td>\n",
       "      <td>RandomForestClassifier</td>\n",
       "    </tr>\n",
       "    <tr>\n",
       "      <th>5</th>\n",
       "      <td>1</td>\n",
       "      <td>{'criterion': 'gini', 'max_depth': 120, 'min_samples_split': 30}</td>\n",
       "      <td>0.826031</td>\n",
       "      <td>DecisionTreeClassifier</td>\n",
       "    </tr>\n",
       "    <tr>\n",
       "      <th>6</th>\n",
       "      <td>1</td>\n",
       "      <td>{'criterion': 'gini', 'max_depth': 15, 'min_samples_split': 30}</td>\n",
       "      <td>0.826031</td>\n",
       "      <td>DecisionTreeClassifier</td>\n",
       "    </tr>\n",
       "    <tr>\n",
       "      <th>7</th>\n",
       "      <td>1</td>\n",
       "      <td>{'criterion': 'gini', 'max_depth': 70, 'min_samples_split': 30}</td>\n",
       "      <td>0.826031</td>\n",
       "      <td>DecisionTreeClassifier</td>\n",
       "    </tr>\n",
       "    <tr>\n",
       "      <th>8</th>\n",
       "      <td>4</td>\n",
       "      <td>{'criterion': 'entropy', 'max_depth': 30, 'min_samples_split': 110}</td>\n",
       "      <td>0.826018</td>\n",
       "      <td>DecisionTreeClassifier</td>\n",
       "    </tr>\n",
       "    <tr>\n",
       "      <th>9</th>\n",
       "      <td>4</td>\n",
       "      <td>{'criterion': 'entropy', 'max_depth': 8, 'min_samples_split': 110}</td>\n",
       "      <td>0.826018</td>\n",
       "      <td>DecisionTreeClassifier</td>\n",
       "    </tr>\n",
       "    <tr>\n",
       "      <th>10</th>\n",
       "      <td>1</td>\n",
       "      <td>{'learning_rate': 0.3, 'n_estimators': 100}</td>\n",
       "      <td>0.818204</td>\n",
       "      <td>AdaBoostClassifier</td>\n",
       "    </tr>\n",
       "    <tr>\n",
       "      <th>11</th>\n",
       "      <td>2</td>\n",
       "      <td>{'learning_rate': 0.3, 'n_estimators': 50}</td>\n",
       "      <td>0.818191</td>\n",
       "      <td>AdaBoostClassifier</td>\n",
       "    </tr>\n",
       "    <tr>\n",
       "      <th>12</th>\n",
       "      <td>3</td>\n",
       "      <td>{'learning_rate': 1.0, 'n_estimators': 50}</td>\n",
       "      <td>0.815969</td>\n",
       "      <td>AdaBoostClassifier</td>\n",
       "    </tr>\n",
       "    <tr>\n",
       "      <th>13</th>\n",
       "      <td>4</td>\n",
       "      <td>{'learning_rate': 0.3, 'n_estimators': 30}</td>\n",
       "      <td>0.815956</td>\n",
       "      <td>AdaBoostClassifier</td>\n",
       "    </tr>\n",
       "    <tr>\n",
       "      <th>14</th>\n",
       "      <td>1</td>\n",
       "      <td>{'subsample': 1.0, 'n_estimators': 20, 'min_samples_split': 0.24545454545454548, 'min_samples_leaf': 0.1, 'max_features': 'log2', 'max_depth': 8, 'loss': 'deviance', 'learning_rate': 0.075, 'criterion': 'friedman_mse'}</td>\n",
       "      <td>0.815944</td>\n",
       "      <td>GradientBoostingClassifier</td>\n",
       "    </tr>\n",
       "    <tr>\n",
       "      <th>15</th>\n",
       "      <td>2</td>\n",
       "      <td>{'subsample': 1.0, 'n_estimators': 20, 'min_samples_split': 0.1, 'min_samples_leaf': 0.1, 'max_features': 'sqrt', 'max_depth': 8, 'loss': 'deviance', 'learning_rate': 0.1, 'criterion': 'friedman_mse'}</td>\n",
       "      <td>0.815937</td>\n",
       "      <td>GradientBoostingClassifier</td>\n",
       "    </tr>\n",
       "    <tr>\n",
       "      <th>16</th>\n",
       "      <td>3</td>\n",
       "      <td>{'subsample': 0.95, 'n_estimators': 20, 'min_samples_split': 0.1, 'min_samples_leaf': 0.1, 'max_features': 'log2', 'max_depth': 11, 'loss': 'deviance', 'learning_rate': 0.075, 'criterion': 'friedman_mse'}</td>\n",
       "      <td>0.815931</td>\n",
       "      <td>GradientBoostingClassifier</td>\n",
       "    </tr>\n",
       "    <tr>\n",
       "      <th>17</th>\n",
       "      <td>5</td>\n",
       "      <td>{'learning_rate': 0.1, 'n_estimators': 50}</td>\n",
       "      <td>0.815912</td>\n",
       "      <td>AdaBoostClassifier</td>\n",
       "    </tr>\n",
       "    <tr>\n",
       "      <th>18</th>\n",
       "      <td>4</td>\n",
       "      <td>{'subsample': 1.0, 'n_estimators': 20, 'min_samples_split': 0.3545454545454546, 'min_samples_leaf': 0.1, 'max_features': 'log2', 'max_depth': 5, 'loss': 'deviance', 'learning_rate': 0.2, 'criterion': 'friedman_mse'}</td>\n",
       "      <td>0.814808</td>\n",
       "      <td>GradientBoostingClassifier</td>\n",
       "    </tr>\n",
       "    <tr>\n",
       "      <th>19</th>\n",
       "      <td>4</td>\n",
       "      <td>{'subsample': 1.0, 'n_estimators': 20, 'min_samples_split': 0.24545454545454548, 'min_samples_leaf': 0.1, 'max_features': 'sqrt', 'max_depth': 8, 'loss': 'deviance', 'learning_rate': 0.2, 'criterion': 'friedman_mse'}</td>\n",
       "      <td>0.814808</td>\n",
       "      <td>GradientBoostingClassifier</td>\n",
       "    </tr>\n",
       "  </tbody>\n",
       "</table>"
      ],
      "text/plain": [
       "<IPython.core.display.HTML object>"
      ]
     },
     "metadata": {},
     "output_type": "display_data"
    },
    {
     "data": {
      "text/plain": [
       "<matplotlib.axes._subplots.AxesSubplot at 0x11d56191408>"
      ]
     },
     "execution_count": 421,
     "metadata": {},
     "output_type": "execute_result"
    },
    {
     "data": {
      "image/png": "[encoded data removed]",
      "text/plain": [
       "<Figure size 432x288 with 1 Axes>"
      ]
     },
     "metadata": {
      "needs_background": "light"
     },
     "output_type": "display_data"
    }
   ],
   "source": [
    "# old best \n",
    "# {'criterion': 'gini', 'max_depth': 9, 'max_features': 'sqrt', 'n_estimators': 200} \t0.831674 \tRandomForestClassifier\n",
    "#end_dataframe = results[0][1].copy()\n",
    "end_dataframe = pd.DataFrame()\n",
    "\n",
    "for grid_clf, df in results:\n",
    "    end_dataframe = end_dataframe.append(df)\n",
    "    \n",
    "end_dataframe_sorted = end_dataframe.sort_values(by=\"mean_test_score\", ascending=False)\n",
    "end_dataframe_sorted = end_dataframe_sorted.reset_index(drop=True)\n",
    "\n",
    "\n",
    "from IPython.core.display import HTML\n",
    "display(HTML(end_dataframe_sorted.to_html()))\n",
    "\n",
    "plt.xlabel('Accuracy')\n",
    "plt.title('Classifier Accuracy')\n",
    "\n",
    "sns.set_color_codes(\"muted\")\n",
    "sns.barplot(x='mean_test_score', y='estimator_name', data=end_dataframe_sorted, color=\"b\")\n",
    "#results[0][0].cv_results_\n",
    "                    \n",
    "#df_test['Btime'].iloc[0]\n",
    "#end_dataframe_sorted.iloc[0]['params']\n",
    "\n",
    "#end_dataframe_sorted[['params']]"
   ]
  },
  {
   "cell_type": "code",
   "execution_count": 422,
   "metadata": {},
   "outputs": [
    {
     "data": {
      "text/plain": [
       "<matplotlib.axes._subplots.AxesSubplot at 0x11d51d3fa48>"
      ]
     },
     "execution_count": 422,
     "metadata": {},
     "output_type": "execute_result"
    },
    {
     "data": {
      "image/png": "[encoded data removed]",
      "text/plain": [
       "<Figure size 432x288 with 1 Axes>"
      ]
     },
     "metadata": {
      "needs_background": "light"
     },
     "output_type": "display_data"
    }
   ],
   "source": [
    "top_estimator.feature_importances_\n",
    "\n",
    "importances = pd.DataFrame({'feature':X_train_transformed.columns, 'importance':np.round(top_estimator.feature_importances_, 3)})\n",
    "\n",
    "importances = importances.sort_values('importance',ascending=False).set_index('feature')\n",
    "\n",
    "importances.head(15)\n",
    "\n",
    "importances.plot.bar()"
   ]
  },
  {
   "cell_type": "code",
   "execution_count": 423,
   "metadata": {},
   "outputs": [
    {
     "name": "stdout",
     "output_type": "stream",
     "text": [
      "model score: 0.946\n"
     ]
    },
    {
     "name": "stderr",
     "output_type": "stream",
     "text": [
      "c:\\Users\\michal\\Anaconda3\\envs\\ML\\lib\\site-packages\\ipykernel_launcher.py:1: FutureWarning: `item` has been deprecated and will be removed in a future version\n",
      "  \"\"\"Entry point for launching an IPython kernel.\n"
     ]
    }
   ],
   "source": [
    "best_estimators_sorted = sorted(best_estimators, key=lambda est: est[1][\"mean_test_score\"].item(), reverse=True)\n",
    "\n",
    "top_estimator = best_estimators_sorted[0][0]\n",
    "\n",
    "print(\"model score: %.3f\" % top_estimator.score(X_train_transformed, train_df_labels))\n",
    "\n",
    "best_estimator_prediction = pd.DataFrame(top_estimator.predict(X_test_transformed), columns=[\"Survived\"])\n",
    "\n",
    "\n",
    "df_to_submit = best_estimator_prediction.join(test_df[[\"PassengerId\"]], how='left')\n",
    "df_to_submit = df_to_submit[['PassengerId', 'Survived']]\n",
    "#df_to_submit[\"Survived\"].value_counts()\n",
    "df_to_submit.to_csv('submission.csv',index=False)\n",
    "\n",
    "#list(df_to_submit.columns.values)"
   ]
  },
  {
   "cell_type": "code",
   "execution_count": 424,
   "metadata": {},
   "outputs": [
    {
     "name": "stdout",
     "output_type": "stream",
     "text": [
      "Successfully submitted to Titanic: Machine Learning from Disaster\n"
     ]
    },
    {
     "name": "stderr",
     "output_type": "stream",
     "text": [
      "\n",
      "  0%|          | 0.00/3.18k [00:00<?, ?B/s]\n",
      "100%|##########| 3.18k/3.18k [00:03<00:00, 954B/s]\n"
     ]
    }
   ],
   "source": [
    "!kaggle competitions submit -c titanic -f submission.csv -m \"With extra Titles\""
   ]
  },
  {
   "cell_type": "code",
   "execution_count": 215,
   "metadata": {},
   "outputs": [
    {
     "data": {
      "text/html": [
       "<div>\n",
       "<style scoped>\n",
       "    .dataframe tbody tr th:only-of-type {\n",
       "        vertical-align: middle;\n",
       "    }\n",
       "\n",
       "    .dataframe tbody tr th {\n",
       "        vertical-align: top;\n",
       "    }\n",
       "\n",
       "    .dataframe thead th {\n",
       "        text-align: right;\n",
       "    }\n",
       "</style>\n",
       "<table border=\"1\" class=\"dataframe\">\n",
       "  <thead>\n",
       "    <tr style=\"text-align: right;\">\n",
       "      <th></th>\n",
       "      <th>PassengerId</th>\n",
       "      <th>Survived</th>\n",
       "    </tr>\n",
       "  </thead>\n",
       "  <tbody>\n",
       "    <tr>\n",
       "      <th>0</th>\n",
       "      <td>892</td>\n",
       "      <td>0</td>\n",
       "    </tr>\n",
       "    <tr>\n",
       "      <th>1</th>\n",
       "      <td>893</td>\n",
       "      <td>1</td>\n",
       "    </tr>\n",
       "    <tr>\n",
       "      <th>2</th>\n",
       "      <td>894</td>\n",
       "      <td>0</td>\n",
       "    </tr>\n",
       "    <tr>\n",
       "      <th>3</th>\n",
       "      <td>895</td>\n",
       "      <td>0</td>\n",
       "    </tr>\n",
       "    <tr>\n",
       "      <th>4</th>\n",
       "      <td>896</td>\n",
       "      <td>1</td>\n",
       "    </tr>\n",
       "    <tr>\n",
       "      <th>...</th>\n",
       "      <td>...</td>\n",
       "      <td>...</td>\n",
       "    </tr>\n",
       "    <tr>\n",
       "      <th>413</th>\n",
       "      <td>1305</td>\n",
       "      <td>0</td>\n",
       "    </tr>\n",
       "    <tr>\n",
       "      <th>414</th>\n",
       "      <td>1306</td>\n",
       "      <td>1</td>\n",
       "    </tr>\n",
       "    <tr>\n",
       "      <th>415</th>\n",
       "      <td>1307</td>\n",
       "      <td>0</td>\n",
       "    </tr>\n",
       "    <tr>\n",
       "      <th>416</th>\n",
       "      <td>1308</td>\n",
       "      <td>0</td>\n",
       "    </tr>\n",
       "    <tr>\n",
       "      <th>417</th>\n",
       "      <td>1309</td>\n",
       "      <td>0</td>\n",
       "    </tr>\n",
       "  </tbody>\n",
       "</table>\n",
       "<p>418 rows × 2 columns</p>\n",
       "</div>"
      ],
      "text/plain": [
       "     PassengerId  Survived\n",
       "0            892         0\n",
       "1            893         1\n",
       "2            894         0\n",
       "3            895         0\n",
       "4            896         1\n",
       "..           ...       ...\n",
       "413         1305         0\n",
       "414         1306         1\n",
       "415         1307         0\n",
       "416         1308         0\n",
       "417         1309         0\n",
       "\n",
       "[418 rows x 2 columns]"
      ]
     },
     "execution_count": 215,
     "metadata": {},
     "output_type": "execute_result"
    }
   ],
   "source": [
    "#X_train_transformed\n",
    "#train_df_labels\n",
    "train_df[[\"PassengerId\"]]\n",
    "#gender_sub_df[\"Survived\"].mean()\n",
    "gender_sub_df"
   ]
  }
 ],
 "metadata": {
  "accelerator": "GPU",
  "colab": {
   "authorship_tag": "ABX9TyO0LlEkiE3g8pG6UBye97FT",
   "collapsed_sections": [],
   "name": "Classification3-c-Titanic.ipynb",
   "provenance": []
  },
  "kernelspec": {
   "display_name": "Python 3",
   "language": "python",
   "name": "python3"
  },
  "language_info": {
   "codemirror_mode": {
    "name": "ipython",
    "version": 3
   },
   "file_extension": ".py",
   "mimetype": "text/x-python",
   "name": "python",
   "nbconvert_exporter": "python",
   "pygments_lexer": "ipython3",
   "version": "3.7.5"
  }
 },
 "nbformat": 4,
 "nbformat_minor": 1
}
