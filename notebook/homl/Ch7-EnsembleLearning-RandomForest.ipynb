{
 "cells": [
  {
   "cell_type": "code",
   "execution_count": 1,
   "metadata": {},
   "outputs": [],
   "source": [
    "# Installing graphviz issues\n",
    "\n",
    "# !conda install python-graphviz\n",
    "# !conda install -c anaconda graphviz"
   ]
  },
  {
   "cell_type": "code",
   "execution_count": 32,
   "metadata": {},
   "outputs": [],
   "source": [
    "%precision %.4f\n",
    "import sys\n",
    "assert sys.version_info >= (3, 5)\n",
    "\n",
    "# Scikit-Learn ≥0.20 is required\n",
    "import sklearn\n",
    "assert sklearn.__version__ >= \"0.20\"\n",
    "\n",
    "# Common imports\n",
    "import numpy as np\n",
    "import os\n",
    "\n",
    "# to make this notebook's output stable across runs\n",
    "np.random.seed(42)\n",
    "\n",
    "# To plot pretty figures\n",
    "%matplotlib inline\n",
    "import matplotlib as mpl\n",
    "import matplotlib.pyplot as plt\n",
    "mpl.rc('axes', labelsize=14)\n",
    "mpl.rc('xtick', labelsize=12)\n",
    "mpl.rc('ytick', labelsize=12)\n",
    "\n",
    "# Where to save the figures\n",
    "PROJECT_ROOT_DIR = \".\"\n",
    "CHAPTER_ID = \"ensembles\"\n",
    "IMAGES_PATH = os.path.join(PROJECT_ROOT_DIR, \"images\", CHAPTER_ID)\n",
    "os.makedirs(IMAGES_PATH, exist_ok=True)\n",
    "\n",
    "from IPython.core.display import HTML"
   ]
  },
  {
   "cell_type": "code",
   "execution_count": 3,
   "metadata": {},
   "outputs": [],
   "source": [
    "import graphviz\n",
    "from graphviz import Source\n",
    "from sklearn.tree import export_graphviz"
   ]
  },
  {
   "cell_type": "code",
   "execution_count": 119,
   "metadata": {},
   "outputs": [],
   "source": [
    "from sklearn.pipeline import Pipeline\n",
    "from sklearn.datasets import make_moons\n",
    "from sklearn.datasets import load_iris\n",
    "from sklearn.datasets import fetch_openml\n",
    "\n",
    "from sklearn.model_selection import train_test_split\n",
    "from sklearn.model_selection import GridSearchCV\n",
    "import pandas as pd\n",
    "\n",
    "from sklearn.metrics import accuracy_score\n",
    "\n",
    "from sklearn.tree import DecisionTreeClassifier\n",
    "from sklearn.tree import DecisionTreeRegressor\n",
    "\n",
    "from sklearn.ensemble import RandomForestClassifier\n",
    "from sklearn.ensemble import ExtraTreesClassifier\n",
    "from sklearn.ensemble import VotingClassifier\n",
    "from sklearn.ensemble import BaggingClassifier\n",
    "from sklearn.ensemble import AdaBoostClassifier\n",
    "from sklearn.ensemble import GradientBoostingRegressor\n",
    "\n",
    "import xgboost\n",
    "\n",
    "from sklearn.linear_model import LogisticRegression\n",
    "from sklearn.svm import SVC\n",
    "from sklearn.svm import LinearSVC\n",
    "\n",
    "from sklearn.neural_network import MLPClassifier\n",
    "\n",
    "from sklearn.metrics import mean_squared_error\n"
   ]
  },
  {
   "cell_type": "code",
   "execution_count": 50,
   "metadata": {},
   "outputs": [],
   "source": [
    "X, y = make_moons(n_samples=5000, noise=0.3)\n",
    "\n",
    "X_train, X_test, y_train, y_test = train_test_split(X, y, test_size=0.2, random_state=42)"
   ]
  },
  {
   "cell_type": "code",
   "execution_count": 48,
   "metadata": {},
   "outputs": [
    {
     "data": {
      "text/plain": [
       "VotingClassifier(estimators=[('lr',\n",
       "                              LogisticRegression(C=1.0, class_weight=None,\n",
       "                                                 dual=False, fit_intercept=True,\n",
       "                                                 intercept_scaling=1,\n",
       "                                                 l1_ratio=None, max_iter=100,\n",
       "                                                 multi_class='auto',\n",
       "                                                 n_jobs=None, penalty='l2',\n",
       "                                                 random_state=None,\n",
       "                                                 solver='lbfgs', tol=0.0001,\n",
       "                                                 verbose=0, warm_start=False)),\n",
       "                             ('rf',\n",
       "                              RandomForestClassifier(bootstrap=True,\n",
       "                                                     ccp_alpha=0.0,\n",
       "                                                     class_weight=None,\n",
       "                                                     cr...\n",
       "                                                     oob_score=False,\n",
       "                                                     random_state=None,\n",
       "                                                     verbose=0,\n",
       "                                                     warm_start=False)),\n",
       "                             ('svc',\n",
       "                              SVC(C=1.0, break_ties=False, cache_size=200,\n",
       "                                  class_weight=None, coef0=0.0,\n",
       "                                  decision_function_shape='ovr', degree=3,\n",
       "                                  gamma='scale', kernel='rbf', max_iter=-1,\n",
       "                                  probability=False, random_state=None,\n",
       "                                  shrinking=True, tol=0.001, verbose=False))],\n",
       "                 flatten_transform=True, n_jobs=None, voting='hard',\n",
       "                 weights=None)"
      ]
     },
     "execution_count": 48,
     "metadata": {},
     "output_type": "execute_result"
    }
   ],
   "source": [
    "log_clf = LogisticRegression()\n",
    "rnd_clf = RandomForestClassifier()\n",
    "svm_clf = SVC()\n",
    "\n",
    "voting_clf = VotingClassifier(\n",
    "    estimators=[('lr', log_clf), ('rf', rnd_clf), ('svc', svm_clf)],\n",
    "    voting='hard')\n",
    "\n",
    "voting_clf.fit(X_train, y_train)"
   ]
  },
  {
   "cell_type": "code",
   "execution_count": 8,
   "metadata": {},
   "outputs": [
    {
     "data": {
      "text/plain": [
       "VotingClassifier(estimators=[('lr',\n",
       "                              LogisticRegression(C=1.0, class_weight=None,\n",
       "                                                 dual=False, fit_intercept=True,\n",
       "                                                 intercept_scaling=1,\n",
       "                                                 l1_ratio=None, max_iter=100,\n",
       "                                                 multi_class='auto',\n",
       "                                                 n_jobs=None, penalty='l2',\n",
       "                                                 random_state=None,\n",
       "                                                 solver='lbfgs', tol=0.0001,\n",
       "                                                 verbose=0, warm_start=False)),\n",
       "                             ('rf',\n",
       "                              RandomForestClassifier(bootstrap=True,\n",
       "                                                     ccp_alpha=0.0,\n",
       "                                                     class_weight=None,\n",
       "                                                     cr...\n",
       "                                                     oob_score=False,\n",
       "                                                     random_state=None,\n",
       "                                                     verbose=0,\n",
       "                                                     warm_start=False)),\n",
       "                             ('svc',\n",
       "                              SVC(C=1.0, break_ties=False, cache_size=200,\n",
       "                                  class_weight=None, coef0=0.0,\n",
       "                                  decision_function_shape='ovr', degree=3,\n",
       "                                  gamma='scale', kernel='rbf', max_iter=-1,\n",
       "                                  probability=True, random_state=None,\n",
       "                                  shrinking=True, tol=0.001, verbose=False))],\n",
       "                 flatten_transform=True, n_jobs=None, voting='soft',\n",
       "                 weights=None)"
      ]
     },
     "execution_count": 8,
     "metadata": {},
     "output_type": "execute_result"
    }
   ],
   "source": [
    "log_clf2 = LogisticRegression()\n",
    "rnd_clf2 = RandomForestClassifier()\n",
    "svm_clf2 = SVC(probability=True)\n",
    "\n",
    "voting_clf2 = VotingClassifier(\n",
    "    estimators=[('lr', log_clf2), ('rf', rnd_clf2), ('svc', svm_clf2)],\n",
    "    voting='soft')\n",
    "\n",
    "voting_clf2.fit(X_train, y_train)"
   ]
  },
  {
   "cell_type": "code",
   "execution_count": 11,
   "metadata": {},
   "outputs": [
    {
     "name": "stdout",
     "output_type": "stream",
     "text": [
      "LogisticRegression 0.85\n",
      "RandomForestClassifier 0.88\n",
      "SVC 0.87\n",
      "VotingClassifier 0.87\n",
      "LogisticRegression 0.85\n",
      "RandomForestClassifier 0.89\n",
      "SVC 0.87\n",
      "VotingClassifier 0.88\n"
     ]
    }
   ],
   "source": [
    "for clf in (log_clf, rnd_clf, svm_clf, voting_clf):\n",
    "    clf.fit(X_train, y_train)\n",
    "    y_pred = clf.predict(X_test) \n",
    "    print(clf.__class__.__name__, accuracy_score(y_test, y_pred))\n",
    "    \n",
    "for clf in (log_clf2, rnd_clf2, svm_clf2, voting_clf2):\n",
    "    clf.fit(X_train, y_train)\n",
    "    y_pred = clf.predict(X_test) \n",
    "    print(clf.__class__.__name__, accuracy_score(y_test, y_pred))"
   ]
  },
  {
   "cell_type": "code",
   "execution_count": 27,
   "metadata": {},
   "outputs": [
    {
     "name": "stdout",
     "output_type": "stream",
     "text": [
      "DecisionTreeClassifier  accuracy_score: 0.82\n",
      "BaggingClassifier  oob_score:  0.9275  accuracy_score: 0.9\n"
     ]
    }
   ],
   "source": [
    "tree_clf = DecisionTreeClassifier(random_state=42)\n",
    "tree_clf.fit(X_train, y_train)\n",
    "y_pred_tree = tree_clf.predict(X_test)\n",
    "print(tree_clf.__class__.__name__, \" accuracy_score:\", accuracy_score(y_test, y_pred_tree))\n",
    "\n",
    "bag_clf = BaggingClassifier(\n",
    "    DecisionTreeClassifier(), n_estimators=500,\n",
    "    max_samples=100, bootstrap=True, oob_score=True, n_jobs=-1)\n",
    "bag_clf.fit(X_train, y_train)\n",
    "\n",
    "y_pred = bag_clf.predict(X_test)\n",
    "print(bag_clf.__class__.__name__, \n",
    "      \" oob_score: \", bag_clf.oob_score_, \n",
    "      \" accuracy_score:\", accuracy_score(y_test, y_pred)\n",
    "     )\n",
    "# We can access bagging classifier decision function through oob_decision_function_ :\n",
    "# bag_clf.oob_decision_function_\n"
   ]
  },
  {
   "cell_type": "code",
   "execution_count": 19,
   "metadata": {},
   "outputs": [],
   "source": [
    "from matplotlib.colors import ListedColormap\n",
    "\n",
    "def plot_decision_boundary(clf, X, y, axes=[-1.5, 2.45, -1, 1.5], alpha=0.5, contour=True):\n",
    "    x1s = np.linspace(axes[0], axes[1], 100)\n",
    "    x2s = np.linspace(axes[2], axes[3], 100)\n",
    "    x1, x2 = np.meshgrid(x1s, x2s)\n",
    "    X_new = np.c_[x1.ravel(), x2.ravel()]\n",
    "    y_pred = clf.predict(X_new).reshape(x1.shape)\n",
    "    custom_cmap = ListedColormap(['#fafab0','#9898ff','#a0faa0'])\n",
    "    plt.contourf(x1, x2, y_pred, alpha=0.3, cmap=custom_cmap)\n",
    "    if contour:\n",
    "        custom_cmap2 = ListedColormap(['#7d7d58','#4c4c7f','#507d50'])\n",
    "        plt.contour(x1, x2, y_pred, cmap=custom_cmap2, alpha=0.8)\n",
    "    plt.plot(X[:, 0][y==0], X[:, 1][y==0], \"yo\", alpha=alpha)\n",
    "    plt.plot(X[:, 0][y==1], X[:, 1][y==1], \"bs\", alpha=alpha)\n",
    "    plt.axis(axes)\n",
    "    plt.xlabel(r\"$x_1$\", fontsize=18)\n",
    "    plt.ylabel(r\"$x_2$\", fontsize=18, rotation=0)\n",
    "\n"
   ]
  },
  {
   "cell_type": "code",
   "execution_count": 20,
   "metadata": {},
   "outputs": [
    {
     "data": {
      "image/png": "[encoded data removed]",
      "text/plain": [
       "<Figure size 720x288 with 2 Axes>"
      ]
     },
     "metadata": {
      "needs_background": "light"
     },
     "output_type": "display_data"
    }
   ],
   "source": [
    "fix, axes = plt.subplots(ncols=2, figsize=(10,4), sharey=True)\n",
    "plt.sca(axes[0])\n",
    "plot_decision_boundary(tree_clf, X, y)\n",
    "plt.title(\"Decision Tree\", fontsize=14)\n",
    "plt.sca(axes[1])\n",
    "plot_decision_boundary(bag_clf, X, y)\n",
    "plt.title(\"Decision Trees with Bagging\", fontsize=14)\n",
    "plt.ylabel(\"\")\n",
    "#save_fig(\"decision_tree_without_and_with_bagging_plot\")\n",
    "plt.show()\n",
    "\n"
   ]
  },
  {
   "cell_type": "code",
   "execution_count": 36,
   "metadata": {},
   "outputs": [],
   "source": [
    "%precision 6\n",
    "np.set_printoptions(precision=4)"
   ]
  },
  {
   "cell_type": "code",
   "execution_count": 51,
   "metadata": {},
   "outputs": [
    {
     "name": "stdout",
     "output_type": "stream",
     "text": [
      "BaggingClassifier 0.902\n",
      "RandomForestClassifier 0.905\n"
     ]
    }
   ],
   "source": [
    "# BaggingClassifier vs RandomForestClassifer :\n",
    "\n",
    "bag_clf2 = BaggingClassifier(\n",
    "    DecisionTreeClassifier(splitter=\"random\", max_leaf_nodes=16), n_estimators=500,\n",
    "    max_samples=1.0, bootstrap=True, oob_score=True, n_jobs=-1)\n",
    "\n",
    "bag_clf2.fit(X_train, y_train)\n",
    "y_pred_bag = bag_clf.predict(X_test)\n",
    "\n",
    "rnd_clf = RandomForestClassifier(n_estimators=500, max_leaf_nodes=16, n_jobs=-1)\n",
    "rnd_clf.fit(X_train, y_train)\n",
    "y_pred_rnd = rnd_clf.predict(X_test)\n",
    "\n",
    "for clf in (bag_clf2, rnd_clf):\n",
    "    #clf.fit(X_train, y_train)\n",
    "    y_pred = clf.predict(X_test) \n",
    "    print(clf.__class__.__name__, accuracy_score(y_test, y_pred))\n",
    "    "
   ]
  },
  {
   "cell_type": "code",
   "execution_count": 52,
   "metadata": {},
   "outputs": [
    {
     "name": "stdout",
     "output_type": "stream",
     "text": [
      "0.981 981 1000\n"
     ]
    }
   ],
   "source": [
    "%precision 4\n",
    "dd = np.sum(y_pred_bag == y_pred_rnd) / len(y_pred_rnd)\n",
    "print(dd, np.sum(y_pred_bag == y_pred_rnd), len(y_pred_rnd))\n"
   ]
  },
  {
   "cell_type": "code",
   "execution_count": 54,
   "metadata": {},
   "outputs": [
    {
     "name": "stdout",
     "output_type": "stream",
     "text": [
      "sepal length (cm) 0.09195857014121693\n",
      "sepal width (cm) 0.02411295329149163\n",
      "petal length (cm) 0.43561279883026277\n",
      "petal width (cm) 0.4483156777370286\n"
     ]
    }
   ],
   "source": [
    "# feature_importances - can be obtained from trained RandomForest classifiers\n",
    "\n",
    "iris = load_iris()\n",
    "rnd_clf = RandomForestClassifier(n_estimators=500, n_jobs=-1)\n",
    "rnd_clf.fit(iris[\"data\"], iris[\"target\"] )\n",
    "\n",
    "for name, score in zip(iris[\"feature_names\"], rnd_clf.feature_importances_):\n",
    "    print(name, score)\n"
   ]
  },
  {
   "cell_type": "code",
   "execution_count": 59,
   "metadata": {
    "scrolled": true
   },
   "outputs": [
    {
     "data": {
      "text/plain": [
       "RandomForestClassifier(bootstrap=True, ccp_alpha=0.0, class_weight=None,\n",
       "                       criterion='gini', max_depth=None, max_features='auto',\n",
       "                       max_leaf_nodes=None, max_samples=None,\n",
       "                       min_impurity_decrease=0.0, min_impurity_split=None,\n",
       "                       min_samples_leaf=1, min_samples_split=2,\n",
       "                       min_weight_fraction_leaf=0.0, n_estimators=100,\n",
       "                       n_jobs=-1, oob_score=False, random_state=42, verbose=0,\n",
       "                       warm_start=False)"
      ]
     },
     "execution_count": 59,
     "metadata": {},
     "output_type": "execute_result"
    }
   ],
   "source": [
    "mnist = fetch_openml('mnist_784', version=1)\n",
    "mnist.target = mnist.target.astype(np.uint8)\n",
    "\n",
    "mnist_data, mnist_target = mnist[\"data\"], mnist[\"target\"]\n",
    "\n",
    "mnist_X_train, mnist_X_test, mnist_y_train, mnist_y_test = train_test_split(mnist_data, mnist_target, test_size=0.2, random_state=42)\n",
    "\n",
    "mnist_rnd_clf = RandomForestClassifier(n_estimators=100, n_jobs=-1, random_state=42)\n",
    "\n",
    "mnist_rnd_clf.fit(mnist_X_train, mnist_y_train)\n"
   ]
  },
  {
   "cell_type": "code",
   "execution_count": 60,
   "metadata": {},
   "outputs": [
    {
     "name": "stdout",
     "output_type": "stream",
     "text": [
      "RandomForestClassifier 0.9672857142857143\n"
     ]
    }
   ],
   "source": [
    "mnist_y_pred = mnist_rnd_clf.predict(mnist_X_test)\n",
    "\n",
    "print(mnist_rnd_clf.__class__.__name__, accuracy_score(mnist_y_test, mnist_y_pred))\n"
   ]
  },
  {
   "cell_type": "code",
   "execution_count": 57,
   "metadata": {},
   "outputs": [],
   "source": [
    "def plot_digit(data):\n",
    "    image = data.reshape(28, 28)\n",
    "    plt.imshow(image, cmap = mpl.cm.hot,\n",
    "               interpolation=\"nearest\")\n",
    "    plt.axis(\"off\")"
   ]
  },
  {
   "cell_type": "code",
   "execution_count": 61,
   "metadata": {},
   "outputs": [
    {
     "data": {
      "image/png": "[encoded data removed]",
      "text/plain": [
       "<Figure size 432x288 with 2 Axes>"
      ]
     },
     "metadata": {
      "needs_background": "light"
     },
     "output_type": "display_data"
    }
   ],
   "source": [
    "plot_digit(mnist_rnd_clf.feature_importances_)\n",
    "\n",
    "cbar = plt.colorbar(ticks=[mnist_rnd_clf.feature_importances_.min(), mnist_rnd_clf.feature_importances_.max()])\n",
    "cbar.ax.set_yticklabels(['Not important', 'Very important'])\n",
    "\n",
    "plt.show()\n"
   ]
  },
  {
   "cell_type": "code",
   "execution_count": 70,
   "metadata": {},
   "outputs": [
    {
     "name": "stdout",
     "output_type": "stream",
     "text": [
      "AdaBoostClassifier 0.912\n"
     ]
    }
   ],
   "source": [
    "# Hypothessis Boosting\n",
    "# train predictors sequntially , each trying to correct it's predecessor\n",
    "# AdaBoost  & Gradient Boosting\n",
    "\n",
    "# AdaBoost -> new predictor pays more attention to missed cases -> updates weights for them\n",
    "\n",
    "ada_clf = AdaBoostClassifier(DecisionTreeClassifier(max_depth=1), n_estimators=200,\n",
    "                            algorithm=\"SAMME.R\", learning_rate=0.5)\n",
    "ada_clf.fit(X_train, y_train)\n",
    "\n",
    "ada_y_pred = ada_clf.predict(X_test)\n",
    "\n",
    "print(ada_clf.__class__.__name__, accuracy_score(y_test, ada_y_pred))"
   ]
  },
  {
   "cell_type": "code",
   "execution_count": 79,
   "metadata": {},
   "outputs": [
    {
     "name": "stdout",
     "output_type": "stream",
     "text": [
      "Fitting 3 folds for each of 360 candidates, totalling 1080 fits\n"
     ]
    },
    {
     "name": "stderr",
     "output_type": "stream",
     "text": [
      "[Parallel(n_jobs=-2)]: Using backend LokyBackend with 7 concurrent workers.\n",
      "[Parallel(n_jobs=-2)]: Done  58 tasks      | elapsed:    4.5s\n",
      "[Parallel(n_jobs=-2)]: Done 217 tasks      | elapsed:   22.8s\n",
      "[Parallel(n_jobs=-2)]: Done 467 tasks      | elapsed:   48.1s\n",
      "[Parallel(n_jobs=-2)]: Done 817 tasks      | elapsed:  1.5min\n",
      "[Parallel(n_jobs=-2)]: Done 1080 out of 1080 | elapsed:  2.1min finished\n"
     ]
    },
    {
     "data": {
      "text/plain": [
       "GridSearchCV(cv=3, error_score=nan,\n",
       "             estimator=AdaBoostClassifier(algorithm='SAMME.R',\n",
       "                                          base_estimator=DecisionTreeClassifier(ccp_alpha=0.0,\n",
       "                                                                                class_weight=None,\n",
       "                                                                                criterion='gini',\n",
       "                                                                                max_depth=None,\n",
       "                                                                                max_features=None,\n",
       "                                                                                max_leaf_nodes=None,\n",
       "                                                                                min_impurity_decrease=0.0,\n",
       "                                                                                min_impurity_split=None,\n",
       "                                                                                min_samples_leaf=1,\n",
       "                                                                                min_samples_split=2,\n",
       "                                                                                min_weight_fraction_leaf=0.0,\n",
       "                                                                                presort='...\n",
       "                                          random_state=None),\n",
       "             iid='deprecated', n_jobs=-2,\n",
       "             param_grid={'base_estimator__max_depth': [1, 2],\n",
       "                         'learning_rate': [0.1, 0.2, 0.3, 0.5, 0.7],\n",
       "                         'n_estimators': [50, 60, 70, 80, 90, 100, 110, 120,\n",
       "                                          130, 140, 150, 160, 170, 180, 190,\n",
       "                                          200, 210, 220, 230, 240, 250, 260,\n",
       "                                          270, 280, 290, 300, 310, 320, 330,\n",
       "                                          340, ...]},\n",
       "             pre_dispatch='2*n_jobs', refit=True, return_train_score=False,\n",
       "             scoring='roc_auc', verbose=1)"
      ]
     },
     "execution_count": 79,
     "metadata": {},
     "output_type": "execute_result"
    }
   ],
   "source": [
    "ada_params = {'base_estimator__max_depth' : [1, 2],\n",
    "              'n_estimators': list(range(50,410, 10)),\n",
    "             'learning_rate': [0.1, 0.2, 0.3, 0.5, 0.7]\n",
    "             } \n",
    "\n",
    "\n",
    "DTC = DecisionTreeClassifier()\n",
    "\n",
    "ABC = AdaBoostClassifier(base_estimator = DTC, algorithm=\"SAMME.R\")\n",
    "\n",
    "grid_search_cv = GridSearchCV(ABC, param_grid=ada_params, \n",
    "                              cv=3, verbose=1, n_jobs=-2, scoring = 'roc_auc') \n",
    "    \n",
    "grid_search_cv.fit(X_train, y_train)"
   ]
  },
  {
   "cell_type": "code",
   "execution_count": 85,
   "metadata": {},
   "outputs": [
    {
     "data": {
      "text/html": [
       "<table border=\"1\" class=\"dataframe\">\n",
       "  <thead>\n",
       "    <tr style=\"text-align: right;\">\n",
       "      <th></th>\n",
       "      <th>rank_test_score</th>\n",
       "      <th>params</th>\n",
       "      <th>mean_test_score</th>\n",
       "    </tr>\n",
       "  </thead>\n",
       "  <tbody>\n",
       "    <tr>\n",
       "      <th>99</th>\n",
       "      <td>1</td>\n",
       "      <td>{'base_estimator__max_depth': 1, 'learning_rate': 0.3, 'n_estimators': 320}</td>\n",
       "      <td>0.972876</td>\n",
       "    </tr>\n",
       "    <tr>\n",
       "      <th>97</th>\n",
       "      <td>2</td>\n",
       "      <td>{'base_estimator__max_depth': 1, 'learning_rate': 0.3, 'n_estimators': 300}</td>\n",
       "      <td>0.972850</td>\n",
       "    </tr>\n",
       "    <tr>\n",
       "      <th>58</th>\n",
       "      <td>3</td>\n",
       "      <td>{'base_estimator__max_depth': 1, 'learning_rate': 0.2, 'n_estimators': 270}</td>\n",
       "      <td>0.972831</td>\n",
       "    </tr>\n",
       "    <tr>\n",
       "      <th>96</th>\n",
       "      <td>4</td>\n",
       "      <td>{'base_estimator__max_depth': 1, 'learning_rate': 0.3, 'n_estimators': 290}</td>\n",
       "      <td>0.972811</td>\n",
       "    </tr>\n",
       "    <tr>\n",
       "      <th>52</th>\n",
       "      <td>5</td>\n",
       "      <td>{'base_estimator__max_depth': 1, 'learning_rate': 0.2, 'n_estimators': 210}</td>\n",
       "      <td>0.972809</td>\n",
       "    </tr>\n",
       "    <tr>\n",
       "      <th>54</th>\n",
       "      <td>6</td>\n",
       "      <td>{'base_estimator__max_depth': 1, 'learning_rate': 0.2, 'n_estimators': 230}</td>\n",
       "      <td>0.972808</td>\n",
       "    </tr>\n",
       "    <tr>\n",
       "      <th>59</th>\n",
       "      <td>7</td>\n",
       "      <td>{'base_estimator__max_depth': 1, 'learning_rate': 0.2, 'n_estimators': 280}</td>\n",
       "      <td>0.972798</td>\n",
       "    </tr>\n",
       "    <tr>\n",
       "      <th>57</th>\n",
       "      <td>8</td>\n",
       "      <td>{'base_estimator__max_depth': 1, 'learning_rate': 0.2, 'n_estimators': 260}</td>\n",
       "      <td>0.972791</td>\n",
       "    </tr>\n",
       "    <tr>\n",
       "      <th>98</th>\n",
       "      <td>9</td>\n",
       "      <td>{'base_estimator__max_depth': 1, 'learning_rate': 0.3, 'n_estimators': 310}</td>\n",
       "      <td>0.972787</td>\n",
       "    </tr>\n",
       "    <tr>\n",
       "      <th>53</th>\n",
       "      <td>10</td>\n",
       "      <td>{'base_estimator__max_depth': 1, 'learning_rate': 0.2, 'n_estimators': 220}</td>\n",
       "      <td>0.972786</td>\n",
       "    </tr>\n",
       "    <tr>\n",
       "      <th>51</th>\n",
       "      <td>11</td>\n",
       "      <td>{'base_estimator__max_depth': 1, 'learning_rate': 0.2, 'n_estimators': 200}</td>\n",
       "      <td>0.972750</td>\n",
       "    </tr>\n",
       "    <tr>\n",
       "      <th>35</th>\n",
       "      <td>12</td>\n",
       "      <td>{'base_estimator__max_depth': 1, 'learning_rate': 0.1, 'n_estimators': 400}</td>\n",
       "      <td>0.972750</td>\n",
       "    </tr>\n",
       "    <tr>\n",
       "      <th>56</th>\n",
       "      <td>13</td>\n",
       "      <td>{'base_estimator__max_depth': 1, 'learning_rate': 0.2, 'n_estimators': 250}</td>\n",
       "      <td>0.972738</td>\n",
       "    </tr>\n",
       "    <tr>\n",
       "      <th>50</th>\n",
       "      <td>14</td>\n",
       "      <td>{'base_estimator__max_depth': 1, 'learning_rate': 0.2, 'n_estimators': 190}</td>\n",
       "      <td>0.972729</td>\n",
       "    </tr>\n",
       "    <tr>\n",
       "      <th>94</th>\n",
       "      <td>15</td>\n",
       "      <td>{'base_estimator__max_depth': 1, 'learning_rate': 0.3, 'n_estimators': 270}</td>\n",
       "      <td>0.972729</td>\n",
       "    </tr>\n",
       "    <tr>\n",
       "      <th>91</th>\n",
       "      <td>16</td>\n",
       "      <td>{'base_estimator__max_depth': 1, 'learning_rate': 0.3, 'n_estimators': 240}</td>\n",
       "      <td>0.972726</td>\n",
       "    </tr>\n",
       "    <tr>\n",
       "      <th>100</th>\n",
       "      <td>17</td>\n",
       "      <td>{'base_estimator__max_depth': 1, 'learning_rate': 0.3, 'n_estimators': 330}</td>\n",
       "      <td>0.972722</td>\n",
       "    </tr>\n",
       "    <tr>\n",
       "      <th>34</th>\n",
       "      <td>18</td>\n",
       "      <td>{'base_estimator__max_depth': 1, 'learning_rate': 0.1, 'n_estimators': 390}</td>\n",
       "      <td>0.972719</td>\n",
       "    </tr>\n",
       "    <tr>\n",
       "      <th>33</th>\n",
       "      <td>19</td>\n",
       "      <td>{'base_estimator__max_depth': 1, 'learning_rate': 0.1, 'n_estimators': 380}</td>\n",
       "      <td>0.972719</td>\n",
       "    </tr>\n",
       "    <tr>\n",
       "      <th>95</th>\n",
       "      <td>20</td>\n",
       "      <td>{'base_estimator__max_depth': 1, 'learning_rate': 0.3, 'n_estimators': 280}</td>\n",
       "      <td>0.972718</td>\n",
       "    </tr>\n",
       "    <tr>\n",
       "      <th>55</th>\n",
       "      <td>21</td>\n",
       "      <td>{'base_estimator__max_depth': 1, 'learning_rate': 0.2, 'n_estimators': 240}</td>\n",
       "      <td>0.972717</td>\n",
       "    </tr>\n",
       "    <tr>\n",
       "      <th>90</th>\n",
       "      <td>22</td>\n",
       "      <td>{'base_estimator__max_depth': 1, 'learning_rate': 0.3, 'n_estimators': 230}</td>\n",
       "      <td>0.972712</td>\n",
       "    </tr>\n",
       "    <tr>\n",
       "      <th>31</th>\n",
       "      <td>23</td>\n",
       "      <td>{'base_estimator__max_depth': 1, 'learning_rate': 0.1, 'n_estimators': 360}</td>\n",
       "      <td>0.972711</td>\n",
       "    </tr>\n",
       "    <tr>\n",
       "      <th>101</th>\n",
       "      <td>24</td>\n",
       "      <td>{'base_estimator__max_depth': 1, 'learning_rate': 0.3, 'n_estimators': 340}</td>\n",
       "      <td>0.972709</td>\n",
       "    </tr>\n",
       "    <tr>\n",
       "      <th>49</th>\n",
       "      <td>25</td>\n",
       "      <td>{'base_estimator__max_depth': 1, 'learning_rate': 0.2, 'n_estimators': 180}</td>\n",
       "      <td>0.972708</td>\n",
       "    </tr>\n",
       "    <tr>\n",
       "      <th>182</th>\n",
       "      <td>26</td>\n",
       "      <td>{'base_estimator__max_depth': 2, 'learning_rate': 0.1, 'n_estimators': 70}</td>\n",
       "      <td>0.972706</td>\n",
       "    </tr>\n",
       "    <tr>\n",
       "      <th>30</th>\n",
       "      <td>27</td>\n",
       "      <td>{'base_estimator__max_depth': 1, 'learning_rate': 0.1, 'n_estimators': 350}</td>\n",
       "      <td>0.972701</td>\n",
       "    </tr>\n",
       "    <tr>\n",
       "      <th>93</th>\n",
       "      <td>28</td>\n",
       "      <td>{'base_estimator__max_depth': 1, 'learning_rate': 0.3, 'n_estimators': 260}</td>\n",
       "      <td>0.972696</td>\n",
       "    </tr>\n",
       "    <tr>\n",
       "      <th>107</th>\n",
       "      <td>29</td>\n",
       "      <td>{'base_estimator__max_depth': 1, 'learning_rate': 0.3, 'n_estimators': 400}</td>\n",
       "      <td>0.972692</td>\n",
       "    </tr>\n",
       "    <tr>\n",
       "      <th>102</th>\n",
       "      <td>30</td>\n",
       "      <td>{'base_estimator__max_depth': 1, 'learning_rate': 0.3, 'n_estimators': 350}</td>\n",
       "      <td>0.972690</td>\n",
       "    </tr>\n",
       "  </tbody>\n",
       "</table>"
      ],
      "text/plain": [
       "<IPython.core.display.HTML object>"
      ]
     },
     "metadata": {},
     "output_type": "display_data"
    }
   ],
   "source": [
    "df = pd.DataFrame(grid_search_cv.cv_results_)[[\"rank_test_score\", \"params\", \"mean_test_score\"]]\\\n",
    "    .sort_values(by=\"mean_test_score\", ascending=False).head(30)\n",
    "display(HTML(df.to_html()))"
   ]
  },
  {
   "cell_type": "code",
   "execution_count": 101,
   "metadata": {},
   "outputs": [
    {
     "data": {
      "text/plain": [
       "<matplotlib.collections.PathCollection at 0x2f4d40b1208>"
      ]
     },
     "execution_count": 101,
     "metadata": {},
     "output_type": "execute_result"
    },
    {
     "data": {
      "image/png": "[encoded data removed]",
      "text/plain": [
       "<Figure size 432x288 with 1 Axes>"
      ]
     },
     "metadata": {
      "needs_background": "light"
     },
     "output_type": "display_data"
    }
   ],
   "source": [
    "np.random.seed(42)\n",
    "X = np.random.rand(100, 1) - 0.5\n",
    "y = 3*X[:, 0]**2 + 0.05 * np.random.randn(100)\n",
    "plt.scatter(X, y)"
   ]
  },
  {
   "cell_type": "code",
   "execution_count": 106,
   "metadata": {},
   "outputs": [],
   "source": [
    "def plot_predictions(regressors, X, y, axes, label=None, style=\"r-\", data_style=\"b.\", data_label=None):\n",
    "    x1 = np.linspace(axes[0], axes[1], 500)\n",
    "    y_pred = sum(regressor.predict(x1.reshape(-1, 1)) for regressor in regressors)\n",
    "    plt.plot(X[:, 0], y, data_style, label=data_label)\n",
    "    plt.plot(x1, y_pred, style, linewidth=2, label=label)\n",
    "    if label or data_label:\n",
    "        plt.legend(loc=\"upper center\", fontsize=16)\n",
    "    plt.axis(axes)"
   ]
  },
  {
   "cell_type": "code",
   "execution_count": 94,
   "metadata": {},
   "outputs": [
    {
     "data": {
      "text/plain": [
       "DecisionTreeRegressor(ccp_alpha=0.0, criterion='mse', max_depth=2,\n",
       "                      max_features=None, max_leaf_nodes=None,\n",
       "                      min_impurity_decrease=0.0, min_impurity_split=None,\n",
       "                      min_samples_leaf=1, min_samples_split=2,\n",
       "                      min_weight_fraction_leaf=0.0, presort='deprecated',\n",
       "                      random_state=None, splitter='best')"
      ]
     },
     "execution_count": 94,
     "metadata": {},
     "output_type": "execute_result"
    }
   ],
   "source": [
    "#Gradient boosting\n",
    "tree_reg1 = DecisionTreeRegressor(max_depth=2)\n",
    "tree_reg1.fit(X, y)\n",
    "\n",
    "y_2 = y - tree_reg1.predict(X)\n",
    "\n",
    "tree_reg2 = DecisionTreeRegressor(max_depth=2)\n",
    "tree_reg2.fit(X, y_2)\n",
    "\n",
    "y_3 = y_2 - tree_reg2.predict(X)\n",
    "\n",
    "tree_reg3 = DecisionTreeRegressor(max_depth=2)\n",
    "tree_reg3.fit(X, y_3)\n"
   ]
  },
  {
   "cell_type": "code",
   "execution_count": 96,
   "metadata": {},
   "outputs": [
    {
     "data": {
      "text/plain": [
       "array([0.7503])"
      ]
     },
     "execution_count": 96,
     "metadata": {},
     "output_type": "execute_result"
    }
   ],
   "source": [
    "X_new = np.array([[0.8]])\n",
    "\n",
    "y_pred = sum(tree.predict(X_new) for tree in (tree_reg1, tree_reg2, tree_reg3))\n",
    "y_pred\n",
    "#accuracy_score(y_test, y_tree_pred)"
   ]
  },
  {
   "cell_type": "code",
   "execution_count": 98,
   "metadata": {},
   "outputs": [
    {
     "data": {
      "text/plain": [
       "GradientBoostingRegressor(alpha=0.9, ccp_alpha=0.0, criterion='friedman_mse',\n",
       "                          init=None, learning_rate=1.0, loss='ls', max_depth=2,\n",
       "                          max_features=None, max_leaf_nodes=None,\n",
       "                          min_impurity_decrease=0.0, min_impurity_split=None,\n",
       "                          min_samples_leaf=1, min_samples_split=2,\n",
       "                          min_weight_fraction_leaf=0.0, n_estimators=3,\n",
       "                          n_iter_no_change=None, presort='deprecated',\n",
       "                          random_state=None, subsample=1.0, tol=0.0001,\n",
       "                          validation_fraction=0.1, verbose=0, warm_start=False)"
      ]
     },
     "execution_count": 98,
     "metadata": {},
     "output_type": "execute_result"
    }
   ],
   "source": [
    "# can be alos done using GradientBoostingRegressor\n",
    "\n",
    "gbrt = GradientBoostingRegressor(max_depth=2, n_estimators=3, learning_rate=1.0)\n",
    "gbrt.fit(X, y)"
   ]
  },
  {
   "cell_type": "code",
   "execution_count": 108,
   "metadata": {},
   "outputs": [
    {
     "data": {
      "text/plain": [
       "GradientBoostingRegressor(alpha=0.9, ccp_alpha=0.0, criterion='friedman_mse',\n",
       "                          init=None, learning_rate=0.1, loss='ls', max_depth=2,\n",
       "                          max_features=None, max_leaf_nodes=None,\n",
       "                          min_impurity_decrease=0.0, min_impurity_split=None,\n",
       "                          min_samples_leaf=1, min_samples_split=2,\n",
       "                          min_weight_fraction_leaf=0.0, n_estimators=21,\n",
       "                          n_iter_no_change=None, presort='deprecated',\n",
       "                          random_state=None, subsample=1.0, tol=0.0001,\n",
       "                          validation_fraction=0.1, verbose=0, warm_start=False)"
      ]
     },
     "execution_count": 108,
     "metadata": {},
     "output_type": "execute_result"
    }
   ],
   "source": [
    "X_train, X_val, y_train, y_val = train_test_split(X, y, test_size=0.2, random_state=42)\n",
    "\n",
    "gbrt = GradientBoostingRegressor(max_depth=2, n_estimators=120, learning_rate=1.0)\n",
    "gbrt.fit(X_train, y_train)\n",
    "\n",
    "errors = [mean_squared_error(y_val, y_pred) for y_pred in gbrt.staged_predict(X_val)]\n",
    "bst_n_estimators = np.argmin(errors) + 1\n",
    "\n",
    "min_error = np.min(errors)\n",
    "\n",
    "gbrt_best = GradientBoostingRegressor(max_depth=2, n_estimators=bst_n_estimators)\n",
    "gbrt_best.fit(X_train, y_train)"
   ]
  },
  {
   "cell_type": "code",
   "execution_count": 109,
   "metadata": {},
   "outputs": [
    {
     "data": {
      "image/png": "[encoded data removed]",
      "text/plain": [
       "<Figure size 720x288 with 2 Axes>"
      ]
     },
     "metadata": {
      "needs_background": "light"
     },
     "output_type": "display_data"
    }
   ],
   "source": [
    "plt.figure(figsize=(10, 4))\n",
    "\n",
    "plt.subplot(121)\n",
    "plt.plot(errors, \"b.-\")\n",
    "plt.plot([bst_n_estimators, bst_n_estimators], [0, min_error], \"k--\")\n",
    "plt.plot([0, 120], [min_error, min_error], \"k--\")\n",
    "plt.plot(bst_n_estimators, min_error, \"ko\")\n",
    "plt.text(bst_n_estimators, min_error*1.2, \"Minimum\", ha=\"center\", fontsize=14)\n",
    "plt.axis([0, 120, 0, 0.01])\n",
    "plt.xlabel(\"Number of trees\")\n",
    "plt.ylabel(\"Error\", fontsize=16)\n",
    "plt.title(\"Validation error\", fontsize=14)\n",
    "\n",
    "plt.subplot(122)\n",
    "plot_predictions([gbrt_best], X, y, axes=[-0.5, 0.5, -0.1, 0.8])\n",
    "plt.title(\"Best model (%d trees)\" % bst_n_estimators, fontsize=14)\n",
    "plt.ylabel(\"$y$\", fontsize=16, rotation=0)\n",
    "plt.xlabel(\"$x_1$\", fontsize=16)\n",
    "\n",
    "#save_fig(\"early_stopping_gbrt_plot\")\n",
    "plt.show()"
   ]
  },
  {
   "cell_type": "code",
   "execution_count": 118,
   "metadata": {},
   "outputs": [
    {
     "name": "stdout",
     "output_type": "stream",
     "text": [
      "[19:59:35] WARNING: src/objective/regression_obj.cu:152: reg:linear is now deprecated in favor of reg:squarederror.\n",
      "[19:59:35] WARNING: src/objective/regression_obj.cu:152: reg:linear is now deprecated in favor of reg:squarederror.\n",
      "[0]\tvalidation_0-rmse:0.260696\n",
      "Will train until validation_0-rmse hasn't improved in 2 rounds.\n",
      "[1]\tvalidation_0-rmse:0.234901\n",
      "[2]\tvalidation_0-rmse:0.211825\n",
      "[3]\tvalidation_0-rmse:0.191044\n",
      "[4]\tvalidation_0-rmse:0.173044\n",
      "[5]\tvalidation_0-rmse:0.156515\n",
      "[6]\tvalidation_0-rmse:0.141707\n",
      "[7]\tvalidation_0-rmse:0.128399\n",
      "[8]\tvalidation_0-rmse:0.116099\n",
      "[9]\tvalidation_0-rmse:0.105241\n",
      "[10]\tvalidation_0-rmse:0.095796\n",
      "[11]\tvalidation_0-rmse:0.087486\n",
      "[12]\tvalidation_0-rmse:0.080175\n",
      "[13]\tvalidation_0-rmse:0.074239\n",
      "[14]\tvalidation_0-rmse:0.069596\n",
      "[15]\tvalidation_0-rmse:0.065375\n",
      "[16]\tvalidation_0-rmse:0.061101\n",
      "[17]\tvalidation_0-rmse:0.058473\n",
      "[18]\tvalidation_0-rmse:0.056363\n",
      "[19]\tvalidation_0-rmse:0.053959\n",
      "[20]\tvalidation_0-rmse:0.05253\n",
      "[21]\tvalidation_0-rmse:0.05154\n",
      "[22]\tvalidation_0-rmse:0.05064\n",
      "[23]\tvalidation_0-rmse:0.049467\n",
      "[24]\tvalidation_0-rmse:0.048814\n",
      "[25]\tvalidation_0-rmse:0.048431\n",
      "[26]\tvalidation_0-rmse:0.047989\n",
      "[27]\tvalidation_0-rmse:0.047679\n",
      "[28]\tvalidation_0-rmse:0.047529\n",
      "[29]\tvalidation_0-rmse:0.047237\n",
      "[30]\tvalidation_0-rmse:0.04706\n",
      "[31]\tvalidation_0-rmse:0.047029\n",
      "[32]\tvalidation_0-rmse:0.046857\n",
      "[33]\tvalidation_0-rmse:0.046965\n",
      "[34]\tvalidation_0-rmse:0.046971\n",
      "Stopping. Best iteration:\n",
      "[32]\tvalidation_0-rmse:0.046857\n",
      "\n",
      "XGBoost mean_squared_error:  0.002271800333918227\n",
      "XGBoost2 mean_squared_error:  0.0021955484829130293\n"
     ]
    },
    {
     "data": {
      "image/png": "[encoded data removed]",
      "text/plain": [
       "<Figure size 720x288 with 2 Axes>"
      ]
     },
     "metadata": {
      "needs_background": "light"
     },
     "output_type": "display_data"
    }
   ],
   "source": [
    "#  XGBoost\n",
    "\n",
    "xgb_reg = xgboost.XGBRegressor()\n",
    "xgb_reg.fit(X_train, y_train)\n",
    "y_pred = xgb_reg.predict(X_val)\n",
    "\n",
    "xgb_reg_2 = xgboost.XGBRegressor()\n",
    "xgb_reg_2.fit(X_train, y_train, \n",
    "             eval_set=[(X_val, y_val)], early_stopping_rounds=2)\n",
    "y_pred2 = xgb_reg_2.predict(X_val)\n",
    "\n",
    "print('XGBoost mean_squared_error: ', mean_squared_error(y_val, y_pred))\n",
    "print('XGBoost2 mean_squared_error: ', mean_squared_error(y_val, y_pred2))\n",
    "\n",
    "\n",
    "plt.figure(figsize=(10, 4))\n",
    "\n",
    "plt.subplot(121)\n",
    "plt.title(\"XGBRegressor\" , fontsize=14)\n",
    "plot_predictions([xgb_reg], X, y, axes=[-0.5, 0.5, -0.1, 0.8])\n",
    "\n",
    "\n",
    "plt.subplot(122)\n",
    "plt.title(\"XGBRegressor2\" , fontsize=14)\n",
    "plot_predictions([xgb_reg_2], X, y, axes=[-0.5, 0.5, -0.1, 0.8])\n",
    "\n",
    "plt.show()"
   ]
  },
  {
   "cell_type": "code",
   "execution_count": 136,
   "metadata": {},
   "outputs": [
    {
     "name": "stderr",
     "output_type": "stream",
     "text": [
      "c:\\Users\\michal\\Anaconda3\\envs\\ML\\lib\\site-packages\\sklearn\\svm\\_base.py:947: ConvergenceWarning: Liblinear failed to converge, increase the number of iterations.\n",
      "  \"the number of iterations.\", ConvergenceWarning)\n"
     ]
    }
   ],
   "source": [
    "mnist = fetch_openml('mnist_784', version=1)\n",
    "mnist.target = mnist.target.astype(np.uint8)\n",
    "\n",
    "mnist_data, mnist_target = mnist[\"data\"], mnist[\"target\"]\n",
    "\n",
    "mnist_X_train_val, mnist_X_test, mnist_y_train_val, mnist_y_test = train_test_split(\n",
    "    mnist_data, mnist_target, test_size=0.2, random_state=42)\n",
    "mnist_X_train, mnist_X_val, mnist_y_train, mnist_y_val = train_test_split(\n",
    "    mnist_X_train, mnist_y_train, test_size=10000, random_state=42)\n",
    "\n",
    "\n",
    "rnd_clf = RandomForestClassifier(n_estimators=100)\n",
    "extra_clf = ExtraTreesClassifier(n_estimators=100)\n",
    "mlp_clf = MLPClassifier()\n",
    "lin_svm_clf = LinearSVC()\n",
    "\n",
    "voting_clf_hard = VotingClassifier(\n",
    "    estimators=[('rf', rnd_clf), ('extra', extra_clf), ('mlp', mlp_clf), ('lin_svm_clf', lin_svm_clf)],\n",
    "    voting='hard')\n",
    "\n",
    "#voting_clf_soft = VotingClassifier(\n",
    "#    estimators=[('rf', rnd_clf), ('extra', extra_clf), ('mlp', mlp_clf), ('lin_svm_clf', lin_svm_clf)],\n",
    "#    voting='soft')\n",
    "\n",
    "voting_clf_hard.fit(mnist_X_train, mnist_y_train)\n",
    "\n",
    "voting_clf_hard.score(mnist_X_val, mnist_y_val)\n",
    "estimator_scores = [estimator.score(mnist_X_val, mnist_y_val) for estimator in voting_clf_hard.estimators_]\n",
    "\n",
    "#for clf in (rnd_clf, extra_clf, mlp_clf, lin_svm_clf, voting_clf_hard):\n",
    "    #clf.fit(mnist_X_train, mnist_y_train)\n",
    "#    y_pred = clf.predict(mnist_X_test) \n",
    "#    print(clf.__class__.__name__, accuracy_score(mnist_y_test, y_pred))\n"
   ]
  },
  {
   "cell_type": "code",
   "execution_count": 130,
   "metadata": {},
   "outputs": [
    {
     "name": "stdout",
     "output_type": "stream",
     "text": [
      "0.9694285714285714\n",
      "[0.9671428571428572, 0.9710714285714286, 0.9638571428571429, 0.8725]\n",
      "[RandomForestClassifier(bootstrap=True, ccp_alpha=0.0, class_weight=None,\n",
      "                       criterion='gini', max_depth=None, max_features='auto',\n",
      "                       max_leaf_nodes=None, max_samples=None,\n",
      "                       min_impurity_decrease=0.0, min_impurity_split=None,\n",
      "                       min_samples_leaf=1, min_samples_split=2,\n",
      "                       min_weight_fraction_leaf=0.0, n_estimators=100,\n",
      "                       n_jobs=None, oob_score=False, random_state=None,\n",
      "                       verbose=0, warm_start=False), ExtraTreesClassifier(bootstrap=False, ccp_alpha=0.0, class_weight=None,\n",
      "                     criterion='gini', max_depth=None, max_features='auto',\n",
      "                     max_leaf_nodes=None, max_samples=None,\n",
      "                     min_impurity_decrease=0.0, min_impurity_split=None,\n",
      "                     min_samples_leaf=1, min_samples_split=2,\n",
      "                     min_weight_fraction_leaf=0.0, n_estimators=100,\n",
      "                     n_jobs=None, oob_score=False, random_state=None, verbose=0,\n",
      "                     warm_start=False), MLPClassifier(activation='relu', alpha=0.0001, batch_size='auto', beta_1=0.9,\n",
      "              beta_2=0.999, early_stopping=False, epsilon=1e-08,\n",
      "              hidden_layer_sizes=(100,), learning_rate='constant',\n",
      "              learning_rate_init=0.001, max_fun=15000, max_iter=200,\n",
      "              momentum=0.9, n_iter_no_change=10, nesterovs_momentum=True,\n",
      "              power_t=0.5, random_state=None, shuffle=True, solver='adam',\n",
      "              tol=0.0001, validation_fraction=0.1, verbose=False,\n",
      "              warm_start=False), LinearSVC(C=1.0, class_weight=None, dual=True, fit_intercept=True,\n",
      "          intercept_scaling=1, loss='squared_hinge', max_iter=1000,\n",
      "          multi_class='ovr', penalty='l2', random_state=None, tol=0.0001,\n",
      "          verbose=0)]\n"
     ]
    }
   ],
   "source": [
    "print(voting_clf_hard.score(mnist_X_val, mnist_y_val))\n",
    "print(estimator_scores)\n",
    "print(voting_clf_hard.estimators_)\n",
    "\n"
   ]
  },
  {
   "cell_type": "code",
   "execution_count": 137,
   "metadata": {},
   "outputs": [
    {
     "name": "stdout",
     "output_type": "stream",
     "text": [
      "[RandomForestClassifier(bootstrap=True, ccp_alpha=0.0, class_weight=None,\n",
      "                       criterion='gini', max_depth=None, max_features='auto',\n",
      "                       max_leaf_nodes=None, max_samples=None,\n",
      "                       min_impurity_decrease=0.0, min_impurity_split=None,\n",
      "                       min_samples_leaf=1, min_samples_split=2,\n",
      "                       min_weight_fraction_leaf=0.0, n_estimators=100,\n",
      "                       n_jobs=None, oob_score=False, random_state=None,\n",
      "                       verbose=0, warm_start=False), ExtraTreesClassifier(bootstrap=False, ccp_alpha=0.0, class_weight=None,\n",
      "                     criterion='gini', max_depth=None, max_features='auto',\n",
      "                     max_leaf_nodes=None, max_samples=None,\n",
      "                     min_impurity_decrease=0.0, min_impurity_split=None,\n",
      "                     min_samples_leaf=1, min_samples_split=2,\n",
      "                     min_weight_fraction_leaf=0.0, n_estimators=100,\n",
      "                     n_jobs=None, oob_score=False, random_state=None, verbose=0,\n",
      "                     warm_start=False), MLPClassifier(activation='relu', alpha=0.0001, batch_size='auto', beta_1=0.9,\n",
      "              beta_2=0.999, early_stopping=False, epsilon=1e-08,\n",
      "              hidden_layer_sizes=(100,), learning_rate='constant',\n",
      "              learning_rate_init=0.001, max_fun=15000, max_iter=200,\n",
      "              momentum=0.9, n_iter_no_change=10, nesterovs_momentum=True,\n",
      "              power_t=0.5, random_state=None, shuffle=True, solver='adam',\n",
      "              tol=0.0001, validation_fraction=0.1, verbose=False,\n",
      "              warm_start=False)]\n"
     ]
    }
   ],
   "source": [
    "voting_clf_hard.set_params(lin_svm_clf=None)\n",
    "del voting_clf_hard.estimators_[3]\n",
    "\n",
    "print(voting_clf_hard.estimators_)\n",
    "\n"
   ]
  },
  {
   "cell_type": "code",
   "execution_count": 138,
   "metadata": {},
   "outputs": [
    {
     "name": "stdout",
     "output_type": "stream",
     "text": [
      "voting_clf_hard score: 0.9709\n"
     ]
    }
   ],
   "source": [
    "#estimator_scores = [estimator.score(mnist_X_test, mnist_y_test) for estimator in voting_clf_hard.estimators_]\n",
    "print(\"voting_clf_hard score:\", voting_clf_hard.score(mnist_X_val, mnist_y_val))\n",
    "#print(estimator_scores)"
   ]
  },
  {
   "cell_type": "code",
   "execution_count": 140,
   "metadata": {},
   "outputs": [],
   "source": [
    "# Stacking ensemble\n",
    "X_val_predictions = np.empty((len(mnist_X_val), len(voting_clf_hard.estimators)), dtype=np.float32)\n",
    "#X_val_predictions = np.empty((len(X_val), len(estimators)), dtype=np.float32)\n",
    "for index, estimator in enumerate(voting_clf_hard.estimators_):\n",
    "    X_val_predictions[:, index] = estimator.predict(mnist_X_val)"
   ]
  },
  {
   "cell_type": "code",
   "execution_count": 141,
   "metadata": {},
   "outputs": [
    {
     "data": {
      "text/plain": [
       "array([[6.00e+00, 6.00e+00, 6.00e+00, 1.06e-42],\n",
       "       [3.00e+00, 3.00e+00, 3.00e+00, 0.00e+00],\n",
       "       [5.00e+00, 5.00e+00, 5.00e+00, 0.00e+00],\n",
       "       ...,\n",
       "       [4.00e+00, 4.00e+00, 4.00e+00, 0.00e+00],\n",
       "       [6.00e+00, 6.00e+00, 6.00e+00, 0.00e+00],\n",
       "       [8.00e+00, 8.00e+00, 8.00e+00, 0.00e+00]], dtype=float32)"
      ]
     },
     "execution_count": 141,
     "metadata": {},
     "output_type": "execute_result"
    }
   ],
   "source": [
    "X_val_predictions"
   ]
  },
  {
   "cell_type": "code",
   "execution_count": 143,
   "metadata": {},
   "outputs": [
    {
     "data": {
      "text/plain": [
       "0.9692"
      ]
     },
     "execution_count": 143,
     "metadata": {},
     "output_type": "execute_result"
    }
   ],
   "source": [
    "rnd_forest_blender = RandomForestClassifier(n_estimators=200, oob_score=True, random_state=42)\n",
    "rnd_forest_blender.fit(X_val_predictions, mnist_y_val)\n",
    "\n",
    "rnd_forest_blender.oob_score_"
   ]
  }
 ],
 "metadata": {
  "kernelspec": {
   "display_name": "Python 3",
   "language": "python",
   "name": "python3"
  },
  "language_info": {
   "codemirror_mode": {
    "name": "ipython",
    "version": 3
   },
   "file_extension": ".py",
   "mimetype": "text/x-python",
   "name": "python",
   "nbconvert_exporter": "python",
   "pygments_lexer": "ipython3",
   "version": "3.7.5"
  }
 },
 "nbformat": 4,
 "nbformat_minor": 2
}
