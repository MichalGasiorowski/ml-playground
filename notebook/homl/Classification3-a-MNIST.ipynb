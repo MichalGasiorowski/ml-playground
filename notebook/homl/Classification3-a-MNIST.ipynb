{
 "cells": [
  {
   "cell_type": "code",
   "execution_count": 0,
   "metadata": {
    "colab": {},
    "colab_type": "code",
    "id": "0SQ8k04Sn1nm"
   },
   "outputs": [],
   "source": [
    "import numpy as np"
   ]
  },
  {
   "cell_type": "code",
   "execution_count": 0,
   "metadata": {
    "colab": {},
    "colab_type": "code",
    "id": "WC7dx_R9n1np"
   },
   "outputs": [],
   "source": [
    "from sklearn.datasets import fetch_openml\n",
    "\n",
    "mnist = fetch_openml('mnist_784', version=1)\n",
    "\n"
   ]
  },
  {
   "cell_type": "code",
   "execution_count": 0,
   "metadata": {
    "colab": {},
    "colab_type": "code",
    "id": "bH6w8nUBn1nr"
   },
   "outputs": [],
   "source": [
    "X, y = mnist[\"data\"], mnist[\"target\"]"
   ]
  },
  {
   "cell_type": "code",
   "execution_count": 0,
   "metadata": {
    "colab": {},
    "colab_type": "code",
    "id": "6rfbgPSQn1nu"
   },
   "outputs": [],
   "source": [
    "import matplotlib as mpl\n",
    "import matplotlib.pyplot as plt\n",
    "\n",
    "def plot_digit(data):\n",
    "    image = data.reshape(28, 28)\n",
    "    plt.imshow(image, cmap = mpl.cm.binary,\n",
    "               interpolation=\"nearest\")\n",
    "    plt.axis(\"off\")"
   ]
  },
  {
   "cell_type": "code",
   "execution_count": 0,
   "metadata": {
    "colab": {},
    "colab_type": "code",
    "id": "c12GwNkJn1nw"
   },
   "outputs": [],
   "source": [
    "# EXTRA\n",
    "def plot_digits(instances, images_per_row=10, **options):\n",
    "    size = 28\n",
    "    images_per_row = min(len(instances), images_per_row)\n",
    "    images = [instance.reshape(size,size) for instance in instances]\n",
    "    n_rows = (len(instances) - 1) // images_per_row + 1\n",
    "    row_images = []\n",
    "    n_empty = n_rows * images_per_row - len(instances)\n",
    "    images.append(np.zeros((size, size * n_empty)))\n",
    "    for row in range(n_rows):\n",
    "        rimages = images[row * images_per_row : (row + 1) * images_per_row]\n",
    "        row_images.append(np.concatenate(rimages, axis=1))\n",
    "    image = np.concatenate(row_images, axis=0)\n",
    "    plt.imshow(image, cmap = mpl.cm.binary, **options)\n",
    "    plt.axis(\"off\")"
   ]
  },
  {
   "cell_type": "code",
   "execution_count": 0,
   "metadata": {
    "colab": {},
    "colab_type": "code",
    "id": "pWcaRncan1nz"
   },
   "outputs": [],
   "source": [
    "X_train, X_val, X_test, y_train, y_val, y_test = X[:60000], X[:10000], X[60000:], y[:60000], y[:10000], y[60000:]"
   ]
  },
  {
   "cell_type": "code",
   "execution_count": 0,
   "metadata": {
    "colab": {},
    "colab_type": "code",
    "id": "IXw4ZIfDn1n1"
   },
   "outputs": [],
   "source": [
    "# Multilabel classification\n",
    "from sklearn.neighbors import KNeighborsClassifier"
   ]
  },
  {
   "cell_type": "code",
   "execution_count": 8,
   "metadata": {
    "colab": {
     "base_uri": "https://localhost:8080/",
     "height": 265
    },
    "colab_type": "code",
    "executionInfo": {
     "elapsed": 815,
     "status": "ok",
     "timestamp": 1583494520558,
     "user": {
      "displayName": "Michał Gąsiorowski",
      "photoUrl": "https://lh3.googleusercontent.com/a-/AOh14GhXOWlJ4KxxHhCGudjwmdKeGCOkqGWLFiBPGkONew=s64",
      "userId": "01135843378887591141"
     },
     "user_tz": -60
    },
    "id": "MFVcE8Qon1n4",
    "outputId": "3de7adb5-f738-4566-d386-d6f4257ed6a6"
   },
   "outputs": [
    {
     "data": {
      "text/plain": [
       "(None, '5')"
      ]
     },
     "execution_count": 8,
     "metadata": {
      "tags": []
     },
     "output_type": "execute_result"
    },
    {
     "data": {
      "image/png": "[encoded data removed]",
      "text/plain": [
       "<Figure size 432x288 with 1 Axes>"
      ]
     },
     "metadata": {
      "tags": []
     },
     "output_type": "display_data"
    }
   ],
   "source": [
    "plot_digit(X_train[0]), y[0]"
   ]
  },
  {
   "cell_type": "code",
   "execution_count": 9,
   "metadata": {
    "colab": {
     "base_uri": "https://localhost:8080/",
     "height": 248
    },
    "colab_type": "code",
    "executionInfo": {
     "elapsed": 1083,
     "status": "ok",
     "timestamp": 1583494524055,
     "user": {
      "displayName": "Michał Gąsiorowski",
      "photoUrl": "https://lh3.googleusercontent.com/a-/AOh14GhXOWlJ4KxxHhCGudjwmdKeGCOkqGWLFiBPGkONew=s64",
      "userId": "01135843378887591141"
     },
     "user_tz": -60
    },
    "id": "OGFEoa4wn1n6",
    "outputId": "e4ec8e39-91a3-46a1-be16-736f249b5f90"
   },
   "outputs": [
    {
     "data": {
      "image/png": "[encoded data removed]",
      "text/plain": [
       "<Figure size 432x288 with 1 Axes>"
      ]
     },
     "metadata": {
      "tags": []
     },
     "output_type": "display_data"
    }
   ],
   "source": [
    "plot_digits(X_train[:25], images_per_row=5)"
   ]
  },
  {
   "cell_type": "code",
   "execution_count": 10,
   "metadata": {
    "colab": {
     "base_uri": "https://localhost:8080/",
     "height": 1000
    },
    "colab_type": "code",
    "executionInfo": {
     "elapsed": 1561093,
     "status": "ok",
     "timestamp": 1583496087353,
     "user": {
      "displayName": "Michał Gąsiorowski",
      "photoUrl": "https://lh3.googleusercontent.com/a-/AOh14GhXOWlJ4KxxHhCGudjwmdKeGCOkqGWLFiBPGkONew=s64",
      "userId": "01135843378887591141"
     },
     "user_tz": -60
    },
    "id": "cVdmN1YKn1n9",
    "outputId": "a0b7bce0-ed3e-4a03-815a-ef04dd8af497"
   },
   "outputs": [
    {
     "name": "stdout",
     "output_type": "stream",
     "text": [
      "Fitting 5 folds for each of 12 candidates, totalling 60 fits\n",
      "[CV] n_neighbors=3, weights=uniform ..................................\n"
     ]
    },
    {
     "name": "stderr",
     "output_type": "stream",
     "text": [
      "[Parallel(n_jobs=1)]: Using backend SequentialBackend with 1 concurrent workers.\n"
     ]
    },
    {
     "name": "stdout",
     "output_type": "stream",
     "text": [
      "[CV] ...... n_neighbors=3, weights=uniform, score=0.940, total=  27.2s\n",
      "[CV] n_neighbors=3, weights=uniform ..................................\n"
     ]
    },
    {
     "name": "stderr",
     "output_type": "stream",
     "text": [
      "[Parallel(n_jobs=1)]: Done   1 out of   1 | elapsed:   27.2s remaining:    0.0s\n"
     ]
    },
    {
     "name": "stdout",
     "output_type": "stream",
     "text": [
      "[CV] ...... n_neighbors=3, weights=uniform, score=0.943, total=  27.0s\n",
      "[CV] n_neighbors=3, weights=uniform ..................................\n"
     ]
    },
    {
     "name": "stderr",
     "output_type": "stream",
     "text": [
      "[Parallel(n_jobs=1)]: Done   2 out of   2 | elapsed:   54.2s remaining:    0.0s\n"
     ]
    },
    {
     "name": "stdout",
     "output_type": "stream",
     "text": [
      "[CV] ...... n_neighbors=3, weights=uniform, score=0.948, total=  26.9s\n",
      "[CV] n_neighbors=3, weights=uniform ..................................\n",
      "[CV] ...... n_neighbors=3, weights=uniform, score=0.933, total=  26.7s\n",
      "[CV] n_neighbors=3, weights=uniform ..................................\n",
      "[CV] ...... n_neighbors=3, weights=uniform, score=0.934, total=  26.5s\n",
      "[CV] n_neighbors=3, weights=distance .................................\n",
      "[CV] ..... n_neighbors=3, weights=distance, score=0.942, total=  26.3s\n",
      "[CV] n_neighbors=3, weights=distance .................................\n",
      "[CV] ..... n_neighbors=3, weights=distance, score=0.947, total=  26.2s\n",
      "[CV] n_neighbors=3, weights=distance .................................\n",
      "[CV] ..... n_neighbors=3, weights=distance, score=0.951, total=  26.2s\n",
      "[CV] n_neighbors=3, weights=distance .................................\n",
      "[CV] ..... n_neighbors=3, weights=distance, score=0.937, total=  26.4s\n",
      "[CV] n_neighbors=3, weights=distance .................................\n",
      "[CV] ..... n_neighbors=3, weights=distance, score=0.936, total=  26.5s\n",
      "[CV] n_neighbors=5, weights=uniform ..................................\n",
      "[CV] ...... n_neighbors=5, weights=uniform, score=0.933, total=  26.4s\n",
      "[CV] n_neighbors=5, weights=uniform ..................................\n",
      "[CV] ...... n_neighbors=5, weights=uniform, score=0.942, total=  26.4s\n",
      "[CV] n_neighbors=5, weights=uniform ..................................\n",
      "[CV] ...... n_neighbors=5, weights=uniform, score=0.949, total=  26.3s\n",
      "[CV] n_neighbors=5, weights=uniform ..................................\n",
      "[CV] ...... n_neighbors=5, weights=uniform, score=0.933, total=  26.4s\n",
      "[CV] n_neighbors=5, weights=uniform ..................................\n",
      "[CV] ...... n_neighbors=5, weights=uniform, score=0.931, total=  26.3s\n",
      "[CV] n_neighbors=5, weights=distance .................................\n",
      "[CV] ..... n_neighbors=5, weights=distance, score=0.938, total=  26.0s\n",
      "[CV] n_neighbors=5, weights=distance .................................\n",
      "[CV] ..... n_neighbors=5, weights=distance, score=0.946, total=  26.0s\n",
      "[CV] n_neighbors=5, weights=distance .................................\n",
      "[CV] ..... n_neighbors=5, weights=distance, score=0.952, total=  26.1s\n",
      "[CV] n_neighbors=5, weights=distance .................................\n",
      "[CV] ..... n_neighbors=5, weights=distance, score=0.935, total=  26.4s\n",
      "[CV] n_neighbors=5, weights=distance .................................\n",
      "[CV] ..... n_neighbors=5, weights=distance, score=0.935, total=  26.4s\n",
      "[CV] n_neighbors=7, weights=uniform ..................................\n",
      "[CV] ...... n_neighbors=7, weights=uniform, score=0.931, total=  26.1s\n",
      "[CV] n_neighbors=7, weights=uniform ..................................\n",
      "[CV] ...... n_neighbors=7, weights=uniform, score=0.943, total=  25.9s\n",
      "[CV] n_neighbors=7, weights=uniform ..................................\n",
      "[CV] ...... n_neighbors=7, weights=uniform, score=0.945, total=  25.9s\n",
      "[CV] n_neighbors=7, weights=uniform ..................................\n",
      "[CV] ...... n_neighbors=7, weights=uniform, score=0.935, total=  26.0s\n",
      "[CV] n_neighbors=7, weights=uniform ..................................\n",
      "[CV] ...... n_neighbors=7, weights=uniform, score=0.926, total=  26.0s\n",
      "[CV] n_neighbors=7, weights=distance .................................\n",
      "[CV] ..... n_neighbors=7, weights=distance, score=0.936, total=  26.0s\n",
      "[CV] n_neighbors=7, weights=distance .................................\n",
      "[CV] ..... n_neighbors=7, weights=distance, score=0.944, total=  26.1s\n",
      "[CV] n_neighbors=7, weights=distance .................................\n",
      "[CV] ..... n_neighbors=7, weights=distance, score=0.946, total=  25.8s\n",
      "[CV] n_neighbors=7, weights=distance .................................\n",
      "[CV] ..... n_neighbors=7, weights=distance, score=0.936, total=  25.6s\n",
      "[CV] n_neighbors=7, weights=distance .................................\n",
      "[CV] ..... n_neighbors=7, weights=distance, score=0.928, total=  25.6s\n",
      "[CV] n_neighbors=9, weights=uniform ..................................\n",
      "[CV] ...... n_neighbors=9, weights=uniform, score=0.931, total=  25.7s\n",
      "[CV] n_neighbors=9, weights=uniform ..................................\n",
      "[CV] ...... n_neighbors=9, weights=uniform, score=0.944, total=  25.8s\n",
      "[CV] n_neighbors=9, weights=uniform ..................................\n",
      "[CV] ...... n_neighbors=9, weights=uniform, score=0.941, total=  25.9s\n",
      "[CV] n_neighbors=9, weights=uniform ..................................\n",
      "[CV] ...... n_neighbors=9, weights=uniform, score=0.932, total=  25.7s\n",
      "[CV] n_neighbors=9, weights=uniform ..................................\n",
      "[CV] ...... n_neighbors=9, weights=uniform, score=0.925, total=  25.9s\n",
      "[CV] n_neighbors=9, weights=distance .................................\n",
      "[CV] ..... n_neighbors=9, weights=distance, score=0.934, total=  25.6s\n",
      "[CV] n_neighbors=9, weights=distance .................................\n",
      "[CV] ..... n_neighbors=9, weights=distance, score=0.946, total=  25.6s\n",
      "[CV] n_neighbors=9, weights=distance .................................\n",
      "[CV] ..... n_neighbors=9, weights=distance, score=0.944, total=  25.6s\n",
      "[CV] n_neighbors=9, weights=distance .................................\n",
      "[CV] ..... n_neighbors=9, weights=distance, score=0.932, total=  25.7s\n",
      "[CV] n_neighbors=9, weights=distance .................................\n",
      "[CV] ..... n_neighbors=9, weights=distance, score=0.927, total=  25.6s\n",
      "[CV] n_neighbors=11, weights=uniform .................................\n",
      "[CV] ..... n_neighbors=11, weights=uniform, score=0.929, total=  25.5s\n",
      "[CV] n_neighbors=11, weights=uniform .................................\n",
      "[CV] ..... n_neighbors=11, weights=uniform, score=0.942, total=  25.7s\n",
      "[CV] n_neighbors=11, weights=uniform .................................\n",
      "[CV] ..... n_neighbors=11, weights=uniform, score=0.941, total=  25.7s\n",
      "[CV] n_neighbors=11, weights=uniform .................................\n",
      "[CV] ..... n_neighbors=11, weights=uniform, score=0.931, total=  25.6s\n",
      "[CV] n_neighbors=11, weights=uniform .................................\n",
      "[CV] ..... n_neighbors=11, weights=uniform, score=0.921, total=  25.6s\n",
      "[CV] n_neighbors=11, weights=distance ................................\n",
      "[CV] .... n_neighbors=11, weights=distance, score=0.930, total=  25.6s\n",
      "[CV] n_neighbors=11, weights=distance ................................\n",
      "[CV] .... n_neighbors=11, weights=distance, score=0.946, total=  25.6s\n",
      "[CV] n_neighbors=11, weights=distance ................................\n",
      "[CV] .... n_neighbors=11, weights=distance, score=0.942, total=  25.6s\n",
      "[CV] n_neighbors=11, weights=distance ................................\n",
      "[CV] .... n_neighbors=11, weights=distance, score=0.933, total=  25.6s\n",
      "[CV] n_neighbors=11, weights=distance ................................\n",
      "[CV] .... n_neighbors=11, weights=distance, score=0.924, total=  25.5s\n",
      "[CV] n_neighbors=13, weights=uniform .................................\n",
      "[CV] ..... n_neighbors=13, weights=uniform, score=0.929, total=  25.6s\n",
      "[CV] n_neighbors=13, weights=uniform .................................\n",
      "[CV] ..... n_neighbors=13, weights=uniform, score=0.943, total=  25.7s\n",
      "[CV] n_neighbors=13, weights=uniform .................................\n",
      "[CV] ..... n_neighbors=13, weights=uniform, score=0.935, total=  25.8s\n",
      "[CV] n_neighbors=13, weights=uniform .................................\n",
      "[CV] ..... n_neighbors=13, weights=uniform, score=0.929, total=  25.8s\n",
      "[CV] n_neighbors=13, weights=uniform .................................\n",
      "[CV] ..... n_neighbors=13, weights=uniform, score=0.917, total=  26.0s\n",
      "[CV] n_neighbors=13, weights=distance ................................\n",
      "[CV] .... n_neighbors=13, weights=distance, score=0.932, total=  25.8s\n",
      "[CV] n_neighbors=13, weights=distance ................................\n",
      "[CV] .... n_neighbors=13, weights=distance, score=0.942, total=  25.7s\n",
      "[CV] n_neighbors=13, weights=distance ................................\n",
      "[CV] .... n_neighbors=13, weights=distance, score=0.939, total=  25.9s\n",
      "[CV] n_neighbors=13, weights=distance ................................\n",
      "[CV] .... n_neighbors=13, weights=distance, score=0.931, total=  25.8s\n",
      "[CV] n_neighbors=13, weights=distance ................................\n",
      "[CV] .... n_neighbors=13, weights=distance, score=0.919, total=  25.7s\n"
     ]
    },
    {
     "name": "stderr",
     "output_type": "stream",
     "text": [
      "[Parallel(n_jobs=1)]: Done  60 out of  60 | elapsed: 26.0min finished\n"
     ]
    },
    {
     "data": {
      "text/plain": [
       "GridSearchCV(cv=5, error_score=nan,\n",
       "             estimator=KNeighborsClassifier(algorithm='auto', leaf_size=30,\n",
       "                                            metric='minkowski',\n",
       "                                            metric_params=None, n_jobs=None,\n",
       "                                            n_neighbors=5, p=2,\n",
       "                                            weights='uniform'),\n",
       "             iid='deprecated', n_jobs=None,\n",
       "             param_grid={'n_neighbors': [3, 5, 7, 9, 11, 13],\n",
       "                         'weights': ('uniform', 'distance')},\n",
       "             pre_dispatch='2*n_jobs', refit=True, return_train_score=False,\n",
       "             scoring=None, verbose=3)"
      ]
     },
     "execution_count": 10,
     "metadata": {
      "tags": []
     },
     "output_type": "execute_result"
    }
   ],
   "source": [
    "# Grid Search for KNeighborsClassifier \n",
    "from sklearn.model_selection import GridSearchCV\n",
    "\n",
    "parameters = {'weights': ('uniform','distance'), 'n_neighbors':[3, 5, 7, 9, 11, 13]}\n",
    "\n",
    "knn_clf = KNeighborsClassifier()\n",
    "\n",
    "knn_grid_search = GridSearchCV(knn_clf, parameters, cv=5, verbose=3)\n",
    "\n",
    "\n",
    "knn_grid_search.fit(X_val, y_val)"
   ]
  },
  {
   "cell_type": "code",
   "execution_count": 11,
   "metadata": {
    "colab": {
     "base_uri": "https://localhost:8080/",
     "height": 34
    },
    "colab_type": "code",
    "executionInfo": {
     "elapsed": 957,
     "status": "ok",
     "timestamp": 1583496443966,
     "user": {
      "displayName": "Michał Gąsiorowski",
      "photoUrl": "https://lh3.googleusercontent.com/a-/AOh14GhXOWlJ4KxxHhCGudjwmdKeGCOkqGWLFiBPGkONew=s64",
      "userId": "01135843378887591141"
     },
     "user_tz": -60
    },
    "id": "ao5Ly9QCvU3z",
    "outputId": "bca1fd04-e1b8-4772-eb00-60c048059791"
   },
   "outputs": [
    {
     "data": {
      "text/plain": [
       "{'n_neighbors': 3, 'weights': 'distance'}"
      ]
     },
     "execution_count": 11,
     "metadata": {
      "tags": []
     },
     "output_type": "execute_result"
    }
   ],
   "source": [
    "knn_grid_search.best_params_"
   ]
  },
  {
   "cell_type": "code",
   "execution_count": 12,
   "metadata": {
    "colab": {
     "base_uri": "https://localhost:8080/",
     "height": 34
    },
    "colab_type": "code",
    "executionInfo": {
     "elapsed": 1366,
     "status": "ok",
     "timestamp": 1583498093914,
     "user": {
      "displayName": "Michał Gąsiorowski",
      "photoUrl": "https://lh3.googleusercontent.com/a-/AOh14GhXOWlJ4KxxHhCGudjwmdKeGCOkqGWLFiBPGkONew=s64",
      "userId": "01135843378887591141"
     },
     "user_tz": -60
    },
    "id": "fJIoaNZhvljp",
    "outputId": "d5944aa3-ec94-49c5-a5cd-72219c5747ed"
   },
   "outputs": [
    {
     "data": {
      "text/plain": [
       "0.9423999999999999"
      ]
     },
     "execution_count": 12,
     "metadata": {
      "tags": []
     },
     "output_type": "execute_result"
    }
   ],
   "source": [
    "knn_grid_search.best_score_"
   ]
  },
  {
   "cell_type": "code",
   "execution_count": 19,
   "metadata": {
    "colab": {
     "base_uri": "https://localhost:8080/",
     "height": 68
    },
    "colab_type": "code",
    "executionInfo": {
     "elapsed": 20660,
     "status": "ok",
     "timestamp": 1583498525116,
     "user": {
      "displayName": "Michał Gąsiorowski",
      "photoUrl": "https://lh3.googleusercontent.com/a-/AOh14GhXOWlJ4KxxHhCGudjwmdKeGCOkqGWLFiBPGkONew=s64",
      "userId": "01135843378887591141"
     },
     "user_tz": -60
    },
    "id": "3DPxzI3t13JO",
    "outputId": "665c393d-68bf-42dc-a53f-0ae32574185e"
   },
   "outputs": [
    {
     "data": {
      "text/plain": [
       "KNeighborsClassifier(algorithm='auto', leaf_size=30, metric='minkowski',\n",
       "                     metric_params=None, n_jobs=None, n_neighbors=3, p=2,\n",
       "                     weights='distance')"
      ]
     },
     "execution_count": 19,
     "metadata": {
      "tags": []
     },
     "output_type": "execute_result"
    }
   ],
   "source": [
    "best_knn_clf = KNeighborsClassifier(**knn_grid_search.best_params_)\n",
    "best_knn_clf.fit(X_train, y_train)\n",
    "#params = knn_grid_search.best_params_\n",
    "\n",
    "#forest_clf = RandomForestClassifier(random_state=42)\n",
    "#y_probas_forest = cross_val_predict(forest_clf, X_train, y_train_5, cv=3, method=\"predict_proba\")"
   ]
  },
  {
   "cell_type": "code",
   "execution_count": 20,
   "metadata": {
    "colab": {
     "base_uri": "https://localhost:8080/",
     "height": 34
    },
    "colab_type": "code",
    "executionInfo": {
     "elapsed": 798015,
     "status": "ok",
     "timestamp": 1583499394103,
     "user": {
      "displayName": "Michał Gąsiorowski",
      "photoUrl": "https://lh3.googleusercontent.com/a-/AOh14GhXOWlJ4KxxHhCGudjwmdKeGCOkqGWLFiBPGkONew=s64",
      "userId": "01135843378887591141"
     },
     "user_tz": -60
    },
    "id": "q758gwhQ3azU",
    "outputId": "7eeee246-94ad-496d-874e-4803863abb98"
   },
   "outputs": [
    {
     "data": {
      "text/plain": [
       "0.9717"
      ]
     },
     "execution_count": 20,
     "metadata": {
      "tags": []
     },
     "output_type": "execute_result"
    }
   ],
   "source": [
    "from sklearn.metrics import accuracy_score\n",
    "\n",
    "y_pred = best_knn_clf.predict(X_test)\n",
    "accuracy_score(y_test, y_pred)"
   ]
  }
 ],
 "metadata": {
  "accelerator": "GPU",
  "colab": {
   "collapsed_sections": [],
   "name": "Classification3-a-MNIST.ipynb",
   "provenance": []
  },
  "kernelspec": {
   "display_name": "Python 3",
   "language": "python",
   "name": "python3"
  },
  "language_info": {
   "codemirror_mode": {
    "name": "ipython",
    "version": 3
   },
   "file_extension": ".py",
   "mimetype": "text/x-python",
   "name": "python",
   "nbconvert_exporter": "python",
   "pygments_lexer": "ipython3",
   "version": "3.7.5"
  }
 },
 "nbformat": 4,
 "nbformat_minor": 1
}
